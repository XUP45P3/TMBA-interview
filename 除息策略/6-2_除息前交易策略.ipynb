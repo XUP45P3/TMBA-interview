{
 "cells": [
  {
   "cell_type": "markdown",
   "id": "a93fe2d4",
   "metadata": {},
   "source": [
    "# 從TradingView下載300檔權值股歷史資料"
   ]
  },
  {
   "cell_type": "code",
   "execution_count": 42,
   "id": "841aab4b",
   "metadata": {
    "scrolled": false
   },
   "outputs": [
    {
     "name": "stdout",
     "output_type": "stream",
     "text": [
      "   symbol exchange newsymbol symbols_chines\n",
      "0    2330     TWSE   2330.TW            台積電\n",
      "1    2317     TWSE   2317.TW             鴻海\n",
      "2    2603     TWSE   2603.TW             長榮\n",
      "3    3661     TWSE   3661.TW          世芯-KY\n",
      "4    2382     TWSE   2382.TW             廣達\n",
      "5    3231     TWSE   3231.TW             緯創\n",
      "6    3017     TWSE   3017.TW             奇鋐\n",
      "7    3005     TWSE   3005.TW             神基\n",
      "8    5483     TPEX  5483.TWO            中美晶\n",
      "9    2301     TWSE   2301.TW            光寶科\n",
      "     symbol exchange newsymbol symbols_chines\n",
      "285    2809     TWSE   2809.TW            京城銀\n",
      "286    3265     TPEX  3265.TWO            台星科\n",
      "287    2801     TWSE   2801.TW             彰銀\n",
      "288    2363     TWSE   2363.TW             矽統\n",
      "289    3665     TWSE   3665.TW          貿聯-KY\n",
      "290    2105     TWSE   2105.TW             正新\n",
      "291    3217     TPEX  3217.TWO             優群\n",
      "292    2457     TWSE   2457.TW             飛宏\n",
      "293    6442     TWSE   6442.TW             光聖\n",
      "294    6667     TPEX  6667.TWO            信紘科\n",
      "[2330, 2317, 2603, 3661, 2382, 3231, 3017, 3005, 5483, 2301, 4938, 1503, 3706, 3037, 2454, 2303, 2376, 1513, 3324, 6669, 6414, 8996, 3034, 2308, 3406, 2354, 2356, 6121, 5347, 6462, 2385, 2449, 2383, 3293, 2404, 6176, 2345, 6239, 9958, 6139, 2313, 3036, 6191, 8016, 2379, 3207, 6605, 3008, 6274, 6285, 3443, 5388, 2059, 1504, 3711, 3653, 8054, 3264, 6488, 1319, 1785, 3533, 3035, 3583, 4763, 3131, 2357, 8210, 3044, 9921, 2891, 6257, 2618, 3042, 1514, 2324, 3548, 5469, 2353, 2329, 2352, 3014, 4958, 2486, 8086, 3702, 2412, 3529, 2368, 4915, 3413, 2609, 8299, 2206, 3596, 1795, 2367, 6789, 5269, 6531, 6147, 4961, 8112, 2881, 2388, 4966, 2049, 2327, 6753, 6278, 8069, 2883, 8936, 2474, 1301, 5274, 2886, 3189, 1101, 2882, 4968, 3147, 4771, 6805, 6146, 8150, 6188, 8234, 2371, 2467, 6166, 6223, 1216, 2344, 3515, 2421, 3481, 6290, 1609, 2453, 1303, 4768, 2377, 2885, 1477, 6125, 2374, 2884, 9914, 8046, 2405, 2834, 2408, 1476, 3715, 5443, 2362, 9904, 3680, 4979, 5871, 2360, 3081, 6546, 3592, 4714, 6438, 6933, 6415, 6806, 2002, 3362, 6679, 3163, 4129, 2458, 1590, 2455, 2347, 3563, 5258, 1560, 3704, 1326, 3105, 2888, 3498, 3029, 4953, 1605, 6451, 2892, 6269, 5876, 1519, 6235, 6735, 6275, 4583, 5880, 8081, 6535, 2880, 6526, 2409, 1582, 3312, 2465, 8454, 2492, 3483, 6505, 2606, 5493, 1522, 8478, 3045, 2464, 2201, 6491, 2027, 5439, 1723, 3260, 6593, 6668, 4533, 6409, 3693, 3363, 2359, 6215, 3078, 2006, 8050, 4904, 2031, 6425, 2890, 2211, 2204, 2236, 3479, 6691, 4919, 2395, 6770, 2207, 8011, 8358, 2615, 5371, 3228, 6187, 9945, 3059, 6472, 2610, 3532, 2323, 3376, 8926, 2637, 6196, 8155, 5425, 8163, 1815, 8932, 2009, 5234, 6122, 3289, 4503, 3294, 3689, 6189, 1808, 2476, 6197, 6684, 6138, 6117, 3227, 3006, 2809, 3265, 2801, 2363, 3665, 2105, 3217, 2457, 6442, 6667]\n",
      "2330\n",
      "<class 'int'>\n",
      "['TWSE', 'TWSE', 'TWSE', 'TWSE', 'TWSE', 'TWSE', 'TWSE', 'TWSE', 'TPEX', 'TWSE', 'TWSE', 'TWSE', 'TWSE', 'TWSE', 'TWSE', 'TWSE', 'TWSE', 'TWSE', 'TPEX', 'TWSE', 'TWSE', 'TWSE', 'TWSE', 'TWSE', 'TWSE', 'TWSE', 'TWSE', 'TPEX', 'TPEX', 'TPEX', 'TWSE', 'TWSE', 'TWSE', 'TPEX', 'TWSE', 'TWSE', 'TWSE', 'TWSE', 'TWSE', 'TWSE', 'TWSE', 'TWSE', 'TWSE', 'TWSE', 'TWSE', 'TPEX', 'TWSE', 'TWSE', 'TPEX', 'TWSE', 'TWSE', 'TWSE', 'TWSE', 'TWSE', 'TWSE', 'TWSE', 'TPEX', 'TPEX', 'TPEX', 'TWSE', 'TPEX', 'TWSE', 'TWSE', 'TWSE', 'TWSE', 'TPEX', 'TWSE', 'TWSE', 'TWSE', 'TWSE', 'TWSE', 'TWSE', 'TWSE', 'TWSE', 'TWSE', 'TWSE', 'TPEX', 'TWSE', 'TWSE', 'TWSE', 'TWSE', 'TWSE', 'TWSE', 'TWSE', 'TPEX', 'TWSE', 'TWSE', 'TPEX', 'TWSE', 'TWSE', 'TWSE', 'TWSE', 'TPEX', 'TWSE', 'TWSE', 'TWSE', 'TWSE', 'TWSE', 'TWSE', 'TWSE', 'TPEX', 'TWSE', 'TWSE', 'TWSE', 'TWSE', 'TPEX', 'TWSE', 'TWSE', 'TWSE', 'TWSE', 'TPEX', 'TWSE', 'TPEX', 'TWSE', 'TWSE', 'TPEX', 'TWSE', 'TWSE', 'TWSE', 'TWSE', 'TWSE', 'TPEX', 'TWSE', 'TWSE', 'TPEX', 'TWSE', 'TPEX', 'TPEX', 'TWSE', 'TWSE', 'TWSE', 'TPEX', 'TWSE', 'TWSE', 'TWSE', 'TWSE', 'TWSE', 'TPEX', 'TWSE', 'TWSE', 'TWSE', 'TPEX', 'TWSE', 'TWSE', 'TWSE', 'TPEX', 'TWSE', 'TWSE', 'TWSE', 'TWSE', 'TWSE', 'TWSE', 'TWSE', 'TWSE', 'TWSE', 'TPEX', 'TWSE', 'TWSE', 'TPEX', 'TPEX', 'TWSE', 'TWSE', 'TPEX', 'TPEX', 'TWSE', 'TPEX', 'TWSE', 'TWSE', 'TWSE', 'TWSE', 'TWSE', 'TPEX', 'TPEX', 'TPEX', 'TPEX', 'TWSE', 'TWSE', 'TWSE', 'TWSE', 'TWSE', 'TWSE', 'TWSE', 'TWSE', 'TWSE', 'TPEX', 'TWSE', 'TPEX', 'TWSE', 'TPEX', 'TWSE', 'TWSE', 'TWSE', 'TWSE', 'TWSE', 'TWSE', 'TWSE', 'TPEX', 'TPEX', 'TWSE', 'TWSE', 'TWSE', 'TPEX', 'TWSE', 'TWSE', 'TWSE', 'TWSE', 'TWSE', 'TWSE', 'TWSE', 'TWSE', 'TPEX', 'TWSE', 'TWSE', 'TPEX', 'TWSE', 'TWSE', 'TWSE', 'TWSE', 'TWSE', 'TWSE', 'TWSE', 'TPEX', 'TWSE', 'TPEX', 'TPEX', 'TWSE', 'TPEX', 'TWSE', 'TPEX', 'TPEX', 'TWSE', 'TWSE', 'TPEX', 'TWSE', 'TPEX', 'TWSE', 'TWSE', 'TPEX', 'TWSE', 'TWSE', 'TWSE', 'TWSE', 'TPEX', 'TWSE', 'TWSE', 'TWSE', 'TWSE', 'TWSE', 'TWSE', 'TPEX', 'TWSE', 'TPEX', 'TPEX', 'TPEX', 'TWSE', 'TWSE', 'TWSE', 'TWSE', 'TWSE', 'TWSE', 'TWSE', 'TWSE', 'TWSE', 'TWSE', 'TPEX', 'TPEX', 'TWSE', 'TPEX', 'TPEX', 'TWSE', 'TWSE', 'TPEX', 'TPEX', 'TPEX', 'TPEX', 'TPEX', 'TWSE', 'TWSE', 'TWSE', 'TWSE', 'TPEX', 'TPEX', 'TWSE', 'TPEX', 'TWSE', 'TWSE', 'TPEX', 'TWSE', 'TWSE', 'TWSE', 'TWSE', 'TPEX', 'TWSE', 'TWSE', 'TPEX']\n",
      "['2330.TW', '2317.TW', '2603.TW', '3661.TW', '2382.TW', '3231.TW', '3017.TW', '3005.TW', '5483.TWO', '2301.TW', '4938.TW', '1503.TW', '3706.TW', '3037.TW', '2454.TW', '2303.TW', '2376.TW', '1513.TW', '3324.TWO', '6669.TW', '6414.TW', '8996.TW', '3034.TW', '2308.TW', '3406.TW', '2354.TW', '2356.TW', '6121.TWO', '5347.TWO', '6462.TWO', '2385.TW', '2449.TW', '2383.TW', '3293.TWO', '2404.TW', '6176.TW', '2345.TW', '6239.TW', '9958.TW', '6139.TW', '2313.TW', '3036.TW', '6191.TW', '8016.TW', '2379.TW', '3207.TWO', '6605.TW', '3008.TW', '6274.TWO', '6285.TW', '3443.TW', '5388.TW', '2059.TW', '1504.TW', '3711.TW', '3653.TW', '8054.TWO', '3264.TWO', '6488.TWO', '1319.TW', '1785.TWO', '3533.TW', '3035.TW', '3583.TW', '4763.TW', '3131.TWO', '2357.TW', '8210.TW', '3044.TW', '9921.TW', '2891.TW', '6257.TW', '2618.TW', '3042.TW', '1514.TW', '2324.TW', '3548.TWO', '5469.TW', '2353.TW', '2329.TW', '2352.TW', '3014.TW', '4958.TW', '2486.TW', '8086.TWO', '3702.TW', '2412.TW', '3529.TWO', '2368.TW', '4915.TW', '3413.TW', '2609.TW', '8299.TWO', '2206.TW', '3596.TW', '1795.TW', '2367.TW', '6789.TW', '5269.TW', '6531.TW', '6147.TWO', '4961.TW', '8112.TW', '2881.TW', '2388.TW', '4966.TWO', '2049.TW', '2327.TW', '6753.TW', '6278.TW', '8069.TWO', '2883.TW', '8936.TWO', '2474.TW', '1301.TW', '5274.TWO', '2886.TW', '3189.TW', '1101.TW', '2882.TW', '4968.TW', '3147.TWO', '4771.TW', '6805.TW', '6146.TWO', '8150.TW', '6188.TWO', '8234.TWO', '2371.TW', '2467.TW', '6166.TW', '6223.TWO', '1216.TW', '2344.TW', '3515.TW', '2421.TW', '3481.TW', '6290.TWO', '1609.TW', '2453.TW', '1303.TW', '4768.TWO', '2377.TW', '2885.TW', '1477.TW', '6125.TWO', '2374.TW', '2884.TW', '9914.TW', '8046.TW', '2405.TW', '2834.TW', '2408.TW', '1476.TW', '3715.TW', '5443.TWO', '2362.TW', '9904.TW', '3680.TWO', '4979.TWO', '5871.TW', '2360.TW', '3081.TWO', '6546.TWO', '3592.TW', '4714.TWO', '6438.TW', '6933.TW', '6415.TW', '6806.TW', '2002.TW', '3362.TWO', '6679.TWO', '3163.TWO', '4129.TWO', '2458.TW', '1590.TW', '2455.TW', '2347.TW', '3563.TW', '5258.TW', '1560.TW', '3704.TW', '1326.TW', '3105.TWO', '2888.TW', '3498.TWO', '3029.TW', '4953.TWO', '1605.TW', '6451.TW', '2892.TW', '6269.TW', '5876.TW', '1519.TW', '6235.TW', '6735.TWO', '6275.TWO', '4583.TW', '5880.TW', '8081.TW', '6535.TWO', '2880.TW', '6526.TW', '2409.TW', '1582.TW', '3312.TW', '2465.TW', '8454.TW', '2492.TW', '3483.TWO', '6505.TW', '2606.TW', '5493.TWO', '1522.TW', '8478.TW', '3045.TW', '2464.TW', '2201.TW', '6491.TW', '2027.TW', '5439.TWO', '1723.TW', '3260.TWO', '6593.TWO', '6668.TW', '4533.TWO', '6409.TW', '3693.TWO', '3363.TWO', '2359.TW', '6215.TW', '3078.TWO', '2006.TW', '8050.TWO', '4904.TW', '2031.TW', '6425.TWO', '2890.TW', '2211.TW', '2204.TW', '2236.TW', '3479.TWO', '6691.TW', '4919.TW', '2395.TW', '6770.TW', '2207.TW', '8011.TW', '8358.TWO', '2615.TW', '5371.TWO', '3228.TWO', '6187.TWO', '9945.TW', '3059.TW', '6472.TW', '2610.TW', '3532.TW', '2323.TW', '3376.TW', '8926.TW', '2637.TW', '6196.TW', '8155.TWO', '5425.TWO', '8163.TW', '1815.TWO', '8932.TWO', '2009.TW', '5234.TW', '6122.TWO', '3289.TWO', '4503.TWO', '3294.TWO', '3689.TWO', '6189.TW', '1808.TW', '2476.TW', '6197.TW', '6684.TWO', '6138.TWO', '6117.TW', '3227.TWO', '3006.TW', '2809.TW', '3265.TWO', '2801.TW', '2363.TW', '3665.TW', '2105.TW', '3217.TWO', '2457.TW', '6442.TW', '6667.TWO']\n",
      "['台積電', '鴻海', '長榮', '世芯-KY', '廣達', '緯創', '奇鋐', '神基', '中美晶', '光寶科', '和碩', '士電', '神達', '欣興', '聯發科', '聯電', '技嘉', '中興電', '雙鴻', '緯穎', '樺漢', '高力', '聯詠', '台達電', '玉晶光', '鴻準', '英業達', '新普', '世界', '神盾', '群光', '京元電子', '台光電', '鈊象', '漢唐', '瑞儀', '智邦', '力成', '世紀鋼', '亞翔', '華通', '文曄', '精成科', '矽創', '瑞昱', '耀勝', '帝寶', '大立光', '台燿', '啟_', '創意', '中磊', '川湖', '東元', '日月光投控', '健策', '安國', '欣銓', '環球晶', '東陽', '光洋科', '嘉澤', '智原', '辛耘', '材料-KY', '弘塑', '華碩', '勤誠', '健鼎', '巨大', '中信金', '矽格', '長榮航', '晶技', '亞力', '仁寶', '兆利', '瀚宇博', '宏_', '華泰', '佳世達', '聯陽', '臻鼎-KY', '一詮', '宏捷科', '大聯大', '中華電', '力旺', '金像電', '致伸', '京鼎', '陽明', '群聯', '三陽工業', '智易', '美時', '燿華', '采鈺', '祥碩', '愛普*', '頎邦', '天鈺', '至上', '富邦金', '威盛', '譜瑞-KY', '上銀', '國巨', '龍德造船', '台表科', '元太', '開發金', '國統', '可成', '台塑', '信驊', '兆豐金', '景碩', '台泥', '國泰金', '立積', '大綜', '望隼', '富世達', '耕興', '南茂', '廣明', '新漢', '大同', '志聖', '凌華', '旺矽', '統一', '華邦電', '華擎', '建準', '群創', '良維', '大亞', '凌群', '南亞', '晶呈科技', '微星', '元大金', '聚陽', '廣運', '佳能', '玉山金', '美利達', '南電', '輔信', '臺企銀', '南亞科', '儒鴻', '定穎投控', '均豪', '藍天', '寶成', '家登', '華星光', '中租-KY', '致茂', '聯亞', '正基', '瑞鼎', '永捷', '迅得', 'AMAX-KY', '矽力*-KY', '森崴能源', '中鋼', '先進光', '鈺太', '波若威', '聯合', '義隆', '亞德客-KY', '全新', '聯強', '牧德', '虹堡', '中砂', '合勤控', '台化', '穩懋', '新光金', '陽程', '零壹', '緯軟', '華新', '訊芯-KY', '第一金', '台郡', '上海商銀', '華城', '華孚', '美達科技', '元山', '台灣精銳', '合庫金', '致新', '順藥', '華南金', '達發', '友達', '信錦', '弘憶股', '麗臺', '富邦媒', '華新科', '力致', '台塑化', '裕民', '三聯', '堤維西', '東哥遊艇', '台灣大', '盟立', '裕隆', '晶碩', '大成鋼', '高技', '中碳', '威剛', '台灣銘板', '中揚光', '協易機', '旭隼', '營邦', '上詮', '所羅門', '和椿', '僑威', '東和鋼鐵', '廣積', '遠傳', '新光鋼', '易發', '永豐金', '長榮鋼', '中華', '百達-KY', '安勤', '洋基工程', '新唐', '研華', '力積電', '和泰車', '台通', '金居', '萬海', '中光電', '金麗科', '萬潤', '潤泰新', '華晶科', '保瑞', '華航', '台勝科', '中環', '新日興', '台汽電', '慧洋-KY', '帆宣', '博智', '台半', '達方', '富喬', '智通', '第一銅', '達興材料', '擎邦', '宜特', '金雨', '英濟', '湧德', '豐藝', '潤隆', '鉅祥', '佳必琪', '安格', '茂達', '迎廣', '原相', '晶豪科', '京城銀', '台星科', '彰銀', '矽統', '貿聯-KY', '正新', '優群', '飛宏', '光聖', '信紘科']\n"
     ]
    }
   ],
   "source": [
    "import pandas as pd\n",
    "import numpy as np \n",
    "import matplotlib.pyplot as plt  # 導入matplotlib.pyplot庫，並將其別名設為plt，以便在程式中使用繪圖功能。\n",
    "\n",
    "# 讀取T300Value檔案的名單\n",
    "df = pd.read_csv(\"C://download//T300Value.csv\", encoding=\"big5\")\n",
    "df = df.dropna()\n",
    "print(df.head(10))\n",
    "print(df.tail(10))\n",
    "\n",
    "symbols = df[\"symbol\"].tolist()  # 將DataFrame中名為\"symbol\"的欄位轉換為列表並賦值給symbols變數。\n",
    "print(symbols)\n",
    "print(symbols[0])\n",
    "print(type(symbols[0]))\n",
    "\n",
    "exchanges = df[\"exchange\"].tolist()  # 將DataFrame中名為\"exchange\"的欄位轉換為列表並賦值給exchanges變數。\n",
    "print(exchanges)\n",
    "\n",
    "newsymbols = df[\"newsymbol\"].tolist()  # 將DataFrame中名為\"newsymbol\"的欄位轉換為列表並賦值給newsymbols變數。\n",
    "print(newsymbols)\n",
    "\n",
    "symbols_chines = df[\"symbols_chines\"].tolist()  # 將DataFrame中名為\"symbols_chines\"的欄位轉換為列表並賦值給symbols_chines變數。\n",
    "print(symbols_chines)"
   ]
  },
  {
   "cell_type": "code",
   "execution_count": 43,
   "id": "cdb47c37",
   "metadata": {},
   "outputs": [
    {
     "name": "stdout",
     "output_type": "stream",
     "text": [
      "[2330, 2317, 2603, 3661, 2382, 3231, 3017, 3005, 5483, 2301, 4938, 1503, 3706, 3037, 2454, 2303, 2376, 1513, 3324, 6669, 6414, 8996, 3034, 2308, 3406, 2354, 2356, 6121, 5347, 6462, 2385, 2449, 2383, 3293, 2404, 6176, 2345, 6239, 9958, 6139, 2313, 3036, 6191, 8016, 2379, 3207, 6605, 3008, 6274, 6285, 3443, 5388, 2059, 1504, 3711, 3653, 8054, 3264, 6488, 1319, 1785, 3533, 3035, 3583, 4763, 3131, 2357, 8210, 3044, 9921, 2891, 6257, 2618, 3042, 1514, 2324, 3548, 5469, 2353, 2329, 2352, 3014, 4958, 2486, 8086, 3702, 2412, 3529, 2368, 4915, 3413, 2609, 8299, 2206, 3596, 1795, 2367, 6789, 5269, 6531, 6147, 4961, 8112, 2881, 2388, 4966, 2049, 2327, 6753, 6278, 8069, 2883, 8936, 2474, 1301, 5274, 2886, 3189, 1101, 2882, 4968, 3147, 4771, 6805, 6146, 8150, 6188, 8234, 2371, 2467, 6166, 6223, 1216, 2344, 3515, 2421, 3481, 6290, 1609, 2453, 1303, 4768, 2377, 2885, 1477, 6125, 2374, 2884, 9914, 8046, 2405, 2834, 2408, 1476, 3715, 5443, 2362, 9904, 3680, 4979, 5871, 2360, 3081, 6546, 3592, 4714, 6438, 6933, 6415, 6806, 2002, 3362, 6679, 3163, 4129, 2458, 1590, 2455, 2347, 3563, 5258, 1560, 3704, 1326, 3105, 2888, 3498, 3029, 4953, 1605, 6451, 2892, 6269, 5876, 1519, 6235, 6735, 6275, 4583, 5880, 8081, 6535, 2880, 6526, 2409, 1582, 3312, 2465, 8454, 2492, 3483, 6505, 2606, 5493, 1522, 8478, 3045, 2464, 2201, 6491, 2027, 5439, 1723, 3260, 6593, 6668, 4533, 6409, 3693, 3363, 2359, 6215, 3078, 2006, 8050, 4904, 2031, 6425, 2890, 2211, 2204, 2236, 3479, 6691, 4919, 2395, 6770, 2207, 8011, 8358, 2615, 5371, 3228, 6187, 9945, 3059, 6472, 2610, 3532, 2323, 3376, 8926, 2637, 6196, 8155, 5425, 8163, 1815, 8932, 2009, 5234, 6122, 3289, 4503, 3294, 3689, 6189, 1808, 2476, 6197, 6684, 6138, 6117, 3227, 3006, 2809, 3265, 2801, 2363, 3665, 2105, 3217, 2457, 6442, 6667]\n",
      "2330\n",
      "<class 'int'>\n",
      "['TWSE', 'TWSE', 'TWSE', 'TWSE', 'TWSE', 'TWSE', 'TWSE', 'TWSE', 'TPEX', 'TWSE', 'TWSE', 'TWSE', 'TWSE', 'TWSE', 'TWSE', 'TWSE', 'TWSE', 'TWSE', 'TPEX', 'TWSE', 'TWSE', 'TWSE', 'TWSE', 'TWSE', 'TWSE', 'TWSE', 'TWSE', 'TPEX', 'TPEX', 'TPEX', 'TWSE', 'TWSE', 'TWSE', 'TPEX', 'TWSE', 'TWSE', 'TWSE', 'TWSE', 'TWSE', 'TWSE', 'TWSE', 'TWSE', 'TWSE', 'TWSE', 'TWSE', 'TPEX', 'TWSE', 'TWSE', 'TPEX', 'TWSE', 'TWSE', 'TWSE', 'TWSE', 'TWSE', 'TWSE', 'TWSE', 'TPEX', 'TPEX', 'TPEX', 'TWSE', 'TPEX', 'TWSE', 'TWSE', 'TWSE', 'TWSE', 'TPEX', 'TWSE', 'TWSE', 'TWSE', 'TWSE', 'TWSE', 'TWSE', 'TWSE', 'TWSE', 'TWSE', 'TWSE', 'TPEX', 'TWSE', 'TWSE', 'TWSE', 'TWSE', 'TWSE', 'TWSE', 'TWSE', 'TPEX', 'TWSE', 'TWSE', 'TPEX', 'TWSE', 'TWSE', 'TWSE', 'TWSE', 'TPEX', 'TWSE', 'TWSE', 'TWSE', 'TWSE', 'TWSE', 'TWSE', 'TWSE', 'TPEX', 'TWSE', 'TWSE', 'TWSE', 'TWSE', 'TPEX', 'TWSE', 'TWSE', 'TWSE', 'TWSE', 'TPEX', 'TWSE', 'TPEX', 'TWSE', 'TWSE', 'TPEX', 'TWSE', 'TWSE', 'TWSE', 'TWSE', 'TWSE', 'TPEX', 'TWSE', 'TWSE', 'TPEX', 'TWSE', 'TPEX', 'TPEX', 'TWSE', 'TWSE', 'TWSE', 'TPEX', 'TWSE', 'TWSE', 'TWSE', 'TWSE', 'TWSE', 'TPEX', 'TWSE', 'TWSE', 'TWSE', 'TPEX', 'TWSE', 'TWSE', 'TWSE', 'TPEX', 'TWSE', 'TWSE', 'TWSE', 'TWSE', 'TWSE', 'TWSE', 'TWSE', 'TWSE', 'TWSE', 'TPEX', 'TWSE', 'TWSE', 'TPEX', 'TPEX', 'TWSE', 'TWSE', 'TPEX', 'TPEX', 'TWSE', 'TPEX', 'TWSE', 'TWSE', 'TWSE', 'TWSE', 'TWSE', 'TPEX', 'TPEX', 'TPEX', 'TPEX', 'TWSE', 'TWSE', 'TWSE', 'TWSE', 'TWSE', 'TWSE', 'TWSE', 'TWSE', 'TWSE', 'TPEX', 'TWSE', 'TPEX', 'TWSE', 'TPEX', 'TWSE', 'TWSE', 'TWSE', 'TWSE', 'TWSE', 'TWSE', 'TWSE', 'TPEX', 'TPEX', 'TWSE', 'TWSE', 'TWSE', 'TPEX', 'TWSE', 'TWSE', 'TWSE', 'TWSE', 'TWSE', 'TWSE', 'TWSE', 'TWSE', 'TPEX', 'TWSE', 'TWSE', 'TPEX', 'TWSE', 'TWSE', 'TWSE', 'TWSE', 'TWSE', 'TWSE', 'TWSE', 'TPEX', 'TWSE', 'TPEX', 'TPEX', 'TWSE', 'TPEX', 'TWSE', 'TPEX', 'TPEX', 'TWSE', 'TWSE', 'TPEX', 'TWSE', 'TPEX', 'TWSE', 'TWSE', 'TPEX', 'TWSE', 'TWSE', 'TWSE', 'TWSE', 'TPEX', 'TWSE', 'TWSE', 'TWSE', 'TWSE', 'TWSE', 'TWSE', 'TPEX', 'TWSE', 'TPEX', 'TPEX', 'TPEX', 'TWSE', 'TWSE', 'TWSE', 'TWSE', 'TWSE', 'TWSE', 'TWSE', 'TWSE', 'TWSE', 'TWSE', 'TPEX', 'TPEX', 'TWSE', 'TPEX', 'TPEX', 'TWSE', 'TWSE', 'TPEX', 'TPEX', 'TPEX', 'TPEX', 'TPEX', 'TWSE', 'TWSE', 'TWSE', 'TWSE', 'TPEX', 'TPEX', 'TWSE', 'TPEX', 'TWSE', 'TWSE', 'TPEX', 'TWSE', 'TWSE', 'TWSE', 'TWSE', 'TPEX', 'TWSE', 'TWSE', 'TPEX']\n",
      "['2330.TW', '2317.TW', '2603.TW', '3661.TW', '2382.TW', '3231.TW', '3017.TW', '3005.TW', '5483.TWO', '2301.TW', '4938.TW', '1503.TW', '3706.TW', '3037.TW', '2454.TW', '2303.TW', '2376.TW', '1513.TW', '3324.TWO', '6669.TW', '6414.TW', '8996.TW', '3034.TW', '2308.TW', '3406.TW', '2354.TW', '2356.TW', '6121.TWO', '5347.TWO', '6462.TWO', '2385.TW', '2449.TW', '2383.TW', '3293.TWO', '2404.TW', '6176.TW', '2345.TW', '6239.TW', '9958.TW', '6139.TW', '2313.TW', '3036.TW', '6191.TW', '8016.TW', '2379.TW', '3207.TWO', '6605.TW', '3008.TW', '6274.TWO', '6285.TW', '3443.TW', '5388.TW', '2059.TW', '1504.TW', '3711.TW', '3653.TW', '8054.TWO', '3264.TWO', '6488.TWO', '1319.TW', '1785.TWO', '3533.TW', '3035.TW', '3583.TW', '4763.TW', '3131.TWO', '2357.TW', '8210.TW', '3044.TW', '9921.TW', '2891.TW', '6257.TW', '2618.TW', '3042.TW', '1514.TW', '2324.TW', '3548.TWO', '5469.TW', '2353.TW', '2329.TW', '2352.TW', '3014.TW', '4958.TW', '2486.TW', '8086.TWO', '3702.TW', '2412.TW', '3529.TWO', '2368.TW', '4915.TW', '3413.TW', '2609.TW', '8299.TWO', '2206.TW', '3596.TW', '1795.TW', '2367.TW', '6789.TW', '5269.TW', '6531.TW', '6147.TWO', '4961.TW', '8112.TW', '2881.TW', '2388.TW', '4966.TWO', '2049.TW', '2327.TW', '6753.TW', '6278.TW', '8069.TWO', '2883.TW', '8936.TWO', '2474.TW', '1301.TW', '5274.TWO', '2886.TW', '3189.TW', '1101.TW', '2882.TW', '4968.TW', '3147.TWO', '4771.TW', '6805.TW', '6146.TWO', '8150.TW', '6188.TWO', '8234.TWO', '2371.TW', '2467.TW', '6166.TW', '6223.TWO', '1216.TW', '2344.TW', '3515.TW', '2421.TW', '3481.TW', '6290.TWO', '1609.TW', '2453.TW', '1303.TW', '4768.TWO', '2377.TW', '2885.TW', '1477.TW', '6125.TWO', '2374.TW', '2884.TW', '9914.TW', '8046.TW', '2405.TW', '2834.TW', '2408.TW', '1476.TW', '3715.TW', '5443.TWO', '2362.TW', '9904.TW', '3680.TWO', '4979.TWO', '5871.TW', '2360.TW', '3081.TWO', '6546.TWO', '3592.TW', '4714.TWO', '6438.TW', '6933.TW', '6415.TW', '6806.TW', '2002.TW', '3362.TWO', '6679.TWO', '3163.TWO', '4129.TWO', '2458.TW', '1590.TW', '2455.TW', '2347.TW', '3563.TW', '5258.TW', '1560.TW', '3704.TW', '1326.TW', '3105.TWO', '2888.TW', '3498.TWO', '3029.TW', '4953.TWO', '1605.TW', '6451.TW', '2892.TW', '6269.TW', '5876.TW', '1519.TW', '6235.TW', '6735.TWO', '6275.TWO', '4583.TW', '5880.TW', '8081.TW', '6535.TWO', '2880.TW', '6526.TW', '2409.TW', '1582.TW', '3312.TW', '2465.TW', '8454.TW', '2492.TW', '3483.TWO', '6505.TW', '2606.TW', '5493.TWO', '1522.TW', '8478.TW', '3045.TW', '2464.TW', '2201.TW', '6491.TW', '2027.TW', '5439.TWO', '1723.TW', '3260.TWO', '6593.TWO', '6668.TW', '4533.TWO', '6409.TW', '3693.TWO', '3363.TWO', '2359.TW', '6215.TW', '3078.TWO', '2006.TW', '8050.TWO', '4904.TW', '2031.TW', '6425.TWO', '2890.TW', '2211.TW', '2204.TW', '2236.TW', '3479.TWO', '6691.TW', '4919.TW', '2395.TW', '6770.TW', '2207.TW', '8011.TW', '8358.TWO', '2615.TW', '5371.TWO', '3228.TWO', '6187.TWO', '9945.TW', '3059.TW', '6472.TW', '2610.TW', '3532.TW', '2323.TW', '3376.TW', '8926.TW', '2637.TW', '6196.TW', '8155.TWO', '5425.TWO', '8163.TW', '1815.TWO', '8932.TWO', '2009.TW', '5234.TW', '6122.TWO', '3289.TWO', '4503.TWO', '3294.TWO', '3689.TWO', '6189.TW', '1808.TW', '2476.TW', '6197.TW', '6684.TWO', '6138.TWO', '6117.TW', '3227.TWO', '3006.TW', '2809.TW', '3265.TWO', '2801.TW', '2363.TW', '3665.TW', '2105.TW', '3217.TWO', '2457.TW', '6442.TW', '6667.TWO']\n"
     ]
    }
   ],
   "source": [
    "symbols=df[\"symbol\"].tolist()\n",
    "print(symbols)\n",
    "print(symbols[0])\n",
    "print(type(symbols[0]))\n",
    "exchanges=df[\"exchange\"].tolist()\n",
    "print(exchanges)\n",
    "newsymbols=df[\"newsymbol\"].tolist()\n",
    "print(newsymbols)"
   ]
  },
  {
   "cell_type": "code",
   "execution_count": 22,
   "id": "aabf4a34",
   "metadata": {},
   "outputs": [
    {
     "name": "stderr",
     "output_type": "stream",
     "text": [
      "you are using nologin method, data you access may be limited\n"
     ]
    }
   ],
   "source": [
    "import pandas as pd\n",
    "import datetime\n",
    "import os\n",
    "import matplotlib.pyplot as plt\n",
    "import time\n",
    "from tvDatafeed import TvDatafeed,Interval\n",
    "import random\n",
    "tv=TvDatafeed()"
   ]
  },
  {
   "cell_type": "code",
   "execution_count": 39,
   "id": "198289c2",
   "metadata": {},
   "outputs": [
    {
     "name": "stderr",
     "output_type": "stream",
     "text": [
      " 99%|███████████████████████████████████████████████████████████████████████████████▏| 103/104 [02:15<00:01,  1.31s/it]"
     ]
    },
    {
     "name": "stdout",
     "output_type": "stream",
     "text": [
      "商品代碼= ['2892.TW', '6269.TW', '5876.TW', '1519.TW', '6235.TW', '6735.TWO', '6275.TWO', '4583.TW', '5880.TW', '8081.TW', '6535.TWO', '2880.TW', '6526.TW', '2409.TW', '1582.TW', '3312.TW', '2465.TW', '8454.TW', '2492.TW', '3483.TWO', '6505.TW', '2606.TW', '5493.TWO', '1522.TW', '8478.TW', '3045.TW', '2464.TW', '2201.TW', '6491.TW', '2027.TW', '5439.TWO', '1723.TW', '3260.TWO', '6593.TWO', '6668.TW', '4533.TWO', '6409.TW', '3693.TWO', '3363.TWO', '2359.TW', '6215.TW', '3078.TWO', '2006.TW', '8050.TWO', '4904.TW', '2031.TW', '6425.TWO', '2890.TW', '2211.TW', '2204.TW', '2236.TW', '3479.TWO', '6691.TW', '4919.TW', '2395.TW', '6770.TW', '2207.TW', '8011.TW', '8358.TWO', '2615.TW', '5371.TWO', '3228.TWO', '6187.TWO', '9945.TW', '3059.TW', '6472.TW', '2610.TW', '3532.TW', '2323.TW', '3376.TW', '8926.TW', '2637.TW', '6196.TW', '8155.TWO', '5425.TWO', '8163.TW', '1815.TWO', '8932.TWO', '2009.TW', '5234.TW', '6122.TWO', '3289.TWO', '4503.TWO', '3294.TWO', '3689.TWO', '6189.TW', '1808.TW', '2476.TW', '6197.TW', '6684.TWO', '6138.TWO', '6117.TW', '3227.TWO', '3006.TW', '2809.TW', '3265.TWO', '2801.TW', '2363.TW', '3665.TW', '2105.TW', '3217.TWO', '2457.TW', '6442.TW', '6667.TWO']\n",
      "Download Finished\n",
      "Update Date= 2024-10-23\n"
     ]
    },
    {
     "name": "stderr",
     "output_type": "stream",
     "text": [
      "\n"
     ]
    }
   ],
   "source": [
    "import pandas as pd  # 導入pandas庫，用於數據處理。\n",
    "import datetime  # 導入datetime模塊，用於處理日期和時間。\n",
    "import os  # 導入os模塊，用於操作系統文件和目錄。\n",
    "import matplotlib.pyplot as plt  # 導入matplotlib.pyplot庫，用於繪製圖表。\n",
    "import time  # 導入time模塊，用於時間相關操作。\n",
    "from time import sleep  # 從time模塊中導入sleep函數，用於休眠。\n",
    "from tqdm import tqdm, trange  # 導入tqdm庫，用於顯示進度條。\n",
    "\n",
    "#symbols=[\"TAIEX\",\"AUDUSD\",\"USDCHF\",\"NZDUSD\",\"USDCAD\",\"USDRUB\",\"USDTWD\",\"USDCNY\",\"2330\",\"2317\",\"2454\",\"2603\",\"2609\",\"6505\",\"2412\",\"1301\",\"1303\",\"1326\",\"2881\",\"2882\",\"0050\",\"6206\",\"6138\",\"HYG\",\"LQD\",\"TIP\",\"SPY\",\"SOXX\",\"QQQ\",\"DJI\"]\n",
    "#exchanges=[\"TWSE\",\"FX\",\"FX_IDC\",\"FX_IDC\",\"FX\",\"FX_IDC\",\"FX_IDC\",\"FX_IDC\",\"TWSE\",\"TWSE\",\"TWSE\",\"TWSE\",\"TWSE\",\"TWSE\",\"TWSE\",\"TWSE\",\"TWSE\",\"TWSE\",\"TWSE\",\"TWSE\",\"TWSE\",\"TWSE\",\"TPEX\",\"AMEX\",\"AMEX\",\"AMEX\",\"AMEX\",\"NASDAQ\",\"NASDAQ\",\"DJ\"]\n",
    "#newsymbols=[\"TWII\",\"AUDUSD\",\"USDCHF\",\"NZDUSD\",\"USDCAD\",\"USDRUB\",\"USDTWD\",\"USDCNY\",\"2330.TW\",\"2317.TW\",\"2454.TW\",\"2603.TW\",\"2609.TW\",\"6505.TW\",\"2412.TW\",\"1301.TW\",\"1303.TW\",\"1326.TW\",\"2881.TW\",\"2882.TW\",\"0050.TW\",\"6206.TW\",\"6138.TWO\",\"HYG\",\"LQD\",\"TIP\",\"SPY\",\"SOXX\",\"QQQ\",\"DJI\"]\n",
    "interval=Interval.in_daily\n",
    "#interval=Interval.in_1_min\n",
    "#\"\"\"\n",
    "havedownload=191\n",
    "symbols=symbols[havedownload::]#Tradingview的代碼\n",
    "exchanges=exchanges[havedownload::]#Tradingview 的交易所\n",
    "newsymbols=newsymbols[havedownload::]#自己的股票代碼\n",
    "#\"\"\"\n",
    "length = len(symbols)  # 計算symbols列表的長度。\n",
    "\n",
    "for symbol, exchange, newsymbol, i in zip(symbols, exchanges, newsymbols, tqdm(range(length))):  # 遍歷symbols、exchanges、newsymbols列表，並使用tqdm函數顯示進度條。\n",
    "    #print(newsymbol)\n",
    "    symbol = str(symbol)  # 將symbol轉換為字符串類型。\n",
    "    sleep(0.01)  # 暫停0.01秒，用於降低請求速率，防止服務器過載。\n",
    "    df = tv.get_hist(symbol=symbol, exchange=exchange, n_bars=7000, interval=interval)  # 從 tv中獲取歷史數據。參數包括 symbol、exchange、n_bars（獲取的數據條數）和 interval（時間間隔）。\n",
    "\n",
    "    df.index = pd.to_datetime(df.index).strftime(\"%Y/%m/%d\")  # 將索引轉換為日期格式。\n",
    "    df.index.name = \"Date\"  # 將索引名稱設置為\"Date\"。\n",
    "    df = df[[\"open\", \"high\", \"low\", \"close\"]].rename(columns={\"open\": \"Open\", \"high\": \"High\", \"low\": \"Low\", \"close\": \"Close\"})  # 選擇並重命名列。\n",
    "    df = df.astype(float)  # 將數據類型轉換為浮點型。\n",
    "    #print(df.tail())\n",
    "    #print(df.dtypes)\n",
    "    df.to_csv(\"C://download//\"+newsymbol+\".csv\")\n",
    "    #df[[\"Close\"]].plot(title=newsymbol,figsize=(15,5),grid=True)\n",
    "    #plt.show()\n",
    "\n",
    "print(\"商品代碼=\",newsymbols)\n",
    "df.tail()\n",
    "\n",
    "\n",
    "print(\"Download Finished\")\n",
    "date=datetime.date.today()\n",
    "print(\"Update Date=\",date)"
   ]
  },
  {
   "cell_type": "code",
   "execution_count": 45,
   "id": "8d233228",
   "metadata": {
    "scrolled": false
   },
   "outputs": [
    {
     "name": "stdout",
     "output_type": "stream",
     "text": [
      "   symbol exchange newsymbol symbols_chines\n",
      "0    2330     TWSE   2330.TW            台積電\n",
      "1    2317     TWSE   2317.TW             鴻海\n",
      "2    2603     TWSE   2603.TW             長榮\n",
      "3    3661     TWSE   3661.TW          世芯-KY\n",
      "4    2382     TWSE   2382.TW             廣達\n",
      "5    3231     TWSE   3231.TW             緯創\n",
      "6    3017     TWSE   3017.TW             奇鋐\n",
      "7    3005     TWSE   3005.TW             神基\n",
      "8    5483     TPEX  5483.TWO            中美晶\n",
      "9    2301     TWSE   2301.TW            光寶科\n",
      "     symbol exchange newsymbol symbols_chines\n",
      "290    2105     TWSE   2105.TW             正新\n",
      "291    3217     TPEX  3217.TWO             優群\n",
      "292    2457     TWSE   2457.TW             飛宏\n",
      "293    6442     TWSE   6442.TW             光聖\n",
      "294    6667     TPEX  6667.TWO            信紘科\n",
      "[2330, 2317, 2603, 3661, 2382, 3231, 3017, 3005, 5483, 2301, 4938, 1503, 3706, 3037, 2454, 2303, 2376, 1513, 3324, 6669, 6414, 8996, 3034, 2308, 3406, 2354, 2356, 6121, 5347, 6462, 2385, 2449, 2383, 3293, 2404, 6176, 2345, 6239, 9958, 6139, 2313, 3036, 6191, 8016, 2379, 3207, 6605, 3008, 6274, 6285, 3443, 5388, 2059, 1504, 3711, 3653, 8054, 3264, 6488, 1319, 1785, 3533, 3035, 3583, 4763, 3131, 2357, 8210, 3044, 9921, 2891, 6257, 2618, 3042, 1514, 2324, 3548, 5469, 2353, 2329, 2352, 3014, 4958, 2486, 8086, 3702, 2412, 3529, 2368, 4915, 3413, 2609, 8299, 2206, 3596, 1795, 2367, 6789, 5269, 6531, 6147, 4961, 8112, 2881, 2388, 4966, 2049, 2327, 6753, 6278, 8069, 2883, 8936, 2474, 1301, 5274, 2886, 3189, 1101, 2882, 4968, 3147, 4771, 6805, 6146, 8150, 6188, 8234, 2371, 2467, 6166, 6223, 1216, 2344, 3515, 2421, 3481, 6290, 1609, 2453, 1303, 4768, 2377, 2885, 1477, 6125, 2374, 2884, 9914, 8046, 2405, 2834, 2408, 1476, 3715, 5443, 2362, 9904, 3680, 4979, 5871, 2360, 3081, 6546, 3592, 4714, 6438, 6933, 6415, 6806, 2002, 3362, 6679, 3163, 4129, 2458, 1590, 2455, 2347, 3563, 5258, 1560, 3704, 1326, 3105, 2888, 3498, 3029, 4953, 1605, 6451, 2892, 6269, 5876, 1519, 6235, 6735, 6275, 4583, 5880, 8081, 6535, 2880, 6526, 2409, 1582, 3312, 2465, 8454, 2492, 3483, 6505, 2606, 5493, 1522, 8478, 3045, 2464, 2201, 6491, 2027, 5439, 1723, 3260, 6593, 6668, 4533, 6409, 3693, 3363, 2359, 6215, 3078, 2006, 8050, 4904, 2031, 6425, 2890, 2211, 2204, 2236, 3479, 6691, 4919, 2395, 6770, 2207, 8011, 8358, 2615, 5371, 3228, 6187, 9945, 3059, 6472, 2610, 3532, 2323, 3376, 8926, 2637, 6196, 8155, 5425, 8163, 1815, 8932, 2009, 5234, 6122, 3289, 4503, 3294, 3689, 6189, 1808, 2476, 6197, 6684, 6138, 6117, 3227, 3006, 2809, 3265, 2801, 2363, 3665, 2105, 3217, 2457, 6442, 6667]\n",
      "2330\n",
      "<class 'int'>\n",
      "['TWSE', 'TWSE', 'TWSE', 'TWSE', 'TWSE', 'TWSE', 'TWSE', 'TWSE', 'TPEX', 'TWSE', 'TWSE', 'TWSE', 'TWSE', 'TWSE', 'TWSE', 'TWSE', 'TWSE', 'TWSE', 'TPEX', 'TWSE', 'TWSE', 'TWSE', 'TWSE', 'TWSE', 'TWSE', 'TWSE', 'TWSE', 'TPEX', 'TPEX', 'TPEX', 'TWSE', 'TWSE', 'TWSE', 'TPEX', 'TWSE', 'TWSE', 'TWSE', 'TWSE', 'TWSE', 'TWSE', 'TWSE', 'TWSE', 'TWSE', 'TWSE', 'TWSE', 'TPEX', 'TWSE', 'TWSE', 'TPEX', 'TWSE', 'TWSE', 'TWSE', 'TWSE', 'TWSE', 'TWSE', 'TWSE', 'TPEX', 'TPEX', 'TPEX', 'TWSE', 'TPEX', 'TWSE', 'TWSE', 'TWSE', 'TWSE', 'TPEX', 'TWSE', 'TWSE', 'TWSE', 'TWSE', 'TWSE', 'TWSE', 'TWSE', 'TWSE', 'TWSE', 'TWSE', 'TPEX', 'TWSE', 'TWSE', 'TWSE', 'TWSE', 'TWSE', 'TWSE', 'TWSE', 'TPEX', 'TWSE', 'TWSE', 'TPEX', 'TWSE', 'TWSE', 'TWSE', 'TWSE', 'TPEX', 'TWSE', 'TWSE', 'TWSE', 'TWSE', 'TWSE', 'TWSE', 'TWSE', 'TPEX', 'TWSE', 'TWSE', 'TWSE', 'TWSE', 'TPEX', 'TWSE', 'TWSE', 'TWSE', 'TWSE', 'TPEX', 'TWSE', 'TPEX', 'TWSE', 'TWSE', 'TPEX', 'TWSE', 'TWSE', 'TWSE', 'TWSE', 'TWSE', 'TPEX', 'TWSE', 'TWSE', 'TPEX', 'TWSE', 'TPEX', 'TPEX', 'TWSE', 'TWSE', 'TWSE', 'TPEX', 'TWSE', 'TWSE', 'TWSE', 'TWSE', 'TWSE', 'TPEX', 'TWSE', 'TWSE', 'TWSE', 'TPEX', 'TWSE', 'TWSE', 'TWSE', 'TPEX', 'TWSE', 'TWSE', 'TWSE', 'TWSE', 'TWSE', 'TWSE', 'TWSE', 'TWSE', 'TWSE', 'TPEX', 'TWSE', 'TWSE', 'TPEX', 'TPEX', 'TWSE', 'TWSE', 'TPEX', 'TPEX', 'TWSE', 'TPEX', 'TWSE', 'TWSE', 'TWSE', 'TWSE', 'TWSE', 'TPEX', 'TPEX', 'TPEX', 'TPEX', 'TWSE', 'TWSE', 'TWSE', 'TWSE', 'TWSE', 'TWSE', 'TWSE', 'TWSE', 'TWSE', 'TPEX', 'TWSE', 'TPEX', 'TWSE', 'TPEX', 'TWSE', 'TWSE', 'TWSE', 'TWSE', 'TWSE', 'TWSE', 'TWSE', 'TPEX', 'TPEX', 'TWSE', 'TWSE', 'TWSE', 'TPEX', 'TWSE', 'TWSE', 'TWSE', 'TWSE', 'TWSE', 'TWSE', 'TWSE', 'TWSE', 'TPEX', 'TWSE', 'TWSE', 'TPEX', 'TWSE', 'TWSE', 'TWSE', 'TWSE', 'TWSE', 'TWSE', 'TWSE', 'TPEX', 'TWSE', 'TPEX', 'TPEX', 'TWSE', 'TPEX', 'TWSE', 'TPEX', 'TPEX', 'TWSE', 'TWSE', 'TPEX', 'TWSE', 'TPEX', 'TWSE', 'TWSE', 'TPEX', 'TWSE', 'TWSE', 'TWSE', 'TWSE', 'TPEX', 'TWSE', 'TWSE', 'TWSE', 'TWSE', 'TWSE', 'TWSE', 'TPEX', 'TWSE', 'TPEX', 'TPEX', 'TPEX', 'TWSE', 'TWSE', 'TWSE', 'TWSE', 'TWSE', 'TWSE', 'TWSE', 'TWSE', 'TWSE', 'TWSE', 'TPEX', 'TPEX', 'TWSE', 'TPEX', 'TPEX', 'TWSE', 'TWSE', 'TPEX', 'TPEX', 'TPEX', 'TPEX', 'TPEX', 'TWSE', 'TWSE', 'TWSE', 'TWSE', 'TPEX', 'TPEX', 'TWSE', 'TPEX', 'TWSE', 'TWSE', 'TPEX', 'TWSE', 'TWSE', 'TWSE', 'TWSE', 'TPEX', 'TWSE', 'TWSE', 'TPEX']\n",
      "['2330.TW', '2317.TW', '2603.TW', '3661.TW', '2382.TW', '3231.TW', '3017.TW', '3005.TW', '5483.TWO', '2301.TW', '4938.TW', '1503.TW', '3706.TW', '3037.TW', '2454.TW', '2303.TW', '2376.TW', '1513.TW', '3324.TWO', '6669.TW', '6414.TW', '8996.TW', '3034.TW', '2308.TW', '3406.TW', '2354.TW', '2356.TW', '6121.TWO', '5347.TWO', '6462.TWO', '2385.TW', '2449.TW', '2383.TW', '3293.TWO', '2404.TW', '6176.TW', '2345.TW', '6239.TW', '9958.TW', '6139.TW', '2313.TW', '3036.TW', '6191.TW', '8016.TW', '2379.TW', '3207.TWO', '6605.TW', '3008.TW', '6274.TWO', '6285.TW', '3443.TW', '5388.TW', '2059.TW', '1504.TW', '3711.TW', '3653.TW', '8054.TWO', '3264.TWO', '6488.TWO', '1319.TW', '1785.TWO', '3533.TW', '3035.TW', '3583.TW', '4763.TW', '3131.TWO', '2357.TW', '8210.TW', '3044.TW', '9921.TW', '2891.TW', '6257.TW', '2618.TW', '3042.TW', '1514.TW', '2324.TW', '3548.TWO', '5469.TW', '2353.TW', '2329.TW', '2352.TW', '3014.TW', '4958.TW', '2486.TW', '8086.TWO', '3702.TW', '2412.TW', '3529.TWO', '2368.TW', '4915.TW', '3413.TW', '2609.TW', '8299.TWO', '2206.TW', '3596.TW', '1795.TW', '2367.TW', '6789.TW', '5269.TW', '6531.TW', '6147.TWO', '4961.TW', '8112.TW', '2881.TW', '2388.TW', '4966.TWO', '2049.TW', '2327.TW', '6753.TW', '6278.TW', '8069.TWO', '2883.TW', '8936.TWO', '2474.TW', '1301.TW', '5274.TWO', '2886.TW', '3189.TW', '1101.TW', '2882.TW', '4968.TW', '3147.TWO', '4771.TW', '6805.TW', '6146.TWO', '8150.TW', '6188.TWO', '8234.TWO', '2371.TW', '2467.TW', '6166.TW', '6223.TWO', '1216.TW', '2344.TW', '3515.TW', '2421.TW', '3481.TW', '6290.TWO', '1609.TW', '2453.TW', '1303.TW', '4768.TWO', '2377.TW', '2885.TW', '1477.TW', '6125.TWO', '2374.TW', '2884.TW', '9914.TW', '8046.TW', '2405.TW', '2834.TW', '2408.TW', '1476.TW', '3715.TW', '5443.TWO', '2362.TW', '9904.TW', '3680.TWO', '4979.TWO', '5871.TW', '2360.TW', '3081.TWO', '6546.TWO', '3592.TW', '4714.TWO', '6438.TW', '6933.TW', '6415.TW', '6806.TW', '2002.TW', '3362.TWO', '6679.TWO', '3163.TWO', '4129.TWO', '2458.TW', '1590.TW', '2455.TW', '2347.TW', '3563.TW', '5258.TW', '1560.TW', '3704.TW', '1326.TW', '3105.TWO', '2888.TW', '3498.TWO', '3029.TW', '4953.TWO', '1605.TW', '6451.TW', '2892.TW', '6269.TW', '5876.TW', '1519.TW', '6235.TW', '6735.TWO', '6275.TWO', '4583.TW', '5880.TW', '8081.TW', '6535.TWO', '2880.TW', '6526.TW', '2409.TW', '1582.TW', '3312.TW', '2465.TW', '8454.TW', '2492.TW', '3483.TWO', '6505.TW', '2606.TW', '5493.TWO', '1522.TW', '8478.TW', '3045.TW', '2464.TW', '2201.TW', '6491.TW', '2027.TW', '5439.TWO', '1723.TW', '3260.TWO', '6593.TWO', '6668.TW', '4533.TWO', '6409.TW', '3693.TWO', '3363.TWO', '2359.TW', '6215.TW', '3078.TWO', '2006.TW', '8050.TWO', '4904.TW', '2031.TW', '6425.TWO', '2890.TW', '2211.TW', '2204.TW', '2236.TW', '3479.TWO', '6691.TW', '4919.TW', '2395.TW', '6770.TW', '2207.TW', '8011.TW', '8358.TWO', '2615.TW', '5371.TWO', '3228.TWO', '6187.TWO', '9945.TW', '3059.TW', '6472.TW', '2610.TW', '3532.TW', '2323.TW', '3376.TW', '8926.TW', '2637.TW', '6196.TW', '8155.TWO', '5425.TWO', '8163.TW', '1815.TWO', '8932.TWO', '2009.TW', '5234.TW', '6122.TWO', '3289.TWO', '4503.TWO', '3294.TWO', '3689.TWO', '6189.TW', '1808.TW', '2476.TW', '6197.TW', '6684.TWO', '6138.TWO', '6117.TW', '3227.TWO', '3006.TW', '2809.TW', '3265.TWO', '2801.TW', '2363.TW', '3665.TW', '2105.TW', '3217.TWO', '2457.TW', '6442.TW', '6667.TWO']\n",
      "2330.TW\n"
     ]
    },
    {
     "name": "stderr",
     "output_type": "stream",
     "text": [
      "C:\\Users\\markchao\\AppData\\Local\\Temp/ipykernel_23784/3117343331.py:74: SettingWithCopyWarning: \n",
      "A value is trying to be set on a copy of a slice from a DataFrame.\n",
      "Try using .loc[row_indexer,col_indexer] = value instead\n",
      "\n",
      "See the caveats in the documentation: https://pandas.pydata.org/pandas-docs/stable/user_guide/indexing.html#returning-a-view-versus-a-copy\n",
      "  df_Dividend_PreNDate[\"Dividend_Pre\"+str(N)+\"Date\"]=df_Dividend_PreNDate.index\n",
      "C:\\Users\\markchao\\AppData\\Local\\Temp/ipykernel_23784/3117343331.py:115: FutureWarning: Dropping of nuisance columns in DataFrame reductions (with 'numeric_only=None') is deprecated; in a future version this will raise TypeError.  Select only valid columns before calling the reduction.\n",
      "  Win_mean_per_Value=df_Dividend_PreOneDate[df_Dividend_PreOneDate[\"PL%\"]>0].mean()\n",
      "C:\\Users\\markchao\\AppData\\Local\\Temp/ipykernel_23784/3117343331.py:119: FutureWarning: Dropping of nuisance columns in DataFrame reductions (with 'numeric_only=None') is deprecated; in a future version this will raise TypeError.  Select only valid columns before calling the reduction.\n",
      "  Loss_mean_per_Value=df_Dividend_PreOneDate[df_Dividend_PreOneDate[\"PL%\"]<0].mean()\n"
     ]
    },
    {
     "name": "stdout",
     "output_type": "stream",
     "text": [
      "2317.TW\n"
     ]
    },
    {
     "name": "stderr",
     "output_type": "stream",
     "text": [
      "C:\\Users\\markchao\\AppData\\Local\\Temp/ipykernel_23784/3117343331.py:74: SettingWithCopyWarning: \n",
      "A value is trying to be set on a copy of a slice from a DataFrame.\n",
      "Try using .loc[row_indexer,col_indexer] = value instead\n",
      "\n",
      "See the caveats in the documentation: https://pandas.pydata.org/pandas-docs/stable/user_guide/indexing.html#returning-a-view-versus-a-copy\n",
      "  df_Dividend_PreNDate[\"Dividend_Pre\"+str(N)+\"Date\"]=df_Dividend_PreNDate.index\n",
      "C:\\Users\\markchao\\AppData\\Local\\Temp/ipykernel_23784/3117343331.py:115: FutureWarning: Dropping of nuisance columns in DataFrame reductions (with 'numeric_only=None') is deprecated; in a future version this will raise TypeError.  Select only valid columns before calling the reduction.\n",
      "  Win_mean_per_Value=df_Dividend_PreOneDate[df_Dividend_PreOneDate[\"PL%\"]>0].mean()\n",
      "C:\\Users\\markchao\\AppData\\Local\\Temp/ipykernel_23784/3117343331.py:119: FutureWarning: Dropping of nuisance columns in DataFrame reductions (with 'numeric_only=None') is deprecated; in a future version this will raise TypeError.  Select only valid columns before calling the reduction.\n",
      "  Loss_mean_per_Value=df_Dividend_PreOneDate[df_Dividend_PreOneDate[\"PL%\"]<0].mean()\n"
     ]
    },
    {
     "name": "stdout",
     "output_type": "stream",
     "text": [
      "2603.TW\n"
     ]
    },
    {
     "name": "stderr",
     "output_type": "stream",
     "text": [
      "C:\\Users\\markchao\\AppData\\Local\\Temp/ipykernel_23784/3117343331.py:74: SettingWithCopyWarning: \n",
      "A value is trying to be set on a copy of a slice from a DataFrame.\n",
      "Try using .loc[row_indexer,col_indexer] = value instead\n",
      "\n",
      "See the caveats in the documentation: https://pandas.pydata.org/pandas-docs/stable/user_guide/indexing.html#returning-a-view-versus-a-copy\n",
      "  df_Dividend_PreNDate[\"Dividend_Pre\"+str(N)+\"Date\"]=df_Dividend_PreNDate.index\n",
      "C:\\Users\\markchao\\AppData\\Local\\Temp/ipykernel_23784/3117343331.py:115: FutureWarning: Dropping of nuisance columns in DataFrame reductions (with 'numeric_only=None') is deprecated; in a future version this will raise TypeError.  Select only valid columns before calling the reduction.\n",
      "  Win_mean_per_Value=df_Dividend_PreOneDate[df_Dividend_PreOneDate[\"PL%\"]>0].mean()\n",
      "C:\\Users\\markchao\\AppData\\Local\\Temp/ipykernel_23784/3117343331.py:119: FutureWarning: Dropping of nuisance columns in DataFrame reductions (with 'numeric_only=None') is deprecated; in a future version this will raise TypeError.  Select only valid columns before calling the reduction.\n",
      "  Loss_mean_per_Value=df_Dividend_PreOneDate[df_Dividend_PreOneDate[\"PL%\"]<0].mean()\n"
     ]
    },
    {
     "name": "stdout",
     "output_type": "stream",
     "text": [
      "3661.TW\n"
     ]
    },
    {
     "name": "stderr",
     "output_type": "stream",
     "text": [
      "C:\\Users\\markchao\\AppData\\Local\\Temp/ipykernel_23784/3117343331.py:74: SettingWithCopyWarning: \n",
      "A value is trying to be set on a copy of a slice from a DataFrame.\n",
      "Try using .loc[row_indexer,col_indexer] = value instead\n",
      "\n",
      "See the caveats in the documentation: https://pandas.pydata.org/pandas-docs/stable/user_guide/indexing.html#returning-a-view-versus-a-copy\n",
      "  df_Dividend_PreNDate[\"Dividend_Pre\"+str(N)+\"Date\"]=df_Dividend_PreNDate.index\n",
      "C:\\Users\\markchao\\AppData\\Local\\Temp/ipykernel_23784/3117343331.py:115: FutureWarning: Dropping of nuisance columns in DataFrame reductions (with 'numeric_only=None') is deprecated; in a future version this will raise TypeError.  Select only valid columns before calling the reduction.\n",
      "  Win_mean_per_Value=df_Dividend_PreOneDate[df_Dividend_PreOneDate[\"PL%\"]>0].mean()\n",
      "C:\\Users\\markchao\\AppData\\Local\\Temp/ipykernel_23784/3117343331.py:119: FutureWarning: Dropping of nuisance columns in DataFrame reductions (with 'numeric_only=None') is deprecated; in a future version this will raise TypeError.  Select only valid columns before calling the reduction.\n",
      "  Loss_mean_per_Value=df_Dividend_PreOneDate[df_Dividend_PreOneDate[\"PL%\"]<0].mean()\n"
     ]
    },
    {
     "name": "stdout",
     "output_type": "stream",
     "text": [
      "2382.TW\n"
     ]
    },
    {
     "name": "stderr",
     "output_type": "stream",
     "text": [
      "C:\\Users\\markchao\\AppData\\Local\\Temp/ipykernel_23784/3117343331.py:74: SettingWithCopyWarning: \n",
      "A value is trying to be set on a copy of a slice from a DataFrame.\n",
      "Try using .loc[row_indexer,col_indexer] = value instead\n",
      "\n",
      "See the caveats in the documentation: https://pandas.pydata.org/pandas-docs/stable/user_guide/indexing.html#returning-a-view-versus-a-copy\n",
      "  df_Dividend_PreNDate[\"Dividend_Pre\"+str(N)+\"Date\"]=df_Dividend_PreNDate.index\n",
      "C:\\Users\\markchao\\AppData\\Local\\Temp/ipykernel_23784/3117343331.py:115: FutureWarning: Dropping of nuisance columns in DataFrame reductions (with 'numeric_only=None') is deprecated; in a future version this will raise TypeError.  Select only valid columns before calling the reduction.\n",
      "  Win_mean_per_Value=df_Dividend_PreOneDate[df_Dividend_PreOneDate[\"PL%\"]>0].mean()\n",
      "C:\\Users\\markchao\\AppData\\Local\\Temp/ipykernel_23784/3117343331.py:119: FutureWarning: Dropping of nuisance columns in DataFrame reductions (with 'numeric_only=None') is deprecated; in a future version this will raise TypeError.  Select only valid columns before calling the reduction.\n",
      "  Loss_mean_per_Value=df_Dividend_PreOneDate[df_Dividend_PreOneDate[\"PL%\"]<0].mean()\n"
     ]
    },
    {
     "name": "stdout",
     "output_type": "stream",
     "text": [
      "3231.TW\n"
     ]
    },
    {
     "name": "stderr",
     "output_type": "stream",
     "text": [
      "C:\\Users\\markchao\\AppData\\Local\\Temp/ipykernel_23784/3117343331.py:74: SettingWithCopyWarning: \n",
      "A value is trying to be set on a copy of a slice from a DataFrame.\n",
      "Try using .loc[row_indexer,col_indexer] = value instead\n",
      "\n",
      "See the caveats in the documentation: https://pandas.pydata.org/pandas-docs/stable/user_guide/indexing.html#returning-a-view-versus-a-copy\n",
      "  df_Dividend_PreNDate[\"Dividend_Pre\"+str(N)+\"Date\"]=df_Dividend_PreNDate.index\n",
      "C:\\Users\\markchao\\AppData\\Local\\Temp/ipykernel_23784/3117343331.py:115: FutureWarning: Dropping of nuisance columns in DataFrame reductions (with 'numeric_only=None') is deprecated; in a future version this will raise TypeError.  Select only valid columns before calling the reduction.\n",
      "  Win_mean_per_Value=df_Dividend_PreOneDate[df_Dividend_PreOneDate[\"PL%\"]>0].mean()\n",
      "C:\\Users\\markchao\\AppData\\Local\\Temp/ipykernel_23784/3117343331.py:119: FutureWarning: Dropping of nuisance columns in DataFrame reductions (with 'numeric_only=None') is deprecated; in a future version this will raise TypeError.  Select only valid columns before calling the reduction.\n",
      "  Loss_mean_per_Value=df_Dividend_PreOneDate[df_Dividend_PreOneDate[\"PL%\"]<0].mean()\n"
     ]
    },
    {
     "name": "stdout",
     "output_type": "stream",
     "text": [
      "3017.TW\n"
     ]
    },
    {
     "name": "stderr",
     "output_type": "stream",
     "text": [
      "C:\\Users\\markchao\\AppData\\Local\\Temp/ipykernel_23784/3117343331.py:74: SettingWithCopyWarning: \n",
      "A value is trying to be set on a copy of a slice from a DataFrame.\n",
      "Try using .loc[row_indexer,col_indexer] = value instead\n",
      "\n",
      "See the caveats in the documentation: https://pandas.pydata.org/pandas-docs/stable/user_guide/indexing.html#returning-a-view-versus-a-copy\n",
      "  df_Dividend_PreNDate[\"Dividend_Pre\"+str(N)+\"Date\"]=df_Dividend_PreNDate.index\n",
      "C:\\Users\\markchao\\AppData\\Local\\Temp/ipykernel_23784/3117343331.py:115: FutureWarning: Dropping of nuisance columns in DataFrame reductions (with 'numeric_only=None') is deprecated; in a future version this will raise TypeError.  Select only valid columns before calling the reduction.\n",
      "  Win_mean_per_Value=df_Dividend_PreOneDate[df_Dividend_PreOneDate[\"PL%\"]>0].mean()\n",
      "C:\\Users\\markchao\\AppData\\Local\\Temp/ipykernel_23784/3117343331.py:119: FutureWarning: Dropping of nuisance columns in DataFrame reductions (with 'numeric_only=None') is deprecated; in a future version this will raise TypeError.  Select only valid columns before calling the reduction.\n",
      "  Loss_mean_per_Value=df_Dividend_PreOneDate[df_Dividend_PreOneDate[\"PL%\"]<0].mean()\n"
     ]
    },
    {
     "name": "stdout",
     "output_type": "stream",
     "text": [
      "3005.TW\n"
     ]
    },
    {
     "name": "stderr",
     "output_type": "stream",
     "text": [
      "C:\\Users\\markchao\\AppData\\Local\\Temp/ipykernel_23784/3117343331.py:74: SettingWithCopyWarning: \n",
      "A value is trying to be set on a copy of a slice from a DataFrame.\n",
      "Try using .loc[row_indexer,col_indexer] = value instead\n",
      "\n",
      "See the caveats in the documentation: https://pandas.pydata.org/pandas-docs/stable/user_guide/indexing.html#returning-a-view-versus-a-copy\n",
      "  df_Dividend_PreNDate[\"Dividend_Pre\"+str(N)+\"Date\"]=df_Dividend_PreNDate.index\n",
      "C:\\Users\\markchao\\AppData\\Local\\Temp/ipykernel_23784/3117343331.py:115: FutureWarning: Dropping of nuisance columns in DataFrame reductions (with 'numeric_only=None') is deprecated; in a future version this will raise TypeError.  Select only valid columns before calling the reduction.\n",
      "  Win_mean_per_Value=df_Dividend_PreOneDate[df_Dividend_PreOneDate[\"PL%\"]>0].mean()\n",
      "C:\\Users\\markchao\\AppData\\Local\\Temp/ipykernel_23784/3117343331.py:119: FutureWarning: Dropping of nuisance columns in DataFrame reductions (with 'numeric_only=None') is deprecated; in a future version this will raise TypeError.  Select only valid columns before calling the reduction.\n",
      "  Loss_mean_per_Value=df_Dividend_PreOneDate[df_Dividend_PreOneDate[\"PL%\"]<0].mean()\n"
     ]
    },
    {
     "name": "stdout",
     "output_type": "stream",
     "text": [
      "5483.TWO\n"
     ]
    },
    {
     "name": "stderr",
     "output_type": "stream",
     "text": [
      "C:\\Users\\markchao\\AppData\\Local\\Temp/ipykernel_23784/3117343331.py:74: SettingWithCopyWarning: \n",
      "A value is trying to be set on a copy of a slice from a DataFrame.\n",
      "Try using .loc[row_indexer,col_indexer] = value instead\n",
      "\n",
      "See the caveats in the documentation: https://pandas.pydata.org/pandas-docs/stable/user_guide/indexing.html#returning-a-view-versus-a-copy\n",
      "  df_Dividend_PreNDate[\"Dividend_Pre\"+str(N)+\"Date\"]=df_Dividend_PreNDate.index\n",
      "C:\\Users\\markchao\\AppData\\Local\\Temp/ipykernel_23784/3117343331.py:115: FutureWarning: Dropping of nuisance columns in DataFrame reductions (with 'numeric_only=None') is deprecated; in a future version this will raise TypeError.  Select only valid columns before calling the reduction.\n",
      "  Win_mean_per_Value=df_Dividend_PreOneDate[df_Dividend_PreOneDate[\"PL%\"]>0].mean()\n",
      "C:\\Users\\markchao\\AppData\\Local\\Temp/ipykernel_23784/3117343331.py:119: FutureWarning: Dropping of nuisance columns in DataFrame reductions (with 'numeric_only=None') is deprecated; in a future version this will raise TypeError.  Select only valid columns before calling the reduction.\n",
      "  Loss_mean_per_Value=df_Dividend_PreOneDate[df_Dividend_PreOneDate[\"PL%\"]<0].mean()\n"
     ]
    },
    {
     "name": "stdout",
     "output_type": "stream",
     "text": [
      "2301.TW\n"
     ]
    },
    {
     "name": "stderr",
     "output_type": "stream",
     "text": [
      "C:\\Users\\markchao\\AppData\\Local\\Temp/ipykernel_23784/3117343331.py:74: SettingWithCopyWarning: \n",
      "A value is trying to be set on a copy of a slice from a DataFrame.\n",
      "Try using .loc[row_indexer,col_indexer] = value instead\n",
      "\n",
      "See the caveats in the documentation: https://pandas.pydata.org/pandas-docs/stable/user_guide/indexing.html#returning-a-view-versus-a-copy\n",
      "  df_Dividend_PreNDate[\"Dividend_Pre\"+str(N)+\"Date\"]=df_Dividend_PreNDate.index\n",
      "C:\\Users\\markchao\\AppData\\Local\\Temp/ipykernel_23784/3117343331.py:115: FutureWarning: Dropping of nuisance columns in DataFrame reductions (with 'numeric_only=None') is deprecated; in a future version this will raise TypeError.  Select only valid columns before calling the reduction.\n",
      "  Win_mean_per_Value=df_Dividend_PreOneDate[df_Dividend_PreOneDate[\"PL%\"]>0].mean()\n",
      "C:\\Users\\markchao\\AppData\\Local\\Temp/ipykernel_23784/3117343331.py:119: FutureWarning: Dropping of nuisance columns in DataFrame reductions (with 'numeric_only=None') is deprecated; in a future version this will raise TypeError.  Select only valid columns before calling the reduction.\n",
      "  Loss_mean_per_Value=df_Dividend_PreOneDate[df_Dividend_PreOneDate[\"PL%\"]<0].mean()\n"
     ]
    },
    {
     "name": "stdout",
     "output_type": "stream",
     "text": [
      "4938.TW\n"
     ]
    },
    {
     "name": "stderr",
     "output_type": "stream",
     "text": [
      "C:\\Users\\markchao\\AppData\\Local\\Temp/ipykernel_23784/3117343331.py:74: SettingWithCopyWarning: \n",
      "A value is trying to be set on a copy of a slice from a DataFrame.\n",
      "Try using .loc[row_indexer,col_indexer] = value instead\n",
      "\n",
      "See the caveats in the documentation: https://pandas.pydata.org/pandas-docs/stable/user_guide/indexing.html#returning-a-view-versus-a-copy\n",
      "  df_Dividend_PreNDate[\"Dividend_Pre\"+str(N)+\"Date\"]=df_Dividend_PreNDate.index\n",
      "C:\\Users\\markchao\\AppData\\Local\\Temp/ipykernel_23784/3117343331.py:115: FutureWarning: Dropping of nuisance columns in DataFrame reductions (with 'numeric_only=None') is deprecated; in a future version this will raise TypeError.  Select only valid columns before calling the reduction.\n",
      "  Win_mean_per_Value=df_Dividend_PreOneDate[df_Dividend_PreOneDate[\"PL%\"]>0].mean()\n",
      "C:\\Users\\markchao\\AppData\\Local\\Temp/ipykernel_23784/3117343331.py:119: FutureWarning: Dropping of nuisance columns in DataFrame reductions (with 'numeric_only=None') is deprecated; in a future version this will raise TypeError.  Select only valid columns before calling the reduction.\n",
      "  Loss_mean_per_Value=df_Dividend_PreOneDate[df_Dividend_PreOneDate[\"PL%\"]<0].mean()\n"
     ]
    },
    {
     "name": "stdout",
     "output_type": "stream",
     "text": [
      "1503.TW\n"
     ]
    },
    {
     "name": "stderr",
     "output_type": "stream",
     "text": [
      "C:\\Users\\markchao\\AppData\\Local\\Temp/ipykernel_23784/3117343331.py:74: SettingWithCopyWarning: \n",
      "A value is trying to be set on a copy of a slice from a DataFrame.\n",
      "Try using .loc[row_indexer,col_indexer] = value instead\n",
      "\n",
      "See the caveats in the documentation: https://pandas.pydata.org/pandas-docs/stable/user_guide/indexing.html#returning-a-view-versus-a-copy\n",
      "  df_Dividend_PreNDate[\"Dividend_Pre\"+str(N)+\"Date\"]=df_Dividend_PreNDate.index\n",
      "C:\\Users\\markchao\\AppData\\Local\\Temp/ipykernel_23784/3117343331.py:115: FutureWarning: Dropping of nuisance columns in DataFrame reductions (with 'numeric_only=None') is deprecated; in a future version this will raise TypeError.  Select only valid columns before calling the reduction.\n",
      "  Win_mean_per_Value=df_Dividend_PreOneDate[df_Dividend_PreOneDate[\"PL%\"]>0].mean()\n",
      "C:\\Users\\markchao\\AppData\\Local\\Temp/ipykernel_23784/3117343331.py:119: FutureWarning: Dropping of nuisance columns in DataFrame reductions (with 'numeric_only=None') is deprecated; in a future version this will raise TypeError.  Select only valid columns before calling the reduction.\n",
      "  Loss_mean_per_Value=df_Dividend_PreOneDate[df_Dividend_PreOneDate[\"PL%\"]<0].mean()\n"
     ]
    },
    {
     "name": "stdout",
     "output_type": "stream",
     "text": [
      "3706.TW\n"
     ]
    },
    {
     "name": "stderr",
     "output_type": "stream",
     "text": [
      "C:\\Users\\markchao\\AppData\\Local\\Temp/ipykernel_23784/3117343331.py:74: SettingWithCopyWarning: \n",
      "A value is trying to be set on a copy of a slice from a DataFrame.\n",
      "Try using .loc[row_indexer,col_indexer] = value instead\n",
      "\n",
      "See the caveats in the documentation: https://pandas.pydata.org/pandas-docs/stable/user_guide/indexing.html#returning-a-view-versus-a-copy\n",
      "  df_Dividend_PreNDate[\"Dividend_Pre\"+str(N)+\"Date\"]=df_Dividend_PreNDate.index\n",
      "C:\\Users\\markchao\\AppData\\Local\\Temp/ipykernel_23784/3117343331.py:115: FutureWarning: Dropping of nuisance columns in DataFrame reductions (with 'numeric_only=None') is deprecated; in a future version this will raise TypeError.  Select only valid columns before calling the reduction.\n",
      "  Win_mean_per_Value=df_Dividend_PreOneDate[df_Dividend_PreOneDate[\"PL%\"]>0].mean()\n",
      "C:\\Users\\markchao\\AppData\\Local\\Temp/ipykernel_23784/3117343331.py:119: FutureWarning: Dropping of nuisance columns in DataFrame reductions (with 'numeric_only=None') is deprecated; in a future version this will raise TypeError.  Select only valid columns before calling the reduction.\n",
      "  Loss_mean_per_Value=df_Dividend_PreOneDate[df_Dividend_PreOneDate[\"PL%\"]<0].mean()\n"
     ]
    },
    {
     "name": "stdout",
     "output_type": "stream",
     "text": [
      "3037.TW\n"
     ]
    },
    {
     "name": "stderr",
     "output_type": "stream",
     "text": [
      "C:\\Users\\markchao\\AppData\\Local\\Temp/ipykernel_23784/3117343331.py:74: SettingWithCopyWarning: \n",
      "A value is trying to be set on a copy of a slice from a DataFrame.\n",
      "Try using .loc[row_indexer,col_indexer] = value instead\n",
      "\n",
      "See the caveats in the documentation: https://pandas.pydata.org/pandas-docs/stable/user_guide/indexing.html#returning-a-view-versus-a-copy\n",
      "  df_Dividend_PreNDate[\"Dividend_Pre\"+str(N)+\"Date\"]=df_Dividend_PreNDate.index\n",
      "C:\\Users\\markchao\\AppData\\Local\\Temp/ipykernel_23784/3117343331.py:115: FutureWarning: Dropping of nuisance columns in DataFrame reductions (with 'numeric_only=None') is deprecated; in a future version this will raise TypeError.  Select only valid columns before calling the reduction.\n",
      "  Win_mean_per_Value=df_Dividend_PreOneDate[df_Dividend_PreOneDate[\"PL%\"]>0].mean()\n",
      "C:\\Users\\markchao\\AppData\\Local\\Temp/ipykernel_23784/3117343331.py:119: FutureWarning: Dropping of nuisance columns in DataFrame reductions (with 'numeric_only=None') is deprecated; in a future version this will raise TypeError.  Select only valid columns before calling the reduction.\n",
      "  Loss_mean_per_Value=df_Dividend_PreOneDate[df_Dividend_PreOneDate[\"PL%\"]<0].mean()\n"
     ]
    },
    {
     "name": "stdout",
     "output_type": "stream",
     "text": [
      "2454.TW\n"
     ]
    },
    {
     "name": "stderr",
     "output_type": "stream",
     "text": [
      "C:\\Users\\markchao\\AppData\\Local\\Temp/ipykernel_23784/3117343331.py:74: SettingWithCopyWarning: \n",
      "A value is trying to be set on a copy of a slice from a DataFrame.\n",
      "Try using .loc[row_indexer,col_indexer] = value instead\n",
      "\n",
      "See the caveats in the documentation: https://pandas.pydata.org/pandas-docs/stable/user_guide/indexing.html#returning-a-view-versus-a-copy\n",
      "  df_Dividend_PreNDate[\"Dividend_Pre\"+str(N)+\"Date\"]=df_Dividend_PreNDate.index\n",
      "C:\\Users\\markchao\\AppData\\Local\\Temp/ipykernel_23784/3117343331.py:115: FutureWarning: Dropping of nuisance columns in DataFrame reductions (with 'numeric_only=None') is deprecated; in a future version this will raise TypeError.  Select only valid columns before calling the reduction.\n",
      "  Win_mean_per_Value=df_Dividend_PreOneDate[df_Dividend_PreOneDate[\"PL%\"]>0].mean()\n",
      "C:\\Users\\markchao\\AppData\\Local\\Temp/ipykernel_23784/3117343331.py:119: FutureWarning: Dropping of nuisance columns in DataFrame reductions (with 'numeric_only=None') is deprecated; in a future version this will raise TypeError.  Select only valid columns before calling the reduction.\n",
      "  Loss_mean_per_Value=df_Dividend_PreOneDate[df_Dividend_PreOneDate[\"PL%\"]<0].mean()\n"
     ]
    },
    {
     "name": "stdout",
     "output_type": "stream",
     "text": [
      "2303.TW\n"
     ]
    },
    {
     "name": "stderr",
     "output_type": "stream",
     "text": [
      "C:\\Users\\markchao\\AppData\\Local\\Temp/ipykernel_23784/3117343331.py:74: SettingWithCopyWarning: \n",
      "A value is trying to be set on a copy of a slice from a DataFrame.\n",
      "Try using .loc[row_indexer,col_indexer] = value instead\n",
      "\n",
      "See the caveats in the documentation: https://pandas.pydata.org/pandas-docs/stable/user_guide/indexing.html#returning-a-view-versus-a-copy\n",
      "  df_Dividend_PreNDate[\"Dividend_Pre\"+str(N)+\"Date\"]=df_Dividend_PreNDate.index\n",
      "C:\\Users\\markchao\\AppData\\Local\\Temp/ipykernel_23784/3117343331.py:115: FutureWarning: Dropping of nuisance columns in DataFrame reductions (with 'numeric_only=None') is deprecated; in a future version this will raise TypeError.  Select only valid columns before calling the reduction.\n",
      "  Win_mean_per_Value=df_Dividend_PreOneDate[df_Dividend_PreOneDate[\"PL%\"]>0].mean()\n",
      "C:\\Users\\markchao\\AppData\\Local\\Temp/ipykernel_23784/3117343331.py:119: FutureWarning: Dropping of nuisance columns in DataFrame reductions (with 'numeric_only=None') is deprecated; in a future version this will raise TypeError.  Select only valid columns before calling the reduction.\n",
      "  Loss_mean_per_Value=df_Dividend_PreOneDate[df_Dividend_PreOneDate[\"PL%\"]<0].mean()\n"
     ]
    },
    {
     "name": "stdout",
     "output_type": "stream",
     "text": [
      "2376.TW\n"
     ]
    },
    {
     "name": "stderr",
     "output_type": "stream",
     "text": [
      "C:\\Users\\markchao\\AppData\\Local\\Temp/ipykernel_23784/3117343331.py:74: SettingWithCopyWarning: \n",
      "A value is trying to be set on a copy of a slice from a DataFrame.\n",
      "Try using .loc[row_indexer,col_indexer] = value instead\n",
      "\n",
      "See the caveats in the documentation: https://pandas.pydata.org/pandas-docs/stable/user_guide/indexing.html#returning-a-view-versus-a-copy\n",
      "  df_Dividend_PreNDate[\"Dividend_Pre\"+str(N)+\"Date\"]=df_Dividend_PreNDate.index\n",
      "C:\\Users\\markchao\\AppData\\Local\\Temp/ipykernel_23784/3117343331.py:115: FutureWarning: Dropping of nuisance columns in DataFrame reductions (with 'numeric_only=None') is deprecated; in a future version this will raise TypeError.  Select only valid columns before calling the reduction.\n",
      "  Win_mean_per_Value=df_Dividend_PreOneDate[df_Dividend_PreOneDate[\"PL%\"]>0].mean()\n",
      "C:\\Users\\markchao\\AppData\\Local\\Temp/ipykernel_23784/3117343331.py:119: FutureWarning: Dropping of nuisance columns in DataFrame reductions (with 'numeric_only=None') is deprecated; in a future version this will raise TypeError.  Select only valid columns before calling the reduction.\n",
      "  Loss_mean_per_Value=df_Dividend_PreOneDate[df_Dividend_PreOneDate[\"PL%\"]<0].mean()\n"
     ]
    },
    {
     "name": "stdout",
     "output_type": "stream",
     "text": [
      "1513.TW\n"
     ]
    },
    {
     "name": "stderr",
     "output_type": "stream",
     "text": [
      "C:\\Users\\markchao\\AppData\\Local\\Temp/ipykernel_23784/3117343331.py:74: SettingWithCopyWarning: \n",
      "A value is trying to be set on a copy of a slice from a DataFrame.\n",
      "Try using .loc[row_indexer,col_indexer] = value instead\n",
      "\n",
      "See the caveats in the documentation: https://pandas.pydata.org/pandas-docs/stable/user_guide/indexing.html#returning-a-view-versus-a-copy\n",
      "  df_Dividend_PreNDate[\"Dividend_Pre\"+str(N)+\"Date\"]=df_Dividend_PreNDate.index\n",
      "C:\\Users\\markchao\\AppData\\Local\\Temp/ipykernel_23784/3117343331.py:115: FutureWarning: Dropping of nuisance columns in DataFrame reductions (with 'numeric_only=None') is deprecated; in a future version this will raise TypeError.  Select only valid columns before calling the reduction.\n",
      "  Win_mean_per_Value=df_Dividend_PreOneDate[df_Dividend_PreOneDate[\"PL%\"]>0].mean()\n",
      "C:\\Users\\markchao\\AppData\\Local\\Temp/ipykernel_23784/3117343331.py:119: FutureWarning: Dropping of nuisance columns in DataFrame reductions (with 'numeric_only=None') is deprecated; in a future version this will raise TypeError.  Select only valid columns before calling the reduction.\n",
      "  Loss_mean_per_Value=df_Dividend_PreOneDate[df_Dividend_PreOneDate[\"PL%\"]<0].mean()\n"
     ]
    },
    {
     "name": "stdout",
     "output_type": "stream",
     "text": [
      "3324.TWO\n"
     ]
    },
    {
     "name": "stderr",
     "output_type": "stream",
     "text": [
      "C:\\Users\\markchao\\AppData\\Local\\Temp/ipykernel_23784/3117343331.py:74: SettingWithCopyWarning: \n",
      "A value is trying to be set on a copy of a slice from a DataFrame.\n",
      "Try using .loc[row_indexer,col_indexer] = value instead\n",
      "\n",
      "See the caveats in the documentation: https://pandas.pydata.org/pandas-docs/stable/user_guide/indexing.html#returning-a-view-versus-a-copy\n",
      "  df_Dividend_PreNDate[\"Dividend_Pre\"+str(N)+\"Date\"]=df_Dividend_PreNDate.index\n",
      "C:\\Users\\markchao\\AppData\\Local\\Temp/ipykernel_23784/3117343331.py:115: FutureWarning: Dropping of nuisance columns in DataFrame reductions (with 'numeric_only=None') is deprecated; in a future version this will raise TypeError.  Select only valid columns before calling the reduction.\n",
      "  Win_mean_per_Value=df_Dividend_PreOneDate[df_Dividend_PreOneDate[\"PL%\"]>0].mean()\n",
      "C:\\Users\\markchao\\AppData\\Local\\Temp/ipykernel_23784/3117343331.py:119: FutureWarning: Dropping of nuisance columns in DataFrame reductions (with 'numeric_only=None') is deprecated; in a future version this will raise TypeError.  Select only valid columns before calling the reduction.\n",
      "  Loss_mean_per_Value=df_Dividend_PreOneDate[df_Dividend_PreOneDate[\"PL%\"]<0].mean()\n"
     ]
    },
    {
     "name": "stdout",
     "output_type": "stream",
     "text": [
      "6669.TW\n"
     ]
    },
    {
     "name": "stderr",
     "output_type": "stream",
     "text": [
      "C:\\Users\\markchao\\AppData\\Local\\Temp/ipykernel_23784/3117343331.py:74: SettingWithCopyWarning: \n",
      "A value is trying to be set on a copy of a slice from a DataFrame.\n",
      "Try using .loc[row_indexer,col_indexer] = value instead\n",
      "\n",
      "See the caveats in the documentation: https://pandas.pydata.org/pandas-docs/stable/user_guide/indexing.html#returning-a-view-versus-a-copy\n",
      "  df_Dividend_PreNDate[\"Dividend_Pre\"+str(N)+\"Date\"]=df_Dividend_PreNDate.index\n",
      "C:\\Users\\markchao\\AppData\\Local\\Temp/ipykernel_23784/3117343331.py:115: FutureWarning: Dropping of nuisance columns in DataFrame reductions (with 'numeric_only=None') is deprecated; in a future version this will raise TypeError.  Select only valid columns before calling the reduction.\n",
      "  Win_mean_per_Value=df_Dividend_PreOneDate[df_Dividend_PreOneDate[\"PL%\"]>0].mean()\n",
      "C:\\Users\\markchao\\AppData\\Local\\Temp/ipykernel_23784/3117343331.py:119: FutureWarning: Dropping of nuisance columns in DataFrame reductions (with 'numeric_only=None') is deprecated; in a future version this will raise TypeError.  Select only valid columns before calling the reduction.\n",
      "  Loss_mean_per_Value=df_Dividend_PreOneDate[df_Dividend_PreOneDate[\"PL%\"]<0].mean()\n"
     ]
    },
    {
     "name": "stdout",
     "output_type": "stream",
     "text": [
      "6414.TW\n"
     ]
    },
    {
     "name": "stderr",
     "output_type": "stream",
     "text": [
      "C:\\Users\\markchao\\AppData\\Local\\Temp/ipykernel_23784/3117343331.py:74: SettingWithCopyWarning: \n",
      "A value is trying to be set on a copy of a slice from a DataFrame.\n",
      "Try using .loc[row_indexer,col_indexer] = value instead\n",
      "\n",
      "See the caveats in the documentation: https://pandas.pydata.org/pandas-docs/stable/user_guide/indexing.html#returning-a-view-versus-a-copy\n",
      "  df_Dividend_PreNDate[\"Dividend_Pre\"+str(N)+\"Date\"]=df_Dividend_PreNDate.index\n",
      "C:\\Users\\markchao\\AppData\\Local\\Temp/ipykernel_23784/3117343331.py:115: FutureWarning: Dropping of nuisance columns in DataFrame reductions (with 'numeric_only=None') is deprecated; in a future version this will raise TypeError.  Select only valid columns before calling the reduction.\n",
      "  Win_mean_per_Value=df_Dividend_PreOneDate[df_Dividend_PreOneDate[\"PL%\"]>0].mean()\n",
      "C:\\Users\\markchao\\AppData\\Local\\Temp/ipykernel_23784/3117343331.py:119: FutureWarning: Dropping of nuisance columns in DataFrame reductions (with 'numeric_only=None') is deprecated; in a future version this will raise TypeError.  Select only valid columns before calling the reduction.\n",
      "  Loss_mean_per_Value=df_Dividend_PreOneDate[df_Dividend_PreOneDate[\"PL%\"]<0].mean()\n"
     ]
    },
    {
     "name": "stdout",
     "output_type": "stream",
     "text": [
      "8996.TW\n"
     ]
    },
    {
     "name": "stderr",
     "output_type": "stream",
     "text": [
      "C:\\Users\\markchao\\AppData\\Local\\Temp/ipykernel_23784/3117343331.py:74: SettingWithCopyWarning: \n",
      "A value is trying to be set on a copy of a slice from a DataFrame.\n",
      "Try using .loc[row_indexer,col_indexer] = value instead\n",
      "\n",
      "See the caveats in the documentation: https://pandas.pydata.org/pandas-docs/stable/user_guide/indexing.html#returning-a-view-versus-a-copy\n",
      "  df_Dividend_PreNDate[\"Dividend_Pre\"+str(N)+\"Date\"]=df_Dividend_PreNDate.index\n",
      "C:\\Users\\markchao\\AppData\\Local\\Temp/ipykernel_23784/3117343331.py:115: FutureWarning: Dropping of nuisance columns in DataFrame reductions (with 'numeric_only=None') is deprecated; in a future version this will raise TypeError.  Select only valid columns before calling the reduction.\n",
      "  Win_mean_per_Value=df_Dividend_PreOneDate[df_Dividend_PreOneDate[\"PL%\"]>0].mean()\n",
      "C:\\Users\\markchao\\AppData\\Local\\Temp/ipykernel_23784/3117343331.py:119: FutureWarning: Dropping of nuisance columns in DataFrame reductions (with 'numeric_only=None') is deprecated; in a future version this will raise TypeError.  Select only valid columns before calling the reduction.\n",
      "  Loss_mean_per_Value=df_Dividend_PreOneDate[df_Dividend_PreOneDate[\"PL%\"]<0].mean()\n"
     ]
    },
    {
     "name": "stdout",
     "output_type": "stream",
     "text": [
      "3034.TW\n"
     ]
    },
    {
     "name": "stderr",
     "output_type": "stream",
     "text": [
      "C:\\Users\\markchao\\AppData\\Local\\Temp/ipykernel_23784/3117343331.py:74: SettingWithCopyWarning: \n",
      "A value is trying to be set on a copy of a slice from a DataFrame.\n",
      "Try using .loc[row_indexer,col_indexer] = value instead\n",
      "\n",
      "See the caveats in the documentation: https://pandas.pydata.org/pandas-docs/stable/user_guide/indexing.html#returning-a-view-versus-a-copy\n",
      "  df_Dividend_PreNDate[\"Dividend_Pre\"+str(N)+\"Date\"]=df_Dividend_PreNDate.index\n",
      "C:\\Users\\markchao\\AppData\\Local\\Temp/ipykernel_23784/3117343331.py:115: FutureWarning: Dropping of nuisance columns in DataFrame reductions (with 'numeric_only=None') is deprecated; in a future version this will raise TypeError.  Select only valid columns before calling the reduction.\n",
      "  Win_mean_per_Value=df_Dividend_PreOneDate[df_Dividend_PreOneDate[\"PL%\"]>0].mean()\n",
      "C:\\Users\\markchao\\AppData\\Local\\Temp/ipykernel_23784/3117343331.py:119: FutureWarning: Dropping of nuisance columns in DataFrame reductions (with 'numeric_only=None') is deprecated; in a future version this will raise TypeError.  Select only valid columns before calling the reduction.\n",
      "  Loss_mean_per_Value=df_Dividend_PreOneDate[df_Dividend_PreOneDate[\"PL%\"]<0].mean()\n"
     ]
    },
    {
     "name": "stdout",
     "output_type": "stream",
     "text": [
      "2308.TW\n"
     ]
    },
    {
     "name": "stderr",
     "output_type": "stream",
     "text": [
      "C:\\Users\\markchao\\AppData\\Local\\Temp/ipykernel_23784/3117343331.py:74: SettingWithCopyWarning: \n",
      "A value is trying to be set on a copy of a slice from a DataFrame.\n",
      "Try using .loc[row_indexer,col_indexer] = value instead\n",
      "\n",
      "See the caveats in the documentation: https://pandas.pydata.org/pandas-docs/stable/user_guide/indexing.html#returning-a-view-versus-a-copy\n",
      "  df_Dividend_PreNDate[\"Dividend_Pre\"+str(N)+\"Date\"]=df_Dividend_PreNDate.index\n",
      "C:\\Users\\markchao\\AppData\\Local\\Temp/ipykernel_23784/3117343331.py:115: FutureWarning: Dropping of nuisance columns in DataFrame reductions (with 'numeric_only=None') is deprecated; in a future version this will raise TypeError.  Select only valid columns before calling the reduction.\n",
      "  Win_mean_per_Value=df_Dividend_PreOneDate[df_Dividend_PreOneDate[\"PL%\"]>0].mean()\n",
      "C:\\Users\\markchao\\AppData\\Local\\Temp/ipykernel_23784/3117343331.py:119: FutureWarning: Dropping of nuisance columns in DataFrame reductions (with 'numeric_only=None') is deprecated; in a future version this will raise TypeError.  Select only valid columns before calling the reduction.\n",
      "  Loss_mean_per_Value=df_Dividend_PreOneDate[df_Dividend_PreOneDate[\"PL%\"]<0].mean()\n"
     ]
    },
    {
     "name": "stdout",
     "output_type": "stream",
     "text": [
      "3406.TW\n"
     ]
    },
    {
     "name": "stderr",
     "output_type": "stream",
     "text": [
      "C:\\Users\\markchao\\AppData\\Local\\Temp/ipykernel_23784/3117343331.py:74: SettingWithCopyWarning: \n",
      "A value is trying to be set on a copy of a slice from a DataFrame.\n",
      "Try using .loc[row_indexer,col_indexer] = value instead\n",
      "\n",
      "See the caveats in the documentation: https://pandas.pydata.org/pandas-docs/stable/user_guide/indexing.html#returning-a-view-versus-a-copy\n",
      "  df_Dividend_PreNDate[\"Dividend_Pre\"+str(N)+\"Date\"]=df_Dividend_PreNDate.index\n",
      "C:\\Users\\markchao\\AppData\\Local\\Temp/ipykernel_23784/3117343331.py:115: FutureWarning: Dropping of nuisance columns in DataFrame reductions (with 'numeric_only=None') is deprecated; in a future version this will raise TypeError.  Select only valid columns before calling the reduction.\n",
      "  Win_mean_per_Value=df_Dividend_PreOneDate[df_Dividend_PreOneDate[\"PL%\"]>0].mean()\n",
      "C:\\Users\\markchao\\AppData\\Local\\Temp/ipykernel_23784/3117343331.py:119: FutureWarning: Dropping of nuisance columns in DataFrame reductions (with 'numeric_only=None') is deprecated; in a future version this will raise TypeError.  Select only valid columns before calling the reduction.\n",
      "  Loss_mean_per_Value=df_Dividend_PreOneDate[df_Dividend_PreOneDate[\"PL%\"]<0].mean()\n"
     ]
    },
    {
     "name": "stdout",
     "output_type": "stream",
     "text": [
      "2354.TW\n"
     ]
    },
    {
     "name": "stderr",
     "output_type": "stream",
     "text": [
      "C:\\Users\\markchao\\AppData\\Local\\Temp/ipykernel_23784/3117343331.py:74: SettingWithCopyWarning: \n",
      "A value is trying to be set on a copy of a slice from a DataFrame.\n",
      "Try using .loc[row_indexer,col_indexer] = value instead\n",
      "\n",
      "See the caveats in the documentation: https://pandas.pydata.org/pandas-docs/stable/user_guide/indexing.html#returning-a-view-versus-a-copy\n",
      "  df_Dividend_PreNDate[\"Dividend_Pre\"+str(N)+\"Date\"]=df_Dividend_PreNDate.index\n",
      "C:\\Users\\markchao\\AppData\\Local\\Temp/ipykernel_23784/3117343331.py:115: FutureWarning: Dropping of nuisance columns in DataFrame reductions (with 'numeric_only=None') is deprecated; in a future version this will raise TypeError.  Select only valid columns before calling the reduction.\n",
      "  Win_mean_per_Value=df_Dividend_PreOneDate[df_Dividend_PreOneDate[\"PL%\"]>0].mean()\n",
      "C:\\Users\\markchao\\AppData\\Local\\Temp/ipykernel_23784/3117343331.py:119: FutureWarning: Dropping of nuisance columns in DataFrame reductions (with 'numeric_only=None') is deprecated; in a future version this will raise TypeError.  Select only valid columns before calling the reduction.\n",
      "  Loss_mean_per_Value=df_Dividend_PreOneDate[df_Dividend_PreOneDate[\"PL%\"]<0].mean()\n"
     ]
    },
    {
     "name": "stdout",
     "output_type": "stream",
     "text": [
      "2356.TW\n"
     ]
    },
    {
     "name": "stderr",
     "output_type": "stream",
     "text": [
      "C:\\Users\\markchao\\AppData\\Local\\Temp/ipykernel_23784/3117343331.py:74: SettingWithCopyWarning: \n",
      "A value is trying to be set on a copy of a slice from a DataFrame.\n",
      "Try using .loc[row_indexer,col_indexer] = value instead\n",
      "\n",
      "See the caveats in the documentation: https://pandas.pydata.org/pandas-docs/stable/user_guide/indexing.html#returning-a-view-versus-a-copy\n",
      "  df_Dividend_PreNDate[\"Dividend_Pre\"+str(N)+\"Date\"]=df_Dividend_PreNDate.index\n",
      "C:\\Users\\markchao\\AppData\\Local\\Temp/ipykernel_23784/3117343331.py:115: FutureWarning: Dropping of nuisance columns in DataFrame reductions (with 'numeric_only=None') is deprecated; in a future version this will raise TypeError.  Select only valid columns before calling the reduction.\n",
      "  Win_mean_per_Value=df_Dividend_PreOneDate[df_Dividend_PreOneDate[\"PL%\"]>0].mean()\n",
      "C:\\Users\\markchao\\AppData\\Local\\Temp/ipykernel_23784/3117343331.py:119: FutureWarning: Dropping of nuisance columns in DataFrame reductions (with 'numeric_only=None') is deprecated; in a future version this will raise TypeError.  Select only valid columns before calling the reduction.\n",
      "  Loss_mean_per_Value=df_Dividend_PreOneDate[df_Dividend_PreOneDate[\"PL%\"]<0].mean()\n"
     ]
    },
    {
     "name": "stdout",
     "output_type": "stream",
     "text": [
      "6121.TWO\n"
     ]
    },
    {
     "name": "stderr",
     "output_type": "stream",
     "text": [
      "C:\\Users\\markchao\\AppData\\Local\\Temp/ipykernel_23784/3117343331.py:74: SettingWithCopyWarning: \n",
      "A value is trying to be set on a copy of a slice from a DataFrame.\n",
      "Try using .loc[row_indexer,col_indexer] = value instead\n",
      "\n",
      "See the caveats in the documentation: https://pandas.pydata.org/pandas-docs/stable/user_guide/indexing.html#returning-a-view-versus-a-copy\n",
      "  df_Dividend_PreNDate[\"Dividend_Pre\"+str(N)+\"Date\"]=df_Dividend_PreNDate.index\n",
      "C:\\Users\\markchao\\AppData\\Local\\Temp/ipykernel_23784/3117343331.py:115: FutureWarning: Dropping of nuisance columns in DataFrame reductions (with 'numeric_only=None') is deprecated; in a future version this will raise TypeError.  Select only valid columns before calling the reduction.\n",
      "  Win_mean_per_Value=df_Dividend_PreOneDate[df_Dividend_PreOneDate[\"PL%\"]>0].mean()\n",
      "C:\\Users\\markchao\\AppData\\Local\\Temp/ipykernel_23784/3117343331.py:119: FutureWarning: Dropping of nuisance columns in DataFrame reductions (with 'numeric_only=None') is deprecated; in a future version this will raise TypeError.  Select only valid columns before calling the reduction.\n",
      "  Loss_mean_per_Value=df_Dividend_PreOneDate[df_Dividend_PreOneDate[\"PL%\"]<0].mean()\n"
     ]
    },
    {
     "name": "stdout",
     "output_type": "stream",
     "text": [
      "5347.TWO\n"
     ]
    },
    {
     "name": "stderr",
     "output_type": "stream",
     "text": [
      "C:\\Users\\markchao\\AppData\\Local\\Temp/ipykernel_23784/3117343331.py:74: SettingWithCopyWarning: \n",
      "A value is trying to be set on a copy of a slice from a DataFrame.\n",
      "Try using .loc[row_indexer,col_indexer] = value instead\n",
      "\n",
      "See the caveats in the documentation: https://pandas.pydata.org/pandas-docs/stable/user_guide/indexing.html#returning-a-view-versus-a-copy\n",
      "  df_Dividend_PreNDate[\"Dividend_Pre\"+str(N)+\"Date\"]=df_Dividend_PreNDate.index\n",
      "C:\\Users\\markchao\\AppData\\Local\\Temp/ipykernel_23784/3117343331.py:115: FutureWarning: Dropping of nuisance columns in DataFrame reductions (with 'numeric_only=None') is deprecated; in a future version this will raise TypeError.  Select only valid columns before calling the reduction.\n",
      "  Win_mean_per_Value=df_Dividend_PreOneDate[df_Dividend_PreOneDate[\"PL%\"]>0].mean()\n",
      "C:\\Users\\markchao\\AppData\\Local\\Temp/ipykernel_23784/3117343331.py:119: FutureWarning: Dropping of nuisance columns in DataFrame reductions (with 'numeric_only=None') is deprecated; in a future version this will raise TypeError.  Select only valid columns before calling the reduction.\n",
      "  Loss_mean_per_Value=df_Dividend_PreOneDate[df_Dividend_PreOneDate[\"PL%\"]<0].mean()\n"
     ]
    },
    {
     "name": "stdout",
     "output_type": "stream",
     "text": [
      "6462.TWO\n"
     ]
    },
    {
     "name": "stderr",
     "output_type": "stream",
     "text": [
      "C:\\Users\\markchao\\AppData\\Local\\Temp/ipykernel_23784/3117343331.py:74: SettingWithCopyWarning: \n",
      "A value is trying to be set on a copy of a slice from a DataFrame.\n",
      "Try using .loc[row_indexer,col_indexer] = value instead\n",
      "\n",
      "See the caveats in the documentation: https://pandas.pydata.org/pandas-docs/stable/user_guide/indexing.html#returning-a-view-versus-a-copy\n",
      "  df_Dividend_PreNDate[\"Dividend_Pre\"+str(N)+\"Date\"]=df_Dividend_PreNDate.index\n",
      "C:\\Users\\markchao\\AppData\\Local\\Temp/ipykernel_23784/3117343331.py:115: FutureWarning: Dropping of nuisance columns in DataFrame reductions (with 'numeric_only=None') is deprecated; in a future version this will raise TypeError.  Select only valid columns before calling the reduction.\n",
      "  Win_mean_per_Value=df_Dividend_PreOneDate[df_Dividend_PreOneDate[\"PL%\"]>0].mean()\n",
      "C:\\Users\\markchao\\AppData\\Local\\Temp/ipykernel_23784/3117343331.py:119: FutureWarning: Dropping of nuisance columns in DataFrame reductions (with 'numeric_only=None') is deprecated; in a future version this will raise TypeError.  Select only valid columns before calling the reduction.\n",
      "  Loss_mean_per_Value=df_Dividend_PreOneDate[df_Dividend_PreOneDate[\"PL%\"]<0].mean()\n"
     ]
    },
    {
     "name": "stdout",
     "output_type": "stream",
     "text": [
      "2385.TW\n"
     ]
    },
    {
     "name": "stderr",
     "output_type": "stream",
     "text": [
      "C:\\Users\\markchao\\AppData\\Local\\Temp/ipykernel_23784/3117343331.py:74: SettingWithCopyWarning: \n",
      "A value is trying to be set on a copy of a slice from a DataFrame.\n",
      "Try using .loc[row_indexer,col_indexer] = value instead\n",
      "\n",
      "See the caveats in the documentation: https://pandas.pydata.org/pandas-docs/stable/user_guide/indexing.html#returning-a-view-versus-a-copy\n",
      "  df_Dividend_PreNDate[\"Dividend_Pre\"+str(N)+\"Date\"]=df_Dividend_PreNDate.index\n",
      "C:\\Users\\markchao\\AppData\\Local\\Temp/ipykernel_23784/3117343331.py:115: FutureWarning: Dropping of nuisance columns in DataFrame reductions (with 'numeric_only=None') is deprecated; in a future version this will raise TypeError.  Select only valid columns before calling the reduction.\n",
      "  Win_mean_per_Value=df_Dividend_PreOneDate[df_Dividend_PreOneDate[\"PL%\"]>0].mean()\n",
      "C:\\Users\\markchao\\AppData\\Local\\Temp/ipykernel_23784/3117343331.py:119: FutureWarning: Dropping of nuisance columns in DataFrame reductions (with 'numeric_only=None') is deprecated; in a future version this will raise TypeError.  Select only valid columns before calling the reduction.\n",
      "  Loss_mean_per_Value=df_Dividend_PreOneDate[df_Dividend_PreOneDate[\"PL%\"]<0].mean()\n"
     ]
    },
    {
     "name": "stdout",
     "output_type": "stream",
     "text": [
      "2449.TW\n"
     ]
    },
    {
     "name": "stderr",
     "output_type": "stream",
     "text": [
      "C:\\Users\\markchao\\AppData\\Local\\Temp/ipykernel_23784/3117343331.py:74: SettingWithCopyWarning: \n",
      "A value is trying to be set on a copy of a slice from a DataFrame.\n",
      "Try using .loc[row_indexer,col_indexer] = value instead\n",
      "\n",
      "See the caveats in the documentation: https://pandas.pydata.org/pandas-docs/stable/user_guide/indexing.html#returning-a-view-versus-a-copy\n",
      "  df_Dividend_PreNDate[\"Dividend_Pre\"+str(N)+\"Date\"]=df_Dividend_PreNDate.index\n",
      "C:\\Users\\markchao\\AppData\\Local\\Temp/ipykernel_23784/3117343331.py:115: FutureWarning: Dropping of nuisance columns in DataFrame reductions (with 'numeric_only=None') is deprecated; in a future version this will raise TypeError.  Select only valid columns before calling the reduction.\n",
      "  Win_mean_per_Value=df_Dividend_PreOneDate[df_Dividend_PreOneDate[\"PL%\"]>0].mean()\n",
      "C:\\Users\\markchao\\AppData\\Local\\Temp/ipykernel_23784/3117343331.py:119: FutureWarning: Dropping of nuisance columns in DataFrame reductions (with 'numeric_only=None') is deprecated; in a future version this will raise TypeError.  Select only valid columns before calling the reduction.\n",
      "  Loss_mean_per_Value=df_Dividend_PreOneDate[df_Dividend_PreOneDate[\"PL%\"]<0].mean()\n"
     ]
    },
    {
     "name": "stdout",
     "output_type": "stream",
     "text": [
      "2383.TW\n"
     ]
    },
    {
     "name": "stderr",
     "output_type": "stream",
     "text": [
      "C:\\Users\\markchao\\AppData\\Local\\Temp/ipykernel_23784/3117343331.py:74: SettingWithCopyWarning: \n",
      "A value is trying to be set on a copy of a slice from a DataFrame.\n",
      "Try using .loc[row_indexer,col_indexer] = value instead\n",
      "\n",
      "See the caveats in the documentation: https://pandas.pydata.org/pandas-docs/stable/user_guide/indexing.html#returning-a-view-versus-a-copy\n",
      "  df_Dividend_PreNDate[\"Dividend_Pre\"+str(N)+\"Date\"]=df_Dividend_PreNDate.index\n",
      "C:\\Users\\markchao\\AppData\\Local\\Temp/ipykernel_23784/3117343331.py:115: FutureWarning: Dropping of nuisance columns in DataFrame reductions (with 'numeric_only=None') is deprecated; in a future version this will raise TypeError.  Select only valid columns before calling the reduction.\n",
      "  Win_mean_per_Value=df_Dividend_PreOneDate[df_Dividend_PreOneDate[\"PL%\"]>0].mean()\n",
      "C:\\Users\\markchao\\AppData\\Local\\Temp/ipykernel_23784/3117343331.py:119: FutureWarning: Dropping of nuisance columns in DataFrame reductions (with 'numeric_only=None') is deprecated; in a future version this will raise TypeError.  Select only valid columns before calling the reduction.\n",
      "  Loss_mean_per_Value=df_Dividend_PreOneDate[df_Dividend_PreOneDate[\"PL%\"]<0].mean()\n"
     ]
    },
    {
     "name": "stdout",
     "output_type": "stream",
     "text": [
      "3293.TWO\n"
     ]
    },
    {
     "name": "stderr",
     "output_type": "stream",
     "text": [
      "C:\\Users\\markchao\\AppData\\Local\\Temp/ipykernel_23784/3117343331.py:74: SettingWithCopyWarning: \n",
      "A value is trying to be set on a copy of a slice from a DataFrame.\n",
      "Try using .loc[row_indexer,col_indexer] = value instead\n",
      "\n",
      "See the caveats in the documentation: https://pandas.pydata.org/pandas-docs/stable/user_guide/indexing.html#returning-a-view-versus-a-copy\n",
      "  df_Dividend_PreNDate[\"Dividend_Pre\"+str(N)+\"Date\"]=df_Dividend_PreNDate.index\n",
      "C:\\Users\\markchao\\AppData\\Local\\Temp/ipykernel_23784/3117343331.py:115: FutureWarning: Dropping of nuisance columns in DataFrame reductions (with 'numeric_only=None') is deprecated; in a future version this will raise TypeError.  Select only valid columns before calling the reduction.\n",
      "  Win_mean_per_Value=df_Dividend_PreOneDate[df_Dividend_PreOneDate[\"PL%\"]>0].mean()\n",
      "C:\\Users\\markchao\\AppData\\Local\\Temp/ipykernel_23784/3117343331.py:119: FutureWarning: Dropping of nuisance columns in DataFrame reductions (with 'numeric_only=None') is deprecated; in a future version this will raise TypeError.  Select only valid columns before calling the reduction.\n",
      "  Loss_mean_per_Value=df_Dividend_PreOneDate[df_Dividend_PreOneDate[\"PL%\"]<0].mean()\n"
     ]
    },
    {
     "name": "stdout",
     "output_type": "stream",
     "text": [
      "2404.TW\n"
     ]
    },
    {
     "name": "stderr",
     "output_type": "stream",
     "text": [
      "C:\\Users\\markchao\\AppData\\Local\\Temp/ipykernel_23784/3117343331.py:74: SettingWithCopyWarning: \n",
      "A value is trying to be set on a copy of a slice from a DataFrame.\n",
      "Try using .loc[row_indexer,col_indexer] = value instead\n",
      "\n",
      "See the caveats in the documentation: https://pandas.pydata.org/pandas-docs/stable/user_guide/indexing.html#returning-a-view-versus-a-copy\n",
      "  df_Dividend_PreNDate[\"Dividend_Pre\"+str(N)+\"Date\"]=df_Dividend_PreNDate.index\n",
      "C:\\Users\\markchao\\AppData\\Local\\Temp/ipykernel_23784/3117343331.py:115: FutureWarning: Dropping of nuisance columns in DataFrame reductions (with 'numeric_only=None') is deprecated; in a future version this will raise TypeError.  Select only valid columns before calling the reduction.\n",
      "  Win_mean_per_Value=df_Dividend_PreOneDate[df_Dividend_PreOneDate[\"PL%\"]>0].mean()\n",
      "C:\\Users\\markchao\\AppData\\Local\\Temp/ipykernel_23784/3117343331.py:119: FutureWarning: Dropping of nuisance columns in DataFrame reductions (with 'numeric_only=None') is deprecated; in a future version this will raise TypeError.  Select only valid columns before calling the reduction.\n",
      "  Loss_mean_per_Value=df_Dividend_PreOneDate[df_Dividend_PreOneDate[\"PL%\"]<0].mean()\n"
     ]
    },
    {
     "name": "stdout",
     "output_type": "stream",
     "text": [
      "6176.TW\n"
     ]
    },
    {
     "name": "stderr",
     "output_type": "stream",
     "text": [
      "C:\\Users\\markchao\\AppData\\Local\\Temp/ipykernel_23784/3117343331.py:74: SettingWithCopyWarning: \n",
      "A value is trying to be set on a copy of a slice from a DataFrame.\n",
      "Try using .loc[row_indexer,col_indexer] = value instead\n",
      "\n",
      "See the caveats in the documentation: https://pandas.pydata.org/pandas-docs/stable/user_guide/indexing.html#returning-a-view-versus-a-copy\n",
      "  df_Dividend_PreNDate[\"Dividend_Pre\"+str(N)+\"Date\"]=df_Dividend_PreNDate.index\n",
      "C:\\Users\\markchao\\AppData\\Local\\Temp/ipykernel_23784/3117343331.py:115: FutureWarning: Dropping of nuisance columns in DataFrame reductions (with 'numeric_only=None') is deprecated; in a future version this will raise TypeError.  Select only valid columns before calling the reduction.\n",
      "  Win_mean_per_Value=df_Dividend_PreOneDate[df_Dividend_PreOneDate[\"PL%\"]>0].mean()\n",
      "C:\\Users\\markchao\\AppData\\Local\\Temp/ipykernel_23784/3117343331.py:119: FutureWarning: Dropping of nuisance columns in DataFrame reductions (with 'numeric_only=None') is deprecated; in a future version this will raise TypeError.  Select only valid columns before calling the reduction.\n",
      "  Loss_mean_per_Value=df_Dividend_PreOneDate[df_Dividend_PreOneDate[\"PL%\"]<0].mean()\n"
     ]
    },
    {
     "name": "stdout",
     "output_type": "stream",
     "text": [
      "2345.TW\n"
     ]
    },
    {
     "name": "stderr",
     "output_type": "stream",
     "text": [
      "C:\\Users\\markchao\\AppData\\Local\\Temp/ipykernel_23784/3117343331.py:74: SettingWithCopyWarning: \n",
      "A value is trying to be set on a copy of a slice from a DataFrame.\n",
      "Try using .loc[row_indexer,col_indexer] = value instead\n",
      "\n",
      "See the caveats in the documentation: https://pandas.pydata.org/pandas-docs/stable/user_guide/indexing.html#returning-a-view-versus-a-copy\n",
      "  df_Dividend_PreNDate[\"Dividend_Pre\"+str(N)+\"Date\"]=df_Dividend_PreNDate.index\n",
      "C:\\Users\\markchao\\AppData\\Local\\Temp/ipykernel_23784/3117343331.py:115: FutureWarning: Dropping of nuisance columns in DataFrame reductions (with 'numeric_only=None') is deprecated; in a future version this will raise TypeError.  Select only valid columns before calling the reduction.\n",
      "  Win_mean_per_Value=df_Dividend_PreOneDate[df_Dividend_PreOneDate[\"PL%\"]>0].mean()\n",
      "C:\\Users\\markchao\\AppData\\Local\\Temp/ipykernel_23784/3117343331.py:119: FutureWarning: Dropping of nuisance columns in DataFrame reductions (with 'numeric_only=None') is deprecated; in a future version this will raise TypeError.  Select only valid columns before calling the reduction.\n",
      "  Loss_mean_per_Value=df_Dividend_PreOneDate[df_Dividend_PreOneDate[\"PL%\"]<0].mean()\n"
     ]
    },
    {
     "name": "stdout",
     "output_type": "stream",
     "text": [
      "6239.TW\n"
     ]
    },
    {
     "name": "stderr",
     "output_type": "stream",
     "text": [
      "C:\\Users\\markchao\\AppData\\Local\\Temp/ipykernel_23784/3117343331.py:74: SettingWithCopyWarning: \n",
      "A value is trying to be set on a copy of a slice from a DataFrame.\n",
      "Try using .loc[row_indexer,col_indexer] = value instead\n",
      "\n",
      "See the caveats in the documentation: https://pandas.pydata.org/pandas-docs/stable/user_guide/indexing.html#returning-a-view-versus-a-copy\n",
      "  df_Dividend_PreNDate[\"Dividend_Pre\"+str(N)+\"Date\"]=df_Dividend_PreNDate.index\n",
      "C:\\Users\\markchao\\AppData\\Local\\Temp/ipykernel_23784/3117343331.py:115: FutureWarning: Dropping of nuisance columns in DataFrame reductions (with 'numeric_only=None') is deprecated; in a future version this will raise TypeError.  Select only valid columns before calling the reduction.\n",
      "  Win_mean_per_Value=df_Dividend_PreOneDate[df_Dividend_PreOneDate[\"PL%\"]>0].mean()\n",
      "C:\\Users\\markchao\\AppData\\Local\\Temp/ipykernel_23784/3117343331.py:119: FutureWarning: Dropping of nuisance columns in DataFrame reductions (with 'numeric_only=None') is deprecated; in a future version this will raise TypeError.  Select only valid columns before calling the reduction.\n",
      "  Loss_mean_per_Value=df_Dividend_PreOneDate[df_Dividend_PreOneDate[\"PL%\"]<0].mean()\n"
     ]
    },
    {
     "name": "stdout",
     "output_type": "stream",
     "text": [
      "9958.TW\n"
     ]
    },
    {
     "name": "stderr",
     "output_type": "stream",
     "text": [
      "C:\\Users\\markchao\\AppData\\Local\\Temp/ipykernel_23784/3117343331.py:74: SettingWithCopyWarning: \n",
      "A value is trying to be set on a copy of a slice from a DataFrame.\n",
      "Try using .loc[row_indexer,col_indexer] = value instead\n",
      "\n",
      "See the caveats in the documentation: https://pandas.pydata.org/pandas-docs/stable/user_guide/indexing.html#returning-a-view-versus-a-copy\n",
      "  df_Dividend_PreNDate[\"Dividend_Pre\"+str(N)+\"Date\"]=df_Dividend_PreNDate.index\n",
      "C:\\Users\\markchao\\AppData\\Local\\Temp/ipykernel_23784/3117343331.py:115: FutureWarning: Dropping of nuisance columns in DataFrame reductions (with 'numeric_only=None') is deprecated; in a future version this will raise TypeError.  Select only valid columns before calling the reduction.\n",
      "  Win_mean_per_Value=df_Dividend_PreOneDate[df_Dividend_PreOneDate[\"PL%\"]>0].mean()\n",
      "C:\\Users\\markchao\\AppData\\Local\\Temp/ipykernel_23784/3117343331.py:119: FutureWarning: Dropping of nuisance columns in DataFrame reductions (with 'numeric_only=None') is deprecated; in a future version this will raise TypeError.  Select only valid columns before calling the reduction.\n",
      "  Loss_mean_per_Value=df_Dividend_PreOneDate[df_Dividend_PreOneDate[\"PL%\"]<0].mean()\n"
     ]
    },
    {
     "name": "stdout",
     "output_type": "stream",
     "text": [
      "6139.TW\n"
     ]
    },
    {
     "name": "stderr",
     "output_type": "stream",
     "text": [
      "C:\\Users\\markchao\\AppData\\Local\\Temp/ipykernel_23784/3117343331.py:74: SettingWithCopyWarning: \n",
      "A value is trying to be set on a copy of a slice from a DataFrame.\n",
      "Try using .loc[row_indexer,col_indexer] = value instead\n",
      "\n",
      "See the caveats in the documentation: https://pandas.pydata.org/pandas-docs/stable/user_guide/indexing.html#returning-a-view-versus-a-copy\n",
      "  df_Dividend_PreNDate[\"Dividend_Pre\"+str(N)+\"Date\"]=df_Dividend_PreNDate.index\n",
      "C:\\Users\\markchao\\AppData\\Local\\Temp/ipykernel_23784/3117343331.py:115: FutureWarning: Dropping of nuisance columns in DataFrame reductions (with 'numeric_only=None') is deprecated; in a future version this will raise TypeError.  Select only valid columns before calling the reduction.\n",
      "  Win_mean_per_Value=df_Dividend_PreOneDate[df_Dividend_PreOneDate[\"PL%\"]>0].mean()\n",
      "C:\\Users\\markchao\\AppData\\Local\\Temp/ipykernel_23784/3117343331.py:119: FutureWarning: Dropping of nuisance columns in DataFrame reductions (with 'numeric_only=None') is deprecated; in a future version this will raise TypeError.  Select only valid columns before calling the reduction.\n",
      "  Loss_mean_per_Value=df_Dividend_PreOneDate[df_Dividend_PreOneDate[\"PL%\"]<0].mean()\n"
     ]
    },
    {
     "name": "stdout",
     "output_type": "stream",
     "text": [
      "2313.TW\n"
     ]
    },
    {
     "name": "stderr",
     "output_type": "stream",
     "text": [
      "C:\\Users\\markchao\\AppData\\Local\\Temp/ipykernel_23784/3117343331.py:74: SettingWithCopyWarning: \n",
      "A value is trying to be set on a copy of a slice from a DataFrame.\n",
      "Try using .loc[row_indexer,col_indexer] = value instead\n",
      "\n",
      "See the caveats in the documentation: https://pandas.pydata.org/pandas-docs/stable/user_guide/indexing.html#returning-a-view-versus-a-copy\n",
      "  df_Dividend_PreNDate[\"Dividend_Pre\"+str(N)+\"Date\"]=df_Dividend_PreNDate.index\n",
      "C:\\Users\\markchao\\AppData\\Local\\Temp/ipykernel_23784/3117343331.py:115: FutureWarning: Dropping of nuisance columns in DataFrame reductions (with 'numeric_only=None') is deprecated; in a future version this will raise TypeError.  Select only valid columns before calling the reduction.\n",
      "  Win_mean_per_Value=df_Dividend_PreOneDate[df_Dividend_PreOneDate[\"PL%\"]>0].mean()\n",
      "C:\\Users\\markchao\\AppData\\Local\\Temp/ipykernel_23784/3117343331.py:119: FutureWarning: Dropping of nuisance columns in DataFrame reductions (with 'numeric_only=None') is deprecated; in a future version this will raise TypeError.  Select only valid columns before calling the reduction.\n",
      "  Loss_mean_per_Value=df_Dividend_PreOneDate[df_Dividend_PreOneDate[\"PL%\"]<0].mean()\n"
     ]
    },
    {
     "name": "stdout",
     "output_type": "stream",
     "text": [
      "3036.TW\n"
     ]
    },
    {
     "name": "stderr",
     "output_type": "stream",
     "text": [
      "C:\\Users\\markchao\\AppData\\Local\\Temp/ipykernel_23784/3117343331.py:74: SettingWithCopyWarning: \n",
      "A value is trying to be set on a copy of a slice from a DataFrame.\n",
      "Try using .loc[row_indexer,col_indexer] = value instead\n",
      "\n",
      "See the caveats in the documentation: https://pandas.pydata.org/pandas-docs/stable/user_guide/indexing.html#returning-a-view-versus-a-copy\n",
      "  df_Dividend_PreNDate[\"Dividend_Pre\"+str(N)+\"Date\"]=df_Dividend_PreNDate.index\n",
      "C:\\Users\\markchao\\AppData\\Local\\Temp/ipykernel_23784/3117343331.py:115: FutureWarning: Dropping of nuisance columns in DataFrame reductions (with 'numeric_only=None') is deprecated; in a future version this will raise TypeError.  Select only valid columns before calling the reduction.\n",
      "  Win_mean_per_Value=df_Dividend_PreOneDate[df_Dividend_PreOneDate[\"PL%\"]>0].mean()\n",
      "C:\\Users\\markchao\\AppData\\Local\\Temp/ipykernel_23784/3117343331.py:119: FutureWarning: Dropping of nuisance columns in DataFrame reductions (with 'numeric_only=None') is deprecated; in a future version this will raise TypeError.  Select only valid columns before calling the reduction.\n",
      "  Loss_mean_per_Value=df_Dividend_PreOneDate[df_Dividend_PreOneDate[\"PL%\"]<0].mean()\n"
     ]
    },
    {
     "name": "stdout",
     "output_type": "stream",
     "text": [
      "6191.TW\n"
     ]
    },
    {
     "name": "stderr",
     "output_type": "stream",
     "text": [
      "C:\\Users\\markchao\\AppData\\Local\\Temp/ipykernel_23784/3117343331.py:74: SettingWithCopyWarning: \n",
      "A value is trying to be set on a copy of a slice from a DataFrame.\n",
      "Try using .loc[row_indexer,col_indexer] = value instead\n",
      "\n",
      "See the caveats in the documentation: https://pandas.pydata.org/pandas-docs/stable/user_guide/indexing.html#returning-a-view-versus-a-copy\n",
      "  df_Dividend_PreNDate[\"Dividend_Pre\"+str(N)+\"Date\"]=df_Dividend_PreNDate.index\n",
      "C:\\Users\\markchao\\AppData\\Local\\Temp/ipykernel_23784/3117343331.py:115: FutureWarning: Dropping of nuisance columns in DataFrame reductions (with 'numeric_only=None') is deprecated; in a future version this will raise TypeError.  Select only valid columns before calling the reduction.\n",
      "  Win_mean_per_Value=df_Dividend_PreOneDate[df_Dividend_PreOneDate[\"PL%\"]>0].mean()\n",
      "C:\\Users\\markchao\\AppData\\Local\\Temp/ipykernel_23784/3117343331.py:119: FutureWarning: Dropping of nuisance columns in DataFrame reductions (with 'numeric_only=None') is deprecated; in a future version this will raise TypeError.  Select only valid columns before calling the reduction.\n",
      "  Loss_mean_per_Value=df_Dividend_PreOneDate[df_Dividend_PreOneDate[\"PL%\"]<0].mean()\n"
     ]
    },
    {
     "name": "stdout",
     "output_type": "stream",
     "text": [
      "8016.TW\n"
     ]
    },
    {
     "name": "stderr",
     "output_type": "stream",
     "text": [
      "C:\\Users\\markchao\\AppData\\Local\\Temp/ipykernel_23784/3117343331.py:74: SettingWithCopyWarning: \n",
      "A value is trying to be set on a copy of a slice from a DataFrame.\n",
      "Try using .loc[row_indexer,col_indexer] = value instead\n",
      "\n",
      "See the caveats in the documentation: https://pandas.pydata.org/pandas-docs/stable/user_guide/indexing.html#returning-a-view-versus-a-copy\n",
      "  df_Dividend_PreNDate[\"Dividend_Pre\"+str(N)+\"Date\"]=df_Dividend_PreNDate.index\n",
      "C:\\Users\\markchao\\AppData\\Local\\Temp/ipykernel_23784/3117343331.py:115: FutureWarning: Dropping of nuisance columns in DataFrame reductions (with 'numeric_only=None') is deprecated; in a future version this will raise TypeError.  Select only valid columns before calling the reduction.\n",
      "  Win_mean_per_Value=df_Dividend_PreOneDate[df_Dividend_PreOneDate[\"PL%\"]>0].mean()\n",
      "C:\\Users\\markchao\\AppData\\Local\\Temp/ipykernel_23784/3117343331.py:119: FutureWarning: Dropping of nuisance columns in DataFrame reductions (with 'numeric_only=None') is deprecated; in a future version this will raise TypeError.  Select only valid columns before calling the reduction.\n",
      "  Loss_mean_per_Value=df_Dividend_PreOneDate[df_Dividend_PreOneDate[\"PL%\"]<0].mean()\n"
     ]
    },
    {
     "name": "stdout",
     "output_type": "stream",
     "text": [
      "2379.TW\n"
     ]
    },
    {
     "name": "stderr",
     "output_type": "stream",
     "text": [
      "C:\\Users\\markchao\\AppData\\Local\\Temp/ipykernel_23784/3117343331.py:74: SettingWithCopyWarning: \n",
      "A value is trying to be set on a copy of a slice from a DataFrame.\n",
      "Try using .loc[row_indexer,col_indexer] = value instead\n",
      "\n",
      "See the caveats in the documentation: https://pandas.pydata.org/pandas-docs/stable/user_guide/indexing.html#returning-a-view-versus-a-copy\n",
      "  df_Dividend_PreNDate[\"Dividend_Pre\"+str(N)+\"Date\"]=df_Dividend_PreNDate.index\n",
      "C:\\Users\\markchao\\AppData\\Local\\Temp/ipykernel_23784/3117343331.py:115: FutureWarning: Dropping of nuisance columns in DataFrame reductions (with 'numeric_only=None') is deprecated; in a future version this will raise TypeError.  Select only valid columns before calling the reduction.\n",
      "  Win_mean_per_Value=df_Dividend_PreOneDate[df_Dividend_PreOneDate[\"PL%\"]>0].mean()\n",
      "C:\\Users\\markchao\\AppData\\Local\\Temp/ipykernel_23784/3117343331.py:119: FutureWarning: Dropping of nuisance columns in DataFrame reductions (with 'numeric_only=None') is deprecated; in a future version this will raise TypeError.  Select only valid columns before calling the reduction.\n",
      "  Loss_mean_per_Value=df_Dividend_PreOneDate[df_Dividend_PreOneDate[\"PL%\"]<0].mean()\n"
     ]
    },
    {
     "name": "stdout",
     "output_type": "stream",
     "text": [
      "3207.TWO\n"
     ]
    },
    {
     "name": "stderr",
     "output_type": "stream",
     "text": [
      "C:\\Users\\markchao\\AppData\\Local\\Temp/ipykernel_23784/3117343331.py:74: SettingWithCopyWarning: \n",
      "A value is trying to be set on a copy of a slice from a DataFrame.\n",
      "Try using .loc[row_indexer,col_indexer] = value instead\n",
      "\n",
      "See the caveats in the documentation: https://pandas.pydata.org/pandas-docs/stable/user_guide/indexing.html#returning-a-view-versus-a-copy\n",
      "  df_Dividend_PreNDate[\"Dividend_Pre\"+str(N)+\"Date\"]=df_Dividend_PreNDate.index\n",
      "C:\\Users\\markchao\\AppData\\Local\\Temp/ipykernel_23784/3117343331.py:115: FutureWarning: Dropping of nuisance columns in DataFrame reductions (with 'numeric_only=None') is deprecated; in a future version this will raise TypeError.  Select only valid columns before calling the reduction.\n",
      "  Win_mean_per_Value=df_Dividend_PreOneDate[df_Dividend_PreOneDate[\"PL%\"]>0].mean()\n",
      "C:\\Users\\markchao\\AppData\\Local\\Temp/ipykernel_23784/3117343331.py:119: FutureWarning: Dropping of nuisance columns in DataFrame reductions (with 'numeric_only=None') is deprecated; in a future version this will raise TypeError.  Select only valid columns before calling the reduction.\n",
      "  Loss_mean_per_Value=df_Dividend_PreOneDate[df_Dividend_PreOneDate[\"PL%\"]<0].mean()\n"
     ]
    },
    {
     "name": "stdout",
     "output_type": "stream",
     "text": [
      "6605.TW\n"
     ]
    },
    {
     "name": "stderr",
     "output_type": "stream",
     "text": [
      "C:\\Users\\markchao\\AppData\\Local\\Temp/ipykernel_23784/3117343331.py:74: SettingWithCopyWarning: \n",
      "A value is trying to be set on a copy of a slice from a DataFrame.\n",
      "Try using .loc[row_indexer,col_indexer] = value instead\n",
      "\n",
      "See the caveats in the documentation: https://pandas.pydata.org/pandas-docs/stable/user_guide/indexing.html#returning-a-view-versus-a-copy\n",
      "  df_Dividend_PreNDate[\"Dividend_Pre\"+str(N)+\"Date\"]=df_Dividend_PreNDate.index\n",
      "C:\\Users\\markchao\\AppData\\Local\\Temp/ipykernel_23784/3117343331.py:115: FutureWarning: Dropping of nuisance columns in DataFrame reductions (with 'numeric_only=None') is deprecated; in a future version this will raise TypeError.  Select only valid columns before calling the reduction.\n",
      "  Win_mean_per_Value=df_Dividend_PreOneDate[df_Dividend_PreOneDate[\"PL%\"]>0].mean()\n",
      "C:\\Users\\markchao\\AppData\\Local\\Temp/ipykernel_23784/3117343331.py:119: FutureWarning: Dropping of nuisance columns in DataFrame reductions (with 'numeric_only=None') is deprecated; in a future version this will raise TypeError.  Select only valid columns before calling the reduction.\n",
      "  Loss_mean_per_Value=df_Dividend_PreOneDate[df_Dividend_PreOneDate[\"PL%\"]<0].mean()\n"
     ]
    },
    {
     "name": "stdout",
     "output_type": "stream",
     "text": [
      "3008.TW\n"
     ]
    },
    {
     "name": "stderr",
     "output_type": "stream",
     "text": [
      "C:\\Users\\markchao\\AppData\\Local\\Temp/ipykernel_23784/3117343331.py:74: SettingWithCopyWarning: \n",
      "A value is trying to be set on a copy of a slice from a DataFrame.\n",
      "Try using .loc[row_indexer,col_indexer] = value instead\n",
      "\n",
      "See the caveats in the documentation: https://pandas.pydata.org/pandas-docs/stable/user_guide/indexing.html#returning-a-view-versus-a-copy\n",
      "  df_Dividend_PreNDate[\"Dividend_Pre\"+str(N)+\"Date\"]=df_Dividend_PreNDate.index\n",
      "C:\\Users\\markchao\\AppData\\Local\\Temp/ipykernel_23784/3117343331.py:115: FutureWarning: Dropping of nuisance columns in DataFrame reductions (with 'numeric_only=None') is deprecated; in a future version this will raise TypeError.  Select only valid columns before calling the reduction.\n",
      "  Win_mean_per_Value=df_Dividend_PreOneDate[df_Dividend_PreOneDate[\"PL%\"]>0].mean()\n",
      "C:\\Users\\markchao\\AppData\\Local\\Temp/ipykernel_23784/3117343331.py:119: FutureWarning: Dropping of nuisance columns in DataFrame reductions (with 'numeric_only=None') is deprecated; in a future version this will raise TypeError.  Select only valid columns before calling the reduction.\n",
      "  Loss_mean_per_Value=df_Dividend_PreOneDate[df_Dividend_PreOneDate[\"PL%\"]<0].mean()\n"
     ]
    },
    {
     "name": "stdout",
     "output_type": "stream",
     "text": [
      "6274.TWO\n"
     ]
    },
    {
     "name": "stderr",
     "output_type": "stream",
     "text": [
      "C:\\Users\\markchao\\AppData\\Local\\Temp/ipykernel_23784/3117343331.py:74: SettingWithCopyWarning: \n",
      "A value is trying to be set on a copy of a slice from a DataFrame.\n",
      "Try using .loc[row_indexer,col_indexer] = value instead\n",
      "\n",
      "See the caveats in the documentation: https://pandas.pydata.org/pandas-docs/stable/user_guide/indexing.html#returning-a-view-versus-a-copy\n",
      "  df_Dividend_PreNDate[\"Dividend_Pre\"+str(N)+\"Date\"]=df_Dividend_PreNDate.index\n",
      "C:\\Users\\markchao\\AppData\\Local\\Temp/ipykernel_23784/3117343331.py:115: FutureWarning: Dropping of nuisance columns in DataFrame reductions (with 'numeric_only=None') is deprecated; in a future version this will raise TypeError.  Select only valid columns before calling the reduction.\n",
      "  Win_mean_per_Value=df_Dividend_PreOneDate[df_Dividend_PreOneDate[\"PL%\"]>0].mean()\n",
      "C:\\Users\\markchao\\AppData\\Local\\Temp/ipykernel_23784/3117343331.py:119: FutureWarning: Dropping of nuisance columns in DataFrame reductions (with 'numeric_only=None') is deprecated; in a future version this will raise TypeError.  Select only valid columns before calling the reduction.\n",
      "  Loss_mean_per_Value=df_Dividend_PreOneDate[df_Dividend_PreOneDate[\"PL%\"]<0].mean()\n"
     ]
    },
    {
     "name": "stdout",
     "output_type": "stream",
     "text": [
      "6285.TW\n"
     ]
    },
    {
     "name": "stderr",
     "output_type": "stream",
     "text": [
      "C:\\Users\\markchao\\AppData\\Local\\Temp/ipykernel_23784/3117343331.py:74: SettingWithCopyWarning: \n",
      "A value is trying to be set on a copy of a slice from a DataFrame.\n",
      "Try using .loc[row_indexer,col_indexer] = value instead\n",
      "\n",
      "See the caveats in the documentation: https://pandas.pydata.org/pandas-docs/stable/user_guide/indexing.html#returning-a-view-versus-a-copy\n",
      "  df_Dividend_PreNDate[\"Dividend_Pre\"+str(N)+\"Date\"]=df_Dividend_PreNDate.index\n",
      "C:\\Users\\markchao\\AppData\\Local\\Temp/ipykernel_23784/3117343331.py:115: FutureWarning: Dropping of nuisance columns in DataFrame reductions (with 'numeric_only=None') is deprecated; in a future version this will raise TypeError.  Select only valid columns before calling the reduction.\n",
      "  Win_mean_per_Value=df_Dividend_PreOneDate[df_Dividend_PreOneDate[\"PL%\"]>0].mean()\n",
      "C:\\Users\\markchao\\AppData\\Local\\Temp/ipykernel_23784/3117343331.py:119: FutureWarning: Dropping of nuisance columns in DataFrame reductions (with 'numeric_only=None') is deprecated; in a future version this will raise TypeError.  Select only valid columns before calling the reduction.\n",
      "  Loss_mean_per_Value=df_Dividend_PreOneDate[df_Dividend_PreOneDate[\"PL%\"]<0].mean()\n"
     ]
    },
    {
     "name": "stdout",
     "output_type": "stream",
     "text": [
      "3443.TW\n"
     ]
    },
    {
     "name": "stderr",
     "output_type": "stream",
     "text": [
      "C:\\Users\\markchao\\AppData\\Local\\Temp/ipykernel_23784/3117343331.py:74: SettingWithCopyWarning: \n",
      "A value is trying to be set on a copy of a slice from a DataFrame.\n",
      "Try using .loc[row_indexer,col_indexer] = value instead\n",
      "\n",
      "See the caveats in the documentation: https://pandas.pydata.org/pandas-docs/stable/user_guide/indexing.html#returning-a-view-versus-a-copy\n",
      "  df_Dividend_PreNDate[\"Dividend_Pre\"+str(N)+\"Date\"]=df_Dividend_PreNDate.index\n",
      "C:\\Users\\markchao\\AppData\\Local\\Temp/ipykernel_23784/3117343331.py:115: FutureWarning: Dropping of nuisance columns in DataFrame reductions (with 'numeric_only=None') is deprecated; in a future version this will raise TypeError.  Select only valid columns before calling the reduction.\n",
      "  Win_mean_per_Value=df_Dividend_PreOneDate[df_Dividend_PreOneDate[\"PL%\"]>0].mean()\n",
      "C:\\Users\\markchao\\AppData\\Local\\Temp/ipykernel_23784/3117343331.py:119: FutureWarning: Dropping of nuisance columns in DataFrame reductions (with 'numeric_only=None') is deprecated; in a future version this will raise TypeError.  Select only valid columns before calling the reduction.\n",
      "  Loss_mean_per_Value=df_Dividend_PreOneDate[df_Dividend_PreOneDate[\"PL%\"]<0].mean()\n"
     ]
    },
    {
     "name": "stdout",
     "output_type": "stream",
     "text": [
      "5388.TW\n"
     ]
    },
    {
     "name": "stderr",
     "output_type": "stream",
     "text": [
      "C:\\Users\\markchao\\AppData\\Local\\Temp/ipykernel_23784/3117343331.py:74: SettingWithCopyWarning: \n",
      "A value is trying to be set on a copy of a slice from a DataFrame.\n",
      "Try using .loc[row_indexer,col_indexer] = value instead\n",
      "\n",
      "See the caveats in the documentation: https://pandas.pydata.org/pandas-docs/stable/user_guide/indexing.html#returning-a-view-versus-a-copy\n",
      "  df_Dividend_PreNDate[\"Dividend_Pre\"+str(N)+\"Date\"]=df_Dividend_PreNDate.index\n",
      "C:\\Users\\markchao\\AppData\\Local\\Temp/ipykernel_23784/3117343331.py:115: FutureWarning: Dropping of nuisance columns in DataFrame reductions (with 'numeric_only=None') is deprecated; in a future version this will raise TypeError.  Select only valid columns before calling the reduction.\n",
      "  Win_mean_per_Value=df_Dividend_PreOneDate[df_Dividend_PreOneDate[\"PL%\"]>0].mean()\n",
      "C:\\Users\\markchao\\AppData\\Local\\Temp/ipykernel_23784/3117343331.py:119: FutureWarning: Dropping of nuisance columns in DataFrame reductions (with 'numeric_only=None') is deprecated; in a future version this will raise TypeError.  Select only valid columns before calling the reduction.\n",
      "  Loss_mean_per_Value=df_Dividend_PreOneDate[df_Dividend_PreOneDate[\"PL%\"]<0].mean()\n"
     ]
    },
    {
     "name": "stdout",
     "output_type": "stream",
     "text": [
      "2059.TW\n"
     ]
    },
    {
     "name": "stderr",
     "output_type": "stream",
     "text": [
      "C:\\Users\\markchao\\AppData\\Local\\Temp/ipykernel_23784/3117343331.py:74: SettingWithCopyWarning: \n",
      "A value is trying to be set on a copy of a slice from a DataFrame.\n",
      "Try using .loc[row_indexer,col_indexer] = value instead\n",
      "\n",
      "See the caveats in the documentation: https://pandas.pydata.org/pandas-docs/stable/user_guide/indexing.html#returning-a-view-versus-a-copy\n",
      "  df_Dividend_PreNDate[\"Dividend_Pre\"+str(N)+\"Date\"]=df_Dividend_PreNDate.index\n",
      "C:\\Users\\markchao\\AppData\\Local\\Temp/ipykernel_23784/3117343331.py:115: FutureWarning: Dropping of nuisance columns in DataFrame reductions (with 'numeric_only=None') is deprecated; in a future version this will raise TypeError.  Select only valid columns before calling the reduction.\n",
      "  Win_mean_per_Value=df_Dividend_PreOneDate[df_Dividend_PreOneDate[\"PL%\"]>0].mean()\n",
      "C:\\Users\\markchao\\AppData\\Local\\Temp/ipykernel_23784/3117343331.py:119: FutureWarning: Dropping of nuisance columns in DataFrame reductions (with 'numeric_only=None') is deprecated; in a future version this will raise TypeError.  Select only valid columns before calling the reduction.\n",
      "  Loss_mean_per_Value=df_Dividend_PreOneDate[df_Dividend_PreOneDate[\"PL%\"]<0].mean()\n"
     ]
    },
    {
     "name": "stdout",
     "output_type": "stream",
     "text": [
      "1504.TW\n"
     ]
    },
    {
     "name": "stderr",
     "output_type": "stream",
     "text": [
      "C:\\Users\\markchao\\AppData\\Local\\Temp/ipykernel_23784/3117343331.py:74: SettingWithCopyWarning: \n",
      "A value is trying to be set on a copy of a slice from a DataFrame.\n",
      "Try using .loc[row_indexer,col_indexer] = value instead\n",
      "\n",
      "See the caveats in the documentation: https://pandas.pydata.org/pandas-docs/stable/user_guide/indexing.html#returning-a-view-versus-a-copy\n",
      "  df_Dividend_PreNDate[\"Dividend_Pre\"+str(N)+\"Date\"]=df_Dividend_PreNDate.index\n",
      "C:\\Users\\markchao\\AppData\\Local\\Temp/ipykernel_23784/3117343331.py:115: FutureWarning: Dropping of nuisance columns in DataFrame reductions (with 'numeric_only=None') is deprecated; in a future version this will raise TypeError.  Select only valid columns before calling the reduction.\n",
      "  Win_mean_per_Value=df_Dividend_PreOneDate[df_Dividend_PreOneDate[\"PL%\"]>0].mean()\n",
      "C:\\Users\\markchao\\AppData\\Local\\Temp/ipykernel_23784/3117343331.py:119: FutureWarning: Dropping of nuisance columns in DataFrame reductions (with 'numeric_only=None') is deprecated; in a future version this will raise TypeError.  Select only valid columns before calling the reduction.\n",
      "  Loss_mean_per_Value=df_Dividend_PreOneDate[df_Dividend_PreOneDate[\"PL%\"]<0].mean()\n"
     ]
    },
    {
     "name": "stdout",
     "output_type": "stream",
     "text": [
      "3711.TW\n"
     ]
    },
    {
     "name": "stderr",
     "output_type": "stream",
     "text": [
      "C:\\Users\\markchao\\AppData\\Local\\Temp/ipykernel_23784/3117343331.py:74: SettingWithCopyWarning: \n",
      "A value is trying to be set on a copy of a slice from a DataFrame.\n",
      "Try using .loc[row_indexer,col_indexer] = value instead\n",
      "\n",
      "See the caveats in the documentation: https://pandas.pydata.org/pandas-docs/stable/user_guide/indexing.html#returning-a-view-versus-a-copy\n",
      "  df_Dividend_PreNDate[\"Dividend_Pre\"+str(N)+\"Date\"]=df_Dividend_PreNDate.index\n",
      "C:\\Users\\markchao\\AppData\\Local\\Temp/ipykernel_23784/3117343331.py:115: FutureWarning: Dropping of nuisance columns in DataFrame reductions (with 'numeric_only=None') is deprecated; in a future version this will raise TypeError.  Select only valid columns before calling the reduction.\n",
      "  Win_mean_per_Value=df_Dividend_PreOneDate[df_Dividend_PreOneDate[\"PL%\"]>0].mean()\n",
      "C:\\Users\\markchao\\AppData\\Local\\Temp/ipykernel_23784/3117343331.py:119: FutureWarning: Dropping of nuisance columns in DataFrame reductions (with 'numeric_only=None') is deprecated; in a future version this will raise TypeError.  Select only valid columns before calling the reduction.\n",
      "  Loss_mean_per_Value=df_Dividend_PreOneDate[df_Dividend_PreOneDate[\"PL%\"]<0].mean()\n"
     ]
    },
    {
     "name": "stdout",
     "output_type": "stream",
     "text": [
      "3653.TW\n"
     ]
    },
    {
     "name": "stderr",
     "output_type": "stream",
     "text": [
      "C:\\Users\\markchao\\AppData\\Local\\Temp/ipykernel_23784/3117343331.py:74: SettingWithCopyWarning: \n",
      "A value is trying to be set on a copy of a slice from a DataFrame.\n",
      "Try using .loc[row_indexer,col_indexer] = value instead\n",
      "\n",
      "See the caveats in the documentation: https://pandas.pydata.org/pandas-docs/stable/user_guide/indexing.html#returning-a-view-versus-a-copy\n",
      "  df_Dividend_PreNDate[\"Dividend_Pre\"+str(N)+\"Date\"]=df_Dividend_PreNDate.index\n",
      "C:\\Users\\markchao\\AppData\\Local\\Temp/ipykernel_23784/3117343331.py:115: FutureWarning: Dropping of nuisance columns in DataFrame reductions (with 'numeric_only=None') is deprecated; in a future version this will raise TypeError.  Select only valid columns before calling the reduction.\n",
      "  Win_mean_per_Value=df_Dividend_PreOneDate[df_Dividend_PreOneDate[\"PL%\"]>0].mean()\n",
      "C:\\Users\\markchao\\AppData\\Local\\Temp/ipykernel_23784/3117343331.py:119: FutureWarning: Dropping of nuisance columns in DataFrame reductions (with 'numeric_only=None') is deprecated; in a future version this will raise TypeError.  Select only valid columns before calling the reduction.\n",
      "  Loss_mean_per_Value=df_Dividend_PreOneDate[df_Dividend_PreOneDate[\"PL%\"]<0].mean()\n"
     ]
    },
    {
     "name": "stdout",
     "output_type": "stream",
     "text": [
      "8054.TWO\n"
     ]
    },
    {
     "name": "stderr",
     "output_type": "stream",
     "text": [
      "C:\\Users\\markchao\\AppData\\Local\\Temp/ipykernel_23784/3117343331.py:74: SettingWithCopyWarning: \n",
      "A value is trying to be set on a copy of a slice from a DataFrame.\n",
      "Try using .loc[row_indexer,col_indexer] = value instead\n",
      "\n",
      "See the caveats in the documentation: https://pandas.pydata.org/pandas-docs/stable/user_guide/indexing.html#returning-a-view-versus-a-copy\n",
      "  df_Dividend_PreNDate[\"Dividend_Pre\"+str(N)+\"Date\"]=df_Dividend_PreNDate.index\n",
      "C:\\Users\\markchao\\AppData\\Local\\Temp/ipykernel_23784/3117343331.py:115: FutureWarning: Dropping of nuisance columns in DataFrame reductions (with 'numeric_only=None') is deprecated; in a future version this will raise TypeError.  Select only valid columns before calling the reduction.\n",
      "  Win_mean_per_Value=df_Dividend_PreOneDate[df_Dividend_PreOneDate[\"PL%\"]>0].mean()\n",
      "C:\\Users\\markchao\\AppData\\Local\\Temp/ipykernel_23784/3117343331.py:119: FutureWarning: Dropping of nuisance columns in DataFrame reductions (with 'numeric_only=None') is deprecated; in a future version this will raise TypeError.  Select only valid columns before calling the reduction.\n",
      "  Loss_mean_per_Value=df_Dividend_PreOneDate[df_Dividend_PreOneDate[\"PL%\"]<0].mean()\n"
     ]
    },
    {
     "name": "stdout",
     "output_type": "stream",
     "text": [
      "3264.TWO\n"
     ]
    },
    {
     "name": "stderr",
     "output_type": "stream",
     "text": [
      "C:\\Users\\markchao\\AppData\\Local\\Temp/ipykernel_23784/3117343331.py:74: SettingWithCopyWarning: \n",
      "A value is trying to be set on a copy of a slice from a DataFrame.\n",
      "Try using .loc[row_indexer,col_indexer] = value instead\n",
      "\n",
      "See the caveats in the documentation: https://pandas.pydata.org/pandas-docs/stable/user_guide/indexing.html#returning-a-view-versus-a-copy\n",
      "  df_Dividend_PreNDate[\"Dividend_Pre\"+str(N)+\"Date\"]=df_Dividend_PreNDate.index\n",
      "C:\\Users\\markchao\\AppData\\Local\\Temp/ipykernel_23784/3117343331.py:115: FutureWarning: Dropping of nuisance columns in DataFrame reductions (with 'numeric_only=None') is deprecated; in a future version this will raise TypeError.  Select only valid columns before calling the reduction.\n",
      "  Win_mean_per_Value=df_Dividend_PreOneDate[df_Dividend_PreOneDate[\"PL%\"]>0].mean()\n",
      "C:\\Users\\markchao\\AppData\\Local\\Temp/ipykernel_23784/3117343331.py:119: FutureWarning: Dropping of nuisance columns in DataFrame reductions (with 'numeric_only=None') is deprecated; in a future version this will raise TypeError.  Select only valid columns before calling the reduction.\n",
      "  Loss_mean_per_Value=df_Dividend_PreOneDate[df_Dividend_PreOneDate[\"PL%\"]<0].mean()\n"
     ]
    },
    {
     "name": "stdout",
     "output_type": "stream",
     "text": [
      "6488.TWO\n"
     ]
    },
    {
     "name": "stderr",
     "output_type": "stream",
     "text": [
      "C:\\Users\\markchao\\AppData\\Local\\Temp/ipykernel_23784/3117343331.py:74: SettingWithCopyWarning: \n",
      "A value is trying to be set on a copy of a slice from a DataFrame.\n",
      "Try using .loc[row_indexer,col_indexer] = value instead\n",
      "\n",
      "See the caveats in the documentation: https://pandas.pydata.org/pandas-docs/stable/user_guide/indexing.html#returning-a-view-versus-a-copy\n",
      "  df_Dividend_PreNDate[\"Dividend_Pre\"+str(N)+\"Date\"]=df_Dividend_PreNDate.index\n",
      "C:\\Users\\markchao\\AppData\\Local\\Temp/ipykernel_23784/3117343331.py:115: FutureWarning: Dropping of nuisance columns in DataFrame reductions (with 'numeric_only=None') is deprecated; in a future version this will raise TypeError.  Select only valid columns before calling the reduction.\n",
      "  Win_mean_per_Value=df_Dividend_PreOneDate[df_Dividend_PreOneDate[\"PL%\"]>0].mean()\n",
      "C:\\Users\\markchao\\AppData\\Local\\Temp/ipykernel_23784/3117343331.py:119: FutureWarning: Dropping of nuisance columns in DataFrame reductions (with 'numeric_only=None') is deprecated; in a future version this will raise TypeError.  Select only valid columns before calling the reduction.\n",
      "  Loss_mean_per_Value=df_Dividend_PreOneDate[df_Dividend_PreOneDate[\"PL%\"]<0].mean()\n"
     ]
    },
    {
     "name": "stdout",
     "output_type": "stream",
     "text": [
      "1319.TW\n"
     ]
    },
    {
     "name": "stderr",
     "output_type": "stream",
     "text": [
      "C:\\Users\\markchao\\AppData\\Local\\Temp/ipykernel_23784/3117343331.py:74: SettingWithCopyWarning: \n",
      "A value is trying to be set on a copy of a slice from a DataFrame.\n",
      "Try using .loc[row_indexer,col_indexer] = value instead\n",
      "\n",
      "See the caveats in the documentation: https://pandas.pydata.org/pandas-docs/stable/user_guide/indexing.html#returning-a-view-versus-a-copy\n",
      "  df_Dividend_PreNDate[\"Dividend_Pre\"+str(N)+\"Date\"]=df_Dividend_PreNDate.index\n",
      "C:\\Users\\markchao\\AppData\\Local\\Temp/ipykernel_23784/3117343331.py:115: FutureWarning: Dropping of nuisance columns in DataFrame reductions (with 'numeric_only=None') is deprecated; in a future version this will raise TypeError.  Select only valid columns before calling the reduction.\n",
      "  Win_mean_per_Value=df_Dividend_PreOneDate[df_Dividend_PreOneDate[\"PL%\"]>0].mean()\n",
      "C:\\Users\\markchao\\AppData\\Local\\Temp/ipykernel_23784/3117343331.py:119: FutureWarning: Dropping of nuisance columns in DataFrame reductions (with 'numeric_only=None') is deprecated; in a future version this will raise TypeError.  Select only valid columns before calling the reduction.\n",
      "  Loss_mean_per_Value=df_Dividend_PreOneDate[df_Dividend_PreOneDate[\"PL%\"]<0].mean()\n"
     ]
    },
    {
     "name": "stdout",
     "output_type": "stream",
     "text": [
      "1785.TWO\n"
     ]
    },
    {
     "name": "stderr",
     "output_type": "stream",
     "text": [
      "C:\\Users\\markchao\\AppData\\Local\\Temp/ipykernel_23784/3117343331.py:74: SettingWithCopyWarning: \n",
      "A value is trying to be set on a copy of a slice from a DataFrame.\n",
      "Try using .loc[row_indexer,col_indexer] = value instead\n",
      "\n",
      "See the caveats in the documentation: https://pandas.pydata.org/pandas-docs/stable/user_guide/indexing.html#returning-a-view-versus-a-copy\n",
      "  df_Dividend_PreNDate[\"Dividend_Pre\"+str(N)+\"Date\"]=df_Dividend_PreNDate.index\n",
      "C:\\Users\\markchao\\AppData\\Local\\Temp/ipykernel_23784/3117343331.py:115: FutureWarning: Dropping of nuisance columns in DataFrame reductions (with 'numeric_only=None') is deprecated; in a future version this will raise TypeError.  Select only valid columns before calling the reduction.\n",
      "  Win_mean_per_Value=df_Dividend_PreOneDate[df_Dividend_PreOneDate[\"PL%\"]>0].mean()\n",
      "C:\\Users\\markchao\\AppData\\Local\\Temp/ipykernel_23784/3117343331.py:119: FutureWarning: Dropping of nuisance columns in DataFrame reductions (with 'numeric_only=None') is deprecated; in a future version this will raise TypeError.  Select only valid columns before calling the reduction.\n",
      "  Loss_mean_per_Value=df_Dividend_PreOneDate[df_Dividend_PreOneDate[\"PL%\"]<0].mean()\n"
     ]
    },
    {
     "name": "stdout",
     "output_type": "stream",
     "text": [
      "3533.TW\n"
     ]
    },
    {
     "name": "stderr",
     "output_type": "stream",
     "text": [
      "C:\\Users\\markchao\\AppData\\Local\\Temp/ipykernel_23784/3117343331.py:74: SettingWithCopyWarning: \n",
      "A value is trying to be set on a copy of a slice from a DataFrame.\n",
      "Try using .loc[row_indexer,col_indexer] = value instead\n",
      "\n",
      "See the caveats in the documentation: https://pandas.pydata.org/pandas-docs/stable/user_guide/indexing.html#returning-a-view-versus-a-copy\n",
      "  df_Dividend_PreNDate[\"Dividend_Pre\"+str(N)+\"Date\"]=df_Dividend_PreNDate.index\n",
      "C:\\Users\\markchao\\AppData\\Local\\Temp/ipykernel_23784/3117343331.py:115: FutureWarning: Dropping of nuisance columns in DataFrame reductions (with 'numeric_only=None') is deprecated; in a future version this will raise TypeError.  Select only valid columns before calling the reduction.\n",
      "  Win_mean_per_Value=df_Dividend_PreOneDate[df_Dividend_PreOneDate[\"PL%\"]>0].mean()\n",
      "C:\\Users\\markchao\\AppData\\Local\\Temp/ipykernel_23784/3117343331.py:119: FutureWarning: Dropping of nuisance columns in DataFrame reductions (with 'numeric_only=None') is deprecated; in a future version this will raise TypeError.  Select only valid columns before calling the reduction.\n",
      "  Loss_mean_per_Value=df_Dividend_PreOneDate[df_Dividend_PreOneDate[\"PL%\"]<0].mean()\n"
     ]
    },
    {
     "name": "stdout",
     "output_type": "stream",
     "text": [
      "3035.TW\n"
     ]
    },
    {
     "name": "stderr",
     "output_type": "stream",
     "text": [
      "C:\\Users\\markchao\\AppData\\Local\\Temp/ipykernel_23784/3117343331.py:74: SettingWithCopyWarning: \n",
      "A value is trying to be set on a copy of a slice from a DataFrame.\n",
      "Try using .loc[row_indexer,col_indexer] = value instead\n",
      "\n",
      "See the caveats in the documentation: https://pandas.pydata.org/pandas-docs/stable/user_guide/indexing.html#returning-a-view-versus-a-copy\n",
      "  df_Dividend_PreNDate[\"Dividend_Pre\"+str(N)+\"Date\"]=df_Dividend_PreNDate.index\n",
      "C:\\Users\\markchao\\AppData\\Local\\Temp/ipykernel_23784/3117343331.py:115: FutureWarning: Dropping of nuisance columns in DataFrame reductions (with 'numeric_only=None') is deprecated; in a future version this will raise TypeError.  Select only valid columns before calling the reduction.\n",
      "  Win_mean_per_Value=df_Dividend_PreOneDate[df_Dividend_PreOneDate[\"PL%\"]>0].mean()\n",
      "C:\\Users\\markchao\\AppData\\Local\\Temp/ipykernel_23784/3117343331.py:119: FutureWarning: Dropping of nuisance columns in DataFrame reductions (with 'numeric_only=None') is deprecated; in a future version this will raise TypeError.  Select only valid columns before calling the reduction.\n",
      "  Loss_mean_per_Value=df_Dividend_PreOneDate[df_Dividend_PreOneDate[\"PL%\"]<0].mean()\n"
     ]
    },
    {
     "name": "stdout",
     "output_type": "stream",
     "text": [
      "3583.TW\n"
     ]
    },
    {
     "name": "stderr",
     "output_type": "stream",
     "text": [
      "C:\\Users\\markchao\\AppData\\Local\\Temp/ipykernel_23784/3117343331.py:74: SettingWithCopyWarning: \n",
      "A value is trying to be set on a copy of a slice from a DataFrame.\n",
      "Try using .loc[row_indexer,col_indexer] = value instead\n",
      "\n",
      "See the caveats in the documentation: https://pandas.pydata.org/pandas-docs/stable/user_guide/indexing.html#returning-a-view-versus-a-copy\n",
      "  df_Dividend_PreNDate[\"Dividend_Pre\"+str(N)+\"Date\"]=df_Dividend_PreNDate.index\n",
      "C:\\Users\\markchao\\AppData\\Local\\Temp/ipykernel_23784/3117343331.py:115: FutureWarning: Dropping of nuisance columns in DataFrame reductions (with 'numeric_only=None') is deprecated; in a future version this will raise TypeError.  Select only valid columns before calling the reduction.\n",
      "  Win_mean_per_Value=df_Dividend_PreOneDate[df_Dividend_PreOneDate[\"PL%\"]>0].mean()\n",
      "C:\\Users\\markchao\\AppData\\Local\\Temp/ipykernel_23784/3117343331.py:119: FutureWarning: Dropping of nuisance columns in DataFrame reductions (with 'numeric_only=None') is deprecated; in a future version this will raise TypeError.  Select only valid columns before calling the reduction.\n",
      "  Loss_mean_per_Value=df_Dividend_PreOneDate[df_Dividend_PreOneDate[\"PL%\"]<0].mean()\n"
     ]
    },
    {
     "name": "stdout",
     "output_type": "stream",
     "text": [
      "4763.TW\n"
     ]
    },
    {
     "name": "stderr",
     "output_type": "stream",
     "text": [
      "C:\\Users\\markchao\\AppData\\Local\\Temp/ipykernel_23784/3117343331.py:74: SettingWithCopyWarning: \n",
      "A value is trying to be set on a copy of a slice from a DataFrame.\n",
      "Try using .loc[row_indexer,col_indexer] = value instead\n",
      "\n",
      "See the caveats in the documentation: https://pandas.pydata.org/pandas-docs/stable/user_guide/indexing.html#returning-a-view-versus-a-copy\n",
      "  df_Dividend_PreNDate[\"Dividend_Pre\"+str(N)+\"Date\"]=df_Dividend_PreNDate.index\n",
      "C:\\Users\\markchao\\AppData\\Local\\Temp/ipykernel_23784/3117343331.py:115: FutureWarning: Dropping of nuisance columns in DataFrame reductions (with 'numeric_only=None') is deprecated; in a future version this will raise TypeError.  Select only valid columns before calling the reduction.\n",
      "  Win_mean_per_Value=df_Dividend_PreOneDate[df_Dividend_PreOneDate[\"PL%\"]>0].mean()\n",
      "C:\\Users\\markchao\\AppData\\Local\\Temp/ipykernel_23784/3117343331.py:119: FutureWarning: Dropping of nuisance columns in DataFrame reductions (with 'numeric_only=None') is deprecated; in a future version this will raise TypeError.  Select only valid columns before calling the reduction.\n",
      "  Loss_mean_per_Value=df_Dividend_PreOneDate[df_Dividend_PreOneDate[\"PL%\"]<0].mean()\n"
     ]
    },
    {
     "name": "stdout",
     "output_type": "stream",
     "text": [
      "3131.TWO\n"
     ]
    },
    {
     "name": "stderr",
     "output_type": "stream",
     "text": [
      "C:\\Users\\markchao\\AppData\\Local\\Temp/ipykernel_23784/3117343331.py:74: SettingWithCopyWarning: \n",
      "A value is trying to be set on a copy of a slice from a DataFrame.\n",
      "Try using .loc[row_indexer,col_indexer] = value instead\n",
      "\n",
      "See the caveats in the documentation: https://pandas.pydata.org/pandas-docs/stable/user_guide/indexing.html#returning-a-view-versus-a-copy\n",
      "  df_Dividend_PreNDate[\"Dividend_Pre\"+str(N)+\"Date\"]=df_Dividend_PreNDate.index\n",
      "C:\\Users\\markchao\\AppData\\Local\\Temp/ipykernel_23784/3117343331.py:115: FutureWarning: Dropping of nuisance columns in DataFrame reductions (with 'numeric_only=None') is deprecated; in a future version this will raise TypeError.  Select only valid columns before calling the reduction.\n",
      "  Win_mean_per_Value=df_Dividend_PreOneDate[df_Dividend_PreOneDate[\"PL%\"]>0].mean()\n",
      "C:\\Users\\markchao\\AppData\\Local\\Temp/ipykernel_23784/3117343331.py:119: FutureWarning: Dropping of nuisance columns in DataFrame reductions (with 'numeric_only=None') is deprecated; in a future version this will raise TypeError.  Select only valid columns before calling the reduction.\n",
      "  Loss_mean_per_Value=df_Dividend_PreOneDate[df_Dividend_PreOneDate[\"PL%\"]<0].mean()\n"
     ]
    },
    {
     "name": "stdout",
     "output_type": "stream",
     "text": [
      "2357.TW\n"
     ]
    },
    {
     "name": "stderr",
     "output_type": "stream",
     "text": [
      "C:\\Users\\markchao\\AppData\\Local\\Temp/ipykernel_23784/3117343331.py:74: SettingWithCopyWarning: \n",
      "A value is trying to be set on a copy of a slice from a DataFrame.\n",
      "Try using .loc[row_indexer,col_indexer] = value instead\n",
      "\n",
      "See the caveats in the documentation: https://pandas.pydata.org/pandas-docs/stable/user_guide/indexing.html#returning-a-view-versus-a-copy\n",
      "  df_Dividend_PreNDate[\"Dividend_Pre\"+str(N)+\"Date\"]=df_Dividend_PreNDate.index\n",
      "C:\\Users\\markchao\\AppData\\Local\\Temp/ipykernel_23784/3117343331.py:115: FutureWarning: Dropping of nuisance columns in DataFrame reductions (with 'numeric_only=None') is deprecated; in a future version this will raise TypeError.  Select only valid columns before calling the reduction.\n",
      "  Win_mean_per_Value=df_Dividend_PreOneDate[df_Dividend_PreOneDate[\"PL%\"]>0].mean()\n",
      "C:\\Users\\markchao\\AppData\\Local\\Temp/ipykernel_23784/3117343331.py:119: FutureWarning: Dropping of nuisance columns in DataFrame reductions (with 'numeric_only=None') is deprecated; in a future version this will raise TypeError.  Select only valid columns before calling the reduction.\n",
      "  Loss_mean_per_Value=df_Dividend_PreOneDate[df_Dividend_PreOneDate[\"PL%\"]<0].mean()\n"
     ]
    },
    {
     "name": "stdout",
     "output_type": "stream",
     "text": [
      "8210.TW\n"
     ]
    },
    {
     "name": "stderr",
     "output_type": "stream",
     "text": [
      "C:\\Users\\markchao\\AppData\\Local\\Temp/ipykernel_23784/3117343331.py:74: SettingWithCopyWarning: \n",
      "A value is trying to be set on a copy of a slice from a DataFrame.\n",
      "Try using .loc[row_indexer,col_indexer] = value instead\n",
      "\n",
      "See the caveats in the documentation: https://pandas.pydata.org/pandas-docs/stable/user_guide/indexing.html#returning-a-view-versus-a-copy\n",
      "  df_Dividend_PreNDate[\"Dividend_Pre\"+str(N)+\"Date\"]=df_Dividend_PreNDate.index\n",
      "C:\\Users\\markchao\\AppData\\Local\\Temp/ipykernel_23784/3117343331.py:115: FutureWarning: Dropping of nuisance columns in DataFrame reductions (with 'numeric_only=None') is deprecated; in a future version this will raise TypeError.  Select only valid columns before calling the reduction.\n",
      "  Win_mean_per_Value=df_Dividend_PreOneDate[df_Dividend_PreOneDate[\"PL%\"]>0].mean()\n",
      "C:\\Users\\markchao\\AppData\\Local\\Temp/ipykernel_23784/3117343331.py:119: FutureWarning: Dropping of nuisance columns in DataFrame reductions (with 'numeric_only=None') is deprecated; in a future version this will raise TypeError.  Select only valid columns before calling the reduction.\n",
      "  Loss_mean_per_Value=df_Dividend_PreOneDate[df_Dividend_PreOneDate[\"PL%\"]<0].mean()\n"
     ]
    },
    {
     "name": "stdout",
     "output_type": "stream",
     "text": [
      "3044.TW\n"
     ]
    },
    {
     "name": "stderr",
     "output_type": "stream",
     "text": [
      "C:\\Users\\markchao\\AppData\\Local\\Temp/ipykernel_23784/3117343331.py:74: SettingWithCopyWarning: \n",
      "A value is trying to be set on a copy of a slice from a DataFrame.\n",
      "Try using .loc[row_indexer,col_indexer] = value instead\n",
      "\n",
      "See the caveats in the documentation: https://pandas.pydata.org/pandas-docs/stable/user_guide/indexing.html#returning-a-view-versus-a-copy\n",
      "  df_Dividend_PreNDate[\"Dividend_Pre\"+str(N)+\"Date\"]=df_Dividend_PreNDate.index\n",
      "C:\\Users\\markchao\\AppData\\Local\\Temp/ipykernel_23784/3117343331.py:115: FutureWarning: Dropping of nuisance columns in DataFrame reductions (with 'numeric_only=None') is deprecated; in a future version this will raise TypeError.  Select only valid columns before calling the reduction.\n",
      "  Win_mean_per_Value=df_Dividend_PreOneDate[df_Dividend_PreOneDate[\"PL%\"]>0].mean()\n",
      "C:\\Users\\markchao\\AppData\\Local\\Temp/ipykernel_23784/3117343331.py:119: FutureWarning: Dropping of nuisance columns in DataFrame reductions (with 'numeric_only=None') is deprecated; in a future version this will raise TypeError.  Select only valid columns before calling the reduction.\n",
      "  Loss_mean_per_Value=df_Dividend_PreOneDate[df_Dividend_PreOneDate[\"PL%\"]<0].mean()\n"
     ]
    },
    {
     "name": "stdout",
     "output_type": "stream",
     "text": [
      "9921.TW\n"
     ]
    },
    {
     "name": "stderr",
     "output_type": "stream",
     "text": [
      "C:\\Users\\markchao\\AppData\\Local\\Temp/ipykernel_23784/3117343331.py:74: SettingWithCopyWarning: \n",
      "A value is trying to be set on a copy of a slice from a DataFrame.\n",
      "Try using .loc[row_indexer,col_indexer] = value instead\n",
      "\n",
      "See the caveats in the documentation: https://pandas.pydata.org/pandas-docs/stable/user_guide/indexing.html#returning-a-view-versus-a-copy\n",
      "  df_Dividend_PreNDate[\"Dividend_Pre\"+str(N)+\"Date\"]=df_Dividend_PreNDate.index\n",
      "C:\\Users\\markchao\\AppData\\Local\\Temp/ipykernel_23784/3117343331.py:115: FutureWarning: Dropping of nuisance columns in DataFrame reductions (with 'numeric_only=None') is deprecated; in a future version this will raise TypeError.  Select only valid columns before calling the reduction.\n",
      "  Win_mean_per_Value=df_Dividend_PreOneDate[df_Dividend_PreOneDate[\"PL%\"]>0].mean()\n",
      "C:\\Users\\markchao\\AppData\\Local\\Temp/ipykernel_23784/3117343331.py:119: FutureWarning: Dropping of nuisance columns in DataFrame reductions (with 'numeric_only=None') is deprecated; in a future version this will raise TypeError.  Select only valid columns before calling the reduction.\n",
      "  Loss_mean_per_Value=df_Dividend_PreOneDate[df_Dividend_PreOneDate[\"PL%\"]<0].mean()\n"
     ]
    },
    {
     "name": "stdout",
     "output_type": "stream",
     "text": [
      "2891.TW\n"
     ]
    },
    {
     "name": "stderr",
     "output_type": "stream",
     "text": [
      "C:\\Users\\markchao\\AppData\\Local\\Temp/ipykernel_23784/3117343331.py:74: SettingWithCopyWarning: \n",
      "A value is trying to be set on a copy of a slice from a DataFrame.\n",
      "Try using .loc[row_indexer,col_indexer] = value instead\n",
      "\n",
      "See the caveats in the documentation: https://pandas.pydata.org/pandas-docs/stable/user_guide/indexing.html#returning-a-view-versus-a-copy\n",
      "  df_Dividend_PreNDate[\"Dividend_Pre\"+str(N)+\"Date\"]=df_Dividend_PreNDate.index\n",
      "C:\\Users\\markchao\\AppData\\Local\\Temp/ipykernel_23784/3117343331.py:115: FutureWarning: Dropping of nuisance columns in DataFrame reductions (with 'numeric_only=None') is deprecated; in a future version this will raise TypeError.  Select only valid columns before calling the reduction.\n",
      "  Win_mean_per_Value=df_Dividend_PreOneDate[df_Dividend_PreOneDate[\"PL%\"]>0].mean()\n",
      "C:\\Users\\markchao\\AppData\\Local\\Temp/ipykernel_23784/3117343331.py:119: FutureWarning: Dropping of nuisance columns in DataFrame reductions (with 'numeric_only=None') is deprecated; in a future version this will raise TypeError.  Select only valid columns before calling the reduction.\n",
      "  Loss_mean_per_Value=df_Dividend_PreOneDate[df_Dividend_PreOneDate[\"PL%\"]<0].mean()\n"
     ]
    },
    {
     "name": "stdout",
     "output_type": "stream",
     "text": [
      "6257.TW\n"
     ]
    },
    {
     "name": "stderr",
     "output_type": "stream",
     "text": [
      "C:\\Users\\markchao\\AppData\\Local\\Temp/ipykernel_23784/3117343331.py:74: SettingWithCopyWarning: \n",
      "A value is trying to be set on a copy of a slice from a DataFrame.\n",
      "Try using .loc[row_indexer,col_indexer] = value instead\n",
      "\n",
      "See the caveats in the documentation: https://pandas.pydata.org/pandas-docs/stable/user_guide/indexing.html#returning-a-view-versus-a-copy\n",
      "  df_Dividend_PreNDate[\"Dividend_Pre\"+str(N)+\"Date\"]=df_Dividend_PreNDate.index\n",
      "C:\\Users\\markchao\\AppData\\Local\\Temp/ipykernel_23784/3117343331.py:115: FutureWarning: Dropping of nuisance columns in DataFrame reductions (with 'numeric_only=None') is deprecated; in a future version this will raise TypeError.  Select only valid columns before calling the reduction.\n",
      "  Win_mean_per_Value=df_Dividend_PreOneDate[df_Dividend_PreOneDate[\"PL%\"]>0].mean()\n",
      "C:\\Users\\markchao\\AppData\\Local\\Temp/ipykernel_23784/3117343331.py:119: FutureWarning: Dropping of nuisance columns in DataFrame reductions (with 'numeric_only=None') is deprecated; in a future version this will raise TypeError.  Select only valid columns before calling the reduction.\n",
      "  Loss_mean_per_Value=df_Dividend_PreOneDate[df_Dividend_PreOneDate[\"PL%\"]<0].mean()\n"
     ]
    },
    {
     "name": "stdout",
     "output_type": "stream",
     "text": [
      "2618.TW\n"
     ]
    },
    {
     "name": "stderr",
     "output_type": "stream",
     "text": [
      "C:\\Users\\markchao\\AppData\\Local\\Temp/ipykernel_23784/3117343331.py:74: SettingWithCopyWarning: \n",
      "A value is trying to be set on a copy of a slice from a DataFrame.\n",
      "Try using .loc[row_indexer,col_indexer] = value instead\n",
      "\n",
      "See the caveats in the documentation: https://pandas.pydata.org/pandas-docs/stable/user_guide/indexing.html#returning-a-view-versus-a-copy\n",
      "  df_Dividend_PreNDate[\"Dividend_Pre\"+str(N)+\"Date\"]=df_Dividend_PreNDate.index\n",
      "C:\\Users\\markchao\\AppData\\Local\\Temp/ipykernel_23784/3117343331.py:115: FutureWarning: Dropping of nuisance columns in DataFrame reductions (with 'numeric_only=None') is deprecated; in a future version this will raise TypeError.  Select only valid columns before calling the reduction.\n",
      "  Win_mean_per_Value=df_Dividend_PreOneDate[df_Dividend_PreOneDate[\"PL%\"]>0].mean()\n",
      "C:\\Users\\markchao\\AppData\\Local\\Temp/ipykernel_23784/3117343331.py:119: FutureWarning: Dropping of nuisance columns in DataFrame reductions (with 'numeric_only=None') is deprecated; in a future version this will raise TypeError.  Select only valid columns before calling the reduction.\n",
      "  Loss_mean_per_Value=df_Dividend_PreOneDate[df_Dividend_PreOneDate[\"PL%\"]<0].mean()\n"
     ]
    },
    {
     "name": "stdout",
     "output_type": "stream",
     "text": [
      "3042.TW\n"
     ]
    },
    {
     "name": "stderr",
     "output_type": "stream",
     "text": [
      "C:\\Users\\markchao\\AppData\\Local\\Temp/ipykernel_23784/3117343331.py:74: SettingWithCopyWarning: \n",
      "A value is trying to be set on a copy of a slice from a DataFrame.\n",
      "Try using .loc[row_indexer,col_indexer] = value instead\n",
      "\n",
      "See the caveats in the documentation: https://pandas.pydata.org/pandas-docs/stable/user_guide/indexing.html#returning-a-view-versus-a-copy\n",
      "  df_Dividend_PreNDate[\"Dividend_Pre\"+str(N)+\"Date\"]=df_Dividend_PreNDate.index\n",
      "C:\\Users\\markchao\\AppData\\Local\\Temp/ipykernel_23784/3117343331.py:115: FutureWarning: Dropping of nuisance columns in DataFrame reductions (with 'numeric_only=None') is deprecated; in a future version this will raise TypeError.  Select only valid columns before calling the reduction.\n",
      "  Win_mean_per_Value=df_Dividend_PreOneDate[df_Dividend_PreOneDate[\"PL%\"]>0].mean()\n",
      "C:\\Users\\markchao\\AppData\\Local\\Temp/ipykernel_23784/3117343331.py:119: FutureWarning: Dropping of nuisance columns in DataFrame reductions (with 'numeric_only=None') is deprecated; in a future version this will raise TypeError.  Select only valid columns before calling the reduction.\n",
      "  Loss_mean_per_Value=df_Dividend_PreOneDate[df_Dividend_PreOneDate[\"PL%\"]<0].mean()\n"
     ]
    },
    {
     "name": "stdout",
     "output_type": "stream",
     "text": [
      "1514.TW\n"
     ]
    },
    {
     "name": "stderr",
     "output_type": "stream",
     "text": [
      "ERROR:yfinance:Could not get exchangeTimezoneName for ticker '1514.TW' reason: 'chart'\n",
      "ERROR:yfinance:$1514.TW: possibly delisted; no timezone found\n",
      "C:\\Users\\markchao\\anaconda3\\lib\\site-packages\\yfinance\\scrapers\\history.py:476: DeprecationWarning: The default dtype for empty Series will be 'object' instead of 'float64' in a future version. Specify a dtype explicitly to silence this warning.\n",
      "  return pd.Series()\n"
     ]
    },
    {
     "name": "stdout",
     "output_type": "stream",
     "text": [
      "2324.TW\n"
     ]
    },
    {
     "name": "stderr",
     "output_type": "stream",
     "text": [
      "C:\\Users\\markchao\\AppData\\Local\\Temp/ipykernel_23784/3117343331.py:74: SettingWithCopyWarning: \n",
      "A value is trying to be set on a copy of a slice from a DataFrame.\n",
      "Try using .loc[row_indexer,col_indexer] = value instead\n",
      "\n",
      "See the caveats in the documentation: https://pandas.pydata.org/pandas-docs/stable/user_guide/indexing.html#returning-a-view-versus-a-copy\n",
      "  df_Dividend_PreNDate[\"Dividend_Pre\"+str(N)+\"Date\"]=df_Dividend_PreNDate.index\n",
      "C:\\Users\\markchao\\AppData\\Local\\Temp/ipykernel_23784/3117343331.py:115: FutureWarning: Dropping of nuisance columns in DataFrame reductions (with 'numeric_only=None') is deprecated; in a future version this will raise TypeError.  Select only valid columns before calling the reduction.\n",
      "  Win_mean_per_Value=df_Dividend_PreOneDate[df_Dividend_PreOneDate[\"PL%\"]>0].mean()\n",
      "C:\\Users\\markchao\\AppData\\Local\\Temp/ipykernel_23784/3117343331.py:119: FutureWarning: Dropping of nuisance columns in DataFrame reductions (with 'numeric_only=None') is deprecated; in a future version this will raise TypeError.  Select only valid columns before calling the reduction.\n",
      "  Loss_mean_per_Value=df_Dividend_PreOneDate[df_Dividend_PreOneDate[\"PL%\"]<0].mean()\n"
     ]
    },
    {
     "name": "stdout",
     "output_type": "stream",
     "text": [
      "3548.TWO\n"
     ]
    },
    {
     "name": "stderr",
     "output_type": "stream",
     "text": [
      "C:\\Users\\markchao\\AppData\\Local\\Temp/ipykernel_23784/3117343331.py:74: SettingWithCopyWarning: \n",
      "A value is trying to be set on a copy of a slice from a DataFrame.\n",
      "Try using .loc[row_indexer,col_indexer] = value instead\n",
      "\n",
      "See the caveats in the documentation: https://pandas.pydata.org/pandas-docs/stable/user_guide/indexing.html#returning-a-view-versus-a-copy\n",
      "  df_Dividend_PreNDate[\"Dividend_Pre\"+str(N)+\"Date\"]=df_Dividend_PreNDate.index\n",
      "C:\\Users\\markchao\\AppData\\Local\\Temp/ipykernel_23784/3117343331.py:115: FutureWarning: Dropping of nuisance columns in DataFrame reductions (with 'numeric_only=None') is deprecated; in a future version this will raise TypeError.  Select only valid columns before calling the reduction.\n",
      "  Win_mean_per_Value=df_Dividend_PreOneDate[df_Dividend_PreOneDate[\"PL%\"]>0].mean()\n",
      "C:\\Users\\markchao\\AppData\\Local\\Temp/ipykernel_23784/3117343331.py:119: FutureWarning: Dropping of nuisance columns in DataFrame reductions (with 'numeric_only=None') is deprecated; in a future version this will raise TypeError.  Select only valid columns before calling the reduction.\n",
      "  Loss_mean_per_Value=df_Dividend_PreOneDate[df_Dividend_PreOneDate[\"PL%\"]<0].mean()\n"
     ]
    },
    {
     "name": "stdout",
     "output_type": "stream",
     "text": [
      "5469.TW\n"
     ]
    },
    {
     "name": "stderr",
     "output_type": "stream",
     "text": [
      "C:\\Users\\markchao\\AppData\\Local\\Temp/ipykernel_23784/3117343331.py:74: SettingWithCopyWarning: \n",
      "A value is trying to be set on a copy of a slice from a DataFrame.\n",
      "Try using .loc[row_indexer,col_indexer] = value instead\n",
      "\n",
      "See the caveats in the documentation: https://pandas.pydata.org/pandas-docs/stable/user_guide/indexing.html#returning-a-view-versus-a-copy\n",
      "  df_Dividend_PreNDate[\"Dividend_Pre\"+str(N)+\"Date\"]=df_Dividend_PreNDate.index\n",
      "C:\\Users\\markchao\\AppData\\Local\\Temp/ipykernel_23784/3117343331.py:115: FutureWarning: Dropping of nuisance columns in DataFrame reductions (with 'numeric_only=None') is deprecated; in a future version this will raise TypeError.  Select only valid columns before calling the reduction.\n",
      "  Win_mean_per_Value=df_Dividend_PreOneDate[df_Dividend_PreOneDate[\"PL%\"]>0].mean()\n",
      "C:\\Users\\markchao\\AppData\\Local\\Temp/ipykernel_23784/3117343331.py:119: FutureWarning: Dropping of nuisance columns in DataFrame reductions (with 'numeric_only=None') is deprecated; in a future version this will raise TypeError.  Select only valid columns before calling the reduction.\n",
      "  Loss_mean_per_Value=df_Dividend_PreOneDate[df_Dividend_PreOneDate[\"PL%\"]<0].mean()\n"
     ]
    },
    {
     "name": "stdout",
     "output_type": "stream",
     "text": [
      "2353.TW\n"
     ]
    },
    {
     "name": "stderr",
     "output_type": "stream",
     "text": [
      "C:\\Users\\markchao\\AppData\\Local\\Temp/ipykernel_23784/3117343331.py:74: SettingWithCopyWarning: \n",
      "A value is trying to be set on a copy of a slice from a DataFrame.\n",
      "Try using .loc[row_indexer,col_indexer] = value instead\n",
      "\n",
      "See the caveats in the documentation: https://pandas.pydata.org/pandas-docs/stable/user_guide/indexing.html#returning-a-view-versus-a-copy\n",
      "  df_Dividend_PreNDate[\"Dividend_Pre\"+str(N)+\"Date\"]=df_Dividend_PreNDate.index\n",
      "C:\\Users\\markchao\\AppData\\Local\\Temp/ipykernel_23784/3117343331.py:115: FutureWarning: Dropping of nuisance columns in DataFrame reductions (with 'numeric_only=None') is deprecated; in a future version this will raise TypeError.  Select only valid columns before calling the reduction.\n",
      "  Win_mean_per_Value=df_Dividend_PreOneDate[df_Dividend_PreOneDate[\"PL%\"]>0].mean()\n",
      "C:\\Users\\markchao\\AppData\\Local\\Temp/ipykernel_23784/3117343331.py:119: FutureWarning: Dropping of nuisance columns in DataFrame reductions (with 'numeric_only=None') is deprecated; in a future version this will raise TypeError.  Select only valid columns before calling the reduction.\n",
      "  Loss_mean_per_Value=df_Dividend_PreOneDate[df_Dividend_PreOneDate[\"PL%\"]<0].mean()\n"
     ]
    },
    {
     "name": "stdout",
     "output_type": "stream",
     "text": [
      "2329.TW\n"
     ]
    },
    {
     "name": "stderr",
     "output_type": "stream",
     "text": [
      "C:\\Users\\markchao\\AppData\\Local\\Temp/ipykernel_23784/3117343331.py:74: SettingWithCopyWarning: \n",
      "A value is trying to be set on a copy of a slice from a DataFrame.\n",
      "Try using .loc[row_indexer,col_indexer] = value instead\n",
      "\n",
      "See the caveats in the documentation: https://pandas.pydata.org/pandas-docs/stable/user_guide/indexing.html#returning-a-view-versus-a-copy\n",
      "  df_Dividend_PreNDate[\"Dividend_Pre\"+str(N)+\"Date\"]=df_Dividend_PreNDate.index\n",
      "C:\\Users\\markchao\\AppData\\Local\\Temp/ipykernel_23784/3117343331.py:115: FutureWarning: Dropping of nuisance columns in DataFrame reductions (with 'numeric_only=None') is deprecated; in a future version this will raise TypeError.  Select only valid columns before calling the reduction.\n",
      "  Win_mean_per_Value=df_Dividend_PreOneDate[df_Dividend_PreOneDate[\"PL%\"]>0].mean()\n",
      "C:\\Users\\markchao\\AppData\\Local\\Temp/ipykernel_23784/3117343331.py:119: FutureWarning: Dropping of nuisance columns in DataFrame reductions (with 'numeric_only=None') is deprecated; in a future version this will raise TypeError.  Select only valid columns before calling the reduction.\n",
      "  Loss_mean_per_Value=df_Dividend_PreOneDate[df_Dividend_PreOneDate[\"PL%\"]<0].mean()\n"
     ]
    },
    {
     "name": "stdout",
     "output_type": "stream",
     "text": [
      "2352.TW\n"
     ]
    },
    {
     "name": "stderr",
     "output_type": "stream",
     "text": [
      "C:\\Users\\markchao\\AppData\\Local\\Temp/ipykernel_23784/3117343331.py:74: SettingWithCopyWarning: \n",
      "A value is trying to be set on a copy of a slice from a DataFrame.\n",
      "Try using .loc[row_indexer,col_indexer] = value instead\n",
      "\n",
      "See the caveats in the documentation: https://pandas.pydata.org/pandas-docs/stable/user_guide/indexing.html#returning-a-view-versus-a-copy\n",
      "  df_Dividend_PreNDate[\"Dividend_Pre\"+str(N)+\"Date\"]=df_Dividend_PreNDate.index\n",
      "C:\\Users\\markchao\\AppData\\Local\\Temp/ipykernel_23784/3117343331.py:115: FutureWarning: Dropping of nuisance columns in DataFrame reductions (with 'numeric_only=None') is deprecated; in a future version this will raise TypeError.  Select only valid columns before calling the reduction.\n",
      "  Win_mean_per_Value=df_Dividend_PreOneDate[df_Dividend_PreOneDate[\"PL%\"]>0].mean()\n",
      "C:\\Users\\markchao\\AppData\\Local\\Temp/ipykernel_23784/3117343331.py:119: FutureWarning: Dropping of nuisance columns in DataFrame reductions (with 'numeric_only=None') is deprecated; in a future version this will raise TypeError.  Select only valid columns before calling the reduction.\n",
      "  Loss_mean_per_Value=df_Dividend_PreOneDate[df_Dividend_PreOneDate[\"PL%\"]<0].mean()\n"
     ]
    },
    {
     "name": "stdout",
     "output_type": "stream",
     "text": [
      "3014.TW\n"
     ]
    },
    {
     "name": "stderr",
     "output_type": "stream",
     "text": [
      "C:\\Users\\markchao\\AppData\\Local\\Temp/ipykernel_23784/3117343331.py:74: SettingWithCopyWarning: \n",
      "A value is trying to be set on a copy of a slice from a DataFrame.\n",
      "Try using .loc[row_indexer,col_indexer] = value instead\n",
      "\n",
      "See the caveats in the documentation: https://pandas.pydata.org/pandas-docs/stable/user_guide/indexing.html#returning-a-view-versus-a-copy\n",
      "  df_Dividend_PreNDate[\"Dividend_Pre\"+str(N)+\"Date\"]=df_Dividend_PreNDate.index\n",
      "C:\\Users\\markchao\\AppData\\Local\\Temp/ipykernel_23784/3117343331.py:115: FutureWarning: Dropping of nuisance columns in DataFrame reductions (with 'numeric_only=None') is deprecated; in a future version this will raise TypeError.  Select only valid columns before calling the reduction.\n",
      "  Win_mean_per_Value=df_Dividend_PreOneDate[df_Dividend_PreOneDate[\"PL%\"]>0].mean()\n",
      "C:\\Users\\markchao\\AppData\\Local\\Temp/ipykernel_23784/3117343331.py:119: FutureWarning: Dropping of nuisance columns in DataFrame reductions (with 'numeric_only=None') is deprecated; in a future version this will raise TypeError.  Select only valid columns before calling the reduction.\n",
      "  Loss_mean_per_Value=df_Dividend_PreOneDate[df_Dividend_PreOneDate[\"PL%\"]<0].mean()\n"
     ]
    },
    {
     "name": "stdout",
     "output_type": "stream",
     "text": [
      "4958.TW\n"
     ]
    },
    {
     "name": "stderr",
     "output_type": "stream",
     "text": [
      "C:\\Users\\markchao\\AppData\\Local\\Temp/ipykernel_23784/3117343331.py:74: SettingWithCopyWarning: \n",
      "A value is trying to be set on a copy of a slice from a DataFrame.\n",
      "Try using .loc[row_indexer,col_indexer] = value instead\n",
      "\n",
      "See the caveats in the documentation: https://pandas.pydata.org/pandas-docs/stable/user_guide/indexing.html#returning-a-view-versus-a-copy\n",
      "  df_Dividend_PreNDate[\"Dividend_Pre\"+str(N)+\"Date\"]=df_Dividend_PreNDate.index\n",
      "C:\\Users\\markchao\\AppData\\Local\\Temp/ipykernel_23784/3117343331.py:115: FutureWarning: Dropping of nuisance columns in DataFrame reductions (with 'numeric_only=None') is deprecated; in a future version this will raise TypeError.  Select only valid columns before calling the reduction.\n",
      "  Win_mean_per_Value=df_Dividend_PreOneDate[df_Dividend_PreOneDate[\"PL%\"]>0].mean()\n",
      "C:\\Users\\markchao\\AppData\\Local\\Temp/ipykernel_23784/3117343331.py:119: FutureWarning: Dropping of nuisance columns in DataFrame reductions (with 'numeric_only=None') is deprecated; in a future version this will raise TypeError.  Select only valid columns before calling the reduction.\n",
      "  Loss_mean_per_Value=df_Dividend_PreOneDate[df_Dividend_PreOneDate[\"PL%\"]<0].mean()\n"
     ]
    },
    {
     "name": "stdout",
     "output_type": "stream",
     "text": [
      "2486.TW\n"
     ]
    },
    {
     "name": "stderr",
     "output_type": "stream",
     "text": [
      "C:\\Users\\markchao\\AppData\\Local\\Temp/ipykernel_23784/3117343331.py:74: SettingWithCopyWarning: \n",
      "A value is trying to be set on a copy of a slice from a DataFrame.\n",
      "Try using .loc[row_indexer,col_indexer] = value instead\n",
      "\n",
      "See the caveats in the documentation: https://pandas.pydata.org/pandas-docs/stable/user_guide/indexing.html#returning-a-view-versus-a-copy\n",
      "  df_Dividend_PreNDate[\"Dividend_Pre\"+str(N)+\"Date\"]=df_Dividend_PreNDate.index\n",
      "C:\\Users\\markchao\\AppData\\Local\\Temp/ipykernel_23784/3117343331.py:115: FutureWarning: Dropping of nuisance columns in DataFrame reductions (with 'numeric_only=None') is deprecated; in a future version this will raise TypeError.  Select only valid columns before calling the reduction.\n",
      "  Win_mean_per_Value=df_Dividend_PreOneDate[df_Dividend_PreOneDate[\"PL%\"]>0].mean()\n",
      "C:\\Users\\markchao\\AppData\\Local\\Temp/ipykernel_23784/3117343331.py:119: FutureWarning: Dropping of nuisance columns in DataFrame reductions (with 'numeric_only=None') is deprecated; in a future version this will raise TypeError.  Select only valid columns before calling the reduction.\n",
      "  Loss_mean_per_Value=df_Dividend_PreOneDate[df_Dividend_PreOneDate[\"PL%\"]<0].mean()\n"
     ]
    },
    {
     "name": "stdout",
     "output_type": "stream",
     "text": [
      "8086.TWO\n"
     ]
    },
    {
     "name": "stderr",
     "output_type": "stream",
     "text": [
      "C:\\Users\\markchao\\AppData\\Local\\Temp/ipykernel_23784/3117343331.py:74: SettingWithCopyWarning: \n",
      "A value is trying to be set on a copy of a slice from a DataFrame.\n",
      "Try using .loc[row_indexer,col_indexer] = value instead\n",
      "\n",
      "See the caveats in the documentation: https://pandas.pydata.org/pandas-docs/stable/user_guide/indexing.html#returning-a-view-versus-a-copy\n",
      "  df_Dividend_PreNDate[\"Dividend_Pre\"+str(N)+\"Date\"]=df_Dividend_PreNDate.index\n",
      "C:\\Users\\markchao\\AppData\\Local\\Temp/ipykernel_23784/3117343331.py:115: FutureWarning: Dropping of nuisance columns in DataFrame reductions (with 'numeric_only=None') is deprecated; in a future version this will raise TypeError.  Select only valid columns before calling the reduction.\n",
      "  Win_mean_per_Value=df_Dividend_PreOneDate[df_Dividend_PreOneDate[\"PL%\"]>0].mean()\n",
      "C:\\Users\\markchao\\AppData\\Local\\Temp/ipykernel_23784/3117343331.py:119: FutureWarning: Dropping of nuisance columns in DataFrame reductions (with 'numeric_only=None') is deprecated; in a future version this will raise TypeError.  Select only valid columns before calling the reduction.\n",
      "  Loss_mean_per_Value=df_Dividend_PreOneDate[df_Dividend_PreOneDate[\"PL%\"]<0].mean()\n"
     ]
    },
    {
     "name": "stdout",
     "output_type": "stream",
     "text": [
      "3702.TW\n"
     ]
    },
    {
     "name": "stderr",
     "output_type": "stream",
     "text": [
      "C:\\Users\\markchao\\AppData\\Local\\Temp/ipykernel_23784/3117343331.py:74: SettingWithCopyWarning: \n",
      "A value is trying to be set on a copy of a slice from a DataFrame.\n",
      "Try using .loc[row_indexer,col_indexer] = value instead\n",
      "\n",
      "See the caveats in the documentation: https://pandas.pydata.org/pandas-docs/stable/user_guide/indexing.html#returning-a-view-versus-a-copy\n",
      "  df_Dividend_PreNDate[\"Dividend_Pre\"+str(N)+\"Date\"]=df_Dividend_PreNDate.index\n",
      "C:\\Users\\markchao\\AppData\\Local\\Temp/ipykernel_23784/3117343331.py:115: FutureWarning: Dropping of nuisance columns in DataFrame reductions (with 'numeric_only=None') is deprecated; in a future version this will raise TypeError.  Select only valid columns before calling the reduction.\n",
      "  Win_mean_per_Value=df_Dividend_PreOneDate[df_Dividend_PreOneDate[\"PL%\"]>0].mean()\n",
      "C:\\Users\\markchao\\AppData\\Local\\Temp/ipykernel_23784/3117343331.py:119: FutureWarning: Dropping of nuisance columns in DataFrame reductions (with 'numeric_only=None') is deprecated; in a future version this will raise TypeError.  Select only valid columns before calling the reduction.\n",
      "  Loss_mean_per_Value=df_Dividend_PreOneDate[df_Dividend_PreOneDate[\"PL%\"]<0].mean()\n"
     ]
    },
    {
     "name": "stdout",
     "output_type": "stream",
     "text": [
      "2412.TW\n"
     ]
    },
    {
     "name": "stderr",
     "output_type": "stream",
     "text": [
      "C:\\Users\\markchao\\AppData\\Local\\Temp/ipykernel_23784/3117343331.py:74: SettingWithCopyWarning: \n",
      "A value is trying to be set on a copy of a slice from a DataFrame.\n",
      "Try using .loc[row_indexer,col_indexer] = value instead\n",
      "\n",
      "See the caveats in the documentation: https://pandas.pydata.org/pandas-docs/stable/user_guide/indexing.html#returning-a-view-versus-a-copy\n",
      "  df_Dividend_PreNDate[\"Dividend_Pre\"+str(N)+\"Date\"]=df_Dividend_PreNDate.index\n",
      "C:\\Users\\markchao\\AppData\\Local\\Temp/ipykernel_23784/3117343331.py:115: FutureWarning: Dropping of nuisance columns in DataFrame reductions (with 'numeric_only=None') is deprecated; in a future version this will raise TypeError.  Select only valid columns before calling the reduction.\n",
      "  Win_mean_per_Value=df_Dividend_PreOneDate[df_Dividend_PreOneDate[\"PL%\"]>0].mean()\n",
      "C:\\Users\\markchao\\AppData\\Local\\Temp/ipykernel_23784/3117343331.py:119: FutureWarning: Dropping of nuisance columns in DataFrame reductions (with 'numeric_only=None') is deprecated; in a future version this will raise TypeError.  Select only valid columns before calling the reduction.\n",
      "  Loss_mean_per_Value=df_Dividend_PreOneDate[df_Dividend_PreOneDate[\"PL%\"]<0].mean()\n"
     ]
    },
    {
     "name": "stdout",
     "output_type": "stream",
     "text": [
      "3529.TWO\n"
     ]
    },
    {
     "name": "stderr",
     "output_type": "stream",
     "text": [
      "C:\\Users\\markchao\\AppData\\Local\\Temp/ipykernel_23784/3117343331.py:74: SettingWithCopyWarning: \n",
      "A value is trying to be set on a copy of a slice from a DataFrame.\n",
      "Try using .loc[row_indexer,col_indexer] = value instead\n",
      "\n",
      "See the caveats in the documentation: https://pandas.pydata.org/pandas-docs/stable/user_guide/indexing.html#returning-a-view-versus-a-copy\n",
      "  df_Dividend_PreNDate[\"Dividend_Pre\"+str(N)+\"Date\"]=df_Dividend_PreNDate.index\n",
      "C:\\Users\\markchao\\AppData\\Local\\Temp/ipykernel_23784/3117343331.py:115: FutureWarning: Dropping of nuisance columns in DataFrame reductions (with 'numeric_only=None') is deprecated; in a future version this will raise TypeError.  Select only valid columns before calling the reduction.\n",
      "  Win_mean_per_Value=df_Dividend_PreOneDate[df_Dividend_PreOneDate[\"PL%\"]>0].mean()\n",
      "C:\\Users\\markchao\\AppData\\Local\\Temp/ipykernel_23784/3117343331.py:119: FutureWarning: Dropping of nuisance columns in DataFrame reductions (with 'numeric_only=None') is deprecated; in a future version this will raise TypeError.  Select only valid columns before calling the reduction.\n",
      "  Loss_mean_per_Value=df_Dividend_PreOneDate[df_Dividend_PreOneDate[\"PL%\"]<0].mean()\n"
     ]
    },
    {
     "name": "stdout",
     "output_type": "stream",
     "text": [
      "2368.TW\n"
     ]
    },
    {
     "name": "stderr",
     "output_type": "stream",
     "text": [
      "C:\\Users\\markchao\\AppData\\Local\\Temp/ipykernel_23784/3117343331.py:74: SettingWithCopyWarning: \n",
      "A value is trying to be set on a copy of a slice from a DataFrame.\n",
      "Try using .loc[row_indexer,col_indexer] = value instead\n",
      "\n",
      "See the caveats in the documentation: https://pandas.pydata.org/pandas-docs/stable/user_guide/indexing.html#returning-a-view-versus-a-copy\n",
      "  df_Dividend_PreNDate[\"Dividend_Pre\"+str(N)+\"Date\"]=df_Dividend_PreNDate.index\n",
      "C:\\Users\\markchao\\AppData\\Local\\Temp/ipykernel_23784/3117343331.py:115: FutureWarning: Dropping of nuisance columns in DataFrame reductions (with 'numeric_only=None') is deprecated; in a future version this will raise TypeError.  Select only valid columns before calling the reduction.\n",
      "  Win_mean_per_Value=df_Dividend_PreOneDate[df_Dividend_PreOneDate[\"PL%\"]>0].mean()\n",
      "C:\\Users\\markchao\\AppData\\Local\\Temp/ipykernel_23784/3117343331.py:119: FutureWarning: Dropping of nuisance columns in DataFrame reductions (with 'numeric_only=None') is deprecated; in a future version this will raise TypeError.  Select only valid columns before calling the reduction.\n",
      "  Loss_mean_per_Value=df_Dividend_PreOneDate[df_Dividend_PreOneDate[\"PL%\"]<0].mean()\n"
     ]
    },
    {
     "name": "stdout",
     "output_type": "stream",
     "text": [
      "4915.TW\n"
     ]
    },
    {
     "name": "stderr",
     "output_type": "stream",
     "text": [
      "C:\\Users\\markchao\\AppData\\Local\\Temp/ipykernel_23784/3117343331.py:74: SettingWithCopyWarning: \n",
      "A value is trying to be set on a copy of a slice from a DataFrame.\n",
      "Try using .loc[row_indexer,col_indexer] = value instead\n",
      "\n",
      "See the caveats in the documentation: https://pandas.pydata.org/pandas-docs/stable/user_guide/indexing.html#returning-a-view-versus-a-copy\n",
      "  df_Dividend_PreNDate[\"Dividend_Pre\"+str(N)+\"Date\"]=df_Dividend_PreNDate.index\n",
      "C:\\Users\\markchao\\AppData\\Local\\Temp/ipykernel_23784/3117343331.py:115: FutureWarning: Dropping of nuisance columns in DataFrame reductions (with 'numeric_only=None') is deprecated; in a future version this will raise TypeError.  Select only valid columns before calling the reduction.\n",
      "  Win_mean_per_Value=df_Dividend_PreOneDate[df_Dividend_PreOneDate[\"PL%\"]>0].mean()\n",
      "C:\\Users\\markchao\\AppData\\Local\\Temp/ipykernel_23784/3117343331.py:119: FutureWarning: Dropping of nuisance columns in DataFrame reductions (with 'numeric_only=None') is deprecated; in a future version this will raise TypeError.  Select only valid columns before calling the reduction.\n",
      "  Loss_mean_per_Value=df_Dividend_PreOneDate[df_Dividend_PreOneDate[\"PL%\"]<0].mean()\n"
     ]
    },
    {
     "name": "stdout",
     "output_type": "stream",
     "text": [
      "3413.TW\n"
     ]
    },
    {
     "name": "stderr",
     "output_type": "stream",
     "text": [
      "C:\\Users\\markchao\\AppData\\Local\\Temp/ipykernel_23784/3117343331.py:74: SettingWithCopyWarning: \n",
      "A value is trying to be set on a copy of a slice from a DataFrame.\n",
      "Try using .loc[row_indexer,col_indexer] = value instead\n",
      "\n",
      "See the caveats in the documentation: https://pandas.pydata.org/pandas-docs/stable/user_guide/indexing.html#returning-a-view-versus-a-copy\n",
      "  df_Dividend_PreNDate[\"Dividend_Pre\"+str(N)+\"Date\"]=df_Dividend_PreNDate.index\n",
      "C:\\Users\\markchao\\AppData\\Local\\Temp/ipykernel_23784/3117343331.py:115: FutureWarning: Dropping of nuisance columns in DataFrame reductions (with 'numeric_only=None') is deprecated; in a future version this will raise TypeError.  Select only valid columns before calling the reduction.\n",
      "  Win_mean_per_Value=df_Dividend_PreOneDate[df_Dividend_PreOneDate[\"PL%\"]>0].mean()\n",
      "C:\\Users\\markchao\\AppData\\Local\\Temp/ipykernel_23784/3117343331.py:119: FutureWarning: Dropping of nuisance columns in DataFrame reductions (with 'numeric_only=None') is deprecated; in a future version this will raise TypeError.  Select only valid columns before calling the reduction.\n",
      "  Loss_mean_per_Value=df_Dividend_PreOneDate[df_Dividend_PreOneDate[\"PL%\"]<0].mean()\n"
     ]
    },
    {
     "name": "stdout",
     "output_type": "stream",
     "text": [
      "2609.TW\n"
     ]
    },
    {
     "name": "stderr",
     "output_type": "stream",
     "text": [
      "C:\\Users\\markchao\\AppData\\Local\\Temp/ipykernel_23784/3117343331.py:74: SettingWithCopyWarning: \n",
      "A value is trying to be set on a copy of a slice from a DataFrame.\n",
      "Try using .loc[row_indexer,col_indexer] = value instead\n",
      "\n",
      "See the caveats in the documentation: https://pandas.pydata.org/pandas-docs/stable/user_guide/indexing.html#returning-a-view-versus-a-copy\n",
      "  df_Dividend_PreNDate[\"Dividend_Pre\"+str(N)+\"Date\"]=df_Dividend_PreNDate.index\n",
      "C:\\Users\\markchao\\AppData\\Local\\Temp/ipykernel_23784/3117343331.py:115: FutureWarning: Dropping of nuisance columns in DataFrame reductions (with 'numeric_only=None') is deprecated; in a future version this will raise TypeError.  Select only valid columns before calling the reduction.\n",
      "  Win_mean_per_Value=df_Dividend_PreOneDate[df_Dividend_PreOneDate[\"PL%\"]>0].mean()\n",
      "C:\\Users\\markchao\\AppData\\Local\\Temp/ipykernel_23784/3117343331.py:119: FutureWarning: Dropping of nuisance columns in DataFrame reductions (with 'numeric_only=None') is deprecated; in a future version this will raise TypeError.  Select only valid columns before calling the reduction.\n",
      "  Loss_mean_per_Value=df_Dividend_PreOneDate[df_Dividend_PreOneDate[\"PL%\"]<0].mean()\n"
     ]
    },
    {
     "name": "stdout",
     "output_type": "stream",
     "text": [
      "8299.TWO\n"
     ]
    },
    {
     "name": "stderr",
     "output_type": "stream",
     "text": [
      "C:\\Users\\markchao\\AppData\\Local\\Temp/ipykernel_23784/3117343331.py:74: SettingWithCopyWarning: \n",
      "A value is trying to be set on a copy of a slice from a DataFrame.\n",
      "Try using .loc[row_indexer,col_indexer] = value instead\n",
      "\n",
      "See the caveats in the documentation: https://pandas.pydata.org/pandas-docs/stable/user_guide/indexing.html#returning-a-view-versus-a-copy\n",
      "  df_Dividend_PreNDate[\"Dividend_Pre\"+str(N)+\"Date\"]=df_Dividend_PreNDate.index\n",
      "C:\\Users\\markchao\\AppData\\Local\\Temp/ipykernel_23784/3117343331.py:115: FutureWarning: Dropping of nuisance columns in DataFrame reductions (with 'numeric_only=None') is deprecated; in a future version this will raise TypeError.  Select only valid columns before calling the reduction.\n",
      "  Win_mean_per_Value=df_Dividend_PreOneDate[df_Dividend_PreOneDate[\"PL%\"]>0].mean()\n",
      "C:\\Users\\markchao\\AppData\\Local\\Temp/ipykernel_23784/3117343331.py:119: FutureWarning: Dropping of nuisance columns in DataFrame reductions (with 'numeric_only=None') is deprecated; in a future version this will raise TypeError.  Select only valid columns before calling the reduction.\n",
      "  Loss_mean_per_Value=df_Dividend_PreOneDate[df_Dividend_PreOneDate[\"PL%\"]<0].mean()\n"
     ]
    },
    {
     "name": "stdout",
     "output_type": "stream",
     "text": [
      "2206.TW\n"
     ]
    },
    {
     "name": "stderr",
     "output_type": "stream",
     "text": [
      "C:\\Users\\markchao\\AppData\\Local\\Temp/ipykernel_23784/3117343331.py:74: SettingWithCopyWarning: \n",
      "A value is trying to be set on a copy of a slice from a DataFrame.\n",
      "Try using .loc[row_indexer,col_indexer] = value instead\n",
      "\n",
      "See the caveats in the documentation: https://pandas.pydata.org/pandas-docs/stable/user_guide/indexing.html#returning-a-view-versus-a-copy\n",
      "  df_Dividend_PreNDate[\"Dividend_Pre\"+str(N)+\"Date\"]=df_Dividend_PreNDate.index\n",
      "C:\\Users\\markchao\\AppData\\Local\\Temp/ipykernel_23784/3117343331.py:115: FutureWarning: Dropping of nuisance columns in DataFrame reductions (with 'numeric_only=None') is deprecated; in a future version this will raise TypeError.  Select only valid columns before calling the reduction.\n",
      "  Win_mean_per_Value=df_Dividend_PreOneDate[df_Dividend_PreOneDate[\"PL%\"]>0].mean()\n",
      "C:\\Users\\markchao\\AppData\\Local\\Temp/ipykernel_23784/3117343331.py:119: FutureWarning: Dropping of nuisance columns in DataFrame reductions (with 'numeric_only=None') is deprecated; in a future version this will raise TypeError.  Select only valid columns before calling the reduction.\n",
      "  Loss_mean_per_Value=df_Dividend_PreOneDate[df_Dividend_PreOneDate[\"PL%\"]<0].mean()\n"
     ]
    },
    {
     "name": "stdout",
     "output_type": "stream",
     "text": [
      "3596.TW\n"
     ]
    },
    {
     "name": "stderr",
     "output_type": "stream",
     "text": [
      "C:\\Users\\markchao\\AppData\\Local\\Temp/ipykernel_23784/3117343331.py:74: SettingWithCopyWarning: \n",
      "A value is trying to be set on a copy of a slice from a DataFrame.\n",
      "Try using .loc[row_indexer,col_indexer] = value instead\n",
      "\n",
      "See the caveats in the documentation: https://pandas.pydata.org/pandas-docs/stable/user_guide/indexing.html#returning-a-view-versus-a-copy\n",
      "  df_Dividend_PreNDate[\"Dividend_Pre\"+str(N)+\"Date\"]=df_Dividend_PreNDate.index\n",
      "C:\\Users\\markchao\\AppData\\Local\\Temp/ipykernel_23784/3117343331.py:115: FutureWarning: Dropping of nuisance columns in DataFrame reductions (with 'numeric_only=None') is deprecated; in a future version this will raise TypeError.  Select only valid columns before calling the reduction.\n",
      "  Win_mean_per_Value=df_Dividend_PreOneDate[df_Dividend_PreOneDate[\"PL%\"]>0].mean()\n",
      "C:\\Users\\markchao\\AppData\\Local\\Temp/ipykernel_23784/3117343331.py:119: FutureWarning: Dropping of nuisance columns in DataFrame reductions (with 'numeric_only=None') is deprecated; in a future version this will raise TypeError.  Select only valid columns before calling the reduction.\n",
      "  Loss_mean_per_Value=df_Dividend_PreOneDate[df_Dividend_PreOneDate[\"PL%\"]<0].mean()\n"
     ]
    },
    {
     "name": "stdout",
     "output_type": "stream",
     "text": [
      "1795.TW\n"
     ]
    },
    {
     "name": "stderr",
     "output_type": "stream",
     "text": [
      "C:\\Users\\markchao\\AppData\\Local\\Temp/ipykernel_23784/3117343331.py:74: SettingWithCopyWarning: \n",
      "A value is trying to be set on a copy of a slice from a DataFrame.\n",
      "Try using .loc[row_indexer,col_indexer] = value instead\n",
      "\n",
      "See the caveats in the documentation: https://pandas.pydata.org/pandas-docs/stable/user_guide/indexing.html#returning-a-view-versus-a-copy\n",
      "  df_Dividend_PreNDate[\"Dividend_Pre\"+str(N)+\"Date\"]=df_Dividend_PreNDate.index\n",
      "C:\\Users\\markchao\\AppData\\Local\\Temp/ipykernel_23784/3117343331.py:115: FutureWarning: Dropping of nuisance columns in DataFrame reductions (with 'numeric_only=None') is deprecated; in a future version this will raise TypeError.  Select only valid columns before calling the reduction.\n",
      "  Win_mean_per_Value=df_Dividend_PreOneDate[df_Dividend_PreOneDate[\"PL%\"]>0].mean()\n",
      "C:\\Users\\markchao\\AppData\\Local\\Temp/ipykernel_23784/3117343331.py:119: FutureWarning: Dropping of nuisance columns in DataFrame reductions (with 'numeric_only=None') is deprecated; in a future version this will raise TypeError.  Select only valid columns before calling the reduction.\n",
      "  Loss_mean_per_Value=df_Dividend_PreOneDate[df_Dividend_PreOneDate[\"PL%\"]<0].mean()\n"
     ]
    },
    {
     "name": "stdout",
     "output_type": "stream",
     "text": [
      "2367.TW\n"
     ]
    },
    {
     "name": "stderr",
     "output_type": "stream",
     "text": [
      "C:\\Users\\markchao\\AppData\\Local\\Temp/ipykernel_23784/3117343331.py:74: SettingWithCopyWarning: \n",
      "A value is trying to be set on a copy of a slice from a DataFrame.\n",
      "Try using .loc[row_indexer,col_indexer] = value instead\n",
      "\n",
      "See the caveats in the documentation: https://pandas.pydata.org/pandas-docs/stable/user_guide/indexing.html#returning-a-view-versus-a-copy\n",
      "  df_Dividend_PreNDate[\"Dividend_Pre\"+str(N)+\"Date\"]=df_Dividend_PreNDate.index\n",
      "C:\\Users\\markchao\\AppData\\Local\\Temp/ipykernel_23784/3117343331.py:115: FutureWarning: Dropping of nuisance columns in DataFrame reductions (with 'numeric_only=None') is deprecated; in a future version this will raise TypeError.  Select only valid columns before calling the reduction.\n",
      "  Win_mean_per_Value=df_Dividend_PreOneDate[df_Dividend_PreOneDate[\"PL%\"]>0].mean()\n",
      "C:\\Users\\markchao\\AppData\\Local\\Temp/ipykernel_23784/3117343331.py:119: FutureWarning: Dropping of nuisance columns in DataFrame reductions (with 'numeric_only=None') is deprecated; in a future version this will raise TypeError.  Select only valid columns before calling the reduction.\n",
      "  Loss_mean_per_Value=df_Dividend_PreOneDate[df_Dividend_PreOneDate[\"PL%\"]<0].mean()\n"
     ]
    },
    {
     "name": "stdout",
     "output_type": "stream",
     "text": [
      "6789.TW\n"
     ]
    },
    {
     "name": "stderr",
     "output_type": "stream",
     "text": [
      "C:\\Users\\markchao\\AppData\\Local\\Temp/ipykernel_23784/3117343331.py:74: SettingWithCopyWarning: \n",
      "A value is trying to be set on a copy of a slice from a DataFrame.\n",
      "Try using .loc[row_indexer,col_indexer] = value instead\n",
      "\n",
      "See the caveats in the documentation: https://pandas.pydata.org/pandas-docs/stable/user_guide/indexing.html#returning-a-view-versus-a-copy\n",
      "  df_Dividend_PreNDate[\"Dividend_Pre\"+str(N)+\"Date\"]=df_Dividend_PreNDate.index\n",
      "C:\\Users\\markchao\\AppData\\Local\\Temp/ipykernel_23784/3117343331.py:115: FutureWarning: Dropping of nuisance columns in DataFrame reductions (with 'numeric_only=None') is deprecated; in a future version this will raise TypeError.  Select only valid columns before calling the reduction.\n",
      "  Win_mean_per_Value=df_Dividend_PreOneDate[df_Dividend_PreOneDate[\"PL%\"]>0].mean()\n",
      "C:\\Users\\markchao\\AppData\\Local\\Temp/ipykernel_23784/3117343331.py:119: FutureWarning: Dropping of nuisance columns in DataFrame reductions (with 'numeric_only=None') is deprecated; in a future version this will raise TypeError.  Select only valid columns before calling the reduction.\n",
      "  Loss_mean_per_Value=df_Dividend_PreOneDate[df_Dividend_PreOneDate[\"PL%\"]<0].mean()\n"
     ]
    },
    {
     "name": "stdout",
     "output_type": "stream",
     "text": [
      "5269.TW\n"
     ]
    },
    {
     "name": "stderr",
     "output_type": "stream",
     "text": [
      "C:\\Users\\markchao\\AppData\\Local\\Temp/ipykernel_23784/3117343331.py:74: SettingWithCopyWarning: \n",
      "A value is trying to be set on a copy of a slice from a DataFrame.\n",
      "Try using .loc[row_indexer,col_indexer] = value instead\n",
      "\n",
      "See the caveats in the documentation: https://pandas.pydata.org/pandas-docs/stable/user_guide/indexing.html#returning-a-view-versus-a-copy\n",
      "  df_Dividend_PreNDate[\"Dividend_Pre\"+str(N)+\"Date\"]=df_Dividend_PreNDate.index\n",
      "C:\\Users\\markchao\\AppData\\Local\\Temp/ipykernel_23784/3117343331.py:115: FutureWarning: Dropping of nuisance columns in DataFrame reductions (with 'numeric_only=None') is deprecated; in a future version this will raise TypeError.  Select only valid columns before calling the reduction.\n",
      "  Win_mean_per_Value=df_Dividend_PreOneDate[df_Dividend_PreOneDate[\"PL%\"]>0].mean()\n",
      "C:\\Users\\markchao\\AppData\\Local\\Temp/ipykernel_23784/3117343331.py:119: FutureWarning: Dropping of nuisance columns in DataFrame reductions (with 'numeric_only=None') is deprecated; in a future version this will raise TypeError.  Select only valid columns before calling the reduction.\n",
      "  Loss_mean_per_Value=df_Dividend_PreOneDate[df_Dividend_PreOneDate[\"PL%\"]<0].mean()\n"
     ]
    },
    {
     "name": "stdout",
     "output_type": "stream",
     "text": [
      "6531.TW\n"
     ]
    },
    {
     "name": "stderr",
     "output_type": "stream",
     "text": [
      "C:\\Users\\markchao\\AppData\\Local\\Temp/ipykernel_23784/3117343331.py:74: SettingWithCopyWarning: \n",
      "A value is trying to be set on a copy of a slice from a DataFrame.\n",
      "Try using .loc[row_indexer,col_indexer] = value instead\n",
      "\n",
      "See the caveats in the documentation: https://pandas.pydata.org/pandas-docs/stable/user_guide/indexing.html#returning-a-view-versus-a-copy\n",
      "  df_Dividend_PreNDate[\"Dividend_Pre\"+str(N)+\"Date\"]=df_Dividend_PreNDate.index\n",
      "C:\\Users\\markchao\\AppData\\Local\\Temp/ipykernel_23784/3117343331.py:115: FutureWarning: Dropping of nuisance columns in DataFrame reductions (with 'numeric_only=None') is deprecated; in a future version this will raise TypeError.  Select only valid columns before calling the reduction.\n",
      "  Win_mean_per_Value=df_Dividend_PreOneDate[df_Dividend_PreOneDate[\"PL%\"]>0].mean()\n",
      "C:\\Users\\markchao\\AppData\\Local\\Temp/ipykernel_23784/3117343331.py:119: FutureWarning: Dropping of nuisance columns in DataFrame reductions (with 'numeric_only=None') is deprecated; in a future version this will raise TypeError.  Select only valid columns before calling the reduction.\n",
      "  Loss_mean_per_Value=df_Dividend_PreOneDate[df_Dividend_PreOneDate[\"PL%\"]<0].mean()\n"
     ]
    },
    {
     "name": "stdout",
     "output_type": "stream",
     "text": [
      "6147.TWO\n"
     ]
    },
    {
     "name": "stderr",
     "output_type": "stream",
     "text": [
      "C:\\Users\\markchao\\AppData\\Local\\Temp/ipykernel_23784/3117343331.py:74: SettingWithCopyWarning: \n",
      "A value is trying to be set on a copy of a slice from a DataFrame.\n",
      "Try using .loc[row_indexer,col_indexer] = value instead\n",
      "\n",
      "See the caveats in the documentation: https://pandas.pydata.org/pandas-docs/stable/user_guide/indexing.html#returning-a-view-versus-a-copy\n",
      "  df_Dividend_PreNDate[\"Dividend_Pre\"+str(N)+\"Date\"]=df_Dividend_PreNDate.index\n",
      "C:\\Users\\markchao\\AppData\\Local\\Temp/ipykernel_23784/3117343331.py:115: FutureWarning: Dropping of nuisance columns in DataFrame reductions (with 'numeric_only=None') is deprecated; in a future version this will raise TypeError.  Select only valid columns before calling the reduction.\n",
      "  Win_mean_per_Value=df_Dividend_PreOneDate[df_Dividend_PreOneDate[\"PL%\"]>0].mean()\n",
      "C:\\Users\\markchao\\AppData\\Local\\Temp/ipykernel_23784/3117343331.py:119: FutureWarning: Dropping of nuisance columns in DataFrame reductions (with 'numeric_only=None') is deprecated; in a future version this will raise TypeError.  Select only valid columns before calling the reduction.\n",
      "  Loss_mean_per_Value=df_Dividend_PreOneDate[df_Dividend_PreOneDate[\"PL%\"]<0].mean()\n"
     ]
    },
    {
     "name": "stdout",
     "output_type": "stream",
     "text": [
      "4961.TW\n"
     ]
    },
    {
     "name": "stderr",
     "output_type": "stream",
     "text": [
      "C:\\Users\\markchao\\AppData\\Local\\Temp/ipykernel_23784/3117343331.py:74: SettingWithCopyWarning: \n",
      "A value is trying to be set on a copy of a slice from a DataFrame.\n",
      "Try using .loc[row_indexer,col_indexer] = value instead\n",
      "\n",
      "See the caveats in the documentation: https://pandas.pydata.org/pandas-docs/stable/user_guide/indexing.html#returning-a-view-versus-a-copy\n",
      "  df_Dividend_PreNDate[\"Dividend_Pre\"+str(N)+\"Date\"]=df_Dividend_PreNDate.index\n",
      "C:\\Users\\markchao\\AppData\\Local\\Temp/ipykernel_23784/3117343331.py:115: FutureWarning: Dropping of nuisance columns in DataFrame reductions (with 'numeric_only=None') is deprecated; in a future version this will raise TypeError.  Select only valid columns before calling the reduction.\n",
      "  Win_mean_per_Value=df_Dividend_PreOneDate[df_Dividend_PreOneDate[\"PL%\"]>0].mean()\n",
      "C:\\Users\\markchao\\AppData\\Local\\Temp/ipykernel_23784/3117343331.py:119: FutureWarning: Dropping of nuisance columns in DataFrame reductions (with 'numeric_only=None') is deprecated; in a future version this will raise TypeError.  Select only valid columns before calling the reduction.\n",
      "  Loss_mean_per_Value=df_Dividend_PreOneDate[df_Dividend_PreOneDate[\"PL%\"]<0].mean()\n"
     ]
    },
    {
     "name": "stdout",
     "output_type": "stream",
     "text": [
      "8112.TW\n"
     ]
    },
    {
     "name": "stderr",
     "output_type": "stream",
     "text": [
      "C:\\Users\\markchao\\AppData\\Local\\Temp/ipykernel_23784/3117343331.py:74: SettingWithCopyWarning: \n",
      "A value is trying to be set on a copy of a slice from a DataFrame.\n",
      "Try using .loc[row_indexer,col_indexer] = value instead\n",
      "\n",
      "See the caveats in the documentation: https://pandas.pydata.org/pandas-docs/stable/user_guide/indexing.html#returning-a-view-versus-a-copy\n",
      "  df_Dividend_PreNDate[\"Dividend_Pre\"+str(N)+\"Date\"]=df_Dividend_PreNDate.index\n",
      "C:\\Users\\markchao\\AppData\\Local\\Temp/ipykernel_23784/3117343331.py:115: FutureWarning: Dropping of nuisance columns in DataFrame reductions (with 'numeric_only=None') is deprecated; in a future version this will raise TypeError.  Select only valid columns before calling the reduction.\n",
      "  Win_mean_per_Value=df_Dividend_PreOneDate[df_Dividend_PreOneDate[\"PL%\"]>0].mean()\n",
      "C:\\Users\\markchao\\AppData\\Local\\Temp/ipykernel_23784/3117343331.py:119: FutureWarning: Dropping of nuisance columns in DataFrame reductions (with 'numeric_only=None') is deprecated; in a future version this will raise TypeError.  Select only valid columns before calling the reduction.\n",
      "  Loss_mean_per_Value=df_Dividend_PreOneDate[df_Dividend_PreOneDate[\"PL%\"]<0].mean()\n"
     ]
    },
    {
     "name": "stdout",
     "output_type": "stream",
     "text": [
      "2881.TW\n"
     ]
    },
    {
     "name": "stderr",
     "output_type": "stream",
     "text": [
      "C:\\Users\\markchao\\AppData\\Local\\Temp/ipykernel_23784/3117343331.py:74: SettingWithCopyWarning: \n",
      "A value is trying to be set on a copy of a slice from a DataFrame.\n",
      "Try using .loc[row_indexer,col_indexer] = value instead\n",
      "\n",
      "See the caveats in the documentation: https://pandas.pydata.org/pandas-docs/stable/user_guide/indexing.html#returning-a-view-versus-a-copy\n",
      "  df_Dividend_PreNDate[\"Dividend_Pre\"+str(N)+\"Date\"]=df_Dividend_PreNDate.index\n",
      "C:\\Users\\markchao\\AppData\\Local\\Temp/ipykernel_23784/3117343331.py:115: FutureWarning: Dropping of nuisance columns in DataFrame reductions (with 'numeric_only=None') is deprecated; in a future version this will raise TypeError.  Select only valid columns before calling the reduction.\n",
      "  Win_mean_per_Value=df_Dividend_PreOneDate[df_Dividend_PreOneDate[\"PL%\"]>0].mean()\n",
      "C:\\Users\\markchao\\AppData\\Local\\Temp/ipykernel_23784/3117343331.py:119: FutureWarning: Dropping of nuisance columns in DataFrame reductions (with 'numeric_only=None') is deprecated; in a future version this will raise TypeError.  Select only valid columns before calling the reduction.\n",
      "  Loss_mean_per_Value=df_Dividend_PreOneDate[df_Dividend_PreOneDate[\"PL%\"]<0].mean()\n"
     ]
    },
    {
     "name": "stdout",
     "output_type": "stream",
     "text": [
      "2388.TW\n"
     ]
    },
    {
     "name": "stderr",
     "output_type": "stream",
     "text": [
      "C:\\Users\\markchao\\AppData\\Local\\Temp/ipykernel_23784/3117343331.py:74: SettingWithCopyWarning: \n",
      "A value is trying to be set on a copy of a slice from a DataFrame.\n",
      "Try using .loc[row_indexer,col_indexer] = value instead\n",
      "\n",
      "See the caveats in the documentation: https://pandas.pydata.org/pandas-docs/stable/user_guide/indexing.html#returning-a-view-versus-a-copy\n",
      "  df_Dividend_PreNDate[\"Dividend_Pre\"+str(N)+\"Date\"]=df_Dividend_PreNDate.index\n",
      "C:\\Users\\markchao\\AppData\\Local\\Temp/ipykernel_23784/3117343331.py:115: FutureWarning: Dropping of nuisance columns in DataFrame reductions (with 'numeric_only=None') is deprecated; in a future version this will raise TypeError.  Select only valid columns before calling the reduction.\n",
      "  Win_mean_per_Value=df_Dividend_PreOneDate[df_Dividend_PreOneDate[\"PL%\"]>0].mean()\n",
      "C:\\Users\\markchao\\AppData\\Local\\Temp/ipykernel_23784/3117343331.py:119: FutureWarning: Dropping of nuisance columns in DataFrame reductions (with 'numeric_only=None') is deprecated; in a future version this will raise TypeError.  Select only valid columns before calling the reduction.\n",
      "  Loss_mean_per_Value=df_Dividend_PreOneDate[df_Dividend_PreOneDate[\"PL%\"]<0].mean()\n"
     ]
    },
    {
     "name": "stdout",
     "output_type": "stream",
     "text": [
      "4966.TWO\n"
     ]
    },
    {
     "name": "stderr",
     "output_type": "stream",
     "text": [
      "C:\\Users\\markchao\\AppData\\Local\\Temp/ipykernel_23784/3117343331.py:74: SettingWithCopyWarning: \n",
      "A value is trying to be set on a copy of a slice from a DataFrame.\n",
      "Try using .loc[row_indexer,col_indexer] = value instead\n",
      "\n",
      "See the caveats in the documentation: https://pandas.pydata.org/pandas-docs/stable/user_guide/indexing.html#returning-a-view-versus-a-copy\n",
      "  df_Dividend_PreNDate[\"Dividend_Pre\"+str(N)+\"Date\"]=df_Dividend_PreNDate.index\n",
      "C:\\Users\\markchao\\AppData\\Local\\Temp/ipykernel_23784/3117343331.py:115: FutureWarning: Dropping of nuisance columns in DataFrame reductions (with 'numeric_only=None') is deprecated; in a future version this will raise TypeError.  Select only valid columns before calling the reduction.\n",
      "  Win_mean_per_Value=df_Dividend_PreOneDate[df_Dividend_PreOneDate[\"PL%\"]>0].mean()\n",
      "C:\\Users\\markchao\\AppData\\Local\\Temp/ipykernel_23784/3117343331.py:119: FutureWarning: Dropping of nuisance columns in DataFrame reductions (with 'numeric_only=None') is deprecated; in a future version this will raise TypeError.  Select only valid columns before calling the reduction.\n",
      "  Loss_mean_per_Value=df_Dividend_PreOneDate[df_Dividend_PreOneDate[\"PL%\"]<0].mean()\n"
     ]
    },
    {
     "name": "stdout",
     "output_type": "stream",
     "text": [
      "2049.TW\n"
     ]
    },
    {
     "name": "stderr",
     "output_type": "stream",
     "text": [
      "C:\\Users\\markchao\\AppData\\Local\\Temp/ipykernel_23784/3117343331.py:74: SettingWithCopyWarning: \n",
      "A value is trying to be set on a copy of a slice from a DataFrame.\n",
      "Try using .loc[row_indexer,col_indexer] = value instead\n",
      "\n",
      "See the caveats in the documentation: https://pandas.pydata.org/pandas-docs/stable/user_guide/indexing.html#returning-a-view-versus-a-copy\n",
      "  df_Dividend_PreNDate[\"Dividend_Pre\"+str(N)+\"Date\"]=df_Dividend_PreNDate.index\n",
      "C:\\Users\\markchao\\AppData\\Local\\Temp/ipykernel_23784/3117343331.py:115: FutureWarning: Dropping of nuisance columns in DataFrame reductions (with 'numeric_only=None') is deprecated; in a future version this will raise TypeError.  Select only valid columns before calling the reduction.\n",
      "  Win_mean_per_Value=df_Dividend_PreOneDate[df_Dividend_PreOneDate[\"PL%\"]>0].mean()\n",
      "C:\\Users\\markchao\\AppData\\Local\\Temp/ipykernel_23784/3117343331.py:119: FutureWarning: Dropping of nuisance columns in DataFrame reductions (with 'numeric_only=None') is deprecated; in a future version this will raise TypeError.  Select only valid columns before calling the reduction.\n",
      "  Loss_mean_per_Value=df_Dividend_PreOneDate[df_Dividend_PreOneDate[\"PL%\"]<0].mean()\n"
     ]
    },
    {
     "name": "stdout",
     "output_type": "stream",
     "text": [
      "2327.TW\n"
     ]
    },
    {
     "name": "stderr",
     "output_type": "stream",
     "text": [
      "C:\\Users\\markchao\\AppData\\Local\\Temp/ipykernel_23784/3117343331.py:74: SettingWithCopyWarning: \n",
      "A value is trying to be set on a copy of a slice from a DataFrame.\n",
      "Try using .loc[row_indexer,col_indexer] = value instead\n",
      "\n",
      "See the caveats in the documentation: https://pandas.pydata.org/pandas-docs/stable/user_guide/indexing.html#returning-a-view-versus-a-copy\n",
      "  df_Dividend_PreNDate[\"Dividend_Pre\"+str(N)+\"Date\"]=df_Dividend_PreNDate.index\n",
      "C:\\Users\\markchao\\AppData\\Local\\Temp/ipykernel_23784/3117343331.py:115: FutureWarning: Dropping of nuisance columns in DataFrame reductions (with 'numeric_only=None') is deprecated; in a future version this will raise TypeError.  Select only valid columns before calling the reduction.\n",
      "  Win_mean_per_Value=df_Dividend_PreOneDate[df_Dividend_PreOneDate[\"PL%\"]>0].mean()\n",
      "C:\\Users\\markchao\\AppData\\Local\\Temp/ipykernel_23784/3117343331.py:119: FutureWarning: Dropping of nuisance columns in DataFrame reductions (with 'numeric_only=None') is deprecated; in a future version this will raise TypeError.  Select only valid columns before calling the reduction.\n",
      "  Loss_mean_per_Value=df_Dividend_PreOneDate[df_Dividend_PreOneDate[\"PL%\"]<0].mean()\n"
     ]
    },
    {
     "name": "stdout",
     "output_type": "stream",
     "text": [
      "6753.TW\n"
     ]
    },
    {
     "name": "stderr",
     "output_type": "stream",
     "text": [
      "C:\\Users\\markchao\\AppData\\Local\\Temp/ipykernel_23784/3117343331.py:74: SettingWithCopyWarning: \n",
      "A value is trying to be set on a copy of a slice from a DataFrame.\n",
      "Try using .loc[row_indexer,col_indexer] = value instead\n",
      "\n",
      "See the caveats in the documentation: https://pandas.pydata.org/pandas-docs/stable/user_guide/indexing.html#returning-a-view-versus-a-copy\n",
      "  df_Dividend_PreNDate[\"Dividend_Pre\"+str(N)+\"Date\"]=df_Dividend_PreNDate.index\n",
      "C:\\Users\\markchao\\AppData\\Local\\Temp/ipykernel_23784/3117343331.py:115: FutureWarning: Dropping of nuisance columns in DataFrame reductions (with 'numeric_only=None') is deprecated; in a future version this will raise TypeError.  Select only valid columns before calling the reduction.\n",
      "  Win_mean_per_Value=df_Dividend_PreOneDate[df_Dividend_PreOneDate[\"PL%\"]>0].mean()\n"
     ]
    },
    {
     "name": "stdout",
     "output_type": "stream",
     "text": [
      "6278.TW\n"
     ]
    },
    {
     "name": "stderr",
     "output_type": "stream",
     "text": [
      "C:\\Users\\markchao\\AppData\\Local\\Temp/ipykernel_23784/3117343331.py:74: SettingWithCopyWarning: \n",
      "A value is trying to be set on a copy of a slice from a DataFrame.\n",
      "Try using .loc[row_indexer,col_indexer] = value instead\n",
      "\n",
      "See the caveats in the documentation: https://pandas.pydata.org/pandas-docs/stable/user_guide/indexing.html#returning-a-view-versus-a-copy\n",
      "  df_Dividend_PreNDate[\"Dividend_Pre\"+str(N)+\"Date\"]=df_Dividend_PreNDate.index\n",
      "C:\\Users\\markchao\\AppData\\Local\\Temp/ipykernel_23784/3117343331.py:115: FutureWarning: Dropping of nuisance columns in DataFrame reductions (with 'numeric_only=None') is deprecated; in a future version this will raise TypeError.  Select only valid columns before calling the reduction.\n",
      "  Win_mean_per_Value=df_Dividend_PreOneDate[df_Dividend_PreOneDate[\"PL%\"]>0].mean()\n",
      "C:\\Users\\markchao\\AppData\\Local\\Temp/ipykernel_23784/3117343331.py:119: FutureWarning: Dropping of nuisance columns in DataFrame reductions (with 'numeric_only=None') is deprecated; in a future version this will raise TypeError.  Select only valid columns before calling the reduction.\n",
      "  Loss_mean_per_Value=df_Dividend_PreOneDate[df_Dividend_PreOneDate[\"PL%\"]<0].mean()\n"
     ]
    },
    {
     "name": "stdout",
     "output_type": "stream",
     "text": [
      "8069.TWO\n"
     ]
    },
    {
     "name": "stderr",
     "output_type": "stream",
     "text": [
      "C:\\Users\\markchao\\AppData\\Local\\Temp/ipykernel_23784/3117343331.py:74: SettingWithCopyWarning: \n",
      "A value is trying to be set on a copy of a slice from a DataFrame.\n",
      "Try using .loc[row_indexer,col_indexer] = value instead\n",
      "\n",
      "See the caveats in the documentation: https://pandas.pydata.org/pandas-docs/stable/user_guide/indexing.html#returning-a-view-versus-a-copy\n",
      "  df_Dividend_PreNDate[\"Dividend_Pre\"+str(N)+\"Date\"]=df_Dividend_PreNDate.index\n",
      "C:\\Users\\markchao\\AppData\\Local\\Temp/ipykernel_23784/3117343331.py:115: FutureWarning: Dropping of nuisance columns in DataFrame reductions (with 'numeric_only=None') is deprecated; in a future version this will raise TypeError.  Select only valid columns before calling the reduction.\n",
      "  Win_mean_per_Value=df_Dividend_PreOneDate[df_Dividend_PreOneDate[\"PL%\"]>0].mean()\n",
      "C:\\Users\\markchao\\AppData\\Local\\Temp/ipykernel_23784/3117343331.py:119: FutureWarning: Dropping of nuisance columns in DataFrame reductions (with 'numeric_only=None') is deprecated; in a future version this will raise TypeError.  Select only valid columns before calling the reduction.\n",
      "  Loss_mean_per_Value=df_Dividend_PreOneDate[df_Dividend_PreOneDate[\"PL%\"]<0].mean()\n"
     ]
    },
    {
     "name": "stdout",
     "output_type": "stream",
     "text": [
      "2883.TW\n"
     ]
    },
    {
     "name": "stderr",
     "output_type": "stream",
     "text": [
      "C:\\Users\\markchao\\AppData\\Local\\Temp/ipykernel_23784/3117343331.py:74: SettingWithCopyWarning: \n",
      "A value is trying to be set on a copy of a slice from a DataFrame.\n",
      "Try using .loc[row_indexer,col_indexer] = value instead\n",
      "\n",
      "See the caveats in the documentation: https://pandas.pydata.org/pandas-docs/stable/user_guide/indexing.html#returning-a-view-versus-a-copy\n",
      "  df_Dividend_PreNDate[\"Dividend_Pre\"+str(N)+\"Date\"]=df_Dividend_PreNDate.index\n",
      "C:\\Users\\markchao\\AppData\\Local\\Temp/ipykernel_23784/3117343331.py:115: FutureWarning: Dropping of nuisance columns in DataFrame reductions (with 'numeric_only=None') is deprecated; in a future version this will raise TypeError.  Select only valid columns before calling the reduction.\n",
      "  Win_mean_per_Value=df_Dividend_PreOneDate[df_Dividend_PreOneDate[\"PL%\"]>0].mean()\n",
      "C:\\Users\\markchao\\AppData\\Local\\Temp/ipykernel_23784/3117343331.py:119: FutureWarning: Dropping of nuisance columns in DataFrame reductions (with 'numeric_only=None') is deprecated; in a future version this will raise TypeError.  Select only valid columns before calling the reduction.\n",
      "  Loss_mean_per_Value=df_Dividend_PreOneDate[df_Dividend_PreOneDate[\"PL%\"]<0].mean()\n"
     ]
    },
    {
     "name": "stdout",
     "output_type": "stream",
     "text": [
      "8936.TWO\n"
     ]
    },
    {
     "name": "stderr",
     "output_type": "stream",
     "text": [
      "C:\\Users\\markchao\\AppData\\Local\\Temp/ipykernel_23784/3117343331.py:74: SettingWithCopyWarning: \n",
      "A value is trying to be set on a copy of a slice from a DataFrame.\n",
      "Try using .loc[row_indexer,col_indexer] = value instead\n",
      "\n",
      "See the caveats in the documentation: https://pandas.pydata.org/pandas-docs/stable/user_guide/indexing.html#returning-a-view-versus-a-copy\n",
      "  df_Dividend_PreNDate[\"Dividend_Pre\"+str(N)+\"Date\"]=df_Dividend_PreNDate.index\n",
      "C:\\Users\\markchao\\AppData\\Local\\Temp/ipykernel_23784/3117343331.py:115: FutureWarning: Dropping of nuisance columns in DataFrame reductions (with 'numeric_only=None') is deprecated; in a future version this will raise TypeError.  Select only valid columns before calling the reduction.\n",
      "  Win_mean_per_Value=df_Dividend_PreOneDate[df_Dividend_PreOneDate[\"PL%\"]>0].mean()\n",
      "C:\\Users\\markchao\\AppData\\Local\\Temp/ipykernel_23784/3117343331.py:119: FutureWarning: Dropping of nuisance columns in DataFrame reductions (with 'numeric_only=None') is deprecated; in a future version this will raise TypeError.  Select only valid columns before calling the reduction.\n",
      "  Loss_mean_per_Value=df_Dividend_PreOneDate[df_Dividend_PreOneDate[\"PL%\"]<0].mean()\n"
     ]
    },
    {
     "name": "stdout",
     "output_type": "stream",
     "text": [
      "2474.TW\n"
     ]
    },
    {
     "name": "stderr",
     "output_type": "stream",
     "text": [
      "C:\\Users\\markchao\\AppData\\Local\\Temp/ipykernel_23784/3117343331.py:74: SettingWithCopyWarning: \n",
      "A value is trying to be set on a copy of a slice from a DataFrame.\n",
      "Try using .loc[row_indexer,col_indexer] = value instead\n",
      "\n",
      "See the caveats in the documentation: https://pandas.pydata.org/pandas-docs/stable/user_guide/indexing.html#returning-a-view-versus-a-copy\n",
      "  df_Dividend_PreNDate[\"Dividend_Pre\"+str(N)+\"Date\"]=df_Dividend_PreNDate.index\n",
      "C:\\Users\\markchao\\AppData\\Local\\Temp/ipykernel_23784/3117343331.py:115: FutureWarning: Dropping of nuisance columns in DataFrame reductions (with 'numeric_only=None') is deprecated; in a future version this will raise TypeError.  Select only valid columns before calling the reduction.\n",
      "  Win_mean_per_Value=df_Dividend_PreOneDate[df_Dividend_PreOneDate[\"PL%\"]>0].mean()\n",
      "C:\\Users\\markchao\\AppData\\Local\\Temp/ipykernel_23784/3117343331.py:119: FutureWarning: Dropping of nuisance columns in DataFrame reductions (with 'numeric_only=None') is deprecated; in a future version this will raise TypeError.  Select only valid columns before calling the reduction.\n",
      "  Loss_mean_per_Value=df_Dividend_PreOneDate[df_Dividend_PreOneDate[\"PL%\"]<0].mean()\n"
     ]
    },
    {
     "name": "stdout",
     "output_type": "stream",
     "text": [
      "1301.TW\n"
     ]
    },
    {
     "name": "stderr",
     "output_type": "stream",
     "text": [
      "C:\\Users\\markchao\\AppData\\Local\\Temp/ipykernel_23784/3117343331.py:74: SettingWithCopyWarning: \n",
      "A value is trying to be set on a copy of a slice from a DataFrame.\n",
      "Try using .loc[row_indexer,col_indexer] = value instead\n",
      "\n",
      "See the caveats in the documentation: https://pandas.pydata.org/pandas-docs/stable/user_guide/indexing.html#returning-a-view-versus-a-copy\n",
      "  df_Dividend_PreNDate[\"Dividend_Pre\"+str(N)+\"Date\"]=df_Dividend_PreNDate.index\n",
      "C:\\Users\\markchao\\AppData\\Local\\Temp/ipykernel_23784/3117343331.py:115: FutureWarning: Dropping of nuisance columns in DataFrame reductions (with 'numeric_only=None') is deprecated; in a future version this will raise TypeError.  Select only valid columns before calling the reduction.\n",
      "  Win_mean_per_Value=df_Dividend_PreOneDate[df_Dividend_PreOneDate[\"PL%\"]>0].mean()\n",
      "C:\\Users\\markchao\\AppData\\Local\\Temp/ipykernel_23784/3117343331.py:119: FutureWarning: Dropping of nuisance columns in DataFrame reductions (with 'numeric_only=None') is deprecated; in a future version this will raise TypeError.  Select only valid columns before calling the reduction.\n",
      "  Loss_mean_per_Value=df_Dividend_PreOneDate[df_Dividend_PreOneDate[\"PL%\"]<0].mean()\n"
     ]
    },
    {
     "name": "stdout",
     "output_type": "stream",
     "text": [
      "5274.TWO\n"
     ]
    },
    {
     "name": "stderr",
     "output_type": "stream",
     "text": [
      "C:\\Users\\markchao\\AppData\\Local\\Temp/ipykernel_23784/3117343331.py:74: SettingWithCopyWarning: \n",
      "A value is trying to be set on a copy of a slice from a DataFrame.\n",
      "Try using .loc[row_indexer,col_indexer] = value instead\n",
      "\n",
      "See the caveats in the documentation: https://pandas.pydata.org/pandas-docs/stable/user_guide/indexing.html#returning-a-view-versus-a-copy\n",
      "  df_Dividend_PreNDate[\"Dividend_Pre\"+str(N)+\"Date\"]=df_Dividend_PreNDate.index\n",
      "C:\\Users\\markchao\\AppData\\Local\\Temp/ipykernel_23784/3117343331.py:115: FutureWarning: Dropping of nuisance columns in DataFrame reductions (with 'numeric_only=None') is deprecated; in a future version this will raise TypeError.  Select only valid columns before calling the reduction.\n",
      "  Win_mean_per_Value=df_Dividend_PreOneDate[df_Dividend_PreOneDate[\"PL%\"]>0].mean()\n",
      "C:\\Users\\markchao\\AppData\\Local\\Temp/ipykernel_23784/3117343331.py:119: FutureWarning: Dropping of nuisance columns in DataFrame reductions (with 'numeric_only=None') is deprecated; in a future version this will raise TypeError.  Select only valid columns before calling the reduction.\n",
      "  Loss_mean_per_Value=df_Dividend_PreOneDate[df_Dividend_PreOneDate[\"PL%\"]<0].mean()\n"
     ]
    },
    {
     "name": "stdout",
     "output_type": "stream",
     "text": [
      "2886.TW\n"
     ]
    },
    {
     "name": "stderr",
     "output_type": "stream",
     "text": [
      "C:\\Users\\markchao\\AppData\\Local\\Temp/ipykernel_23784/3117343331.py:74: SettingWithCopyWarning: \n",
      "A value is trying to be set on a copy of a slice from a DataFrame.\n",
      "Try using .loc[row_indexer,col_indexer] = value instead\n",
      "\n",
      "See the caveats in the documentation: https://pandas.pydata.org/pandas-docs/stable/user_guide/indexing.html#returning-a-view-versus-a-copy\n",
      "  df_Dividend_PreNDate[\"Dividend_Pre\"+str(N)+\"Date\"]=df_Dividend_PreNDate.index\n",
      "C:\\Users\\markchao\\AppData\\Local\\Temp/ipykernel_23784/3117343331.py:115: FutureWarning: Dropping of nuisance columns in DataFrame reductions (with 'numeric_only=None') is deprecated; in a future version this will raise TypeError.  Select only valid columns before calling the reduction.\n",
      "  Win_mean_per_Value=df_Dividend_PreOneDate[df_Dividend_PreOneDate[\"PL%\"]>0].mean()\n",
      "C:\\Users\\markchao\\AppData\\Local\\Temp/ipykernel_23784/3117343331.py:119: FutureWarning: Dropping of nuisance columns in DataFrame reductions (with 'numeric_only=None') is deprecated; in a future version this will raise TypeError.  Select only valid columns before calling the reduction.\n",
      "  Loss_mean_per_Value=df_Dividend_PreOneDate[df_Dividend_PreOneDate[\"PL%\"]<0].mean()\n"
     ]
    },
    {
     "name": "stdout",
     "output_type": "stream",
     "text": [
      "3189.TW\n"
     ]
    },
    {
     "name": "stderr",
     "output_type": "stream",
     "text": [
      "C:\\Users\\markchao\\AppData\\Local\\Temp/ipykernel_23784/3117343331.py:74: SettingWithCopyWarning: \n",
      "A value is trying to be set on a copy of a slice from a DataFrame.\n",
      "Try using .loc[row_indexer,col_indexer] = value instead\n",
      "\n",
      "See the caveats in the documentation: https://pandas.pydata.org/pandas-docs/stable/user_guide/indexing.html#returning-a-view-versus-a-copy\n",
      "  df_Dividend_PreNDate[\"Dividend_Pre\"+str(N)+\"Date\"]=df_Dividend_PreNDate.index\n",
      "C:\\Users\\markchao\\AppData\\Local\\Temp/ipykernel_23784/3117343331.py:115: FutureWarning: Dropping of nuisance columns in DataFrame reductions (with 'numeric_only=None') is deprecated; in a future version this will raise TypeError.  Select only valid columns before calling the reduction.\n",
      "  Win_mean_per_Value=df_Dividend_PreOneDate[df_Dividend_PreOneDate[\"PL%\"]>0].mean()\n",
      "C:\\Users\\markchao\\AppData\\Local\\Temp/ipykernel_23784/3117343331.py:119: FutureWarning: Dropping of nuisance columns in DataFrame reductions (with 'numeric_only=None') is deprecated; in a future version this will raise TypeError.  Select only valid columns before calling the reduction.\n",
      "  Loss_mean_per_Value=df_Dividend_PreOneDate[df_Dividend_PreOneDate[\"PL%\"]<0].mean()\n"
     ]
    },
    {
     "name": "stdout",
     "output_type": "stream",
     "text": [
      "1101.TW\n"
     ]
    },
    {
     "name": "stderr",
     "output_type": "stream",
     "text": [
      "C:\\Users\\markchao\\AppData\\Local\\Temp/ipykernel_23784/3117343331.py:74: SettingWithCopyWarning: \n",
      "A value is trying to be set on a copy of a slice from a DataFrame.\n",
      "Try using .loc[row_indexer,col_indexer] = value instead\n",
      "\n",
      "See the caveats in the documentation: https://pandas.pydata.org/pandas-docs/stable/user_guide/indexing.html#returning-a-view-versus-a-copy\n",
      "  df_Dividend_PreNDate[\"Dividend_Pre\"+str(N)+\"Date\"]=df_Dividend_PreNDate.index\n",
      "C:\\Users\\markchao\\AppData\\Local\\Temp/ipykernel_23784/3117343331.py:115: FutureWarning: Dropping of nuisance columns in DataFrame reductions (with 'numeric_only=None') is deprecated; in a future version this will raise TypeError.  Select only valid columns before calling the reduction.\n",
      "  Win_mean_per_Value=df_Dividend_PreOneDate[df_Dividend_PreOneDate[\"PL%\"]>0].mean()\n",
      "C:\\Users\\markchao\\AppData\\Local\\Temp/ipykernel_23784/3117343331.py:119: FutureWarning: Dropping of nuisance columns in DataFrame reductions (with 'numeric_only=None') is deprecated; in a future version this will raise TypeError.  Select only valid columns before calling the reduction.\n",
      "  Loss_mean_per_Value=df_Dividend_PreOneDate[df_Dividend_PreOneDate[\"PL%\"]<0].mean()\n"
     ]
    },
    {
     "name": "stdout",
     "output_type": "stream",
     "text": [
      "2882.TW\n"
     ]
    },
    {
     "name": "stderr",
     "output_type": "stream",
     "text": [
      "C:\\Users\\markchao\\AppData\\Local\\Temp/ipykernel_23784/3117343331.py:74: SettingWithCopyWarning: \n",
      "A value is trying to be set on a copy of a slice from a DataFrame.\n",
      "Try using .loc[row_indexer,col_indexer] = value instead\n",
      "\n",
      "See the caveats in the documentation: https://pandas.pydata.org/pandas-docs/stable/user_guide/indexing.html#returning-a-view-versus-a-copy\n",
      "  df_Dividend_PreNDate[\"Dividend_Pre\"+str(N)+\"Date\"]=df_Dividend_PreNDate.index\n",
      "C:\\Users\\markchao\\AppData\\Local\\Temp/ipykernel_23784/3117343331.py:115: FutureWarning: Dropping of nuisance columns in DataFrame reductions (with 'numeric_only=None') is deprecated; in a future version this will raise TypeError.  Select only valid columns before calling the reduction.\n",
      "  Win_mean_per_Value=df_Dividend_PreOneDate[df_Dividend_PreOneDate[\"PL%\"]>0].mean()\n",
      "C:\\Users\\markchao\\AppData\\Local\\Temp/ipykernel_23784/3117343331.py:119: FutureWarning: Dropping of nuisance columns in DataFrame reductions (with 'numeric_only=None') is deprecated; in a future version this will raise TypeError.  Select only valid columns before calling the reduction.\n",
      "  Loss_mean_per_Value=df_Dividend_PreOneDate[df_Dividend_PreOneDate[\"PL%\"]<0].mean()\n"
     ]
    },
    {
     "name": "stdout",
     "output_type": "stream",
     "text": [
      "4968.TW\n"
     ]
    },
    {
     "name": "stderr",
     "output_type": "stream",
     "text": [
      "C:\\Users\\markchao\\AppData\\Local\\Temp/ipykernel_23784/3117343331.py:74: SettingWithCopyWarning: \n",
      "A value is trying to be set on a copy of a slice from a DataFrame.\n",
      "Try using .loc[row_indexer,col_indexer] = value instead\n",
      "\n",
      "See the caveats in the documentation: https://pandas.pydata.org/pandas-docs/stable/user_guide/indexing.html#returning-a-view-versus-a-copy\n",
      "  df_Dividend_PreNDate[\"Dividend_Pre\"+str(N)+\"Date\"]=df_Dividend_PreNDate.index\n",
      "C:\\Users\\markchao\\AppData\\Local\\Temp/ipykernel_23784/3117343331.py:115: FutureWarning: Dropping of nuisance columns in DataFrame reductions (with 'numeric_only=None') is deprecated; in a future version this will raise TypeError.  Select only valid columns before calling the reduction.\n",
      "  Win_mean_per_Value=df_Dividend_PreOneDate[df_Dividend_PreOneDate[\"PL%\"]>0].mean()\n",
      "C:\\Users\\markchao\\AppData\\Local\\Temp/ipykernel_23784/3117343331.py:119: FutureWarning: Dropping of nuisance columns in DataFrame reductions (with 'numeric_only=None') is deprecated; in a future version this will raise TypeError.  Select only valid columns before calling the reduction.\n",
      "  Loss_mean_per_Value=df_Dividend_PreOneDate[df_Dividend_PreOneDate[\"PL%\"]<0].mean()\n"
     ]
    },
    {
     "name": "stdout",
     "output_type": "stream",
     "text": [
      "3147.TWO\n"
     ]
    },
    {
     "name": "stderr",
     "output_type": "stream",
     "text": [
      "C:\\Users\\markchao\\AppData\\Local\\Temp/ipykernel_23784/3117343331.py:74: SettingWithCopyWarning: \n",
      "A value is trying to be set on a copy of a slice from a DataFrame.\n",
      "Try using .loc[row_indexer,col_indexer] = value instead\n",
      "\n",
      "See the caveats in the documentation: https://pandas.pydata.org/pandas-docs/stable/user_guide/indexing.html#returning-a-view-versus-a-copy\n",
      "  df_Dividend_PreNDate[\"Dividend_Pre\"+str(N)+\"Date\"]=df_Dividend_PreNDate.index\n",
      "C:\\Users\\markchao\\AppData\\Local\\Temp/ipykernel_23784/3117343331.py:115: FutureWarning: Dropping of nuisance columns in DataFrame reductions (with 'numeric_only=None') is deprecated; in a future version this will raise TypeError.  Select only valid columns before calling the reduction.\n",
      "  Win_mean_per_Value=df_Dividend_PreOneDate[df_Dividend_PreOneDate[\"PL%\"]>0].mean()\n",
      "C:\\Users\\markchao\\AppData\\Local\\Temp/ipykernel_23784/3117343331.py:119: FutureWarning: Dropping of nuisance columns in DataFrame reductions (with 'numeric_only=None') is deprecated; in a future version this will raise TypeError.  Select only valid columns before calling the reduction.\n",
      "  Loss_mean_per_Value=df_Dividend_PreOneDate[df_Dividend_PreOneDate[\"PL%\"]<0].mean()\n"
     ]
    },
    {
     "name": "stdout",
     "output_type": "stream",
     "text": [
      "4771.TW\n"
     ]
    },
    {
     "name": "stderr",
     "output_type": "stream",
     "text": [
      "C:\\Users\\markchao\\AppData\\Local\\Temp/ipykernel_23784/3117343331.py:74: SettingWithCopyWarning: \n",
      "A value is trying to be set on a copy of a slice from a DataFrame.\n",
      "Try using .loc[row_indexer,col_indexer] = value instead\n",
      "\n",
      "See the caveats in the documentation: https://pandas.pydata.org/pandas-docs/stable/user_guide/indexing.html#returning-a-view-versus-a-copy\n",
      "  df_Dividend_PreNDate[\"Dividend_Pre\"+str(N)+\"Date\"]=df_Dividend_PreNDate.index\n",
      "C:\\Users\\markchao\\AppData\\Local\\Temp/ipykernel_23784/3117343331.py:119: FutureWarning: Dropping of nuisance columns in DataFrame reductions (with 'numeric_only=None') is deprecated; in a future version this will raise TypeError.  Select only valid columns before calling the reduction.\n",
      "  Loss_mean_per_Value=df_Dividend_PreOneDate[df_Dividend_PreOneDate[\"PL%\"]<0].mean()\n"
     ]
    },
    {
     "name": "stdout",
     "output_type": "stream",
     "text": [
      "6805.TW\n",
      "6146.TWO\n"
     ]
    },
    {
     "name": "stderr",
     "output_type": "stream",
     "text": [
      "C:\\Users\\markchao\\AppData\\Local\\Temp/ipykernel_23784/3117343331.py:74: SettingWithCopyWarning: \n",
      "A value is trying to be set on a copy of a slice from a DataFrame.\n",
      "Try using .loc[row_indexer,col_indexer] = value instead\n",
      "\n",
      "See the caveats in the documentation: https://pandas.pydata.org/pandas-docs/stable/user_guide/indexing.html#returning-a-view-versus-a-copy\n",
      "  df_Dividend_PreNDate[\"Dividend_Pre\"+str(N)+\"Date\"]=df_Dividend_PreNDate.index\n",
      "C:\\Users\\markchao\\AppData\\Local\\Temp/ipykernel_23784/3117343331.py:74: SettingWithCopyWarning: \n",
      "A value is trying to be set on a copy of a slice from a DataFrame.\n",
      "Try using .loc[row_indexer,col_indexer] = value instead\n",
      "\n",
      "See the caveats in the documentation: https://pandas.pydata.org/pandas-docs/stable/user_guide/indexing.html#returning-a-view-versus-a-copy\n",
      "  df_Dividend_PreNDate[\"Dividend_Pre\"+str(N)+\"Date\"]=df_Dividend_PreNDate.index\n",
      "C:\\Users\\markchao\\AppData\\Local\\Temp/ipykernel_23784/3117343331.py:115: FutureWarning: Dropping of nuisance columns in DataFrame reductions (with 'numeric_only=None') is deprecated; in a future version this will raise TypeError.  Select only valid columns before calling the reduction.\n",
      "  Win_mean_per_Value=df_Dividend_PreOneDate[df_Dividend_PreOneDate[\"PL%\"]>0].mean()\n",
      "C:\\Users\\markchao\\AppData\\Local\\Temp/ipykernel_23784/3117343331.py:119: FutureWarning: Dropping of nuisance columns in DataFrame reductions (with 'numeric_only=None') is deprecated; in a future version this will raise TypeError.  Select only valid columns before calling the reduction.\n",
      "  Loss_mean_per_Value=df_Dividend_PreOneDate[df_Dividend_PreOneDate[\"PL%\"]<0].mean()\n"
     ]
    },
    {
     "name": "stdout",
     "output_type": "stream",
     "text": [
      "8150.TW\n"
     ]
    },
    {
     "name": "stderr",
     "output_type": "stream",
     "text": [
      "C:\\Users\\markchao\\AppData\\Local\\Temp/ipykernel_23784/3117343331.py:74: SettingWithCopyWarning: \n",
      "A value is trying to be set on a copy of a slice from a DataFrame.\n",
      "Try using .loc[row_indexer,col_indexer] = value instead\n",
      "\n",
      "See the caveats in the documentation: https://pandas.pydata.org/pandas-docs/stable/user_guide/indexing.html#returning-a-view-versus-a-copy\n",
      "  df_Dividend_PreNDate[\"Dividend_Pre\"+str(N)+\"Date\"]=df_Dividend_PreNDate.index\n",
      "C:\\Users\\markchao\\AppData\\Local\\Temp/ipykernel_23784/3117343331.py:115: FutureWarning: Dropping of nuisance columns in DataFrame reductions (with 'numeric_only=None') is deprecated; in a future version this will raise TypeError.  Select only valid columns before calling the reduction.\n",
      "  Win_mean_per_Value=df_Dividend_PreOneDate[df_Dividend_PreOneDate[\"PL%\"]>0].mean()\n",
      "C:\\Users\\markchao\\AppData\\Local\\Temp/ipykernel_23784/3117343331.py:119: FutureWarning: Dropping of nuisance columns in DataFrame reductions (with 'numeric_only=None') is deprecated; in a future version this will raise TypeError.  Select only valid columns before calling the reduction.\n",
      "  Loss_mean_per_Value=df_Dividend_PreOneDate[df_Dividend_PreOneDate[\"PL%\"]<0].mean()\n"
     ]
    },
    {
     "name": "stdout",
     "output_type": "stream",
     "text": [
      "6188.TWO\n"
     ]
    },
    {
     "name": "stderr",
     "output_type": "stream",
     "text": [
      "C:\\Users\\markchao\\AppData\\Local\\Temp/ipykernel_23784/3117343331.py:74: SettingWithCopyWarning: \n",
      "A value is trying to be set on a copy of a slice from a DataFrame.\n",
      "Try using .loc[row_indexer,col_indexer] = value instead\n",
      "\n",
      "See the caveats in the documentation: https://pandas.pydata.org/pandas-docs/stable/user_guide/indexing.html#returning-a-view-versus-a-copy\n",
      "  df_Dividend_PreNDate[\"Dividend_Pre\"+str(N)+\"Date\"]=df_Dividend_PreNDate.index\n",
      "C:\\Users\\markchao\\AppData\\Local\\Temp/ipykernel_23784/3117343331.py:115: FutureWarning: Dropping of nuisance columns in DataFrame reductions (with 'numeric_only=None') is deprecated; in a future version this will raise TypeError.  Select only valid columns before calling the reduction.\n",
      "  Win_mean_per_Value=df_Dividend_PreOneDate[df_Dividend_PreOneDate[\"PL%\"]>0].mean()\n",
      "C:\\Users\\markchao\\AppData\\Local\\Temp/ipykernel_23784/3117343331.py:119: FutureWarning: Dropping of nuisance columns in DataFrame reductions (with 'numeric_only=None') is deprecated; in a future version this will raise TypeError.  Select only valid columns before calling the reduction.\n",
      "  Loss_mean_per_Value=df_Dividend_PreOneDate[df_Dividend_PreOneDate[\"PL%\"]<0].mean()\n"
     ]
    },
    {
     "name": "stdout",
     "output_type": "stream",
     "text": [
      "8234.TWO\n"
     ]
    },
    {
     "name": "stderr",
     "output_type": "stream",
     "text": [
      "C:\\Users\\markchao\\AppData\\Local\\Temp/ipykernel_23784/3117343331.py:74: SettingWithCopyWarning: \n",
      "A value is trying to be set on a copy of a slice from a DataFrame.\n",
      "Try using .loc[row_indexer,col_indexer] = value instead\n",
      "\n",
      "See the caveats in the documentation: https://pandas.pydata.org/pandas-docs/stable/user_guide/indexing.html#returning-a-view-versus-a-copy\n",
      "  df_Dividend_PreNDate[\"Dividend_Pre\"+str(N)+\"Date\"]=df_Dividend_PreNDate.index\n",
      "C:\\Users\\markchao\\AppData\\Local\\Temp/ipykernel_23784/3117343331.py:115: FutureWarning: Dropping of nuisance columns in DataFrame reductions (with 'numeric_only=None') is deprecated; in a future version this will raise TypeError.  Select only valid columns before calling the reduction.\n",
      "  Win_mean_per_Value=df_Dividend_PreOneDate[df_Dividend_PreOneDate[\"PL%\"]>0].mean()\n",
      "C:\\Users\\markchao\\AppData\\Local\\Temp/ipykernel_23784/3117343331.py:119: FutureWarning: Dropping of nuisance columns in DataFrame reductions (with 'numeric_only=None') is deprecated; in a future version this will raise TypeError.  Select only valid columns before calling the reduction.\n",
      "  Loss_mean_per_Value=df_Dividend_PreOneDate[df_Dividend_PreOneDate[\"PL%\"]<0].mean()\n"
     ]
    },
    {
     "name": "stdout",
     "output_type": "stream",
     "text": [
      "2371.TW\n"
     ]
    },
    {
     "name": "stderr",
     "output_type": "stream",
     "text": [
      "C:\\Users\\markchao\\AppData\\Local\\Temp/ipykernel_23784/3117343331.py:74: SettingWithCopyWarning: \n",
      "A value is trying to be set on a copy of a slice from a DataFrame.\n",
      "Try using .loc[row_indexer,col_indexer] = value instead\n",
      "\n",
      "See the caveats in the documentation: https://pandas.pydata.org/pandas-docs/stable/user_guide/indexing.html#returning-a-view-versus-a-copy\n",
      "  df_Dividend_PreNDate[\"Dividend_Pre\"+str(N)+\"Date\"]=df_Dividend_PreNDate.index\n"
     ]
    },
    {
     "name": "stdout",
     "output_type": "stream",
     "text": [
      "2467.TW\n"
     ]
    },
    {
     "name": "stderr",
     "output_type": "stream",
     "text": [
      "C:\\Users\\markchao\\AppData\\Local\\Temp/ipykernel_23784/3117343331.py:74: SettingWithCopyWarning: \n",
      "A value is trying to be set on a copy of a slice from a DataFrame.\n",
      "Try using .loc[row_indexer,col_indexer] = value instead\n",
      "\n",
      "See the caveats in the documentation: https://pandas.pydata.org/pandas-docs/stable/user_guide/indexing.html#returning-a-view-versus-a-copy\n",
      "  df_Dividend_PreNDate[\"Dividend_Pre\"+str(N)+\"Date\"]=df_Dividend_PreNDate.index\n",
      "C:\\Users\\markchao\\AppData\\Local\\Temp/ipykernel_23784/3117343331.py:115: FutureWarning: Dropping of nuisance columns in DataFrame reductions (with 'numeric_only=None') is deprecated; in a future version this will raise TypeError.  Select only valid columns before calling the reduction.\n",
      "  Win_mean_per_Value=df_Dividend_PreOneDate[df_Dividend_PreOneDate[\"PL%\"]>0].mean()\n",
      "C:\\Users\\markchao\\AppData\\Local\\Temp/ipykernel_23784/3117343331.py:119: FutureWarning: Dropping of nuisance columns in DataFrame reductions (with 'numeric_only=None') is deprecated; in a future version this will raise TypeError.  Select only valid columns before calling the reduction.\n",
      "  Loss_mean_per_Value=df_Dividend_PreOneDate[df_Dividend_PreOneDate[\"PL%\"]<0].mean()\n"
     ]
    },
    {
     "name": "stdout",
     "output_type": "stream",
     "text": [
      "6166.TW\n"
     ]
    },
    {
     "name": "stderr",
     "output_type": "stream",
     "text": [
      "C:\\Users\\markchao\\AppData\\Local\\Temp/ipykernel_23784/3117343331.py:74: SettingWithCopyWarning: \n",
      "A value is trying to be set on a copy of a slice from a DataFrame.\n",
      "Try using .loc[row_indexer,col_indexer] = value instead\n",
      "\n",
      "See the caveats in the documentation: https://pandas.pydata.org/pandas-docs/stable/user_guide/indexing.html#returning-a-view-versus-a-copy\n",
      "  df_Dividend_PreNDate[\"Dividend_Pre\"+str(N)+\"Date\"]=df_Dividend_PreNDate.index\n",
      "C:\\Users\\markchao\\AppData\\Local\\Temp/ipykernel_23784/3117343331.py:115: FutureWarning: Dropping of nuisance columns in DataFrame reductions (with 'numeric_only=None') is deprecated; in a future version this will raise TypeError.  Select only valid columns before calling the reduction.\n",
      "  Win_mean_per_Value=df_Dividend_PreOneDate[df_Dividend_PreOneDate[\"PL%\"]>0].mean()\n",
      "C:\\Users\\markchao\\AppData\\Local\\Temp/ipykernel_23784/3117343331.py:119: FutureWarning: Dropping of nuisance columns in DataFrame reductions (with 'numeric_only=None') is deprecated; in a future version this will raise TypeError.  Select only valid columns before calling the reduction.\n",
      "  Loss_mean_per_Value=df_Dividend_PreOneDate[df_Dividend_PreOneDate[\"PL%\"]<0].mean()\n"
     ]
    },
    {
     "name": "stdout",
     "output_type": "stream",
     "text": [
      "6223.TWO\n"
     ]
    },
    {
     "name": "stderr",
     "output_type": "stream",
     "text": [
      "C:\\Users\\markchao\\AppData\\Local\\Temp/ipykernel_23784/3117343331.py:74: SettingWithCopyWarning: \n",
      "A value is trying to be set on a copy of a slice from a DataFrame.\n",
      "Try using .loc[row_indexer,col_indexer] = value instead\n",
      "\n",
      "See the caveats in the documentation: https://pandas.pydata.org/pandas-docs/stable/user_guide/indexing.html#returning-a-view-versus-a-copy\n",
      "  df_Dividend_PreNDate[\"Dividend_Pre\"+str(N)+\"Date\"]=df_Dividend_PreNDate.index\n",
      "C:\\Users\\markchao\\AppData\\Local\\Temp/ipykernel_23784/3117343331.py:115: FutureWarning: Dropping of nuisance columns in DataFrame reductions (with 'numeric_only=None') is deprecated; in a future version this will raise TypeError.  Select only valid columns before calling the reduction.\n",
      "  Win_mean_per_Value=df_Dividend_PreOneDate[df_Dividend_PreOneDate[\"PL%\"]>0].mean()\n",
      "C:\\Users\\markchao\\AppData\\Local\\Temp/ipykernel_23784/3117343331.py:119: FutureWarning: Dropping of nuisance columns in DataFrame reductions (with 'numeric_only=None') is deprecated; in a future version this will raise TypeError.  Select only valid columns before calling the reduction.\n",
      "  Loss_mean_per_Value=df_Dividend_PreOneDate[df_Dividend_PreOneDate[\"PL%\"]<0].mean()\n"
     ]
    },
    {
     "name": "stdout",
     "output_type": "stream",
     "text": [
      "1216.TW\n"
     ]
    },
    {
     "name": "stderr",
     "output_type": "stream",
     "text": [
      "C:\\Users\\markchao\\AppData\\Local\\Temp/ipykernel_23784/3117343331.py:74: SettingWithCopyWarning: \n",
      "A value is trying to be set on a copy of a slice from a DataFrame.\n",
      "Try using .loc[row_indexer,col_indexer] = value instead\n",
      "\n",
      "See the caveats in the documentation: https://pandas.pydata.org/pandas-docs/stable/user_guide/indexing.html#returning-a-view-versus-a-copy\n",
      "  df_Dividend_PreNDate[\"Dividend_Pre\"+str(N)+\"Date\"]=df_Dividend_PreNDate.index\n",
      "C:\\Users\\markchao\\AppData\\Local\\Temp/ipykernel_23784/3117343331.py:115: FutureWarning: Dropping of nuisance columns in DataFrame reductions (with 'numeric_only=None') is deprecated; in a future version this will raise TypeError.  Select only valid columns before calling the reduction.\n",
      "  Win_mean_per_Value=df_Dividend_PreOneDate[df_Dividend_PreOneDate[\"PL%\"]>0].mean()\n",
      "C:\\Users\\markchao\\AppData\\Local\\Temp/ipykernel_23784/3117343331.py:119: FutureWarning: Dropping of nuisance columns in DataFrame reductions (with 'numeric_only=None') is deprecated; in a future version this will raise TypeError.  Select only valid columns before calling the reduction.\n",
      "  Loss_mean_per_Value=df_Dividend_PreOneDate[df_Dividend_PreOneDate[\"PL%\"]<0].mean()\n"
     ]
    },
    {
     "name": "stdout",
     "output_type": "stream",
     "text": [
      "2344.TW\n"
     ]
    },
    {
     "name": "stderr",
     "output_type": "stream",
     "text": [
      "C:\\Users\\markchao\\AppData\\Local\\Temp/ipykernel_23784/3117343331.py:74: SettingWithCopyWarning: \n",
      "A value is trying to be set on a copy of a slice from a DataFrame.\n",
      "Try using .loc[row_indexer,col_indexer] = value instead\n",
      "\n",
      "See the caveats in the documentation: https://pandas.pydata.org/pandas-docs/stable/user_guide/indexing.html#returning-a-view-versus-a-copy\n",
      "  df_Dividend_PreNDate[\"Dividend_Pre\"+str(N)+\"Date\"]=df_Dividend_PreNDate.index\n",
      "C:\\Users\\markchao\\AppData\\Local\\Temp/ipykernel_23784/3117343331.py:115: FutureWarning: Dropping of nuisance columns in DataFrame reductions (with 'numeric_only=None') is deprecated; in a future version this will raise TypeError.  Select only valid columns before calling the reduction.\n",
      "  Win_mean_per_Value=df_Dividend_PreOneDate[df_Dividend_PreOneDate[\"PL%\"]>0].mean()\n",
      "C:\\Users\\markchao\\AppData\\Local\\Temp/ipykernel_23784/3117343331.py:119: FutureWarning: Dropping of nuisance columns in DataFrame reductions (with 'numeric_only=None') is deprecated; in a future version this will raise TypeError.  Select only valid columns before calling the reduction.\n",
      "  Loss_mean_per_Value=df_Dividend_PreOneDate[df_Dividend_PreOneDate[\"PL%\"]<0].mean()\n"
     ]
    },
    {
     "name": "stdout",
     "output_type": "stream",
     "text": [
      "3515.TW\n"
     ]
    },
    {
     "name": "stderr",
     "output_type": "stream",
     "text": [
      "C:\\Users\\markchao\\AppData\\Local\\Temp/ipykernel_23784/3117343331.py:74: SettingWithCopyWarning: \n",
      "A value is trying to be set on a copy of a slice from a DataFrame.\n",
      "Try using .loc[row_indexer,col_indexer] = value instead\n",
      "\n",
      "See the caveats in the documentation: https://pandas.pydata.org/pandas-docs/stable/user_guide/indexing.html#returning-a-view-versus-a-copy\n",
      "  df_Dividend_PreNDate[\"Dividend_Pre\"+str(N)+\"Date\"]=df_Dividend_PreNDate.index\n",
      "C:\\Users\\markchao\\AppData\\Local\\Temp/ipykernel_23784/3117343331.py:115: FutureWarning: Dropping of nuisance columns in DataFrame reductions (with 'numeric_only=None') is deprecated; in a future version this will raise TypeError.  Select only valid columns before calling the reduction.\n",
      "  Win_mean_per_Value=df_Dividend_PreOneDate[df_Dividend_PreOneDate[\"PL%\"]>0].mean()\n",
      "C:\\Users\\markchao\\AppData\\Local\\Temp/ipykernel_23784/3117343331.py:119: FutureWarning: Dropping of nuisance columns in DataFrame reductions (with 'numeric_only=None') is deprecated; in a future version this will raise TypeError.  Select only valid columns before calling the reduction.\n",
      "  Loss_mean_per_Value=df_Dividend_PreOneDate[df_Dividend_PreOneDate[\"PL%\"]<0].mean()\n"
     ]
    },
    {
     "name": "stdout",
     "output_type": "stream",
     "text": [
      "2421.TW\n"
     ]
    },
    {
     "name": "stderr",
     "output_type": "stream",
     "text": [
      "C:\\Users\\markchao\\AppData\\Local\\Temp/ipykernel_23784/3117343331.py:74: SettingWithCopyWarning: \n",
      "A value is trying to be set on a copy of a slice from a DataFrame.\n",
      "Try using .loc[row_indexer,col_indexer] = value instead\n",
      "\n",
      "See the caveats in the documentation: https://pandas.pydata.org/pandas-docs/stable/user_guide/indexing.html#returning-a-view-versus-a-copy\n",
      "  df_Dividend_PreNDate[\"Dividend_Pre\"+str(N)+\"Date\"]=df_Dividend_PreNDate.index\n",
      "C:\\Users\\markchao\\AppData\\Local\\Temp/ipykernel_23784/3117343331.py:115: FutureWarning: Dropping of nuisance columns in DataFrame reductions (with 'numeric_only=None') is deprecated; in a future version this will raise TypeError.  Select only valid columns before calling the reduction.\n",
      "  Win_mean_per_Value=df_Dividend_PreOneDate[df_Dividend_PreOneDate[\"PL%\"]>0].mean()\n",
      "C:\\Users\\markchao\\AppData\\Local\\Temp/ipykernel_23784/3117343331.py:119: FutureWarning: Dropping of nuisance columns in DataFrame reductions (with 'numeric_only=None') is deprecated; in a future version this will raise TypeError.  Select only valid columns before calling the reduction.\n",
      "  Loss_mean_per_Value=df_Dividend_PreOneDate[df_Dividend_PreOneDate[\"PL%\"]<0].mean()\n"
     ]
    },
    {
     "name": "stdout",
     "output_type": "stream",
     "text": [
      "3481.TW\n"
     ]
    },
    {
     "name": "stderr",
     "output_type": "stream",
     "text": [
      "C:\\Users\\markchao\\AppData\\Local\\Temp/ipykernel_23784/3117343331.py:74: SettingWithCopyWarning: \n",
      "A value is trying to be set on a copy of a slice from a DataFrame.\n",
      "Try using .loc[row_indexer,col_indexer] = value instead\n",
      "\n",
      "See the caveats in the documentation: https://pandas.pydata.org/pandas-docs/stable/user_guide/indexing.html#returning-a-view-versus-a-copy\n",
      "  df_Dividend_PreNDate[\"Dividend_Pre\"+str(N)+\"Date\"]=df_Dividend_PreNDate.index\n",
      "C:\\Users\\markchao\\AppData\\Local\\Temp/ipykernel_23784/3117343331.py:115: FutureWarning: Dropping of nuisance columns in DataFrame reductions (with 'numeric_only=None') is deprecated; in a future version this will raise TypeError.  Select only valid columns before calling the reduction.\n",
      "  Win_mean_per_Value=df_Dividend_PreOneDate[df_Dividend_PreOneDate[\"PL%\"]>0].mean()\n",
      "C:\\Users\\markchao\\AppData\\Local\\Temp/ipykernel_23784/3117343331.py:119: FutureWarning: Dropping of nuisance columns in DataFrame reductions (with 'numeric_only=None') is deprecated; in a future version this will raise TypeError.  Select only valid columns before calling the reduction.\n",
      "  Loss_mean_per_Value=df_Dividend_PreOneDate[df_Dividend_PreOneDate[\"PL%\"]<0].mean()\n"
     ]
    },
    {
     "name": "stdout",
     "output_type": "stream",
     "text": [
      "6290.TWO\n"
     ]
    },
    {
     "name": "stderr",
     "output_type": "stream",
     "text": [
      "C:\\Users\\markchao\\AppData\\Local\\Temp/ipykernel_23784/3117343331.py:74: SettingWithCopyWarning: \n",
      "A value is trying to be set on a copy of a slice from a DataFrame.\n",
      "Try using .loc[row_indexer,col_indexer] = value instead\n",
      "\n",
      "See the caveats in the documentation: https://pandas.pydata.org/pandas-docs/stable/user_guide/indexing.html#returning-a-view-versus-a-copy\n",
      "  df_Dividend_PreNDate[\"Dividend_Pre\"+str(N)+\"Date\"]=df_Dividend_PreNDate.index\n",
      "C:\\Users\\markchao\\AppData\\Local\\Temp/ipykernel_23784/3117343331.py:115: FutureWarning: Dropping of nuisance columns in DataFrame reductions (with 'numeric_only=None') is deprecated; in a future version this will raise TypeError.  Select only valid columns before calling the reduction.\n",
      "  Win_mean_per_Value=df_Dividend_PreOneDate[df_Dividend_PreOneDate[\"PL%\"]>0].mean()\n",
      "C:\\Users\\markchao\\AppData\\Local\\Temp/ipykernel_23784/3117343331.py:119: FutureWarning: Dropping of nuisance columns in DataFrame reductions (with 'numeric_only=None') is deprecated; in a future version this will raise TypeError.  Select only valid columns before calling the reduction.\n",
      "  Loss_mean_per_Value=df_Dividend_PreOneDate[df_Dividend_PreOneDate[\"PL%\"]<0].mean()\n"
     ]
    },
    {
     "name": "stdout",
     "output_type": "stream",
     "text": [
      "1609.TW\n"
     ]
    },
    {
     "name": "stderr",
     "output_type": "stream",
     "text": [
      "C:\\Users\\markchao\\AppData\\Local\\Temp/ipykernel_23784/3117343331.py:74: SettingWithCopyWarning: \n",
      "A value is trying to be set on a copy of a slice from a DataFrame.\n",
      "Try using .loc[row_indexer,col_indexer] = value instead\n",
      "\n",
      "See the caveats in the documentation: https://pandas.pydata.org/pandas-docs/stable/user_guide/indexing.html#returning-a-view-versus-a-copy\n",
      "  df_Dividend_PreNDate[\"Dividend_Pre\"+str(N)+\"Date\"]=df_Dividend_PreNDate.index\n",
      "C:\\Users\\markchao\\AppData\\Local\\Temp/ipykernel_23784/3117343331.py:115: FutureWarning: Dropping of nuisance columns in DataFrame reductions (with 'numeric_only=None') is deprecated; in a future version this will raise TypeError.  Select only valid columns before calling the reduction.\n",
      "  Win_mean_per_Value=df_Dividend_PreOneDate[df_Dividend_PreOneDate[\"PL%\"]>0].mean()\n",
      "C:\\Users\\markchao\\AppData\\Local\\Temp/ipykernel_23784/3117343331.py:119: FutureWarning: Dropping of nuisance columns in DataFrame reductions (with 'numeric_only=None') is deprecated; in a future version this will raise TypeError.  Select only valid columns before calling the reduction.\n",
      "  Loss_mean_per_Value=df_Dividend_PreOneDate[df_Dividend_PreOneDate[\"PL%\"]<0].mean()\n"
     ]
    },
    {
     "name": "stdout",
     "output_type": "stream",
     "text": [
      "2453.TW\n"
     ]
    },
    {
     "name": "stderr",
     "output_type": "stream",
     "text": [
      "C:\\Users\\markchao\\AppData\\Local\\Temp/ipykernel_23784/3117343331.py:74: SettingWithCopyWarning: \n",
      "A value is trying to be set on a copy of a slice from a DataFrame.\n",
      "Try using .loc[row_indexer,col_indexer] = value instead\n",
      "\n",
      "See the caveats in the documentation: https://pandas.pydata.org/pandas-docs/stable/user_guide/indexing.html#returning-a-view-versus-a-copy\n",
      "  df_Dividend_PreNDate[\"Dividend_Pre\"+str(N)+\"Date\"]=df_Dividend_PreNDate.index\n",
      "C:\\Users\\markchao\\AppData\\Local\\Temp/ipykernel_23784/3117343331.py:115: FutureWarning: Dropping of nuisance columns in DataFrame reductions (with 'numeric_only=None') is deprecated; in a future version this will raise TypeError.  Select only valid columns before calling the reduction.\n",
      "  Win_mean_per_Value=df_Dividend_PreOneDate[df_Dividend_PreOneDate[\"PL%\"]>0].mean()\n",
      "C:\\Users\\markchao\\AppData\\Local\\Temp/ipykernel_23784/3117343331.py:119: FutureWarning: Dropping of nuisance columns in DataFrame reductions (with 'numeric_only=None') is deprecated; in a future version this will raise TypeError.  Select only valid columns before calling the reduction.\n",
      "  Loss_mean_per_Value=df_Dividend_PreOneDate[df_Dividend_PreOneDate[\"PL%\"]<0].mean()\n"
     ]
    },
    {
     "name": "stdout",
     "output_type": "stream",
     "text": [
      "1303.TW\n"
     ]
    },
    {
     "name": "stderr",
     "output_type": "stream",
     "text": [
      "C:\\Users\\markchao\\AppData\\Local\\Temp/ipykernel_23784/3117343331.py:74: SettingWithCopyWarning: \n",
      "A value is trying to be set on a copy of a slice from a DataFrame.\n",
      "Try using .loc[row_indexer,col_indexer] = value instead\n",
      "\n",
      "See the caveats in the documentation: https://pandas.pydata.org/pandas-docs/stable/user_guide/indexing.html#returning-a-view-versus-a-copy\n",
      "  df_Dividend_PreNDate[\"Dividend_Pre\"+str(N)+\"Date\"]=df_Dividend_PreNDate.index\n",
      "C:\\Users\\markchao\\AppData\\Local\\Temp/ipykernel_23784/3117343331.py:115: FutureWarning: Dropping of nuisance columns in DataFrame reductions (with 'numeric_only=None') is deprecated; in a future version this will raise TypeError.  Select only valid columns before calling the reduction.\n",
      "  Win_mean_per_Value=df_Dividend_PreOneDate[df_Dividend_PreOneDate[\"PL%\"]>0].mean()\n",
      "C:\\Users\\markchao\\AppData\\Local\\Temp/ipykernel_23784/3117343331.py:119: FutureWarning: Dropping of nuisance columns in DataFrame reductions (with 'numeric_only=None') is deprecated; in a future version this will raise TypeError.  Select only valid columns before calling the reduction.\n",
      "  Loss_mean_per_Value=df_Dividend_PreOneDate[df_Dividend_PreOneDate[\"PL%\"]<0].mean()\n"
     ]
    },
    {
     "name": "stdout",
     "output_type": "stream",
     "text": [
      "4768.TWO\n"
     ]
    },
    {
     "name": "stderr",
     "output_type": "stream",
     "text": [
      "C:\\Users\\markchao\\AppData\\Local\\Temp/ipykernel_23784/3117343331.py:74: SettingWithCopyWarning: \n",
      "A value is trying to be set on a copy of a slice from a DataFrame.\n",
      "Try using .loc[row_indexer,col_indexer] = value instead\n",
      "\n",
      "See the caveats in the documentation: https://pandas.pydata.org/pandas-docs/stable/user_guide/indexing.html#returning-a-view-versus-a-copy\n",
      "  df_Dividend_PreNDate[\"Dividend_Pre\"+str(N)+\"Date\"]=df_Dividend_PreNDate.index\n",
      "C:\\Users\\markchao\\AppData\\Local\\Temp/ipykernel_23784/3117343331.py:115: FutureWarning: Dropping of nuisance columns in DataFrame reductions (with 'numeric_only=None') is deprecated; in a future version this will raise TypeError.  Select only valid columns before calling the reduction.\n",
      "  Win_mean_per_Value=df_Dividend_PreOneDate[df_Dividend_PreOneDate[\"PL%\"]>0].mean()\n",
      "C:\\Users\\markchao\\AppData\\Local\\Temp/ipykernel_23784/3117343331.py:119: FutureWarning: Dropping of nuisance columns in DataFrame reductions (with 'numeric_only=None') is deprecated; in a future version this will raise TypeError.  Select only valid columns before calling the reduction.\n",
      "  Loss_mean_per_Value=df_Dividend_PreOneDate[df_Dividend_PreOneDate[\"PL%\"]<0].mean()\n"
     ]
    },
    {
     "name": "stdout",
     "output_type": "stream",
     "text": [
      "2377.TW\n"
     ]
    },
    {
     "name": "stderr",
     "output_type": "stream",
     "text": [
      "C:\\Users\\markchao\\AppData\\Local\\Temp/ipykernel_23784/3117343331.py:74: SettingWithCopyWarning: \n",
      "A value is trying to be set on a copy of a slice from a DataFrame.\n",
      "Try using .loc[row_indexer,col_indexer] = value instead\n",
      "\n",
      "See the caveats in the documentation: https://pandas.pydata.org/pandas-docs/stable/user_guide/indexing.html#returning-a-view-versus-a-copy\n",
      "  df_Dividend_PreNDate[\"Dividend_Pre\"+str(N)+\"Date\"]=df_Dividend_PreNDate.index\n",
      "C:\\Users\\markchao\\AppData\\Local\\Temp/ipykernel_23784/3117343331.py:115: FutureWarning: Dropping of nuisance columns in DataFrame reductions (with 'numeric_only=None') is deprecated; in a future version this will raise TypeError.  Select only valid columns before calling the reduction.\n",
      "  Win_mean_per_Value=df_Dividend_PreOneDate[df_Dividend_PreOneDate[\"PL%\"]>0].mean()\n",
      "C:\\Users\\markchao\\AppData\\Local\\Temp/ipykernel_23784/3117343331.py:119: FutureWarning: Dropping of nuisance columns in DataFrame reductions (with 'numeric_only=None') is deprecated; in a future version this will raise TypeError.  Select only valid columns before calling the reduction.\n",
      "  Loss_mean_per_Value=df_Dividend_PreOneDate[df_Dividend_PreOneDate[\"PL%\"]<0].mean()\n"
     ]
    },
    {
     "name": "stdout",
     "output_type": "stream",
     "text": [
      "2885.TW\n"
     ]
    },
    {
     "name": "stderr",
     "output_type": "stream",
     "text": [
      "C:\\Users\\markchao\\AppData\\Local\\Temp/ipykernel_23784/3117343331.py:74: SettingWithCopyWarning: \n",
      "A value is trying to be set on a copy of a slice from a DataFrame.\n",
      "Try using .loc[row_indexer,col_indexer] = value instead\n",
      "\n",
      "See the caveats in the documentation: https://pandas.pydata.org/pandas-docs/stable/user_guide/indexing.html#returning-a-view-versus-a-copy\n",
      "  df_Dividend_PreNDate[\"Dividend_Pre\"+str(N)+\"Date\"]=df_Dividend_PreNDate.index\n",
      "C:\\Users\\markchao\\AppData\\Local\\Temp/ipykernel_23784/3117343331.py:115: FutureWarning: Dropping of nuisance columns in DataFrame reductions (with 'numeric_only=None') is deprecated; in a future version this will raise TypeError.  Select only valid columns before calling the reduction.\n",
      "  Win_mean_per_Value=df_Dividend_PreOneDate[df_Dividend_PreOneDate[\"PL%\"]>0].mean()\n",
      "C:\\Users\\markchao\\AppData\\Local\\Temp/ipykernel_23784/3117343331.py:119: FutureWarning: Dropping of nuisance columns in DataFrame reductions (with 'numeric_only=None') is deprecated; in a future version this will raise TypeError.  Select only valid columns before calling the reduction.\n",
      "  Loss_mean_per_Value=df_Dividend_PreOneDate[df_Dividend_PreOneDate[\"PL%\"]<0].mean()\n"
     ]
    },
    {
     "name": "stdout",
     "output_type": "stream",
     "text": [
      "1477.TW\n"
     ]
    },
    {
     "name": "stderr",
     "output_type": "stream",
     "text": [
      "C:\\Users\\markchao\\AppData\\Local\\Temp/ipykernel_23784/3117343331.py:74: SettingWithCopyWarning: \n",
      "A value is trying to be set on a copy of a slice from a DataFrame.\n",
      "Try using .loc[row_indexer,col_indexer] = value instead\n",
      "\n",
      "See the caveats in the documentation: https://pandas.pydata.org/pandas-docs/stable/user_guide/indexing.html#returning-a-view-versus-a-copy\n",
      "  df_Dividend_PreNDate[\"Dividend_Pre\"+str(N)+\"Date\"]=df_Dividend_PreNDate.index\n",
      "C:\\Users\\markchao\\AppData\\Local\\Temp/ipykernel_23784/3117343331.py:115: FutureWarning: Dropping of nuisance columns in DataFrame reductions (with 'numeric_only=None') is deprecated; in a future version this will raise TypeError.  Select only valid columns before calling the reduction.\n",
      "  Win_mean_per_Value=df_Dividend_PreOneDate[df_Dividend_PreOneDate[\"PL%\"]>0].mean()\n",
      "C:\\Users\\markchao\\AppData\\Local\\Temp/ipykernel_23784/3117343331.py:119: FutureWarning: Dropping of nuisance columns in DataFrame reductions (with 'numeric_only=None') is deprecated; in a future version this will raise TypeError.  Select only valid columns before calling the reduction.\n",
      "  Loss_mean_per_Value=df_Dividend_PreOneDate[df_Dividend_PreOneDate[\"PL%\"]<0].mean()\n"
     ]
    },
    {
     "name": "stdout",
     "output_type": "stream",
     "text": [
      "6125.TWO\n"
     ]
    },
    {
     "name": "stderr",
     "output_type": "stream",
     "text": [
      "C:\\Users\\markchao\\AppData\\Local\\Temp/ipykernel_23784/3117343331.py:74: SettingWithCopyWarning: \n",
      "A value is trying to be set on a copy of a slice from a DataFrame.\n",
      "Try using .loc[row_indexer,col_indexer] = value instead\n",
      "\n",
      "See the caveats in the documentation: https://pandas.pydata.org/pandas-docs/stable/user_guide/indexing.html#returning-a-view-versus-a-copy\n",
      "  df_Dividend_PreNDate[\"Dividend_Pre\"+str(N)+\"Date\"]=df_Dividend_PreNDate.index\n",
      "C:\\Users\\markchao\\AppData\\Local\\Temp/ipykernel_23784/3117343331.py:115: FutureWarning: Dropping of nuisance columns in DataFrame reductions (with 'numeric_only=None') is deprecated; in a future version this will raise TypeError.  Select only valid columns before calling the reduction.\n",
      "  Win_mean_per_Value=df_Dividend_PreOneDate[df_Dividend_PreOneDate[\"PL%\"]>0].mean()\n",
      "C:\\Users\\markchao\\AppData\\Local\\Temp/ipykernel_23784/3117343331.py:119: FutureWarning: Dropping of nuisance columns in DataFrame reductions (with 'numeric_only=None') is deprecated; in a future version this will raise TypeError.  Select only valid columns before calling the reduction.\n",
      "  Loss_mean_per_Value=df_Dividend_PreOneDate[df_Dividend_PreOneDate[\"PL%\"]<0].mean()\n"
     ]
    },
    {
     "name": "stdout",
     "output_type": "stream",
     "text": [
      "2374.TW\n"
     ]
    },
    {
     "name": "stderr",
     "output_type": "stream",
     "text": [
      "C:\\Users\\markchao\\AppData\\Local\\Temp/ipykernel_23784/3117343331.py:74: SettingWithCopyWarning: \n",
      "A value is trying to be set on a copy of a slice from a DataFrame.\n",
      "Try using .loc[row_indexer,col_indexer] = value instead\n",
      "\n",
      "See the caveats in the documentation: https://pandas.pydata.org/pandas-docs/stable/user_guide/indexing.html#returning-a-view-versus-a-copy\n",
      "  df_Dividend_PreNDate[\"Dividend_Pre\"+str(N)+\"Date\"]=df_Dividend_PreNDate.index\n",
      "C:\\Users\\markchao\\AppData\\Local\\Temp/ipykernel_23784/3117343331.py:115: FutureWarning: Dropping of nuisance columns in DataFrame reductions (with 'numeric_only=None') is deprecated; in a future version this will raise TypeError.  Select only valid columns before calling the reduction.\n",
      "  Win_mean_per_Value=df_Dividend_PreOneDate[df_Dividend_PreOneDate[\"PL%\"]>0].mean()\n",
      "C:\\Users\\markchao\\AppData\\Local\\Temp/ipykernel_23784/3117343331.py:119: FutureWarning: Dropping of nuisance columns in DataFrame reductions (with 'numeric_only=None') is deprecated; in a future version this will raise TypeError.  Select only valid columns before calling the reduction.\n",
      "  Loss_mean_per_Value=df_Dividend_PreOneDate[df_Dividend_PreOneDate[\"PL%\"]<0].mean()\n"
     ]
    },
    {
     "name": "stdout",
     "output_type": "stream",
     "text": [
      "2884.TW\n"
     ]
    },
    {
     "name": "stderr",
     "output_type": "stream",
     "text": [
      "C:\\Users\\markchao\\AppData\\Local\\Temp/ipykernel_23784/3117343331.py:74: SettingWithCopyWarning: \n",
      "A value is trying to be set on a copy of a slice from a DataFrame.\n",
      "Try using .loc[row_indexer,col_indexer] = value instead\n",
      "\n",
      "See the caveats in the documentation: https://pandas.pydata.org/pandas-docs/stable/user_guide/indexing.html#returning-a-view-versus-a-copy\n",
      "  df_Dividend_PreNDate[\"Dividend_Pre\"+str(N)+\"Date\"]=df_Dividend_PreNDate.index\n",
      "C:\\Users\\markchao\\AppData\\Local\\Temp/ipykernel_23784/3117343331.py:115: FutureWarning: Dropping of nuisance columns in DataFrame reductions (with 'numeric_only=None') is deprecated; in a future version this will raise TypeError.  Select only valid columns before calling the reduction.\n",
      "  Win_mean_per_Value=df_Dividend_PreOneDate[df_Dividend_PreOneDate[\"PL%\"]>0].mean()\n",
      "C:\\Users\\markchao\\AppData\\Local\\Temp/ipykernel_23784/3117343331.py:119: FutureWarning: Dropping of nuisance columns in DataFrame reductions (with 'numeric_only=None') is deprecated; in a future version this will raise TypeError.  Select only valid columns before calling the reduction.\n",
      "  Loss_mean_per_Value=df_Dividend_PreOneDate[df_Dividend_PreOneDate[\"PL%\"]<0].mean()\n"
     ]
    },
    {
     "name": "stdout",
     "output_type": "stream",
     "text": [
      "9914.TW\n"
     ]
    },
    {
     "name": "stderr",
     "output_type": "stream",
     "text": [
      "C:\\Users\\markchao\\AppData\\Local\\Temp/ipykernel_23784/3117343331.py:74: SettingWithCopyWarning: \n",
      "A value is trying to be set on a copy of a slice from a DataFrame.\n",
      "Try using .loc[row_indexer,col_indexer] = value instead\n",
      "\n",
      "See the caveats in the documentation: https://pandas.pydata.org/pandas-docs/stable/user_guide/indexing.html#returning-a-view-versus-a-copy\n",
      "  df_Dividend_PreNDate[\"Dividend_Pre\"+str(N)+\"Date\"]=df_Dividend_PreNDate.index\n",
      "C:\\Users\\markchao\\AppData\\Local\\Temp/ipykernel_23784/3117343331.py:115: FutureWarning: Dropping of nuisance columns in DataFrame reductions (with 'numeric_only=None') is deprecated; in a future version this will raise TypeError.  Select only valid columns before calling the reduction.\n",
      "  Win_mean_per_Value=df_Dividend_PreOneDate[df_Dividend_PreOneDate[\"PL%\"]>0].mean()\n",
      "C:\\Users\\markchao\\AppData\\Local\\Temp/ipykernel_23784/3117343331.py:119: FutureWarning: Dropping of nuisance columns in DataFrame reductions (with 'numeric_only=None') is deprecated; in a future version this will raise TypeError.  Select only valid columns before calling the reduction.\n",
      "  Loss_mean_per_Value=df_Dividend_PreOneDate[df_Dividend_PreOneDate[\"PL%\"]<0].mean()\n"
     ]
    },
    {
     "name": "stdout",
     "output_type": "stream",
     "text": [
      "8046.TW\n"
     ]
    },
    {
     "name": "stderr",
     "output_type": "stream",
     "text": [
      "C:\\Users\\markchao\\AppData\\Local\\Temp/ipykernel_23784/3117343331.py:74: SettingWithCopyWarning: \n",
      "A value is trying to be set on a copy of a slice from a DataFrame.\n",
      "Try using .loc[row_indexer,col_indexer] = value instead\n",
      "\n",
      "See the caveats in the documentation: https://pandas.pydata.org/pandas-docs/stable/user_guide/indexing.html#returning-a-view-versus-a-copy\n",
      "  df_Dividend_PreNDate[\"Dividend_Pre\"+str(N)+\"Date\"]=df_Dividend_PreNDate.index\n",
      "C:\\Users\\markchao\\AppData\\Local\\Temp/ipykernel_23784/3117343331.py:115: FutureWarning: Dropping of nuisance columns in DataFrame reductions (with 'numeric_only=None') is deprecated; in a future version this will raise TypeError.  Select only valid columns before calling the reduction.\n",
      "  Win_mean_per_Value=df_Dividend_PreOneDate[df_Dividend_PreOneDate[\"PL%\"]>0].mean()\n",
      "C:\\Users\\markchao\\AppData\\Local\\Temp/ipykernel_23784/3117343331.py:119: FutureWarning: Dropping of nuisance columns in DataFrame reductions (with 'numeric_only=None') is deprecated; in a future version this will raise TypeError.  Select only valid columns before calling the reduction.\n",
      "  Loss_mean_per_Value=df_Dividend_PreOneDate[df_Dividend_PreOneDate[\"PL%\"]<0].mean()\n"
     ]
    },
    {
     "name": "stdout",
     "output_type": "stream",
     "text": [
      "2405.TW\n"
     ]
    },
    {
     "name": "stderr",
     "output_type": "stream",
     "text": [
      "C:\\Users\\markchao\\AppData\\Local\\Temp/ipykernel_23784/3117343331.py:74: SettingWithCopyWarning: \n",
      "A value is trying to be set on a copy of a slice from a DataFrame.\n",
      "Try using .loc[row_indexer,col_indexer] = value instead\n",
      "\n",
      "See the caveats in the documentation: https://pandas.pydata.org/pandas-docs/stable/user_guide/indexing.html#returning-a-view-versus-a-copy\n",
      "  df_Dividend_PreNDate[\"Dividend_Pre\"+str(N)+\"Date\"]=df_Dividend_PreNDate.index\n",
      "C:\\Users\\markchao\\AppData\\Local\\Temp/ipykernel_23784/3117343331.py:115: FutureWarning: Dropping of nuisance columns in DataFrame reductions (with 'numeric_only=None') is deprecated; in a future version this will raise TypeError.  Select only valid columns before calling the reduction.\n",
      "  Win_mean_per_Value=df_Dividend_PreOneDate[df_Dividend_PreOneDate[\"PL%\"]>0].mean()\n",
      "C:\\Users\\markchao\\AppData\\Local\\Temp/ipykernel_23784/3117343331.py:119: FutureWarning: Dropping of nuisance columns in DataFrame reductions (with 'numeric_only=None') is deprecated; in a future version this will raise TypeError.  Select only valid columns before calling the reduction.\n",
      "  Loss_mean_per_Value=df_Dividend_PreOneDate[df_Dividend_PreOneDate[\"PL%\"]<0].mean()\n"
     ]
    },
    {
     "name": "stdout",
     "output_type": "stream",
     "text": [
      "2834.TW\n"
     ]
    },
    {
     "name": "stderr",
     "output_type": "stream",
     "text": [
      "C:\\Users\\markchao\\AppData\\Local\\Temp/ipykernel_23784/3117343331.py:74: SettingWithCopyWarning: \n",
      "A value is trying to be set on a copy of a slice from a DataFrame.\n",
      "Try using .loc[row_indexer,col_indexer] = value instead\n",
      "\n",
      "See the caveats in the documentation: https://pandas.pydata.org/pandas-docs/stable/user_guide/indexing.html#returning-a-view-versus-a-copy\n",
      "  df_Dividend_PreNDate[\"Dividend_Pre\"+str(N)+\"Date\"]=df_Dividend_PreNDate.index\n",
      "C:\\Users\\markchao\\AppData\\Local\\Temp/ipykernel_23784/3117343331.py:115: FutureWarning: Dropping of nuisance columns in DataFrame reductions (with 'numeric_only=None') is deprecated; in a future version this will raise TypeError.  Select only valid columns before calling the reduction.\n",
      "  Win_mean_per_Value=df_Dividend_PreOneDate[df_Dividend_PreOneDate[\"PL%\"]>0].mean()\n",
      "C:\\Users\\markchao\\AppData\\Local\\Temp/ipykernel_23784/3117343331.py:119: FutureWarning: Dropping of nuisance columns in DataFrame reductions (with 'numeric_only=None') is deprecated; in a future version this will raise TypeError.  Select only valid columns before calling the reduction.\n",
      "  Loss_mean_per_Value=df_Dividend_PreOneDate[df_Dividend_PreOneDate[\"PL%\"]<0].mean()\n"
     ]
    },
    {
     "name": "stdout",
     "output_type": "stream",
     "text": [
      "2408.TW\n"
     ]
    },
    {
     "name": "stderr",
     "output_type": "stream",
     "text": [
      "C:\\Users\\markchao\\AppData\\Local\\Temp/ipykernel_23784/3117343331.py:74: SettingWithCopyWarning: \n",
      "A value is trying to be set on a copy of a slice from a DataFrame.\n",
      "Try using .loc[row_indexer,col_indexer] = value instead\n",
      "\n",
      "See the caveats in the documentation: https://pandas.pydata.org/pandas-docs/stable/user_guide/indexing.html#returning-a-view-versus-a-copy\n",
      "  df_Dividend_PreNDate[\"Dividend_Pre\"+str(N)+\"Date\"]=df_Dividend_PreNDate.index\n",
      "C:\\Users\\markchao\\AppData\\Local\\Temp/ipykernel_23784/3117343331.py:115: FutureWarning: Dropping of nuisance columns in DataFrame reductions (with 'numeric_only=None') is deprecated; in a future version this will raise TypeError.  Select only valid columns before calling the reduction.\n",
      "  Win_mean_per_Value=df_Dividend_PreOneDate[df_Dividend_PreOneDate[\"PL%\"]>0].mean()\n",
      "C:\\Users\\markchao\\AppData\\Local\\Temp/ipykernel_23784/3117343331.py:119: FutureWarning: Dropping of nuisance columns in DataFrame reductions (with 'numeric_only=None') is deprecated; in a future version this will raise TypeError.  Select only valid columns before calling the reduction.\n",
      "  Loss_mean_per_Value=df_Dividend_PreOneDate[df_Dividend_PreOneDate[\"PL%\"]<0].mean()\n"
     ]
    },
    {
     "name": "stdout",
     "output_type": "stream",
     "text": [
      "1476.TW\n"
     ]
    },
    {
     "name": "stderr",
     "output_type": "stream",
     "text": [
      "C:\\Users\\markchao\\AppData\\Local\\Temp/ipykernel_23784/3117343331.py:74: SettingWithCopyWarning: \n",
      "A value is trying to be set on a copy of a slice from a DataFrame.\n",
      "Try using .loc[row_indexer,col_indexer] = value instead\n",
      "\n",
      "See the caveats in the documentation: https://pandas.pydata.org/pandas-docs/stable/user_guide/indexing.html#returning-a-view-versus-a-copy\n",
      "  df_Dividend_PreNDate[\"Dividend_Pre\"+str(N)+\"Date\"]=df_Dividend_PreNDate.index\n",
      "C:\\Users\\markchao\\AppData\\Local\\Temp/ipykernel_23784/3117343331.py:115: FutureWarning: Dropping of nuisance columns in DataFrame reductions (with 'numeric_only=None') is deprecated; in a future version this will raise TypeError.  Select only valid columns before calling the reduction.\n",
      "  Win_mean_per_Value=df_Dividend_PreOneDate[df_Dividend_PreOneDate[\"PL%\"]>0].mean()\n",
      "C:\\Users\\markchao\\AppData\\Local\\Temp/ipykernel_23784/3117343331.py:119: FutureWarning: Dropping of nuisance columns in DataFrame reductions (with 'numeric_only=None') is deprecated; in a future version this will raise TypeError.  Select only valid columns before calling the reduction.\n",
      "  Loss_mean_per_Value=df_Dividend_PreOneDate[df_Dividend_PreOneDate[\"PL%\"]<0].mean()\n"
     ]
    },
    {
     "name": "stdout",
     "output_type": "stream",
     "text": [
      "3715.TW\n"
     ]
    },
    {
     "name": "stderr",
     "output_type": "stream",
     "text": [
      "C:\\Users\\markchao\\AppData\\Local\\Temp/ipykernel_23784/3117343331.py:74: SettingWithCopyWarning: \n",
      "A value is trying to be set on a copy of a slice from a DataFrame.\n",
      "Try using .loc[row_indexer,col_indexer] = value instead\n",
      "\n",
      "See the caveats in the documentation: https://pandas.pydata.org/pandas-docs/stable/user_guide/indexing.html#returning-a-view-versus-a-copy\n",
      "  df_Dividend_PreNDate[\"Dividend_Pre\"+str(N)+\"Date\"]=df_Dividend_PreNDate.index\n",
      "C:\\Users\\markchao\\AppData\\Local\\Temp/ipykernel_23784/3117343331.py:119: FutureWarning: Dropping of nuisance columns in DataFrame reductions (with 'numeric_only=None') is deprecated; in a future version this will raise TypeError.  Select only valid columns before calling the reduction.\n",
      "  Loss_mean_per_Value=df_Dividend_PreOneDate[df_Dividend_PreOneDate[\"PL%\"]<0].mean()\n"
     ]
    },
    {
     "name": "stdout",
     "output_type": "stream",
     "text": [
      "5443.TWO\n"
     ]
    },
    {
     "name": "stderr",
     "output_type": "stream",
     "text": [
      "C:\\Users\\markchao\\AppData\\Local\\Temp/ipykernel_23784/3117343331.py:74: SettingWithCopyWarning: \n",
      "A value is trying to be set on a copy of a slice from a DataFrame.\n",
      "Try using .loc[row_indexer,col_indexer] = value instead\n",
      "\n",
      "See the caveats in the documentation: https://pandas.pydata.org/pandas-docs/stable/user_guide/indexing.html#returning-a-view-versus-a-copy\n",
      "  df_Dividend_PreNDate[\"Dividend_Pre\"+str(N)+\"Date\"]=df_Dividend_PreNDate.index\n",
      "C:\\Users\\markchao\\AppData\\Local\\Temp/ipykernel_23784/3117343331.py:115: FutureWarning: Dropping of nuisance columns in DataFrame reductions (with 'numeric_only=None') is deprecated; in a future version this will raise TypeError.  Select only valid columns before calling the reduction.\n",
      "  Win_mean_per_Value=df_Dividend_PreOneDate[df_Dividend_PreOneDate[\"PL%\"]>0].mean()\n",
      "C:\\Users\\markchao\\AppData\\Local\\Temp/ipykernel_23784/3117343331.py:119: FutureWarning: Dropping of nuisance columns in DataFrame reductions (with 'numeric_only=None') is deprecated; in a future version this will raise TypeError.  Select only valid columns before calling the reduction.\n",
      "  Loss_mean_per_Value=df_Dividend_PreOneDate[df_Dividend_PreOneDate[\"PL%\"]<0].mean()\n"
     ]
    },
    {
     "name": "stdout",
     "output_type": "stream",
     "text": [
      "2362.TW\n"
     ]
    },
    {
     "name": "stderr",
     "output_type": "stream",
     "text": [
      "C:\\Users\\markchao\\AppData\\Local\\Temp/ipykernel_23784/3117343331.py:74: SettingWithCopyWarning: \n",
      "A value is trying to be set on a copy of a slice from a DataFrame.\n",
      "Try using .loc[row_indexer,col_indexer] = value instead\n",
      "\n",
      "See the caveats in the documentation: https://pandas.pydata.org/pandas-docs/stable/user_guide/indexing.html#returning-a-view-versus-a-copy\n",
      "  df_Dividend_PreNDate[\"Dividend_Pre\"+str(N)+\"Date\"]=df_Dividend_PreNDate.index\n",
      "C:\\Users\\markchao\\AppData\\Local\\Temp/ipykernel_23784/3117343331.py:115: FutureWarning: Dropping of nuisance columns in DataFrame reductions (with 'numeric_only=None') is deprecated; in a future version this will raise TypeError.  Select only valid columns before calling the reduction.\n",
      "  Win_mean_per_Value=df_Dividend_PreOneDate[df_Dividend_PreOneDate[\"PL%\"]>0].mean()\n",
      "C:\\Users\\markchao\\AppData\\Local\\Temp/ipykernel_23784/3117343331.py:119: FutureWarning: Dropping of nuisance columns in DataFrame reductions (with 'numeric_only=None') is deprecated; in a future version this will raise TypeError.  Select only valid columns before calling the reduction.\n",
      "  Loss_mean_per_Value=df_Dividend_PreOneDate[df_Dividend_PreOneDate[\"PL%\"]<0].mean()\n"
     ]
    },
    {
     "name": "stdout",
     "output_type": "stream",
     "text": [
      "9904.TW\n"
     ]
    },
    {
     "name": "stderr",
     "output_type": "stream",
     "text": [
      "C:\\Users\\markchao\\AppData\\Local\\Temp/ipykernel_23784/3117343331.py:74: SettingWithCopyWarning: \n",
      "A value is trying to be set on a copy of a slice from a DataFrame.\n",
      "Try using .loc[row_indexer,col_indexer] = value instead\n",
      "\n",
      "See the caveats in the documentation: https://pandas.pydata.org/pandas-docs/stable/user_guide/indexing.html#returning-a-view-versus-a-copy\n",
      "  df_Dividend_PreNDate[\"Dividend_Pre\"+str(N)+\"Date\"]=df_Dividend_PreNDate.index\n",
      "C:\\Users\\markchao\\AppData\\Local\\Temp/ipykernel_23784/3117343331.py:115: FutureWarning: Dropping of nuisance columns in DataFrame reductions (with 'numeric_only=None') is deprecated; in a future version this will raise TypeError.  Select only valid columns before calling the reduction.\n",
      "  Win_mean_per_Value=df_Dividend_PreOneDate[df_Dividend_PreOneDate[\"PL%\"]>0].mean()\n",
      "C:\\Users\\markchao\\AppData\\Local\\Temp/ipykernel_23784/3117343331.py:119: FutureWarning: Dropping of nuisance columns in DataFrame reductions (with 'numeric_only=None') is deprecated; in a future version this will raise TypeError.  Select only valid columns before calling the reduction.\n",
      "  Loss_mean_per_Value=df_Dividend_PreOneDate[df_Dividend_PreOneDate[\"PL%\"]<0].mean()\n"
     ]
    },
    {
     "name": "stdout",
     "output_type": "stream",
     "text": [
      "3680.TWO\n"
     ]
    },
    {
     "name": "stderr",
     "output_type": "stream",
     "text": [
      "C:\\Users\\markchao\\AppData\\Local\\Temp/ipykernel_23784/3117343331.py:74: SettingWithCopyWarning: \n",
      "A value is trying to be set on a copy of a slice from a DataFrame.\n",
      "Try using .loc[row_indexer,col_indexer] = value instead\n",
      "\n",
      "See the caveats in the documentation: https://pandas.pydata.org/pandas-docs/stable/user_guide/indexing.html#returning-a-view-versus-a-copy\n",
      "  df_Dividend_PreNDate[\"Dividend_Pre\"+str(N)+\"Date\"]=df_Dividend_PreNDate.index\n",
      "C:\\Users\\markchao\\AppData\\Local\\Temp/ipykernel_23784/3117343331.py:115: FutureWarning: Dropping of nuisance columns in DataFrame reductions (with 'numeric_only=None') is deprecated; in a future version this will raise TypeError.  Select only valid columns before calling the reduction.\n",
      "  Win_mean_per_Value=df_Dividend_PreOneDate[df_Dividend_PreOneDate[\"PL%\"]>0].mean()\n",
      "C:\\Users\\markchao\\AppData\\Local\\Temp/ipykernel_23784/3117343331.py:119: FutureWarning: Dropping of nuisance columns in DataFrame reductions (with 'numeric_only=None') is deprecated; in a future version this will raise TypeError.  Select only valid columns before calling the reduction.\n",
      "  Loss_mean_per_Value=df_Dividend_PreOneDate[df_Dividend_PreOneDate[\"PL%\"]<0].mean()\n"
     ]
    },
    {
     "name": "stdout",
     "output_type": "stream",
     "text": [
      "4979.TWO\n"
     ]
    },
    {
     "name": "stderr",
     "output_type": "stream",
     "text": [
      "C:\\Users\\markchao\\AppData\\Local\\Temp/ipykernel_23784/3117343331.py:74: SettingWithCopyWarning: \n",
      "A value is trying to be set on a copy of a slice from a DataFrame.\n",
      "Try using .loc[row_indexer,col_indexer] = value instead\n",
      "\n",
      "See the caveats in the documentation: https://pandas.pydata.org/pandas-docs/stable/user_guide/indexing.html#returning-a-view-versus-a-copy\n",
      "  df_Dividend_PreNDate[\"Dividend_Pre\"+str(N)+\"Date\"]=df_Dividend_PreNDate.index\n",
      "C:\\Users\\markchao\\AppData\\Local\\Temp/ipykernel_23784/3117343331.py:115: FutureWarning: Dropping of nuisance columns in DataFrame reductions (with 'numeric_only=None') is deprecated; in a future version this will raise TypeError.  Select only valid columns before calling the reduction.\n",
      "  Win_mean_per_Value=df_Dividend_PreOneDate[df_Dividend_PreOneDate[\"PL%\"]>0].mean()\n",
      "C:\\Users\\markchao\\AppData\\Local\\Temp/ipykernel_23784/3117343331.py:119: FutureWarning: Dropping of nuisance columns in DataFrame reductions (with 'numeric_only=None') is deprecated; in a future version this will raise TypeError.  Select only valid columns before calling the reduction.\n",
      "  Loss_mean_per_Value=df_Dividend_PreOneDate[df_Dividend_PreOneDate[\"PL%\"]<0].mean()\n"
     ]
    },
    {
     "name": "stdout",
     "output_type": "stream",
     "text": [
      "5871.TW\n"
     ]
    },
    {
     "name": "stderr",
     "output_type": "stream",
     "text": [
      "C:\\Users\\markchao\\AppData\\Local\\Temp/ipykernel_23784/3117343331.py:74: SettingWithCopyWarning: \n",
      "A value is trying to be set on a copy of a slice from a DataFrame.\n",
      "Try using .loc[row_indexer,col_indexer] = value instead\n",
      "\n",
      "See the caveats in the documentation: https://pandas.pydata.org/pandas-docs/stable/user_guide/indexing.html#returning-a-view-versus-a-copy\n",
      "  df_Dividend_PreNDate[\"Dividend_Pre\"+str(N)+\"Date\"]=df_Dividend_PreNDate.index\n",
      "C:\\Users\\markchao\\AppData\\Local\\Temp/ipykernel_23784/3117343331.py:115: FutureWarning: Dropping of nuisance columns in DataFrame reductions (with 'numeric_only=None') is deprecated; in a future version this will raise TypeError.  Select only valid columns before calling the reduction.\n",
      "  Win_mean_per_Value=df_Dividend_PreOneDate[df_Dividend_PreOneDate[\"PL%\"]>0].mean()\n",
      "C:\\Users\\markchao\\AppData\\Local\\Temp/ipykernel_23784/3117343331.py:119: FutureWarning: Dropping of nuisance columns in DataFrame reductions (with 'numeric_only=None') is deprecated; in a future version this will raise TypeError.  Select only valid columns before calling the reduction.\n",
      "  Loss_mean_per_Value=df_Dividend_PreOneDate[df_Dividend_PreOneDate[\"PL%\"]<0].mean()\n"
     ]
    },
    {
     "name": "stdout",
     "output_type": "stream",
     "text": [
      "2360.TW\n"
     ]
    },
    {
     "name": "stderr",
     "output_type": "stream",
     "text": [
      "C:\\Users\\markchao\\AppData\\Local\\Temp/ipykernel_23784/3117343331.py:74: SettingWithCopyWarning: \n",
      "A value is trying to be set on a copy of a slice from a DataFrame.\n",
      "Try using .loc[row_indexer,col_indexer] = value instead\n",
      "\n",
      "See the caveats in the documentation: https://pandas.pydata.org/pandas-docs/stable/user_guide/indexing.html#returning-a-view-versus-a-copy\n",
      "  df_Dividend_PreNDate[\"Dividend_Pre\"+str(N)+\"Date\"]=df_Dividend_PreNDate.index\n",
      "C:\\Users\\markchao\\AppData\\Local\\Temp/ipykernel_23784/3117343331.py:115: FutureWarning: Dropping of nuisance columns in DataFrame reductions (with 'numeric_only=None') is deprecated; in a future version this will raise TypeError.  Select only valid columns before calling the reduction.\n",
      "  Win_mean_per_Value=df_Dividend_PreOneDate[df_Dividend_PreOneDate[\"PL%\"]>0].mean()\n",
      "C:\\Users\\markchao\\AppData\\Local\\Temp/ipykernel_23784/3117343331.py:119: FutureWarning: Dropping of nuisance columns in DataFrame reductions (with 'numeric_only=None') is deprecated; in a future version this will raise TypeError.  Select only valid columns before calling the reduction.\n",
      "  Loss_mean_per_Value=df_Dividend_PreOneDate[df_Dividend_PreOneDate[\"PL%\"]<0].mean()\n"
     ]
    },
    {
     "name": "stdout",
     "output_type": "stream",
     "text": [
      "3081.TWO\n"
     ]
    },
    {
     "name": "stderr",
     "output_type": "stream",
     "text": [
      "C:\\Users\\markchao\\AppData\\Local\\Temp/ipykernel_23784/3117343331.py:74: SettingWithCopyWarning: \n",
      "A value is trying to be set on a copy of a slice from a DataFrame.\n",
      "Try using .loc[row_indexer,col_indexer] = value instead\n",
      "\n",
      "See the caveats in the documentation: https://pandas.pydata.org/pandas-docs/stable/user_guide/indexing.html#returning-a-view-versus-a-copy\n",
      "  df_Dividend_PreNDate[\"Dividend_Pre\"+str(N)+\"Date\"]=df_Dividend_PreNDate.index\n",
      "C:\\Users\\markchao\\AppData\\Local\\Temp/ipykernel_23784/3117343331.py:115: FutureWarning: Dropping of nuisance columns in DataFrame reductions (with 'numeric_only=None') is deprecated; in a future version this will raise TypeError.  Select only valid columns before calling the reduction.\n",
      "  Win_mean_per_Value=df_Dividend_PreOneDate[df_Dividend_PreOneDate[\"PL%\"]>0].mean()\n",
      "C:\\Users\\markchao\\AppData\\Local\\Temp/ipykernel_23784/3117343331.py:119: FutureWarning: Dropping of nuisance columns in DataFrame reductions (with 'numeric_only=None') is deprecated; in a future version this will raise TypeError.  Select only valid columns before calling the reduction.\n",
      "  Loss_mean_per_Value=df_Dividend_PreOneDate[df_Dividend_PreOneDate[\"PL%\"]<0].mean()\n"
     ]
    },
    {
     "name": "stdout",
     "output_type": "stream",
     "text": [
      "6546.TWO\n"
     ]
    },
    {
     "name": "stderr",
     "output_type": "stream",
     "text": [
      "C:\\Users\\markchao\\AppData\\Local\\Temp/ipykernel_23784/3117343331.py:74: SettingWithCopyWarning: \n",
      "A value is trying to be set on a copy of a slice from a DataFrame.\n",
      "Try using .loc[row_indexer,col_indexer] = value instead\n",
      "\n",
      "See the caveats in the documentation: https://pandas.pydata.org/pandas-docs/stable/user_guide/indexing.html#returning-a-view-versus-a-copy\n",
      "  df_Dividend_PreNDate[\"Dividend_Pre\"+str(N)+\"Date\"]=df_Dividend_PreNDate.index\n",
      "C:\\Users\\markchao\\AppData\\Local\\Temp/ipykernel_23784/3117343331.py:115: FutureWarning: Dropping of nuisance columns in DataFrame reductions (with 'numeric_only=None') is deprecated; in a future version this will raise TypeError.  Select only valid columns before calling the reduction.\n",
      "  Win_mean_per_Value=df_Dividend_PreOneDate[df_Dividend_PreOneDate[\"PL%\"]>0].mean()\n",
      "C:\\Users\\markchao\\AppData\\Local\\Temp/ipykernel_23784/3117343331.py:119: FutureWarning: Dropping of nuisance columns in DataFrame reductions (with 'numeric_only=None') is deprecated; in a future version this will raise TypeError.  Select only valid columns before calling the reduction.\n",
      "  Loss_mean_per_Value=df_Dividend_PreOneDate[df_Dividend_PreOneDate[\"PL%\"]<0].mean()\n"
     ]
    },
    {
     "name": "stdout",
     "output_type": "stream",
     "text": [
      "3592.TW\n"
     ]
    },
    {
     "name": "stderr",
     "output_type": "stream",
     "text": [
      "C:\\Users\\markchao\\AppData\\Local\\Temp/ipykernel_23784/3117343331.py:74: SettingWithCopyWarning: \n",
      "A value is trying to be set on a copy of a slice from a DataFrame.\n",
      "Try using .loc[row_indexer,col_indexer] = value instead\n",
      "\n",
      "See the caveats in the documentation: https://pandas.pydata.org/pandas-docs/stable/user_guide/indexing.html#returning-a-view-versus-a-copy\n",
      "  df_Dividend_PreNDate[\"Dividend_Pre\"+str(N)+\"Date\"]=df_Dividend_PreNDate.index\n",
      "C:\\Users\\markchao\\AppData\\Local\\Temp/ipykernel_23784/3117343331.py:119: FutureWarning: Dropping of nuisance columns in DataFrame reductions (with 'numeric_only=None') is deprecated; in a future version this will raise TypeError.  Select only valid columns before calling the reduction.\n",
      "  Loss_mean_per_Value=df_Dividend_PreOneDate[df_Dividend_PreOneDate[\"PL%\"]<0].mean()\n"
     ]
    },
    {
     "name": "stdout",
     "output_type": "stream",
     "text": [
      "4714.TWO\n"
     ]
    },
    {
     "name": "stderr",
     "output_type": "stream",
     "text": [
      "C:\\Users\\markchao\\AppData\\Local\\Temp/ipykernel_23784/3117343331.py:74: SettingWithCopyWarning: \n",
      "A value is trying to be set on a copy of a slice from a DataFrame.\n",
      "Try using .loc[row_indexer,col_indexer] = value instead\n",
      "\n",
      "See the caveats in the documentation: https://pandas.pydata.org/pandas-docs/stable/user_guide/indexing.html#returning-a-view-versus-a-copy\n",
      "  df_Dividend_PreNDate[\"Dividend_Pre\"+str(N)+\"Date\"]=df_Dividend_PreNDate.index\n",
      "C:\\Users\\markchao\\AppData\\Local\\Temp/ipykernel_23784/3117343331.py:115: FutureWarning: Dropping of nuisance columns in DataFrame reductions (with 'numeric_only=None') is deprecated; in a future version this will raise TypeError.  Select only valid columns before calling the reduction.\n",
      "  Win_mean_per_Value=df_Dividend_PreOneDate[df_Dividend_PreOneDate[\"PL%\"]>0].mean()\n",
      "C:\\Users\\markchao\\AppData\\Local\\Temp/ipykernel_23784/3117343331.py:119: FutureWarning: Dropping of nuisance columns in DataFrame reductions (with 'numeric_only=None') is deprecated; in a future version this will raise TypeError.  Select only valid columns before calling the reduction.\n",
      "  Loss_mean_per_Value=df_Dividend_PreOneDate[df_Dividend_PreOneDate[\"PL%\"]<0].mean()\n"
     ]
    },
    {
     "name": "stdout",
     "output_type": "stream",
     "text": [
      "6438.TW\n"
     ]
    },
    {
     "name": "stderr",
     "output_type": "stream",
     "text": [
      "C:\\Users\\markchao\\AppData\\Local\\Temp/ipykernel_23784/3117343331.py:74: SettingWithCopyWarning: \n",
      "A value is trying to be set on a copy of a slice from a DataFrame.\n",
      "Try using .loc[row_indexer,col_indexer] = value instead\n",
      "\n",
      "See the caveats in the documentation: https://pandas.pydata.org/pandas-docs/stable/user_guide/indexing.html#returning-a-view-versus-a-copy\n",
      "  df_Dividend_PreNDate[\"Dividend_Pre\"+str(N)+\"Date\"]=df_Dividend_PreNDate.index\n",
      "C:\\Users\\markchao\\AppData\\Local\\Temp/ipykernel_23784/3117343331.py:115: FutureWarning: Dropping of nuisance columns in DataFrame reductions (with 'numeric_only=None') is deprecated; in a future version this will raise TypeError.  Select only valid columns before calling the reduction.\n",
      "  Win_mean_per_Value=df_Dividend_PreOneDate[df_Dividend_PreOneDate[\"PL%\"]>0].mean()\n"
     ]
    },
    {
     "name": "stdout",
     "output_type": "stream",
     "text": [
      "6933.TW\n"
     ]
    },
    {
     "name": "stderr",
     "output_type": "stream",
     "text": [
      "C:\\Users\\markchao\\AppData\\Local\\Temp/ipykernel_23784/3117343331.py:74: SettingWithCopyWarning: \n",
      "A value is trying to be set on a copy of a slice from a DataFrame.\n",
      "Try using .loc[row_indexer,col_indexer] = value instead\n",
      "\n",
      "See the caveats in the documentation: https://pandas.pydata.org/pandas-docs/stable/user_guide/indexing.html#returning-a-view-versus-a-copy\n",
      "  df_Dividend_PreNDate[\"Dividend_Pre\"+str(N)+\"Date\"]=df_Dividend_PreNDate.index\n",
      "C:\\Users\\markchao\\AppData\\Local\\Temp/ipykernel_23784/3117343331.py:119: FutureWarning: Dropping of nuisance columns in DataFrame reductions (with 'numeric_only=None') is deprecated; in a future version this will raise TypeError.  Select only valid columns before calling the reduction.\n",
      "  Loss_mean_per_Value=df_Dividend_PreOneDate[df_Dividend_PreOneDate[\"PL%\"]<0].mean()\n"
     ]
    },
    {
     "name": "stdout",
     "output_type": "stream",
     "text": [
      "6415.TW\n"
     ]
    },
    {
     "name": "stderr",
     "output_type": "stream",
     "text": [
      "C:\\Users\\markchao\\AppData\\Local\\Temp/ipykernel_23784/3117343331.py:74: SettingWithCopyWarning: \n",
      "A value is trying to be set on a copy of a slice from a DataFrame.\n",
      "Try using .loc[row_indexer,col_indexer] = value instead\n",
      "\n",
      "See the caveats in the documentation: https://pandas.pydata.org/pandas-docs/stable/user_guide/indexing.html#returning-a-view-versus-a-copy\n",
      "  df_Dividend_PreNDate[\"Dividend_Pre\"+str(N)+\"Date\"]=df_Dividend_PreNDate.index\n",
      "C:\\Users\\markchao\\AppData\\Local\\Temp/ipykernel_23784/3117343331.py:115: FutureWarning: Dropping of nuisance columns in DataFrame reductions (with 'numeric_only=None') is deprecated; in a future version this will raise TypeError.  Select only valid columns before calling the reduction.\n",
      "  Win_mean_per_Value=df_Dividend_PreOneDate[df_Dividend_PreOneDate[\"PL%\"]>0].mean()\n",
      "C:\\Users\\markchao\\AppData\\Local\\Temp/ipykernel_23784/3117343331.py:119: FutureWarning: Dropping of nuisance columns in DataFrame reductions (with 'numeric_only=None') is deprecated; in a future version this will raise TypeError.  Select only valid columns before calling the reduction.\n",
      "  Loss_mean_per_Value=df_Dividend_PreOneDate[df_Dividend_PreOneDate[\"PL%\"]<0].mean()\n"
     ]
    },
    {
     "name": "stdout",
     "output_type": "stream",
     "text": [
      "6806.TW\n"
     ]
    },
    {
     "name": "stderr",
     "output_type": "stream",
     "text": [
      "C:\\Users\\markchao\\AppData\\Local\\Temp/ipykernel_23784/3117343331.py:74: SettingWithCopyWarning: \n",
      "A value is trying to be set on a copy of a slice from a DataFrame.\n",
      "Try using .loc[row_indexer,col_indexer] = value instead\n",
      "\n",
      "See the caveats in the documentation: https://pandas.pydata.org/pandas-docs/stable/user_guide/indexing.html#returning-a-view-versus-a-copy\n",
      "  df_Dividend_PreNDate[\"Dividend_Pre\"+str(N)+\"Date\"]=df_Dividend_PreNDate.index\n",
      "C:\\Users\\markchao\\AppData\\Local\\Temp/ipykernel_23784/3117343331.py:115: FutureWarning: Dropping of nuisance columns in DataFrame reductions (with 'numeric_only=None') is deprecated; in a future version this will raise TypeError.  Select only valid columns before calling the reduction.\n",
      "  Win_mean_per_Value=df_Dividend_PreOneDate[df_Dividend_PreOneDate[\"PL%\"]>0].mean()\n",
      "C:\\Users\\markchao\\AppData\\Local\\Temp/ipykernel_23784/3117343331.py:119: FutureWarning: Dropping of nuisance columns in DataFrame reductions (with 'numeric_only=None') is deprecated; in a future version this will raise TypeError.  Select only valid columns before calling the reduction.\n",
      "  Loss_mean_per_Value=df_Dividend_PreOneDate[df_Dividend_PreOneDate[\"PL%\"]<0].mean()\n"
     ]
    },
    {
     "name": "stdout",
     "output_type": "stream",
     "text": [
      "2002.TW\n"
     ]
    },
    {
     "name": "stderr",
     "output_type": "stream",
     "text": [
      "C:\\Users\\markchao\\AppData\\Local\\Temp/ipykernel_23784/3117343331.py:74: SettingWithCopyWarning: \n",
      "A value is trying to be set on a copy of a slice from a DataFrame.\n",
      "Try using .loc[row_indexer,col_indexer] = value instead\n",
      "\n",
      "See the caveats in the documentation: https://pandas.pydata.org/pandas-docs/stable/user_guide/indexing.html#returning-a-view-versus-a-copy\n",
      "  df_Dividend_PreNDate[\"Dividend_Pre\"+str(N)+\"Date\"]=df_Dividend_PreNDate.index\n",
      "C:\\Users\\markchao\\AppData\\Local\\Temp/ipykernel_23784/3117343331.py:115: FutureWarning: Dropping of nuisance columns in DataFrame reductions (with 'numeric_only=None') is deprecated; in a future version this will raise TypeError.  Select only valid columns before calling the reduction.\n",
      "  Win_mean_per_Value=df_Dividend_PreOneDate[df_Dividend_PreOneDate[\"PL%\"]>0].mean()\n",
      "C:\\Users\\markchao\\AppData\\Local\\Temp/ipykernel_23784/3117343331.py:119: FutureWarning: Dropping of nuisance columns in DataFrame reductions (with 'numeric_only=None') is deprecated; in a future version this will raise TypeError.  Select only valid columns before calling the reduction.\n",
      "  Loss_mean_per_Value=df_Dividend_PreOneDate[df_Dividend_PreOneDate[\"PL%\"]<0].mean()\n"
     ]
    },
    {
     "name": "stdout",
     "output_type": "stream",
     "text": [
      "3362.TWO\n"
     ]
    },
    {
     "name": "stderr",
     "output_type": "stream",
     "text": [
      "C:\\Users\\markchao\\AppData\\Local\\Temp/ipykernel_23784/3117343331.py:74: SettingWithCopyWarning: \n",
      "A value is trying to be set on a copy of a slice from a DataFrame.\n",
      "Try using .loc[row_indexer,col_indexer] = value instead\n",
      "\n",
      "See the caveats in the documentation: https://pandas.pydata.org/pandas-docs/stable/user_guide/indexing.html#returning-a-view-versus-a-copy\n",
      "  df_Dividend_PreNDate[\"Dividend_Pre\"+str(N)+\"Date\"]=df_Dividend_PreNDate.index\n",
      "C:\\Users\\markchao\\AppData\\Local\\Temp/ipykernel_23784/3117343331.py:115: FutureWarning: Dropping of nuisance columns in DataFrame reductions (with 'numeric_only=None') is deprecated; in a future version this will raise TypeError.  Select only valid columns before calling the reduction.\n",
      "  Win_mean_per_Value=df_Dividend_PreOneDate[df_Dividend_PreOneDate[\"PL%\"]>0].mean()\n",
      "C:\\Users\\markchao\\AppData\\Local\\Temp/ipykernel_23784/3117343331.py:119: FutureWarning: Dropping of nuisance columns in DataFrame reductions (with 'numeric_only=None') is deprecated; in a future version this will raise TypeError.  Select only valid columns before calling the reduction.\n",
      "  Loss_mean_per_Value=df_Dividend_PreOneDate[df_Dividend_PreOneDate[\"PL%\"]<0].mean()\n"
     ]
    },
    {
     "name": "stdout",
     "output_type": "stream",
     "text": [
      "6679.TWO\n"
     ]
    },
    {
     "name": "stderr",
     "output_type": "stream",
     "text": [
      "C:\\Users\\markchao\\AppData\\Local\\Temp/ipykernel_23784/3117343331.py:74: SettingWithCopyWarning: \n",
      "A value is trying to be set on a copy of a slice from a DataFrame.\n",
      "Try using .loc[row_indexer,col_indexer] = value instead\n",
      "\n",
      "See the caveats in the documentation: https://pandas.pydata.org/pandas-docs/stable/user_guide/indexing.html#returning-a-view-versus-a-copy\n",
      "  df_Dividend_PreNDate[\"Dividend_Pre\"+str(N)+\"Date\"]=df_Dividend_PreNDate.index\n",
      "C:\\Users\\markchao\\AppData\\Local\\Temp/ipykernel_23784/3117343331.py:115: FutureWarning: Dropping of nuisance columns in DataFrame reductions (with 'numeric_only=None') is deprecated; in a future version this will raise TypeError.  Select only valid columns before calling the reduction.\n",
      "  Win_mean_per_Value=df_Dividend_PreOneDate[df_Dividend_PreOneDate[\"PL%\"]>0].mean()\n",
      "C:\\Users\\markchao\\AppData\\Local\\Temp/ipykernel_23784/3117343331.py:119: FutureWarning: Dropping of nuisance columns in DataFrame reductions (with 'numeric_only=None') is deprecated; in a future version this will raise TypeError.  Select only valid columns before calling the reduction.\n",
      "  Loss_mean_per_Value=df_Dividend_PreOneDate[df_Dividend_PreOneDate[\"PL%\"]<0].mean()\n"
     ]
    },
    {
     "name": "stdout",
     "output_type": "stream",
     "text": [
      "3163.TWO\n"
     ]
    },
    {
     "name": "stderr",
     "output_type": "stream",
     "text": [
      "C:\\Users\\markchao\\AppData\\Local\\Temp/ipykernel_23784/3117343331.py:74: SettingWithCopyWarning: \n",
      "A value is trying to be set on a copy of a slice from a DataFrame.\n",
      "Try using .loc[row_indexer,col_indexer] = value instead\n",
      "\n",
      "See the caveats in the documentation: https://pandas.pydata.org/pandas-docs/stable/user_guide/indexing.html#returning-a-view-versus-a-copy\n",
      "  df_Dividend_PreNDate[\"Dividend_Pre\"+str(N)+\"Date\"]=df_Dividend_PreNDate.index\n",
      "C:\\Users\\markchao\\AppData\\Local\\Temp/ipykernel_23784/3117343331.py:115: FutureWarning: Dropping of nuisance columns in DataFrame reductions (with 'numeric_only=None') is deprecated; in a future version this will raise TypeError.  Select only valid columns before calling the reduction.\n",
      "  Win_mean_per_Value=df_Dividend_PreOneDate[df_Dividend_PreOneDate[\"PL%\"]>0].mean()\n",
      "C:\\Users\\markchao\\AppData\\Local\\Temp/ipykernel_23784/3117343331.py:119: FutureWarning: Dropping of nuisance columns in DataFrame reductions (with 'numeric_only=None') is deprecated; in a future version this will raise TypeError.  Select only valid columns before calling the reduction.\n",
      "  Loss_mean_per_Value=df_Dividend_PreOneDate[df_Dividend_PreOneDate[\"PL%\"]<0].mean()\n"
     ]
    },
    {
     "name": "stdout",
     "output_type": "stream",
     "text": [
      "4129.TWO\n"
     ]
    },
    {
     "name": "stderr",
     "output_type": "stream",
     "text": [
      "C:\\Users\\markchao\\AppData\\Local\\Temp/ipykernel_23784/3117343331.py:74: SettingWithCopyWarning: \n",
      "A value is trying to be set on a copy of a slice from a DataFrame.\n",
      "Try using .loc[row_indexer,col_indexer] = value instead\n",
      "\n",
      "See the caveats in the documentation: https://pandas.pydata.org/pandas-docs/stable/user_guide/indexing.html#returning-a-view-versus-a-copy\n",
      "  df_Dividend_PreNDate[\"Dividend_Pre\"+str(N)+\"Date\"]=df_Dividend_PreNDate.index\n",
      "C:\\Users\\markchao\\AppData\\Local\\Temp/ipykernel_23784/3117343331.py:115: FutureWarning: Dropping of nuisance columns in DataFrame reductions (with 'numeric_only=None') is deprecated; in a future version this will raise TypeError.  Select only valid columns before calling the reduction.\n",
      "  Win_mean_per_Value=df_Dividend_PreOneDate[df_Dividend_PreOneDate[\"PL%\"]>0].mean()\n",
      "C:\\Users\\markchao\\AppData\\Local\\Temp/ipykernel_23784/3117343331.py:119: FutureWarning: Dropping of nuisance columns in DataFrame reductions (with 'numeric_only=None') is deprecated; in a future version this will raise TypeError.  Select only valid columns before calling the reduction.\n",
      "  Loss_mean_per_Value=df_Dividend_PreOneDate[df_Dividend_PreOneDate[\"PL%\"]<0].mean()\n"
     ]
    },
    {
     "name": "stdout",
     "output_type": "stream",
     "text": [
      "2458.TW\n"
     ]
    },
    {
     "name": "stderr",
     "output_type": "stream",
     "text": [
      "C:\\Users\\markchao\\AppData\\Local\\Temp/ipykernel_23784/3117343331.py:74: SettingWithCopyWarning: \n",
      "A value is trying to be set on a copy of a slice from a DataFrame.\n",
      "Try using .loc[row_indexer,col_indexer] = value instead\n",
      "\n",
      "See the caveats in the documentation: https://pandas.pydata.org/pandas-docs/stable/user_guide/indexing.html#returning-a-view-versus-a-copy\n",
      "  df_Dividend_PreNDate[\"Dividend_Pre\"+str(N)+\"Date\"]=df_Dividend_PreNDate.index\n",
      "C:\\Users\\markchao\\AppData\\Local\\Temp/ipykernel_23784/3117343331.py:115: FutureWarning: Dropping of nuisance columns in DataFrame reductions (with 'numeric_only=None') is deprecated; in a future version this will raise TypeError.  Select only valid columns before calling the reduction.\n",
      "  Win_mean_per_Value=df_Dividend_PreOneDate[df_Dividend_PreOneDate[\"PL%\"]>0].mean()\n",
      "C:\\Users\\markchao\\AppData\\Local\\Temp/ipykernel_23784/3117343331.py:119: FutureWarning: Dropping of nuisance columns in DataFrame reductions (with 'numeric_only=None') is deprecated; in a future version this will raise TypeError.  Select only valid columns before calling the reduction.\n",
      "  Loss_mean_per_Value=df_Dividend_PreOneDate[df_Dividend_PreOneDate[\"PL%\"]<0].mean()\n"
     ]
    },
    {
     "name": "stdout",
     "output_type": "stream",
     "text": [
      "1590.TW\n"
     ]
    },
    {
     "name": "stderr",
     "output_type": "stream",
     "text": [
      "C:\\Users\\markchao\\AppData\\Local\\Temp/ipykernel_23784/3117343331.py:74: SettingWithCopyWarning: \n",
      "A value is trying to be set on a copy of a slice from a DataFrame.\n",
      "Try using .loc[row_indexer,col_indexer] = value instead\n",
      "\n",
      "See the caveats in the documentation: https://pandas.pydata.org/pandas-docs/stable/user_guide/indexing.html#returning-a-view-versus-a-copy\n",
      "  df_Dividend_PreNDate[\"Dividend_Pre\"+str(N)+\"Date\"]=df_Dividend_PreNDate.index\n",
      "C:\\Users\\markchao\\AppData\\Local\\Temp/ipykernel_23784/3117343331.py:115: FutureWarning: Dropping of nuisance columns in DataFrame reductions (with 'numeric_only=None') is deprecated; in a future version this will raise TypeError.  Select only valid columns before calling the reduction.\n",
      "  Win_mean_per_Value=df_Dividend_PreOneDate[df_Dividend_PreOneDate[\"PL%\"]>0].mean()\n",
      "C:\\Users\\markchao\\AppData\\Local\\Temp/ipykernel_23784/3117343331.py:119: FutureWarning: Dropping of nuisance columns in DataFrame reductions (with 'numeric_only=None') is deprecated; in a future version this will raise TypeError.  Select only valid columns before calling the reduction.\n",
      "  Loss_mean_per_Value=df_Dividend_PreOneDate[df_Dividend_PreOneDate[\"PL%\"]<0].mean()\n"
     ]
    },
    {
     "name": "stdout",
     "output_type": "stream",
     "text": [
      "2455.TW\n"
     ]
    },
    {
     "name": "stderr",
     "output_type": "stream",
     "text": [
      "C:\\Users\\markchao\\AppData\\Local\\Temp/ipykernel_23784/3117343331.py:74: SettingWithCopyWarning: \n",
      "A value is trying to be set on a copy of a slice from a DataFrame.\n",
      "Try using .loc[row_indexer,col_indexer] = value instead\n",
      "\n",
      "See the caveats in the documentation: https://pandas.pydata.org/pandas-docs/stable/user_guide/indexing.html#returning-a-view-versus-a-copy\n",
      "  df_Dividend_PreNDate[\"Dividend_Pre\"+str(N)+\"Date\"]=df_Dividend_PreNDate.index\n",
      "C:\\Users\\markchao\\AppData\\Local\\Temp/ipykernel_23784/3117343331.py:115: FutureWarning: Dropping of nuisance columns in DataFrame reductions (with 'numeric_only=None') is deprecated; in a future version this will raise TypeError.  Select only valid columns before calling the reduction.\n",
      "  Win_mean_per_Value=df_Dividend_PreOneDate[df_Dividend_PreOneDate[\"PL%\"]>0].mean()\n",
      "C:\\Users\\markchao\\AppData\\Local\\Temp/ipykernel_23784/3117343331.py:119: FutureWarning: Dropping of nuisance columns in DataFrame reductions (with 'numeric_only=None') is deprecated; in a future version this will raise TypeError.  Select only valid columns before calling the reduction.\n",
      "  Loss_mean_per_Value=df_Dividend_PreOneDate[df_Dividend_PreOneDate[\"PL%\"]<0].mean()\n"
     ]
    },
    {
     "name": "stdout",
     "output_type": "stream",
     "text": [
      "2347.TW\n"
     ]
    },
    {
     "name": "stderr",
     "output_type": "stream",
     "text": [
      "C:\\Users\\markchao\\AppData\\Local\\Temp/ipykernel_23784/3117343331.py:74: SettingWithCopyWarning: \n",
      "A value is trying to be set on a copy of a slice from a DataFrame.\n",
      "Try using .loc[row_indexer,col_indexer] = value instead\n",
      "\n",
      "See the caveats in the documentation: https://pandas.pydata.org/pandas-docs/stable/user_guide/indexing.html#returning-a-view-versus-a-copy\n",
      "  df_Dividend_PreNDate[\"Dividend_Pre\"+str(N)+\"Date\"]=df_Dividend_PreNDate.index\n",
      "C:\\Users\\markchao\\AppData\\Local\\Temp/ipykernel_23784/3117343331.py:115: FutureWarning: Dropping of nuisance columns in DataFrame reductions (with 'numeric_only=None') is deprecated; in a future version this will raise TypeError.  Select only valid columns before calling the reduction.\n",
      "  Win_mean_per_Value=df_Dividend_PreOneDate[df_Dividend_PreOneDate[\"PL%\"]>0].mean()\n",
      "C:\\Users\\markchao\\AppData\\Local\\Temp/ipykernel_23784/3117343331.py:119: FutureWarning: Dropping of nuisance columns in DataFrame reductions (with 'numeric_only=None') is deprecated; in a future version this will raise TypeError.  Select only valid columns before calling the reduction.\n",
      "  Loss_mean_per_Value=df_Dividend_PreOneDate[df_Dividend_PreOneDate[\"PL%\"]<0].mean()\n"
     ]
    },
    {
     "name": "stdout",
     "output_type": "stream",
     "text": [
      "3563.TW\n"
     ]
    },
    {
     "name": "stderr",
     "output_type": "stream",
     "text": [
      "C:\\Users\\markchao\\AppData\\Local\\Temp/ipykernel_23784/3117343331.py:74: SettingWithCopyWarning: \n",
      "A value is trying to be set on a copy of a slice from a DataFrame.\n",
      "Try using .loc[row_indexer,col_indexer] = value instead\n",
      "\n",
      "See the caveats in the documentation: https://pandas.pydata.org/pandas-docs/stable/user_guide/indexing.html#returning-a-view-versus-a-copy\n",
      "  df_Dividend_PreNDate[\"Dividend_Pre\"+str(N)+\"Date\"]=df_Dividend_PreNDate.index\n",
      "C:\\Users\\markchao\\AppData\\Local\\Temp/ipykernel_23784/3117343331.py:115: FutureWarning: Dropping of nuisance columns in DataFrame reductions (with 'numeric_only=None') is deprecated; in a future version this will raise TypeError.  Select only valid columns before calling the reduction.\n",
      "  Win_mean_per_Value=df_Dividend_PreOneDate[df_Dividend_PreOneDate[\"PL%\"]>0].mean()\n",
      "C:\\Users\\markchao\\AppData\\Local\\Temp/ipykernel_23784/3117343331.py:119: FutureWarning: Dropping of nuisance columns in DataFrame reductions (with 'numeric_only=None') is deprecated; in a future version this will raise TypeError.  Select only valid columns before calling the reduction.\n",
      "  Loss_mean_per_Value=df_Dividend_PreOneDate[df_Dividend_PreOneDate[\"PL%\"]<0].mean()\n"
     ]
    },
    {
     "name": "stdout",
     "output_type": "stream",
     "text": [
      "5258.TW\n"
     ]
    },
    {
     "name": "stderr",
     "output_type": "stream",
     "text": [
      "C:\\Users\\markchao\\AppData\\Local\\Temp/ipykernel_23784/3117343331.py:74: SettingWithCopyWarning: \n",
      "A value is trying to be set on a copy of a slice from a DataFrame.\n",
      "Try using .loc[row_indexer,col_indexer] = value instead\n",
      "\n",
      "See the caveats in the documentation: https://pandas.pydata.org/pandas-docs/stable/user_guide/indexing.html#returning-a-view-versus-a-copy\n",
      "  df_Dividend_PreNDate[\"Dividend_Pre\"+str(N)+\"Date\"]=df_Dividend_PreNDate.index\n",
      "C:\\Users\\markchao\\AppData\\Local\\Temp/ipykernel_23784/3117343331.py:115: FutureWarning: Dropping of nuisance columns in DataFrame reductions (with 'numeric_only=None') is deprecated; in a future version this will raise TypeError.  Select only valid columns before calling the reduction.\n",
      "  Win_mean_per_Value=df_Dividend_PreOneDate[df_Dividend_PreOneDate[\"PL%\"]>0].mean()\n",
      "C:\\Users\\markchao\\AppData\\Local\\Temp/ipykernel_23784/3117343331.py:119: FutureWarning: Dropping of nuisance columns in DataFrame reductions (with 'numeric_only=None') is deprecated; in a future version this will raise TypeError.  Select only valid columns before calling the reduction.\n",
      "  Loss_mean_per_Value=df_Dividend_PreOneDate[df_Dividend_PreOneDate[\"PL%\"]<0].mean()\n"
     ]
    },
    {
     "name": "stdout",
     "output_type": "stream",
     "text": [
      "1560.TW\n"
     ]
    },
    {
     "name": "stderr",
     "output_type": "stream",
     "text": [
      "C:\\Users\\markchao\\AppData\\Local\\Temp/ipykernel_23784/3117343331.py:74: SettingWithCopyWarning: \n",
      "A value is trying to be set on a copy of a slice from a DataFrame.\n",
      "Try using .loc[row_indexer,col_indexer] = value instead\n",
      "\n",
      "See the caveats in the documentation: https://pandas.pydata.org/pandas-docs/stable/user_guide/indexing.html#returning-a-view-versus-a-copy\n",
      "  df_Dividend_PreNDate[\"Dividend_Pre\"+str(N)+\"Date\"]=df_Dividend_PreNDate.index\n",
      "C:\\Users\\markchao\\AppData\\Local\\Temp/ipykernel_23784/3117343331.py:115: FutureWarning: Dropping of nuisance columns in DataFrame reductions (with 'numeric_only=None') is deprecated; in a future version this will raise TypeError.  Select only valid columns before calling the reduction.\n",
      "  Win_mean_per_Value=df_Dividend_PreOneDate[df_Dividend_PreOneDate[\"PL%\"]>0].mean()\n",
      "C:\\Users\\markchao\\AppData\\Local\\Temp/ipykernel_23784/3117343331.py:119: FutureWarning: Dropping of nuisance columns in DataFrame reductions (with 'numeric_only=None') is deprecated; in a future version this will raise TypeError.  Select only valid columns before calling the reduction.\n",
      "  Loss_mean_per_Value=df_Dividend_PreOneDate[df_Dividend_PreOneDate[\"PL%\"]<0].mean()\n"
     ]
    },
    {
     "name": "stdout",
     "output_type": "stream",
     "text": [
      "3704.TW\n"
     ]
    },
    {
     "name": "stderr",
     "output_type": "stream",
     "text": [
      "C:\\Users\\markchao\\AppData\\Local\\Temp/ipykernel_23784/3117343331.py:74: SettingWithCopyWarning: \n",
      "A value is trying to be set on a copy of a slice from a DataFrame.\n",
      "Try using .loc[row_indexer,col_indexer] = value instead\n",
      "\n",
      "See the caveats in the documentation: https://pandas.pydata.org/pandas-docs/stable/user_guide/indexing.html#returning-a-view-versus-a-copy\n",
      "  df_Dividend_PreNDate[\"Dividend_Pre\"+str(N)+\"Date\"]=df_Dividend_PreNDate.index\n",
      "C:\\Users\\markchao\\AppData\\Local\\Temp/ipykernel_23784/3117343331.py:115: FutureWarning: Dropping of nuisance columns in DataFrame reductions (with 'numeric_only=None') is deprecated; in a future version this will raise TypeError.  Select only valid columns before calling the reduction.\n",
      "  Win_mean_per_Value=df_Dividend_PreOneDate[df_Dividend_PreOneDate[\"PL%\"]>0].mean()\n",
      "C:\\Users\\markchao\\AppData\\Local\\Temp/ipykernel_23784/3117343331.py:119: FutureWarning: Dropping of nuisance columns in DataFrame reductions (with 'numeric_only=None') is deprecated; in a future version this will raise TypeError.  Select only valid columns before calling the reduction.\n",
      "  Loss_mean_per_Value=df_Dividend_PreOneDate[df_Dividend_PreOneDate[\"PL%\"]<0].mean()\n"
     ]
    },
    {
     "name": "stdout",
     "output_type": "stream",
     "text": [
      "1326.TW\n"
     ]
    },
    {
     "name": "stderr",
     "output_type": "stream",
     "text": [
      "C:\\Users\\markchao\\AppData\\Local\\Temp/ipykernel_23784/3117343331.py:74: SettingWithCopyWarning: \n",
      "A value is trying to be set on a copy of a slice from a DataFrame.\n",
      "Try using .loc[row_indexer,col_indexer] = value instead\n",
      "\n",
      "See the caveats in the documentation: https://pandas.pydata.org/pandas-docs/stable/user_guide/indexing.html#returning-a-view-versus-a-copy\n",
      "  df_Dividend_PreNDate[\"Dividend_Pre\"+str(N)+\"Date\"]=df_Dividend_PreNDate.index\n",
      "C:\\Users\\markchao\\AppData\\Local\\Temp/ipykernel_23784/3117343331.py:115: FutureWarning: Dropping of nuisance columns in DataFrame reductions (with 'numeric_only=None') is deprecated; in a future version this will raise TypeError.  Select only valid columns before calling the reduction.\n",
      "  Win_mean_per_Value=df_Dividend_PreOneDate[df_Dividend_PreOneDate[\"PL%\"]>0].mean()\n",
      "C:\\Users\\markchao\\AppData\\Local\\Temp/ipykernel_23784/3117343331.py:119: FutureWarning: Dropping of nuisance columns in DataFrame reductions (with 'numeric_only=None') is deprecated; in a future version this will raise TypeError.  Select only valid columns before calling the reduction.\n",
      "  Loss_mean_per_Value=df_Dividend_PreOneDate[df_Dividend_PreOneDate[\"PL%\"]<0].mean()\n"
     ]
    },
    {
     "name": "stdout",
     "output_type": "stream",
     "text": [
      "3105.TWO\n"
     ]
    },
    {
     "name": "stderr",
     "output_type": "stream",
     "text": [
      "C:\\Users\\markchao\\AppData\\Local\\Temp/ipykernel_23784/3117343331.py:74: SettingWithCopyWarning: \n",
      "A value is trying to be set on a copy of a slice from a DataFrame.\n",
      "Try using .loc[row_indexer,col_indexer] = value instead\n",
      "\n",
      "See the caveats in the documentation: https://pandas.pydata.org/pandas-docs/stable/user_guide/indexing.html#returning-a-view-versus-a-copy\n",
      "  df_Dividend_PreNDate[\"Dividend_Pre\"+str(N)+\"Date\"]=df_Dividend_PreNDate.index\n",
      "C:\\Users\\markchao\\AppData\\Local\\Temp/ipykernel_23784/3117343331.py:115: FutureWarning: Dropping of nuisance columns in DataFrame reductions (with 'numeric_only=None') is deprecated; in a future version this will raise TypeError.  Select only valid columns before calling the reduction.\n",
      "  Win_mean_per_Value=df_Dividend_PreOneDate[df_Dividend_PreOneDate[\"PL%\"]>0].mean()\n",
      "C:\\Users\\markchao\\AppData\\Local\\Temp/ipykernel_23784/3117343331.py:119: FutureWarning: Dropping of nuisance columns in DataFrame reductions (with 'numeric_only=None') is deprecated; in a future version this will raise TypeError.  Select only valid columns before calling the reduction.\n",
      "  Loss_mean_per_Value=df_Dividend_PreOneDate[df_Dividend_PreOneDate[\"PL%\"]<0].mean()\n"
     ]
    },
    {
     "name": "stdout",
     "output_type": "stream",
     "text": [
      "2888.TW\n"
     ]
    },
    {
     "name": "stderr",
     "output_type": "stream",
     "text": [
      "C:\\Users\\markchao\\AppData\\Local\\Temp/ipykernel_23784/3117343331.py:74: SettingWithCopyWarning: \n",
      "A value is trying to be set on a copy of a slice from a DataFrame.\n",
      "Try using .loc[row_indexer,col_indexer] = value instead\n",
      "\n",
      "See the caveats in the documentation: https://pandas.pydata.org/pandas-docs/stable/user_guide/indexing.html#returning-a-view-versus-a-copy\n",
      "  df_Dividend_PreNDate[\"Dividend_Pre\"+str(N)+\"Date\"]=df_Dividend_PreNDate.index\n",
      "C:\\Users\\markchao\\AppData\\Local\\Temp/ipykernel_23784/3117343331.py:115: FutureWarning: Dropping of nuisance columns in DataFrame reductions (with 'numeric_only=None') is deprecated; in a future version this will raise TypeError.  Select only valid columns before calling the reduction.\n",
      "  Win_mean_per_Value=df_Dividend_PreOneDate[df_Dividend_PreOneDate[\"PL%\"]>0].mean()\n",
      "C:\\Users\\markchao\\AppData\\Local\\Temp/ipykernel_23784/3117343331.py:119: FutureWarning: Dropping of nuisance columns in DataFrame reductions (with 'numeric_only=None') is deprecated; in a future version this will raise TypeError.  Select only valid columns before calling the reduction.\n",
      "  Loss_mean_per_Value=df_Dividend_PreOneDate[df_Dividend_PreOneDate[\"PL%\"]<0].mean()\n"
     ]
    },
    {
     "name": "stdout",
     "output_type": "stream",
     "text": [
      "3498.TWO\n"
     ]
    },
    {
     "name": "stderr",
     "output_type": "stream",
     "text": [
      "C:\\Users\\markchao\\AppData\\Local\\Temp/ipykernel_23784/3117343331.py:74: SettingWithCopyWarning: \n",
      "A value is trying to be set on a copy of a slice from a DataFrame.\n",
      "Try using .loc[row_indexer,col_indexer] = value instead\n",
      "\n",
      "See the caveats in the documentation: https://pandas.pydata.org/pandas-docs/stable/user_guide/indexing.html#returning-a-view-versus-a-copy\n",
      "  df_Dividend_PreNDate[\"Dividend_Pre\"+str(N)+\"Date\"]=df_Dividend_PreNDate.index\n",
      "C:\\Users\\markchao\\AppData\\Local\\Temp/ipykernel_23784/3117343331.py:115: FutureWarning: Dropping of nuisance columns in DataFrame reductions (with 'numeric_only=None') is deprecated; in a future version this will raise TypeError.  Select only valid columns before calling the reduction.\n",
      "  Win_mean_per_Value=df_Dividend_PreOneDate[df_Dividend_PreOneDate[\"PL%\"]>0].mean()\n",
      "C:\\Users\\markchao\\AppData\\Local\\Temp/ipykernel_23784/3117343331.py:119: FutureWarning: Dropping of nuisance columns in DataFrame reductions (with 'numeric_only=None') is deprecated; in a future version this will raise TypeError.  Select only valid columns before calling the reduction.\n",
      "  Loss_mean_per_Value=df_Dividend_PreOneDate[df_Dividend_PreOneDate[\"PL%\"]<0].mean()\n"
     ]
    },
    {
     "name": "stdout",
     "output_type": "stream",
     "text": [
      "3029.TW\n"
     ]
    },
    {
     "name": "stderr",
     "output_type": "stream",
     "text": [
      "C:\\Users\\markchao\\AppData\\Local\\Temp/ipykernel_23784/3117343331.py:74: SettingWithCopyWarning: \n",
      "A value is trying to be set on a copy of a slice from a DataFrame.\n",
      "Try using .loc[row_indexer,col_indexer] = value instead\n",
      "\n",
      "See the caveats in the documentation: https://pandas.pydata.org/pandas-docs/stable/user_guide/indexing.html#returning-a-view-versus-a-copy\n",
      "  df_Dividend_PreNDate[\"Dividend_Pre\"+str(N)+\"Date\"]=df_Dividend_PreNDate.index\n",
      "C:\\Users\\markchao\\AppData\\Local\\Temp/ipykernel_23784/3117343331.py:115: FutureWarning: Dropping of nuisance columns in DataFrame reductions (with 'numeric_only=None') is deprecated; in a future version this will raise TypeError.  Select only valid columns before calling the reduction.\n",
      "  Win_mean_per_Value=df_Dividend_PreOneDate[df_Dividend_PreOneDate[\"PL%\"]>0].mean()\n",
      "C:\\Users\\markchao\\AppData\\Local\\Temp/ipykernel_23784/3117343331.py:119: FutureWarning: Dropping of nuisance columns in DataFrame reductions (with 'numeric_only=None') is deprecated; in a future version this will raise TypeError.  Select only valid columns before calling the reduction.\n",
      "  Loss_mean_per_Value=df_Dividend_PreOneDate[df_Dividend_PreOneDate[\"PL%\"]<0].mean()\n"
     ]
    },
    {
     "name": "stdout",
     "output_type": "stream",
     "text": [
      "4953.TWO\n"
     ]
    },
    {
     "name": "stderr",
     "output_type": "stream",
     "text": [
      "C:\\Users\\markchao\\AppData\\Local\\Temp/ipykernel_23784/3117343331.py:74: SettingWithCopyWarning: \n",
      "A value is trying to be set on a copy of a slice from a DataFrame.\n",
      "Try using .loc[row_indexer,col_indexer] = value instead\n",
      "\n",
      "See the caveats in the documentation: https://pandas.pydata.org/pandas-docs/stable/user_guide/indexing.html#returning-a-view-versus-a-copy\n",
      "  df_Dividend_PreNDate[\"Dividend_Pre\"+str(N)+\"Date\"]=df_Dividend_PreNDate.index\n",
      "C:\\Users\\markchao\\AppData\\Local\\Temp/ipykernel_23784/3117343331.py:115: FutureWarning: Dropping of nuisance columns in DataFrame reductions (with 'numeric_only=None') is deprecated; in a future version this will raise TypeError.  Select only valid columns before calling the reduction.\n",
      "  Win_mean_per_Value=df_Dividend_PreOneDate[df_Dividend_PreOneDate[\"PL%\"]>0].mean()\n",
      "C:\\Users\\markchao\\AppData\\Local\\Temp/ipykernel_23784/3117343331.py:119: FutureWarning: Dropping of nuisance columns in DataFrame reductions (with 'numeric_only=None') is deprecated; in a future version this will raise TypeError.  Select only valid columns before calling the reduction.\n",
      "  Loss_mean_per_Value=df_Dividend_PreOneDate[df_Dividend_PreOneDate[\"PL%\"]<0].mean()\n"
     ]
    },
    {
     "name": "stdout",
     "output_type": "stream",
     "text": [
      "1605.TW\n"
     ]
    },
    {
     "name": "stderr",
     "output_type": "stream",
     "text": [
      "C:\\Users\\markchao\\AppData\\Local\\Temp/ipykernel_23784/3117343331.py:74: SettingWithCopyWarning: \n",
      "A value is trying to be set on a copy of a slice from a DataFrame.\n",
      "Try using .loc[row_indexer,col_indexer] = value instead\n",
      "\n",
      "See the caveats in the documentation: https://pandas.pydata.org/pandas-docs/stable/user_guide/indexing.html#returning-a-view-versus-a-copy\n",
      "  df_Dividend_PreNDate[\"Dividend_Pre\"+str(N)+\"Date\"]=df_Dividend_PreNDate.index\n",
      "C:\\Users\\markchao\\AppData\\Local\\Temp/ipykernel_23784/3117343331.py:115: FutureWarning: Dropping of nuisance columns in DataFrame reductions (with 'numeric_only=None') is deprecated; in a future version this will raise TypeError.  Select only valid columns before calling the reduction.\n",
      "  Win_mean_per_Value=df_Dividend_PreOneDate[df_Dividend_PreOneDate[\"PL%\"]>0].mean()\n",
      "C:\\Users\\markchao\\AppData\\Local\\Temp/ipykernel_23784/3117343331.py:119: FutureWarning: Dropping of nuisance columns in DataFrame reductions (with 'numeric_only=None') is deprecated; in a future version this will raise TypeError.  Select only valid columns before calling the reduction.\n",
      "  Loss_mean_per_Value=df_Dividend_PreOneDate[df_Dividend_PreOneDate[\"PL%\"]<0].mean()\n"
     ]
    },
    {
     "name": "stdout",
     "output_type": "stream",
     "text": [
      "6451.TW\n"
     ]
    },
    {
     "name": "stderr",
     "output_type": "stream",
     "text": [
      "C:\\Users\\markchao\\AppData\\Local\\Temp/ipykernel_23784/3117343331.py:74: SettingWithCopyWarning: \n",
      "A value is trying to be set on a copy of a slice from a DataFrame.\n",
      "Try using .loc[row_indexer,col_indexer] = value instead\n",
      "\n",
      "See the caveats in the documentation: https://pandas.pydata.org/pandas-docs/stable/user_guide/indexing.html#returning-a-view-versus-a-copy\n",
      "  df_Dividend_PreNDate[\"Dividend_Pre\"+str(N)+\"Date\"]=df_Dividend_PreNDate.index\n",
      "C:\\Users\\markchao\\AppData\\Local\\Temp/ipykernel_23784/3117343331.py:115: FutureWarning: Dropping of nuisance columns in DataFrame reductions (with 'numeric_only=None') is deprecated; in a future version this will raise TypeError.  Select only valid columns before calling the reduction.\n",
      "  Win_mean_per_Value=df_Dividend_PreOneDate[df_Dividend_PreOneDate[\"PL%\"]>0].mean()\n",
      "C:\\Users\\markchao\\AppData\\Local\\Temp/ipykernel_23784/3117343331.py:119: FutureWarning: Dropping of nuisance columns in DataFrame reductions (with 'numeric_only=None') is deprecated; in a future version this will raise TypeError.  Select only valid columns before calling the reduction.\n",
      "  Loss_mean_per_Value=df_Dividend_PreOneDate[df_Dividend_PreOneDate[\"PL%\"]<0].mean()\n"
     ]
    },
    {
     "name": "stdout",
     "output_type": "stream",
     "text": [
      "2892.TW\n"
     ]
    },
    {
     "name": "stderr",
     "output_type": "stream",
     "text": [
      "C:\\Users\\markchao\\AppData\\Local\\Temp/ipykernel_23784/3117343331.py:74: SettingWithCopyWarning: \n",
      "A value is trying to be set on a copy of a slice from a DataFrame.\n",
      "Try using .loc[row_indexer,col_indexer] = value instead\n",
      "\n",
      "See the caveats in the documentation: https://pandas.pydata.org/pandas-docs/stable/user_guide/indexing.html#returning-a-view-versus-a-copy\n",
      "  df_Dividend_PreNDate[\"Dividend_Pre\"+str(N)+\"Date\"]=df_Dividend_PreNDate.index\n",
      "C:\\Users\\markchao\\AppData\\Local\\Temp/ipykernel_23784/3117343331.py:115: FutureWarning: Dropping of nuisance columns in DataFrame reductions (with 'numeric_only=None') is deprecated; in a future version this will raise TypeError.  Select only valid columns before calling the reduction.\n",
      "  Win_mean_per_Value=df_Dividend_PreOneDate[df_Dividend_PreOneDate[\"PL%\"]>0].mean()\n",
      "C:\\Users\\markchao\\AppData\\Local\\Temp/ipykernel_23784/3117343331.py:119: FutureWarning: Dropping of nuisance columns in DataFrame reductions (with 'numeric_only=None') is deprecated; in a future version this will raise TypeError.  Select only valid columns before calling the reduction.\n",
      "  Loss_mean_per_Value=df_Dividend_PreOneDate[df_Dividend_PreOneDate[\"PL%\"]<0].mean()\n"
     ]
    },
    {
     "name": "stdout",
     "output_type": "stream",
     "text": [
      "6269.TW\n"
     ]
    },
    {
     "name": "stderr",
     "output_type": "stream",
     "text": [
      "C:\\Users\\markchao\\AppData\\Local\\Temp/ipykernel_23784/3117343331.py:74: SettingWithCopyWarning: \n",
      "A value is trying to be set on a copy of a slice from a DataFrame.\n",
      "Try using .loc[row_indexer,col_indexer] = value instead\n",
      "\n",
      "See the caveats in the documentation: https://pandas.pydata.org/pandas-docs/stable/user_guide/indexing.html#returning-a-view-versus-a-copy\n",
      "  df_Dividend_PreNDate[\"Dividend_Pre\"+str(N)+\"Date\"]=df_Dividend_PreNDate.index\n",
      "C:\\Users\\markchao\\AppData\\Local\\Temp/ipykernel_23784/3117343331.py:115: FutureWarning: Dropping of nuisance columns in DataFrame reductions (with 'numeric_only=None') is deprecated; in a future version this will raise TypeError.  Select only valid columns before calling the reduction.\n",
      "  Win_mean_per_Value=df_Dividend_PreOneDate[df_Dividend_PreOneDate[\"PL%\"]>0].mean()\n",
      "C:\\Users\\markchao\\AppData\\Local\\Temp/ipykernel_23784/3117343331.py:119: FutureWarning: Dropping of nuisance columns in DataFrame reductions (with 'numeric_only=None') is deprecated; in a future version this will raise TypeError.  Select only valid columns before calling the reduction.\n",
      "  Loss_mean_per_Value=df_Dividend_PreOneDate[df_Dividend_PreOneDate[\"PL%\"]<0].mean()\n"
     ]
    },
    {
     "name": "stdout",
     "output_type": "stream",
     "text": [
      "5876.TW\n"
     ]
    },
    {
     "name": "stderr",
     "output_type": "stream",
     "text": [
      "C:\\Users\\markchao\\AppData\\Local\\Temp/ipykernel_23784/3117343331.py:74: SettingWithCopyWarning: \n",
      "A value is trying to be set on a copy of a slice from a DataFrame.\n",
      "Try using .loc[row_indexer,col_indexer] = value instead\n",
      "\n",
      "See the caveats in the documentation: https://pandas.pydata.org/pandas-docs/stable/user_guide/indexing.html#returning-a-view-versus-a-copy\n",
      "  df_Dividend_PreNDate[\"Dividend_Pre\"+str(N)+\"Date\"]=df_Dividend_PreNDate.index\n",
      "C:\\Users\\markchao\\AppData\\Local\\Temp/ipykernel_23784/3117343331.py:115: FutureWarning: Dropping of nuisance columns in DataFrame reductions (with 'numeric_only=None') is deprecated; in a future version this will raise TypeError.  Select only valid columns before calling the reduction.\n",
      "  Win_mean_per_Value=df_Dividend_PreOneDate[df_Dividend_PreOneDate[\"PL%\"]>0].mean()\n",
      "C:\\Users\\markchao\\AppData\\Local\\Temp/ipykernel_23784/3117343331.py:119: FutureWarning: Dropping of nuisance columns in DataFrame reductions (with 'numeric_only=None') is deprecated; in a future version this will raise TypeError.  Select only valid columns before calling the reduction.\n",
      "  Loss_mean_per_Value=df_Dividend_PreOneDate[df_Dividend_PreOneDate[\"PL%\"]<0].mean()\n"
     ]
    },
    {
     "name": "stdout",
     "output_type": "stream",
     "text": [
      "1519.TW\n"
     ]
    },
    {
     "name": "stderr",
     "output_type": "stream",
     "text": [
      "C:\\Users\\markchao\\AppData\\Local\\Temp/ipykernel_23784/3117343331.py:74: SettingWithCopyWarning: \n",
      "A value is trying to be set on a copy of a slice from a DataFrame.\n",
      "Try using .loc[row_indexer,col_indexer] = value instead\n",
      "\n",
      "See the caveats in the documentation: https://pandas.pydata.org/pandas-docs/stable/user_guide/indexing.html#returning-a-view-versus-a-copy\n",
      "  df_Dividend_PreNDate[\"Dividend_Pre\"+str(N)+\"Date\"]=df_Dividend_PreNDate.index\n",
      "C:\\Users\\markchao\\AppData\\Local\\Temp/ipykernel_23784/3117343331.py:115: FutureWarning: Dropping of nuisance columns in DataFrame reductions (with 'numeric_only=None') is deprecated; in a future version this will raise TypeError.  Select only valid columns before calling the reduction.\n",
      "  Win_mean_per_Value=df_Dividend_PreOneDate[df_Dividend_PreOneDate[\"PL%\"]>0].mean()\n",
      "C:\\Users\\markchao\\AppData\\Local\\Temp/ipykernel_23784/3117343331.py:119: FutureWarning: Dropping of nuisance columns in DataFrame reductions (with 'numeric_only=None') is deprecated; in a future version this will raise TypeError.  Select only valid columns before calling the reduction.\n",
      "  Loss_mean_per_Value=df_Dividend_PreOneDate[df_Dividend_PreOneDate[\"PL%\"]<0].mean()\n"
     ]
    },
    {
     "name": "stdout",
     "output_type": "stream",
     "text": [
      "6235.TW\n"
     ]
    },
    {
     "name": "stderr",
     "output_type": "stream",
     "text": [
      "C:\\Users\\markchao\\AppData\\Local\\Temp/ipykernel_23784/3117343331.py:74: SettingWithCopyWarning: \n",
      "A value is trying to be set on a copy of a slice from a DataFrame.\n",
      "Try using .loc[row_indexer,col_indexer] = value instead\n",
      "\n",
      "See the caveats in the documentation: https://pandas.pydata.org/pandas-docs/stable/user_guide/indexing.html#returning-a-view-versus-a-copy\n",
      "  df_Dividend_PreNDate[\"Dividend_Pre\"+str(N)+\"Date\"]=df_Dividend_PreNDate.index\n",
      "C:\\Users\\markchao\\AppData\\Local\\Temp/ipykernel_23784/3117343331.py:115: FutureWarning: Dropping of nuisance columns in DataFrame reductions (with 'numeric_only=None') is deprecated; in a future version this will raise TypeError.  Select only valid columns before calling the reduction.\n",
      "  Win_mean_per_Value=df_Dividend_PreOneDate[df_Dividend_PreOneDate[\"PL%\"]>0].mean()\n",
      "C:\\Users\\markchao\\AppData\\Local\\Temp/ipykernel_23784/3117343331.py:119: FutureWarning: Dropping of nuisance columns in DataFrame reductions (with 'numeric_only=None') is deprecated; in a future version this will raise TypeError.  Select only valid columns before calling the reduction.\n",
      "  Loss_mean_per_Value=df_Dividend_PreOneDate[df_Dividend_PreOneDate[\"PL%\"]<0].mean()\n"
     ]
    },
    {
     "name": "stdout",
     "output_type": "stream",
     "text": [
      "6735.TWO\n"
     ]
    },
    {
     "name": "stderr",
     "output_type": "stream",
     "text": [
      "C:\\Users\\markchao\\AppData\\Local\\Temp/ipykernel_23784/3117343331.py:74: SettingWithCopyWarning: \n",
      "A value is trying to be set on a copy of a slice from a DataFrame.\n",
      "Try using .loc[row_indexer,col_indexer] = value instead\n",
      "\n",
      "See the caveats in the documentation: https://pandas.pydata.org/pandas-docs/stable/user_guide/indexing.html#returning-a-view-versus-a-copy\n",
      "  df_Dividend_PreNDate[\"Dividend_Pre\"+str(N)+\"Date\"]=df_Dividend_PreNDate.index\n",
      "C:\\Users\\markchao\\AppData\\Local\\Temp/ipykernel_23784/3117343331.py:115: FutureWarning: Dropping of nuisance columns in DataFrame reductions (with 'numeric_only=None') is deprecated; in a future version this will raise TypeError.  Select only valid columns before calling the reduction.\n",
      "  Win_mean_per_Value=df_Dividend_PreOneDate[df_Dividend_PreOneDate[\"PL%\"]>0].mean()\n"
     ]
    },
    {
     "name": "stdout",
     "output_type": "stream",
     "text": [
      "6275.TWO\n"
     ]
    },
    {
     "name": "stderr",
     "output_type": "stream",
     "text": [
      "C:\\Users\\markchao\\AppData\\Local\\Temp/ipykernel_23784/3117343331.py:74: SettingWithCopyWarning: \n",
      "A value is trying to be set on a copy of a slice from a DataFrame.\n",
      "Try using .loc[row_indexer,col_indexer] = value instead\n",
      "\n",
      "See the caveats in the documentation: https://pandas.pydata.org/pandas-docs/stable/user_guide/indexing.html#returning-a-view-versus-a-copy\n",
      "  df_Dividend_PreNDate[\"Dividend_Pre\"+str(N)+\"Date\"]=df_Dividend_PreNDate.index\n",
      "C:\\Users\\markchao\\AppData\\Local\\Temp/ipykernel_23784/3117343331.py:115: FutureWarning: Dropping of nuisance columns in DataFrame reductions (with 'numeric_only=None') is deprecated; in a future version this will raise TypeError.  Select only valid columns before calling the reduction.\n",
      "  Win_mean_per_Value=df_Dividend_PreOneDate[df_Dividend_PreOneDate[\"PL%\"]>0].mean()\n",
      "C:\\Users\\markchao\\AppData\\Local\\Temp/ipykernel_23784/3117343331.py:119: FutureWarning: Dropping of nuisance columns in DataFrame reductions (with 'numeric_only=None') is deprecated; in a future version this will raise TypeError.  Select only valid columns before calling the reduction.\n",
      "  Loss_mean_per_Value=df_Dividend_PreOneDate[df_Dividend_PreOneDate[\"PL%\"]<0].mean()\n"
     ]
    },
    {
     "name": "stdout",
     "output_type": "stream",
     "text": [
      "4583.TW\n"
     ]
    },
    {
     "name": "stderr",
     "output_type": "stream",
     "text": [
      "C:\\Users\\markchao\\AppData\\Local\\Temp/ipykernel_23784/3117343331.py:74: SettingWithCopyWarning: \n",
      "A value is trying to be set on a copy of a slice from a DataFrame.\n",
      "Try using .loc[row_indexer,col_indexer] = value instead\n",
      "\n",
      "See the caveats in the documentation: https://pandas.pydata.org/pandas-docs/stable/user_guide/indexing.html#returning-a-view-versus-a-copy\n",
      "  df_Dividend_PreNDate[\"Dividend_Pre\"+str(N)+\"Date\"]=df_Dividend_PreNDate.index\n",
      "C:\\Users\\markchao\\AppData\\Local\\Temp/ipykernel_23784/3117343331.py:115: FutureWarning: Dropping of nuisance columns in DataFrame reductions (with 'numeric_only=None') is deprecated; in a future version this will raise TypeError.  Select only valid columns before calling the reduction.\n",
      "  Win_mean_per_Value=df_Dividend_PreOneDate[df_Dividend_PreOneDate[\"PL%\"]>0].mean()\n",
      "C:\\Users\\markchao\\AppData\\Local\\Temp/ipykernel_23784/3117343331.py:119: FutureWarning: Dropping of nuisance columns in DataFrame reductions (with 'numeric_only=None') is deprecated; in a future version this will raise TypeError.  Select only valid columns before calling the reduction.\n",
      "  Loss_mean_per_Value=df_Dividend_PreOneDate[df_Dividend_PreOneDate[\"PL%\"]<0].mean()\n"
     ]
    },
    {
     "name": "stdout",
     "output_type": "stream",
     "text": [
      "5880.TW\n"
     ]
    },
    {
     "name": "stderr",
     "output_type": "stream",
     "text": [
      "C:\\Users\\markchao\\AppData\\Local\\Temp/ipykernel_23784/3117343331.py:74: SettingWithCopyWarning: \n",
      "A value is trying to be set on a copy of a slice from a DataFrame.\n",
      "Try using .loc[row_indexer,col_indexer] = value instead\n",
      "\n",
      "See the caveats in the documentation: https://pandas.pydata.org/pandas-docs/stable/user_guide/indexing.html#returning-a-view-versus-a-copy\n",
      "  df_Dividend_PreNDate[\"Dividend_Pre\"+str(N)+\"Date\"]=df_Dividend_PreNDate.index\n",
      "C:\\Users\\markchao\\AppData\\Local\\Temp/ipykernel_23784/3117343331.py:115: FutureWarning: Dropping of nuisance columns in DataFrame reductions (with 'numeric_only=None') is deprecated; in a future version this will raise TypeError.  Select only valid columns before calling the reduction.\n",
      "  Win_mean_per_Value=df_Dividend_PreOneDate[df_Dividend_PreOneDate[\"PL%\"]>0].mean()\n",
      "C:\\Users\\markchao\\AppData\\Local\\Temp/ipykernel_23784/3117343331.py:119: FutureWarning: Dropping of nuisance columns in DataFrame reductions (with 'numeric_only=None') is deprecated; in a future version this will raise TypeError.  Select only valid columns before calling the reduction.\n",
      "  Loss_mean_per_Value=df_Dividend_PreOneDate[df_Dividend_PreOneDate[\"PL%\"]<0].mean()\n"
     ]
    },
    {
     "name": "stdout",
     "output_type": "stream",
     "text": [
      "8081.TW\n"
     ]
    },
    {
     "name": "stderr",
     "output_type": "stream",
     "text": [
      "C:\\Users\\markchao\\AppData\\Local\\Temp/ipykernel_23784/3117343331.py:74: SettingWithCopyWarning: \n",
      "A value is trying to be set on a copy of a slice from a DataFrame.\n",
      "Try using .loc[row_indexer,col_indexer] = value instead\n",
      "\n",
      "See the caveats in the documentation: https://pandas.pydata.org/pandas-docs/stable/user_guide/indexing.html#returning-a-view-versus-a-copy\n",
      "  df_Dividend_PreNDate[\"Dividend_Pre\"+str(N)+\"Date\"]=df_Dividend_PreNDate.index\n",
      "C:\\Users\\markchao\\AppData\\Local\\Temp/ipykernel_23784/3117343331.py:115: FutureWarning: Dropping of nuisance columns in DataFrame reductions (with 'numeric_only=None') is deprecated; in a future version this will raise TypeError.  Select only valid columns before calling the reduction.\n",
      "  Win_mean_per_Value=df_Dividend_PreOneDate[df_Dividend_PreOneDate[\"PL%\"]>0].mean()\n",
      "C:\\Users\\markchao\\AppData\\Local\\Temp/ipykernel_23784/3117343331.py:119: FutureWarning: Dropping of nuisance columns in DataFrame reductions (with 'numeric_only=None') is deprecated; in a future version this will raise TypeError.  Select only valid columns before calling the reduction.\n",
      "  Loss_mean_per_Value=df_Dividend_PreOneDate[df_Dividend_PreOneDate[\"PL%\"]<0].mean()\n"
     ]
    },
    {
     "name": "stdout",
     "output_type": "stream",
     "text": [
      "6535.TWO\n",
      "2880.TW\n"
     ]
    },
    {
     "name": "stderr",
     "output_type": "stream",
     "text": [
      "C:\\Users\\markchao\\AppData\\Local\\Temp/ipykernel_23784/3117343331.py:74: SettingWithCopyWarning: \n",
      "A value is trying to be set on a copy of a slice from a DataFrame.\n",
      "Try using .loc[row_indexer,col_indexer] = value instead\n",
      "\n",
      "See the caveats in the documentation: https://pandas.pydata.org/pandas-docs/stable/user_guide/indexing.html#returning-a-view-versus-a-copy\n",
      "  df_Dividend_PreNDate[\"Dividend_Pre\"+str(N)+\"Date\"]=df_Dividend_PreNDate.index\n",
      "C:\\Users\\markchao\\AppData\\Local\\Temp/ipykernel_23784/3117343331.py:115: FutureWarning: Dropping of nuisance columns in DataFrame reductions (with 'numeric_only=None') is deprecated; in a future version this will raise TypeError.  Select only valid columns before calling the reduction.\n",
      "  Win_mean_per_Value=df_Dividend_PreOneDate[df_Dividend_PreOneDate[\"PL%\"]>0].mean()\n",
      "C:\\Users\\markchao\\AppData\\Local\\Temp/ipykernel_23784/3117343331.py:119: FutureWarning: Dropping of nuisance columns in DataFrame reductions (with 'numeric_only=None') is deprecated; in a future version this will raise TypeError.  Select only valid columns before calling the reduction.\n",
      "  Loss_mean_per_Value=df_Dividend_PreOneDate[df_Dividend_PreOneDate[\"PL%\"]<0].mean()\n"
     ]
    },
    {
     "name": "stdout",
     "output_type": "stream",
     "text": [
      "6526.TW\n"
     ]
    },
    {
     "name": "stderr",
     "output_type": "stream",
     "text": [
      "C:\\Users\\markchao\\AppData\\Local\\Temp/ipykernel_23784/3117343331.py:74: SettingWithCopyWarning: \n",
      "A value is trying to be set on a copy of a slice from a DataFrame.\n",
      "Try using .loc[row_indexer,col_indexer] = value instead\n",
      "\n",
      "See the caveats in the documentation: https://pandas.pydata.org/pandas-docs/stable/user_guide/indexing.html#returning-a-view-versus-a-copy\n",
      "  df_Dividend_PreNDate[\"Dividend_Pre\"+str(N)+\"Date\"]=df_Dividend_PreNDate.index\n",
      "C:\\Users\\markchao\\AppData\\Local\\Temp/ipykernel_23784/3117343331.py:119: FutureWarning: Dropping of nuisance columns in DataFrame reductions (with 'numeric_only=None') is deprecated; in a future version this will raise TypeError.  Select only valid columns before calling the reduction.\n",
      "  Loss_mean_per_Value=df_Dividend_PreOneDate[df_Dividend_PreOneDate[\"PL%\"]<0].mean()\n"
     ]
    },
    {
     "name": "stdout",
     "output_type": "stream",
     "text": [
      "2409.TW\n"
     ]
    },
    {
     "name": "stderr",
     "output_type": "stream",
     "text": [
      "C:\\Users\\markchao\\AppData\\Local\\Temp/ipykernel_23784/3117343331.py:74: SettingWithCopyWarning: \n",
      "A value is trying to be set on a copy of a slice from a DataFrame.\n",
      "Try using .loc[row_indexer,col_indexer] = value instead\n",
      "\n",
      "See the caveats in the documentation: https://pandas.pydata.org/pandas-docs/stable/user_guide/indexing.html#returning-a-view-versus-a-copy\n",
      "  df_Dividend_PreNDate[\"Dividend_Pre\"+str(N)+\"Date\"]=df_Dividend_PreNDate.index\n",
      "C:\\Users\\markchao\\AppData\\Local\\Temp/ipykernel_23784/3117343331.py:115: FutureWarning: Dropping of nuisance columns in DataFrame reductions (with 'numeric_only=None') is deprecated; in a future version this will raise TypeError.  Select only valid columns before calling the reduction.\n",
      "  Win_mean_per_Value=df_Dividend_PreOneDate[df_Dividend_PreOneDate[\"PL%\"]>0].mean()\n",
      "C:\\Users\\markchao\\AppData\\Local\\Temp/ipykernel_23784/3117343331.py:119: FutureWarning: Dropping of nuisance columns in DataFrame reductions (with 'numeric_only=None') is deprecated; in a future version this will raise TypeError.  Select only valid columns before calling the reduction.\n",
      "  Loss_mean_per_Value=df_Dividend_PreOneDate[df_Dividend_PreOneDate[\"PL%\"]<0].mean()\n"
     ]
    },
    {
     "name": "stdout",
     "output_type": "stream",
     "text": [
      "1582.TW\n"
     ]
    },
    {
     "name": "stderr",
     "output_type": "stream",
     "text": [
      "C:\\Users\\markchao\\AppData\\Local\\Temp/ipykernel_23784/3117343331.py:74: SettingWithCopyWarning: \n",
      "A value is trying to be set on a copy of a slice from a DataFrame.\n",
      "Try using .loc[row_indexer,col_indexer] = value instead\n",
      "\n",
      "See the caveats in the documentation: https://pandas.pydata.org/pandas-docs/stable/user_guide/indexing.html#returning-a-view-versus-a-copy\n",
      "  df_Dividend_PreNDate[\"Dividend_Pre\"+str(N)+\"Date\"]=df_Dividend_PreNDate.index\n",
      "C:\\Users\\markchao\\AppData\\Local\\Temp/ipykernel_23784/3117343331.py:115: FutureWarning: Dropping of nuisance columns in DataFrame reductions (with 'numeric_only=None') is deprecated; in a future version this will raise TypeError.  Select only valid columns before calling the reduction.\n",
      "  Win_mean_per_Value=df_Dividend_PreOneDate[df_Dividend_PreOneDate[\"PL%\"]>0].mean()\n",
      "C:\\Users\\markchao\\AppData\\Local\\Temp/ipykernel_23784/3117343331.py:119: FutureWarning: Dropping of nuisance columns in DataFrame reductions (with 'numeric_only=None') is deprecated; in a future version this will raise TypeError.  Select only valid columns before calling the reduction.\n",
      "  Loss_mean_per_Value=df_Dividend_PreOneDate[df_Dividend_PreOneDate[\"PL%\"]<0].mean()\n"
     ]
    },
    {
     "name": "stdout",
     "output_type": "stream",
     "text": [
      "3312.TW\n"
     ]
    },
    {
     "name": "stderr",
     "output_type": "stream",
     "text": [
      "C:\\Users\\markchao\\AppData\\Local\\Temp/ipykernel_23784/3117343331.py:74: SettingWithCopyWarning: \n",
      "A value is trying to be set on a copy of a slice from a DataFrame.\n",
      "Try using .loc[row_indexer,col_indexer] = value instead\n",
      "\n",
      "See the caveats in the documentation: https://pandas.pydata.org/pandas-docs/stable/user_guide/indexing.html#returning-a-view-versus-a-copy\n",
      "  df_Dividend_PreNDate[\"Dividend_Pre\"+str(N)+\"Date\"]=df_Dividend_PreNDate.index\n",
      "C:\\Users\\markchao\\AppData\\Local\\Temp/ipykernel_23784/3117343331.py:115: FutureWarning: Dropping of nuisance columns in DataFrame reductions (with 'numeric_only=None') is deprecated; in a future version this will raise TypeError.  Select only valid columns before calling the reduction.\n",
      "  Win_mean_per_Value=df_Dividend_PreOneDate[df_Dividend_PreOneDate[\"PL%\"]>0].mean()\n",
      "C:\\Users\\markchao\\AppData\\Local\\Temp/ipykernel_23784/3117343331.py:119: FutureWarning: Dropping of nuisance columns in DataFrame reductions (with 'numeric_only=None') is deprecated; in a future version this will raise TypeError.  Select only valid columns before calling the reduction.\n",
      "  Loss_mean_per_Value=df_Dividend_PreOneDate[df_Dividend_PreOneDate[\"PL%\"]<0].mean()\n"
     ]
    },
    {
     "name": "stdout",
     "output_type": "stream",
     "text": [
      "2465.TW\n"
     ]
    },
    {
     "name": "stderr",
     "output_type": "stream",
     "text": [
      "C:\\Users\\markchao\\AppData\\Local\\Temp/ipykernel_23784/3117343331.py:74: SettingWithCopyWarning: \n",
      "A value is trying to be set on a copy of a slice from a DataFrame.\n",
      "Try using .loc[row_indexer,col_indexer] = value instead\n",
      "\n",
      "See the caveats in the documentation: https://pandas.pydata.org/pandas-docs/stable/user_guide/indexing.html#returning-a-view-versus-a-copy\n",
      "  df_Dividend_PreNDate[\"Dividend_Pre\"+str(N)+\"Date\"]=df_Dividend_PreNDate.index\n",
      "C:\\Users\\markchao\\AppData\\Local\\Temp/ipykernel_23784/3117343331.py:115: FutureWarning: Dropping of nuisance columns in DataFrame reductions (with 'numeric_only=None') is deprecated; in a future version this will raise TypeError.  Select only valid columns before calling the reduction.\n",
      "  Win_mean_per_Value=df_Dividend_PreOneDate[df_Dividend_PreOneDate[\"PL%\"]>0].mean()\n"
     ]
    },
    {
     "name": "stdout",
     "output_type": "stream",
     "text": [
      "8454.TW\n"
     ]
    },
    {
     "name": "stderr",
     "output_type": "stream",
     "text": [
      "C:\\Users\\markchao\\AppData\\Local\\Temp/ipykernel_23784/3117343331.py:74: SettingWithCopyWarning: \n",
      "A value is trying to be set on a copy of a slice from a DataFrame.\n",
      "Try using .loc[row_indexer,col_indexer] = value instead\n",
      "\n",
      "See the caveats in the documentation: https://pandas.pydata.org/pandas-docs/stable/user_guide/indexing.html#returning-a-view-versus-a-copy\n",
      "  df_Dividend_PreNDate[\"Dividend_Pre\"+str(N)+\"Date\"]=df_Dividend_PreNDate.index\n",
      "C:\\Users\\markchao\\AppData\\Local\\Temp/ipykernel_23784/3117343331.py:115: FutureWarning: Dropping of nuisance columns in DataFrame reductions (with 'numeric_only=None') is deprecated; in a future version this will raise TypeError.  Select only valid columns before calling the reduction.\n",
      "  Win_mean_per_Value=df_Dividend_PreOneDate[df_Dividend_PreOneDate[\"PL%\"]>0].mean()\n",
      "C:\\Users\\markchao\\AppData\\Local\\Temp/ipykernel_23784/3117343331.py:119: FutureWarning: Dropping of nuisance columns in DataFrame reductions (with 'numeric_only=None') is deprecated; in a future version this will raise TypeError.  Select only valid columns before calling the reduction.\n",
      "  Loss_mean_per_Value=df_Dividend_PreOneDate[df_Dividend_PreOneDate[\"PL%\"]<0].mean()\n"
     ]
    },
    {
     "name": "stdout",
     "output_type": "stream",
     "text": [
      "2492.TW\n"
     ]
    },
    {
     "name": "stderr",
     "output_type": "stream",
     "text": [
      "C:\\Users\\markchao\\AppData\\Local\\Temp/ipykernel_23784/3117343331.py:74: SettingWithCopyWarning: \n",
      "A value is trying to be set on a copy of a slice from a DataFrame.\n",
      "Try using .loc[row_indexer,col_indexer] = value instead\n",
      "\n",
      "See the caveats in the documentation: https://pandas.pydata.org/pandas-docs/stable/user_guide/indexing.html#returning-a-view-versus-a-copy\n",
      "  df_Dividend_PreNDate[\"Dividend_Pre\"+str(N)+\"Date\"]=df_Dividend_PreNDate.index\n",
      "C:\\Users\\markchao\\AppData\\Local\\Temp/ipykernel_23784/3117343331.py:115: FutureWarning: Dropping of nuisance columns in DataFrame reductions (with 'numeric_only=None') is deprecated; in a future version this will raise TypeError.  Select only valid columns before calling the reduction.\n",
      "  Win_mean_per_Value=df_Dividend_PreOneDate[df_Dividend_PreOneDate[\"PL%\"]>0].mean()\n",
      "C:\\Users\\markchao\\AppData\\Local\\Temp/ipykernel_23784/3117343331.py:119: FutureWarning: Dropping of nuisance columns in DataFrame reductions (with 'numeric_only=None') is deprecated; in a future version this will raise TypeError.  Select only valid columns before calling the reduction.\n",
      "  Loss_mean_per_Value=df_Dividend_PreOneDate[df_Dividend_PreOneDate[\"PL%\"]<0].mean()\n"
     ]
    },
    {
     "name": "stdout",
     "output_type": "stream",
     "text": [
      "3483.TWO\n"
     ]
    },
    {
     "name": "stderr",
     "output_type": "stream",
     "text": [
      "C:\\Users\\markchao\\AppData\\Local\\Temp/ipykernel_23784/3117343331.py:74: SettingWithCopyWarning: \n",
      "A value is trying to be set on a copy of a slice from a DataFrame.\n",
      "Try using .loc[row_indexer,col_indexer] = value instead\n",
      "\n",
      "See the caveats in the documentation: https://pandas.pydata.org/pandas-docs/stable/user_guide/indexing.html#returning-a-view-versus-a-copy\n",
      "  df_Dividend_PreNDate[\"Dividend_Pre\"+str(N)+\"Date\"]=df_Dividend_PreNDate.index\n",
      "C:\\Users\\markchao\\AppData\\Local\\Temp/ipykernel_23784/3117343331.py:115: FutureWarning: Dropping of nuisance columns in DataFrame reductions (with 'numeric_only=None') is deprecated; in a future version this will raise TypeError.  Select only valid columns before calling the reduction.\n",
      "  Win_mean_per_Value=df_Dividend_PreOneDate[df_Dividend_PreOneDate[\"PL%\"]>0].mean()\n",
      "C:\\Users\\markchao\\AppData\\Local\\Temp/ipykernel_23784/3117343331.py:119: FutureWarning: Dropping of nuisance columns in DataFrame reductions (with 'numeric_only=None') is deprecated; in a future version this will raise TypeError.  Select only valid columns before calling the reduction.\n",
      "  Loss_mean_per_Value=df_Dividend_PreOneDate[df_Dividend_PreOneDate[\"PL%\"]<0].mean()\n"
     ]
    },
    {
     "name": "stdout",
     "output_type": "stream",
     "text": [
      "6505.TW\n"
     ]
    },
    {
     "name": "stderr",
     "output_type": "stream",
     "text": [
      "C:\\Users\\markchao\\AppData\\Local\\Temp/ipykernel_23784/3117343331.py:74: SettingWithCopyWarning: \n",
      "A value is trying to be set on a copy of a slice from a DataFrame.\n",
      "Try using .loc[row_indexer,col_indexer] = value instead\n",
      "\n",
      "See the caveats in the documentation: https://pandas.pydata.org/pandas-docs/stable/user_guide/indexing.html#returning-a-view-versus-a-copy\n",
      "  df_Dividend_PreNDate[\"Dividend_Pre\"+str(N)+\"Date\"]=df_Dividend_PreNDate.index\n",
      "C:\\Users\\markchao\\AppData\\Local\\Temp/ipykernel_23784/3117343331.py:115: FutureWarning: Dropping of nuisance columns in DataFrame reductions (with 'numeric_only=None') is deprecated; in a future version this will raise TypeError.  Select only valid columns before calling the reduction.\n",
      "  Win_mean_per_Value=df_Dividend_PreOneDate[df_Dividend_PreOneDate[\"PL%\"]>0].mean()\n",
      "C:\\Users\\markchao\\AppData\\Local\\Temp/ipykernel_23784/3117343331.py:119: FutureWarning: Dropping of nuisance columns in DataFrame reductions (with 'numeric_only=None') is deprecated; in a future version this will raise TypeError.  Select only valid columns before calling the reduction.\n",
      "  Loss_mean_per_Value=df_Dividend_PreOneDate[df_Dividend_PreOneDate[\"PL%\"]<0].mean()\n"
     ]
    },
    {
     "name": "stdout",
     "output_type": "stream",
     "text": [
      "2606.TW\n"
     ]
    },
    {
     "name": "stderr",
     "output_type": "stream",
     "text": [
      "C:\\Users\\markchao\\AppData\\Local\\Temp/ipykernel_23784/3117343331.py:74: SettingWithCopyWarning: \n",
      "A value is trying to be set on a copy of a slice from a DataFrame.\n",
      "Try using .loc[row_indexer,col_indexer] = value instead\n",
      "\n",
      "See the caveats in the documentation: https://pandas.pydata.org/pandas-docs/stable/user_guide/indexing.html#returning-a-view-versus-a-copy\n",
      "  df_Dividend_PreNDate[\"Dividend_Pre\"+str(N)+\"Date\"]=df_Dividend_PreNDate.index\n",
      "C:\\Users\\markchao\\AppData\\Local\\Temp/ipykernel_23784/3117343331.py:115: FutureWarning: Dropping of nuisance columns in DataFrame reductions (with 'numeric_only=None') is deprecated; in a future version this will raise TypeError.  Select only valid columns before calling the reduction.\n",
      "  Win_mean_per_Value=df_Dividend_PreOneDate[df_Dividend_PreOneDate[\"PL%\"]>0].mean()\n",
      "C:\\Users\\markchao\\AppData\\Local\\Temp/ipykernel_23784/3117343331.py:119: FutureWarning: Dropping of nuisance columns in DataFrame reductions (with 'numeric_only=None') is deprecated; in a future version this will raise TypeError.  Select only valid columns before calling the reduction.\n",
      "  Loss_mean_per_Value=df_Dividend_PreOneDate[df_Dividend_PreOneDate[\"PL%\"]<0].mean()\n"
     ]
    },
    {
     "name": "stdout",
     "output_type": "stream",
     "text": [
      "5493.TWO\n"
     ]
    },
    {
     "name": "stderr",
     "output_type": "stream",
     "text": [
      "C:\\Users\\markchao\\AppData\\Local\\Temp/ipykernel_23784/3117343331.py:74: SettingWithCopyWarning: \n",
      "A value is trying to be set on a copy of a slice from a DataFrame.\n",
      "Try using .loc[row_indexer,col_indexer] = value instead\n",
      "\n",
      "See the caveats in the documentation: https://pandas.pydata.org/pandas-docs/stable/user_guide/indexing.html#returning-a-view-versus-a-copy\n",
      "  df_Dividend_PreNDate[\"Dividend_Pre\"+str(N)+\"Date\"]=df_Dividend_PreNDate.index\n",
      "C:\\Users\\markchao\\AppData\\Local\\Temp/ipykernel_23784/3117343331.py:115: FutureWarning: Dropping of nuisance columns in DataFrame reductions (with 'numeric_only=None') is deprecated; in a future version this will raise TypeError.  Select only valid columns before calling the reduction.\n",
      "  Win_mean_per_Value=df_Dividend_PreOneDate[df_Dividend_PreOneDate[\"PL%\"]>0].mean()\n",
      "C:\\Users\\markchao\\AppData\\Local\\Temp/ipykernel_23784/3117343331.py:119: FutureWarning: Dropping of nuisance columns in DataFrame reductions (with 'numeric_only=None') is deprecated; in a future version this will raise TypeError.  Select only valid columns before calling the reduction.\n",
      "  Loss_mean_per_Value=df_Dividend_PreOneDate[df_Dividend_PreOneDate[\"PL%\"]<0].mean()\n"
     ]
    },
    {
     "name": "stdout",
     "output_type": "stream",
     "text": [
      "1522.TW\n"
     ]
    },
    {
     "name": "stderr",
     "output_type": "stream",
     "text": [
      "C:\\Users\\markchao\\AppData\\Local\\Temp/ipykernel_23784/3117343331.py:74: SettingWithCopyWarning: \n",
      "A value is trying to be set on a copy of a slice from a DataFrame.\n",
      "Try using .loc[row_indexer,col_indexer] = value instead\n",
      "\n",
      "See the caveats in the documentation: https://pandas.pydata.org/pandas-docs/stable/user_guide/indexing.html#returning-a-view-versus-a-copy\n",
      "  df_Dividend_PreNDate[\"Dividend_Pre\"+str(N)+\"Date\"]=df_Dividend_PreNDate.index\n",
      "C:\\Users\\markchao\\AppData\\Local\\Temp/ipykernel_23784/3117343331.py:115: FutureWarning: Dropping of nuisance columns in DataFrame reductions (with 'numeric_only=None') is deprecated; in a future version this will raise TypeError.  Select only valid columns before calling the reduction.\n",
      "  Win_mean_per_Value=df_Dividend_PreOneDate[df_Dividend_PreOneDate[\"PL%\"]>0].mean()\n",
      "C:\\Users\\markchao\\AppData\\Local\\Temp/ipykernel_23784/3117343331.py:119: FutureWarning: Dropping of nuisance columns in DataFrame reductions (with 'numeric_only=None') is deprecated; in a future version this will raise TypeError.  Select only valid columns before calling the reduction.\n",
      "  Loss_mean_per_Value=df_Dividend_PreOneDate[df_Dividend_PreOneDate[\"PL%\"]<0].mean()\n"
     ]
    },
    {
     "name": "stdout",
     "output_type": "stream",
     "text": [
      "8478.TW\n"
     ]
    },
    {
     "name": "stderr",
     "output_type": "stream",
     "text": [
      "C:\\Users\\markchao\\AppData\\Local\\Temp/ipykernel_23784/3117343331.py:74: SettingWithCopyWarning: \n",
      "A value is trying to be set on a copy of a slice from a DataFrame.\n",
      "Try using .loc[row_indexer,col_indexer] = value instead\n",
      "\n",
      "See the caveats in the documentation: https://pandas.pydata.org/pandas-docs/stable/user_guide/indexing.html#returning-a-view-versus-a-copy\n",
      "  df_Dividend_PreNDate[\"Dividend_Pre\"+str(N)+\"Date\"]=df_Dividend_PreNDate.index\n",
      "C:\\Users\\markchao\\AppData\\Local\\Temp/ipykernel_23784/3117343331.py:115: FutureWarning: Dropping of nuisance columns in DataFrame reductions (with 'numeric_only=None') is deprecated; in a future version this will raise TypeError.  Select only valid columns before calling the reduction.\n",
      "  Win_mean_per_Value=df_Dividend_PreOneDate[df_Dividend_PreOneDate[\"PL%\"]>0].mean()\n",
      "C:\\Users\\markchao\\AppData\\Local\\Temp/ipykernel_23784/3117343331.py:119: FutureWarning: Dropping of nuisance columns in DataFrame reductions (with 'numeric_only=None') is deprecated; in a future version this will raise TypeError.  Select only valid columns before calling the reduction.\n",
      "  Loss_mean_per_Value=df_Dividend_PreOneDate[df_Dividend_PreOneDate[\"PL%\"]<0].mean()\n"
     ]
    },
    {
     "name": "stdout",
     "output_type": "stream",
     "text": [
      "3045.TW\n"
     ]
    },
    {
     "name": "stderr",
     "output_type": "stream",
     "text": [
      "C:\\Users\\markchao\\AppData\\Local\\Temp/ipykernel_23784/3117343331.py:74: SettingWithCopyWarning: \n",
      "A value is trying to be set on a copy of a slice from a DataFrame.\n",
      "Try using .loc[row_indexer,col_indexer] = value instead\n",
      "\n",
      "See the caveats in the documentation: https://pandas.pydata.org/pandas-docs/stable/user_guide/indexing.html#returning-a-view-versus-a-copy\n",
      "  df_Dividend_PreNDate[\"Dividend_Pre\"+str(N)+\"Date\"]=df_Dividend_PreNDate.index\n",
      "C:\\Users\\markchao\\AppData\\Local\\Temp/ipykernel_23784/3117343331.py:115: FutureWarning: Dropping of nuisance columns in DataFrame reductions (with 'numeric_only=None') is deprecated; in a future version this will raise TypeError.  Select only valid columns before calling the reduction.\n",
      "  Win_mean_per_Value=df_Dividend_PreOneDate[df_Dividend_PreOneDate[\"PL%\"]>0].mean()\n",
      "C:\\Users\\markchao\\AppData\\Local\\Temp/ipykernel_23784/3117343331.py:119: FutureWarning: Dropping of nuisance columns in DataFrame reductions (with 'numeric_only=None') is deprecated; in a future version this will raise TypeError.  Select only valid columns before calling the reduction.\n",
      "  Loss_mean_per_Value=df_Dividend_PreOneDate[df_Dividend_PreOneDate[\"PL%\"]<0].mean()\n"
     ]
    },
    {
     "name": "stdout",
     "output_type": "stream",
     "text": [
      "2464.TW\n"
     ]
    },
    {
     "name": "stderr",
     "output_type": "stream",
     "text": [
      "C:\\Users\\markchao\\AppData\\Local\\Temp/ipykernel_23784/3117343331.py:74: SettingWithCopyWarning: \n",
      "A value is trying to be set on a copy of a slice from a DataFrame.\n",
      "Try using .loc[row_indexer,col_indexer] = value instead\n",
      "\n",
      "See the caveats in the documentation: https://pandas.pydata.org/pandas-docs/stable/user_guide/indexing.html#returning-a-view-versus-a-copy\n",
      "  df_Dividend_PreNDate[\"Dividend_Pre\"+str(N)+\"Date\"]=df_Dividend_PreNDate.index\n",
      "C:\\Users\\markchao\\AppData\\Local\\Temp/ipykernel_23784/3117343331.py:115: FutureWarning: Dropping of nuisance columns in DataFrame reductions (with 'numeric_only=None') is deprecated; in a future version this will raise TypeError.  Select only valid columns before calling the reduction.\n",
      "  Win_mean_per_Value=df_Dividend_PreOneDate[df_Dividend_PreOneDate[\"PL%\"]>0].mean()\n",
      "C:\\Users\\markchao\\AppData\\Local\\Temp/ipykernel_23784/3117343331.py:119: FutureWarning: Dropping of nuisance columns in DataFrame reductions (with 'numeric_only=None') is deprecated; in a future version this will raise TypeError.  Select only valid columns before calling the reduction.\n",
      "  Loss_mean_per_Value=df_Dividend_PreOneDate[df_Dividend_PreOneDate[\"PL%\"]<0].mean()\n"
     ]
    },
    {
     "name": "stdout",
     "output_type": "stream",
     "text": [
      "2201.TW\n"
     ]
    },
    {
     "name": "stderr",
     "output_type": "stream",
     "text": [
      "C:\\Users\\markchao\\AppData\\Local\\Temp/ipykernel_23784/3117343331.py:74: SettingWithCopyWarning: \n",
      "A value is trying to be set on a copy of a slice from a DataFrame.\n",
      "Try using .loc[row_indexer,col_indexer] = value instead\n",
      "\n",
      "See the caveats in the documentation: https://pandas.pydata.org/pandas-docs/stable/user_guide/indexing.html#returning-a-view-versus-a-copy\n",
      "  df_Dividend_PreNDate[\"Dividend_Pre\"+str(N)+\"Date\"]=df_Dividend_PreNDate.index\n",
      "C:\\Users\\markchao\\AppData\\Local\\Temp/ipykernel_23784/3117343331.py:115: FutureWarning: Dropping of nuisance columns in DataFrame reductions (with 'numeric_only=None') is deprecated; in a future version this will raise TypeError.  Select only valid columns before calling the reduction.\n",
      "  Win_mean_per_Value=df_Dividend_PreOneDate[df_Dividend_PreOneDate[\"PL%\"]>0].mean()\n",
      "C:\\Users\\markchao\\AppData\\Local\\Temp/ipykernel_23784/3117343331.py:119: FutureWarning: Dropping of nuisance columns in DataFrame reductions (with 'numeric_only=None') is deprecated; in a future version this will raise TypeError.  Select only valid columns before calling the reduction.\n",
      "  Loss_mean_per_Value=df_Dividend_PreOneDate[df_Dividend_PreOneDate[\"PL%\"]<0].mean()\n"
     ]
    },
    {
     "name": "stdout",
     "output_type": "stream",
     "text": [
      "6491.TW\n"
     ]
    },
    {
     "name": "stderr",
     "output_type": "stream",
     "text": [
      "C:\\Users\\markchao\\AppData\\Local\\Temp/ipykernel_23784/3117343331.py:74: SettingWithCopyWarning: \n",
      "A value is trying to be set on a copy of a slice from a DataFrame.\n",
      "Try using .loc[row_indexer,col_indexer] = value instead\n",
      "\n",
      "See the caveats in the documentation: https://pandas.pydata.org/pandas-docs/stable/user_guide/indexing.html#returning-a-view-versus-a-copy\n",
      "  df_Dividend_PreNDate[\"Dividend_Pre\"+str(N)+\"Date\"]=df_Dividend_PreNDate.index\n",
      "C:\\Users\\markchao\\AppData\\Local\\Temp/ipykernel_23784/3117343331.py:115: FutureWarning: Dropping of nuisance columns in DataFrame reductions (with 'numeric_only=None') is deprecated; in a future version this will raise TypeError.  Select only valid columns before calling the reduction.\n",
      "  Win_mean_per_Value=df_Dividend_PreOneDate[df_Dividend_PreOneDate[\"PL%\"]>0].mean()\n"
     ]
    },
    {
     "name": "stdout",
     "output_type": "stream",
     "text": [
      "2027.TW\n"
     ]
    },
    {
     "name": "stderr",
     "output_type": "stream",
     "text": [
      "C:\\Users\\markchao\\AppData\\Local\\Temp/ipykernel_23784/3117343331.py:74: SettingWithCopyWarning: \n",
      "A value is trying to be set on a copy of a slice from a DataFrame.\n",
      "Try using .loc[row_indexer,col_indexer] = value instead\n",
      "\n",
      "See the caveats in the documentation: https://pandas.pydata.org/pandas-docs/stable/user_guide/indexing.html#returning-a-view-versus-a-copy\n",
      "  df_Dividend_PreNDate[\"Dividend_Pre\"+str(N)+\"Date\"]=df_Dividend_PreNDate.index\n",
      "C:\\Users\\markchao\\AppData\\Local\\Temp/ipykernel_23784/3117343331.py:115: FutureWarning: Dropping of nuisance columns in DataFrame reductions (with 'numeric_only=None') is deprecated; in a future version this will raise TypeError.  Select only valid columns before calling the reduction.\n",
      "  Win_mean_per_Value=df_Dividend_PreOneDate[df_Dividend_PreOneDate[\"PL%\"]>0].mean()\n",
      "C:\\Users\\markchao\\AppData\\Local\\Temp/ipykernel_23784/3117343331.py:119: FutureWarning: Dropping of nuisance columns in DataFrame reductions (with 'numeric_only=None') is deprecated; in a future version this will raise TypeError.  Select only valid columns before calling the reduction.\n",
      "  Loss_mean_per_Value=df_Dividend_PreOneDate[df_Dividend_PreOneDate[\"PL%\"]<0].mean()\n"
     ]
    },
    {
     "name": "stdout",
     "output_type": "stream",
     "text": [
      "5439.TWO\n"
     ]
    },
    {
     "name": "stderr",
     "output_type": "stream",
     "text": [
      "C:\\Users\\markchao\\AppData\\Local\\Temp/ipykernel_23784/3117343331.py:74: SettingWithCopyWarning: \n",
      "A value is trying to be set on a copy of a slice from a DataFrame.\n",
      "Try using .loc[row_indexer,col_indexer] = value instead\n",
      "\n",
      "See the caveats in the documentation: https://pandas.pydata.org/pandas-docs/stable/user_guide/indexing.html#returning-a-view-versus-a-copy\n",
      "  df_Dividend_PreNDate[\"Dividend_Pre\"+str(N)+\"Date\"]=df_Dividend_PreNDate.index\n",
      "C:\\Users\\markchao\\AppData\\Local\\Temp/ipykernel_23784/3117343331.py:115: FutureWarning: Dropping of nuisance columns in DataFrame reductions (with 'numeric_only=None') is deprecated; in a future version this will raise TypeError.  Select only valid columns before calling the reduction.\n",
      "  Win_mean_per_Value=df_Dividend_PreOneDate[df_Dividend_PreOneDate[\"PL%\"]>0].mean()\n",
      "C:\\Users\\markchao\\AppData\\Local\\Temp/ipykernel_23784/3117343331.py:119: FutureWarning: Dropping of nuisance columns in DataFrame reductions (with 'numeric_only=None') is deprecated; in a future version this will raise TypeError.  Select only valid columns before calling the reduction.\n",
      "  Loss_mean_per_Value=df_Dividend_PreOneDate[df_Dividend_PreOneDate[\"PL%\"]<0].mean()\n"
     ]
    },
    {
     "name": "stdout",
     "output_type": "stream",
     "text": [
      "1723.TW\n"
     ]
    },
    {
     "name": "stderr",
     "output_type": "stream",
     "text": [
      "C:\\Users\\markchao\\AppData\\Local\\Temp/ipykernel_23784/3117343331.py:74: SettingWithCopyWarning: \n",
      "A value is trying to be set on a copy of a slice from a DataFrame.\n",
      "Try using .loc[row_indexer,col_indexer] = value instead\n",
      "\n",
      "See the caveats in the documentation: https://pandas.pydata.org/pandas-docs/stable/user_guide/indexing.html#returning-a-view-versus-a-copy\n",
      "  df_Dividend_PreNDate[\"Dividend_Pre\"+str(N)+\"Date\"]=df_Dividend_PreNDate.index\n",
      "C:\\Users\\markchao\\AppData\\Local\\Temp/ipykernel_23784/3117343331.py:115: FutureWarning: Dropping of nuisance columns in DataFrame reductions (with 'numeric_only=None') is deprecated; in a future version this will raise TypeError.  Select only valid columns before calling the reduction.\n",
      "  Win_mean_per_Value=df_Dividend_PreOneDate[df_Dividend_PreOneDate[\"PL%\"]>0].mean()\n",
      "C:\\Users\\markchao\\AppData\\Local\\Temp/ipykernel_23784/3117343331.py:119: FutureWarning: Dropping of nuisance columns in DataFrame reductions (with 'numeric_only=None') is deprecated; in a future version this will raise TypeError.  Select only valid columns before calling the reduction.\n",
      "  Loss_mean_per_Value=df_Dividend_PreOneDate[df_Dividend_PreOneDate[\"PL%\"]<0].mean()\n"
     ]
    },
    {
     "name": "stdout",
     "output_type": "stream",
     "text": [
      "3260.TWO\n"
     ]
    },
    {
     "name": "stderr",
     "output_type": "stream",
     "text": [
      "C:\\Users\\markchao\\AppData\\Local\\Temp/ipykernel_23784/3117343331.py:74: SettingWithCopyWarning: \n",
      "A value is trying to be set on a copy of a slice from a DataFrame.\n",
      "Try using .loc[row_indexer,col_indexer] = value instead\n",
      "\n",
      "See the caveats in the documentation: https://pandas.pydata.org/pandas-docs/stable/user_guide/indexing.html#returning-a-view-versus-a-copy\n",
      "  df_Dividend_PreNDate[\"Dividend_Pre\"+str(N)+\"Date\"]=df_Dividend_PreNDate.index\n",
      "C:\\Users\\markchao\\AppData\\Local\\Temp/ipykernel_23784/3117343331.py:115: FutureWarning: Dropping of nuisance columns in DataFrame reductions (with 'numeric_only=None') is deprecated; in a future version this will raise TypeError.  Select only valid columns before calling the reduction.\n",
      "  Win_mean_per_Value=df_Dividend_PreOneDate[df_Dividend_PreOneDate[\"PL%\"]>0].mean()\n",
      "C:\\Users\\markchao\\AppData\\Local\\Temp/ipykernel_23784/3117343331.py:119: FutureWarning: Dropping of nuisance columns in DataFrame reductions (with 'numeric_only=None') is deprecated; in a future version this will raise TypeError.  Select only valid columns before calling the reduction.\n",
      "  Loss_mean_per_Value=df_Dividend_PreOneDate[df_Dividend_PreOneDate[\"PL%\"]<0].mean()\n"
     ]
    },
    {
     "name": "stdout",
     "output_type": "stream",
     "text": [
      "6593.TWO\n"
     ]
    },
    {
     "name": "stderr",
     "output_type": "stream",
     "text": [
      "C:\\Users\\markchao\\AppData\\Local\\Temp/ipykernel_23784/3117343331.py:74: SettingWithCopyWarning: \n",
      "A value is trying to be set on a copy of a slice from a DataFrame.\n",
      "Try using .loc[row_indexer,col_indexer] = value instead\n",
      "\n",
      "See the caveats in the documentation: https://pandas.pydata.org/pandas-docs/stable/user_guide/indexing.html#returning-a-view-versus-a-copy\n",
      "  df_Dividend_PreNDate[\"Dividend_Pre\"+str(N)+\"Date\"]=df_Dividend_PreNDate.index\n",
      "C:\\Users\\markchao\\AppData\\Local\\Temp/ipykernel_23784/3117343331.py:115: FutureWarning: Dropping of nuisance columns in DataFrame reductions (with 'numeric_only=None') is deprecated; in a future version this will raise TypeError.  Select only valid columns before calling the reduction.\n",
      "  Win_mean_per_Value=df_Dividend_PreOneDate[df_Dividend_PreOneDate[\"PL%\"]>0].mean()\n",
      "C:\\Users\\markchao\\AppData\\Local\\Temp/ipykernel_23784/3117343331.py:119: FutureWarning: Dropping of nuisance columns in DataFrame reductions (with 'numeric_only=None') is deprecated; in a future version this will raise TypeError.  Select only valid columns before calling the reduction.\n",
      "  Loss_mean_per_Value=df_Dividend_PreOneDate[df_Dividend_PreOneDate[\"PL%\"]<0].mean()\n"
     ]
    },
    {
     "name": "stdout",
     "output_type": "stream",
     "text": [
      "6668.TW\n"
     ]
    },
    {
     "name": "stderr",
     "output_type": "stream",
     "text": [
      "C:\\Users\\markchao\\AppData\\Local\\Temp/ipykernel_23784/3117343331.py:74: SettingWithCopyWarning: \n",
      "A value is trying to be set on a copy of a slice from a DataFrame.\n",
      "Try using .loc[row_indexer,col_indexer] = value instead\n",
      "\n",
      "See the caveats in the documentation: https://pandas.pydata.org/pandas-docs/stable/user_guide/indexing.html#returning-a-view-versus-a-copy\n",
      "  df_Dividend_PreNDate[\"Dividend_Pre\"+str(N)+\"Date\"]=df_Dividend_PreNDate.index\n",
      "C:\\Users\\markchao\\AppData\\Local\\Temp/ipykernel_23784/3117343331.py:119: FutureWarning: Dropping of nuisance columns in DataFrame reductions (with 'numeric_only=None') is deprecated; in a future version this will raise TypeError.  Select only valid columns before calling the reduction.\n",
      "  Loss_mean_per_Value=df_Dividend_PreOneDate[df_Dividend_PreOneDate[\"PL%\"]<0].mean()\n"
     ]
    },
    {
     "name": "stdout",
     "output_type": "stream",
     "text": [
      "4533.TWO\n"
     ]
    },
    {
     "name": "stderr",
     "output_type": "stream",
     "text": [
      "C:\\Users\\markchao\\AppData\\Local\\Temp/ipykernel_23784/3117343331.py:74: SettingWithCopyWarning: \n",
      "A value is trying to be set on a copy of a slice from a DataFrame.\n",
      "Try using .loc[row_indexer,col_indexer] = value instead\n",
      "\n",
      "See the caveats in the documentation: https://pandas.pydata.org/pandas-docs/stable/user_guide/indexing.html#returning-a-view-versus-a-copy\n",
      "  df_Dividend_PreNDate[\"Dividend_Pre\"+str(N)+\"Date\"]=df_Dividend_PreNDate.index\n",
      "C:\\Users\\markchao\\AppData\\Local\\Temp/ipykernel_23784/3117343331.py:115: FutureWarning: Dropping of nuisance columns in DataFrame reductions (with 'numeric_only=None') is deprecated; in a future version this will raise TypeError.  Select only valid columns before calling the reduction.\n",
      "  Win_mean_per_Value=df_Dividend_PreOneDate[df_Dividend_PreOneDate[\"PL%\"]>0].mean()\n",
      "C:\\Users\\markchao\\AppData\\Local\\Temp/ipykernel_23784/3117343331.py:119: FutureWarning: Dropping of nuisance columns in DataFrame reductions (with 'numeric_only=None') is deprecated; in a future version this will raise TypeError.  Select only valid columns before calling the reduction.\n",
      "  Loss_mean_per_Value=df_Dividend_PreOneDate[df_Dividend_PreOneDate[\"PL%\"]<0].mean()\n"
     ]
    },
    {
     "name": "stdout",
     "output_type": "stream",
     "text": [
      "6409.TW\n"
     ]
    },
    {
     "name": "stderr",
     "output_type": "stream",
     "text": [
      "C:\\Users\\markchao\\AppData\\Local\\Temp/ipykernel_23784/3117343331.py:74: SettingWithCopyWarning: \n",
      "A value is trying to be set on a copy of a slice from a DataFrame.\n",
      "Try using .loc[row_indexer,col_indexer] = value instead\n",
      "\n",
      "See the caveats in the documentation: https://pandas.pydata.org/pandas-docs/stable/user_guide/indexing.html#returning-a-view-versus-a-copy\n",
      "  df_Dividend_PreNDate[\"Dividend_Pre\"+str(N)+\"Date\"]=df_Dividend_PreNDate.index\n",
      "C:\\Users\\markchao\\AppData\\Local\\Temp/ipykernel_23784/3117343331.py:115: FutureWarning: Dropping of nuisance columns in DataFrame reductions (with 'numeric_only=None') is deprecated; in a future version this will raise TypeError.  Select only valid columns before calling the reduction.\n",
      "  Win_mean_per_Value=df_Dividend_PreOneDate[df_Dividend_PreOneDate[\"PL%\"]>0].mean()\n",
      "C:\\Users\\markchao\\AppData\\Local\\Temp/ipykernel_23784/3117343331.py:119: FutureWarning: Dropping of nuisance columns in DataFrame reductions (with 'numeric_only=None') is deprecated; in a future version this will raise TypeError.  Select only valid columns before calling the reduction.\n",
      "  Loss_mean_per_Value=df_Dividend_PreOneDate[df_Dividend_PreOneDate[\"PL%\"]<0].mean()\n"
     ]
    },
    {
     "name": "stdout",
     "output_type": "stream",
     "text": [
      "3693.TWO\n"
     ]
    },
    {
     "name": "stderr",
     "output_type": "stream",
     "text": [
      "C:\\Users\\markchao\\AppData\\Local\\Temp/ipykernel_23784/3117343331.py:74: SettingWithCopyWarning: \n",
      "A value is trying to be set on a copy of a slice from a DataFrame.\n",
      "Try using .loc[row_indexer,col_indexer] = value instead\n",
      "\n",
      "See the caveats in the documentation: https://pandas.pydata.org/pandas-docs/stable/user_guide/indexing.html#returning-a-view-versus-a-copy\n",
      "  df_Dividend_PreNDate[\"Dividend_Pre\"+str(N)+\"Date\"]=df_Dividend_PreNDate.index\n",
      "C:\\Users\\markchao\\AppData\\Local\\Temp/ipykernel_23784/3117343331.py:115: FutureWarning: Dropping of nuisance columns in DataFrame reductions (with 'numeric_only=None') is deprecated; in a future version this will raise TypeError.  Select only valid columns before calling the reduction.\n",
      "  Win_mean_per_Value=df_Dividend_PreOneDate[df_Dividend_PreOneDate[\"PL%\"]>0].mean()\n",
      "C:\\Users\\markchao\\AppData\\Local\\Temp/ipykernel_23784/3117343331.py:119: FutureWarning: Dropping of nuisance columns in DataFrame reductions (with 'numeric_only=None') is deprecated; in a future version this will raise TypeError.  Select only valid columns before calling the reduction.\n",
      "  Loss_mean_per_Value=df_Dividend_PreOneDate[df_Dividend_PreOneDate[\"PL%\"]<0].mean()\n"
     ]
    },
    {
     "name": "stdout",
     "output_type": "stream",
     "text": [
      "3363.TWO\n"
     ]
    },
    {
     "name": "stderr",
     "output_type": "stream",
     "text": [
      "C:\\Users\\markchao\\AppData\\Local\\Temp/ipykernel_23784/3117343331.py:74: SettingWithCopyWarning: \n",
      "A value is trying to be set on a copy of a slice from a DataFrame.\n",
      "Try using .loc[row_indexer,col_indexer] = value instead\n",
      "\n",
      "See the caveats in the documentation: https://pandas.pydata.org/pandas-docs/stable/user_guide/indexing.html#returning-a-view-versus-a-copy\n",
      "  df_Dividend_PreNDate[\"Dividend_Pre\"+str(N)+\"Date\"]=df_Dividend_PreNDate.index\n",
      "C:\\Users\\markchao\\AppData\\Local\\Temp/ipykernel_23784/3117343331.py:115: FutureWarning: Dropping of nuisance columns in DataFrame reductions (with 'numeric_only=None') is deprecated; in a future version this will raise TypeError.  Select only valid columns before calling the reduction.\n",
      "  Win_mean_per_Value=df_Dividend_PreOneDate[df_Dividend_PreOneDate[\"PL%\"]>0].mean()\n",
      "C:\\Users\\markchao\\AppData\\Local\\Temp/ipykernel_23784/3117343331.py:119: FutureWarning: Dropping of nuisance columns in DataFrame reductions (with 'numeric_only=None') is deprecated; in a future version this will raise TypeError.  Select only valid columns before calling the reduction.\n",
      "  Loss_mean_per_Value=df_Dividend_PreOneDate[df_Dividend_PreOneDate[\"PL%\"]<0].mean()\n"
     ]
    },
    {
     "name": "stdout",
     "output_type": "stream",
     "text": [
      "2359.TW\n"
     ]
    },
    {
     "name": "stderr",
     "output_type": "stream",
     "text": [
      "C:\\Users\\markchao\\AppData\\Local\\Temp/ipykernel_23784/3117343331.py:74: SettingWithCopyWarning: \n",
      "A value is trying to be set on a copy of a slice from a DataFrame.\n",
      "Try using .loc[row_indexer,col_indexer] = value instead\n",
      "\n",
      "See the caveats in the documentation: https://pandas.pydata.org/pandas-docs/stable/user_guide/indexing.html#returning-a-view-versus-a-copy\n",
      "  df_Dividend_PreNDate[\"Dividend_Pre\"+str(N)+\"Date\"]=df_Dividend_PreNDate.index\n",
      "C:\\Users\\markchao\\AppData\\Local\\Temp/ipykernel_23784/3117343331.py:115: FutureWarning: Dropping of nuisance columns in DataFrame reductions (with 'numeric_only=None') is deprecated; in a future version this will raise TypeError.  Select only valid columns before calling the reduction.\n",
      "  Win_mean_per_Value=df_Dividend_PreOneDate[df_Dividend_PreOneDate[\"PL%\"]>0].mean()\n",
      "C:\\Users\\markchao\\AppData\\Local\\Temp/ipykernel_23784/3117343331.py:119: FutureWarning: Dropping of nuisance columns in DataFrame reductions (with 'numeric_only=None') is deprecated; in a future version this will raise TypeError.  Select only valid columns before calling the reduction.\n",
      "  Loss_mean_per_Value=df_Dividend_PreOneDate[df_Dividend_PreOneDate[\"PL%\"]<0].mean()\n"
     ]
    },
    {
     "name": "stdout",
     "output_type": "stream",
     "text": [
      "6215.TW\n"
     ]
    },
    {
     "name": "stderr",
     "output_type": "stream",
     "text": [
      "C:\\Users\\markchao\\AppData\\Local\\Temp/ipykernel_23784/3117343331.py:74: SettingWithCopyWarning: \n",
      "A value is trying to be set on a copy of a slice from a DataFrame.\n",
      "Try using .loc[row_indexer,col_indexer] = value instead\n",
      "\n",
      "See the caveats in the documentation: https://pandas.pydata.org/pandas-docs/stable/user_guide/indexing.html#returning-a-view-versus-a-copy\n",
      "  df_Dividend_PreNDate[\"Dividend_Pre\"+str(N)+\"Date\"]=df_Dividend_PreNDate.index\n",
      "C:\\Users\\markchao\\AppData\\Local\\Temp/ipykernel_23784/3117343331.py:115: FutureWarning: Dropping of nuisance columns in DataFrame reductions (with 'numeric_only=None') is deprecated; in a future version this will raise TypeError.  Select only valid columns before calling the reduction.\n",
      "  Win_mean_per_Value=df_Dividend_PreOneDate[df_Dividend_PreOneDate[\"PL%\"]>0].mean()\n",
      "C:\\Users\\markchao\\AppData\\Local\\Temp/ipykernel_23784/3117343331.py:119: FutureWarning: Dropping of nuisance columns in DataFrame reductions (with 'numeric_only=None') is deprecated; in a future version this will raise TypeError.  Select only valid columns before calling the reduction.\n",
      "  Loss_mean_per_Value=df_Dividend_PreOneDate[df_Dividend_PreOneDate[\"PL%\"]<0].mean()\n"
     ]
    },
    {
     "name": "stdout",
     "output_type": "stream",
     "text": [
      "3078.TWO\n"
     ]
    },
    {
     "name": "stderr",
     "output_type": "stream",
     "text": [
      "C:\\Users\\markchao\\AppData\\Local\\Temp/ipykernel_23784/3117343331.py:74: SettingWithCopyWarning: \n",
      "A value is trying to be set on a copy of a slice from a DataFrame.\n",
      "Try using .loc[row_indexer,col_indexer] = value instead\n",
      "\n",
      "See the caveats in the documentation: https://pandas.pydata.org/pandas-docs/stable/user_guide/indexing.html#returning-a-view-versus-a-copy\n",
      "  df_Dividend_PreNDate[\"Dividend_Pre\"+str(N)+\"Date\"]=df_Dividend_PreNDate.index\n",
      "C:\\Users\\markchao\\AppData\\Local\\Temp/ipykernel_23784/3117343331.py:115: FutureWarning: Dropping of nuisance columns in DataFrame reductions (with 'numeric_only=None') is deprecated; in a future version this will raise TypeError.  Select only valid columns before calling the reduction.\n",
      "  Win_mean_per_Value=df_Dividend_PreOneDate[df_Dividend_PreOneDate[\"PL%\"]>0].mean()\n",
      "C:\\Users\\markchao\\AppData\\Local\\Temp/ipykernel_23784/3117343331.py:119: FutureWarning: Dropping of nuisance columns in DataFrame reductions (with 'numeric_only=None') is deprecated; in a future version this will raise TypeError.  Select only valid columns before calling the reduction.\n",
      "  Loss_mean_per_Value=df_Dividend_PreOneDate[df_Dividend_PreOneDate[\"PL%\"]<0].mean()\n"
     ]
    },
    {
     "name": "stdout",
     "output_type": "stream",
     "text": [
      "2006.TW\n"
     ]
    },
    {
     "name": "stderr",
     "output_type": "stream",
     "text": [
      "C:\\Users\\markchao\\AppData\\Local\\Temp/ipykernel_23784/3117343331.py:74: SettingWithCopyWarning: \n",
      "A value is trying to be set on a copy of a slice from a DataFrame.\n",
      "Try using .loc[row_indexer,col_indexer] = value instead\n",
      "\n",
      "See the caveats in the documentation: https://pandas.pydata.org/pandas-docs/stable/user_guide/indexing.html#returning-a-view-versus-a-copy\n",
      "  df_Dividend_PreNDate[\"Dividend_Pre\"+str(N)+\"Date\"]=df_Dividend_PreNDate.index\n",
      "C:\\Users\\markchao\\AppData\\Local\\Temp/ipykernel_23784/3117343331.py:115: FutureWarning: Dropping of nuisance columns in DataFrame reductions (with 'numeric_only=None') is deprecated; in a future version this will raise TypeError.  Select only valid columns before calling the reduction.\n",
      "  Win_mean_per_Value=df_Dividend_PreOneDate[df_Dividend_PreOneDate[\"PL%\"]>0].mean()\n",
      "C:\\Users\\markchao\\AppData\\Local\\Temp/ipykernel_23784/3117343331.py:119: FutureWarning: Dropping of nuisance columns in DataFrame reductions (with 'numeric_only=None') is deprecated; in a future version this will raise TypeError.  Select only valid columns before calling the reduction.\n",
      "  Loss_mean_per_Value=df_Dividend_PreOneDate[df_Dividend_PreOneDate[\"PL%\"]<0].mean()\n"
     ]
    },
    {
     "name": "stdout",
     "output_type": "stream",
     "text": [
      "8050.TWO\n"
     ]
    },
    {
     "name": "stderr",
     "output_type": "stream",
     "text": [
      "C:\\Users\\markchao\\AppData\\Local\\Temp/ipykernel_23784/3117343331.py:74: SettingWithCopyWarning: \n",
      "A value is trying to be set on a copy of a slice from a DataFrame.\n",
      "Try using .loc[row_indexer,col_indexer] = value instead\n",
      "\n",
      "See the caveats in the documentation: https://pandas.pydata.org/pandas-docs/stable/user_guide/indexing.html#returning-a-view-versus-a-copy\n",
      "  df_Dividend_PreNDate[\"Dividend_Pre\"+str(N)+\"Date\"]=df_Dividend_PreNDate.index\n",
      "C:\\Users\\markchao\\AppData\\Local\\Temp/ipykernel_23784/3117343331.py:115: FutureWarning: Dropping of nuisance columns in DataFrame reductions (with 'numeric_only=None') is deprecated; in a future version this will raise TypeError.  Select only valid columns before calling the reduction.\n",
      "  Win_mean_per_Value=df_Dividend_PreOneDate[df_Dividend_PreOneDate[\"PL%\"]>0].mean()\n",
      "C:\\Users\\markchao\\AppData\\Local\\Temp/ipykernel_23784/3117343331.py:119: FutureWarning: Dropping of nuisance columns in DataFrame reductions (with 'numeric_only=None') is deprecated; in a future version this will raise TypeError.  Select only valid columns before calling the reduction.\n",
      "  Loss_mean_per_Value=df_Dividend_PreOneDate[df_Dividend_PreOneDate[\"PL%\"]<0].mean()\n"
     ]
    },
    {
     "name": "stdout",
     "output_type": "stream",
     "text": [
      "4904.TW\n"
     ]
    },
    {
     "name": "stderr",
     "output_type": "stream",
     "text": [
      "C:\\Users\\markchao\\AppData\\Local\\Temp/ipykernel_23784/3117343331.py:74: SettingWithCopyWarning: \n",
      "A value is trying to be set on a copy of a slice from a DataFrame.\n",
      "Try using .loc[row_indexer,col_indexer] = value instead\n",
      "\n",
      "See the caveats in the documentation: https://pandas.pydata.org/pandas-docs/stable/user_guide/indexing.html#returning-a-view-versus-a-copy\n",
      "  df_Dividend_PreNDate[\"Dividend_Pre\"+str(N)+\"Date\"]=df_Dividend_PreNDate.index\n",
      "C:\\Users\\markchao\\AppData\\Local\\Temp/ipykernel_23784/3117343331.py:115: FutureWarning: Dropping of nuisance columns in DataFrame reductions (with 'numeric_only=None') is deprecated; in a future version this will raise TypeError.  Select only valid columns before calling the reduction.\n",
      "  Win_mean_per_Value=df_Dividend_PreOneDate[df_Dividend_PreOneDate[\"PL%\"]>0].mean()\n",
      "C:\\Users\\markchao\\AppData\\Local\\Temp/ipykernel_23784/3117343331.py:119: FutureWarning: Dropping of nuisance columns in DataFrame reductions (with 'numeric_only=None') is deprecated; in a future version this will raise TypeError.  Select only valid columns before calling the reduction.\n",
      "  Loss_mean_per_Value=df_Dividend_PreOneDate[df_Dividend_PreOneDate[\"PL%\"]<0].mean()\n"
     ]
    },
    {
     "name": "stdout",
     "output_type": "stream",
     "text": [
      "2031.TW\n"
     ]
    },
    {
     "name": "stderr",
     "output_type": "stream",
     "text": [
      "C:\\Users\\markchao\\AppData\\Local\\Temp/ipykernel_23784/3117343331.py:74: SettingWithCopyWarning: \n",
      "A value is trying to be set on a copy of a slice from a DataFrame.\n",
      "Try using .loc[row_indexer,col_indexer] = value instead\n",
      "\n",
      "See the caveats in the documentation: https://pandas.pydata.org/pandas-docs/stable/user_guide/indexing.html#returning-a-view-versus-a-copy\n",
      "  df_Dividend_PreNDate[\"Dividend_Pre\"+str(N)+\"Date\"]=df_Dividend_PreNDate.index\n",
      "C:\\Users\\markchao\\AppData\\Local\\Temp/ipykernel_23784/3117343331.py:115: FutureWarning: Dropping of nuisance columns in DataFrame reductions (with 'numeric_only=None') is deprecated; in a future version this will raise TypeError.  Select only valid columns before calling the reduction.\n",
      "  Win_mean_per_Value=df_Dividend_PreOneDate[df_Dividend_PreOneDate[\"PL%\"]>0].mean()\n",
      "C:\\Users\\markchao\\AppData\\Local\\Temp/ipykernel_23784/3117343331.py:119: FutureWarning: Dropping of nuisance columns in DataFrame reductions (with 'numeric_only=None') is deprecated; in a future version this will raise TypeError.  Select only valid columns before calling the reduction.\n",
      "  Loss_mean_per_Value=df_Dividend_PreOneDate[df_Dividend_PreOneDate[\"PL%\"]<0].mean()\n"
     ]
    },
    {
     "name": "stdout",
     "output_type": "stream",
     "text": [
      "6425.TWO\n"
     ]
    },
    {
     "name": "stderr",
     "output_type": "stream",
     "text": [
      "C:\\Users\\markchao\\AppData\\Local\\Temp/ipykernel_23784/3117343331.py:74: SettingWithCopyWarning: \n",
      "A value is trying to be set on a copy of a slice from a DataFrame.\n",
      "Try using .loc[row_indexer,col_indexer] = value instead\n",
      "\n",
      "See the caveats in the documentation: https://pandas.pydata.org/pandas-docs/stable/user_guide/indexing.html#returning-a-view-versus-a-copy\n",
      "  df_Dividend_PreNDate[\"Dividend_Pre\"+str(N)+\"Date\"]=df_Dividend_PreNDate.index\n",
      "C:\\Users\\markchao\\AppData\\Local\\Temp/ipykernel_23784/3117343331.py:115: FutureWarning: Dropping of nuisance columns in DataFrame reductions (with 'numeric_only=None') is deprecated; in a future version this will raise TypeError.  Select only valid columns before calling the reduction.\n",
      "  Win_mean_per_Value=df_Dividend_PreOneDate[df_Dividend_PreOneDate[\"PL%\"]>0].mean()\n",
      "C:\\Users\\markchao\\AppData\\Local\\Temp/ipykernel_23784/3117343331.py:119: FutureWarning: Dropping of nuisance columns in DataFrame reductions (with 'numeric_only=None') is deprecated; in a future version this will raise TypeError.  Select only valid columns before calling the reduction.\n",
      "  Loss_mean_per_Value=df_Dividend_PreOneDate[df_Dividend_PreOneDate[\"PL%\"]<0].mean()\n"
     ]
    },
    {
     "name": "stdout",
     "output_type": "stream",
     "text": [
      "2890.TW\n"
     ]
    },
    {
     "name": "stderr",
     "output_type": "stream",
     "text": [
      "C:\\Users\\markchao\\AppData\\Local\\Temp/ipykernel_23784/3117343331.py:74: SettingWithCopyWarning: \n",
      "A value is trying to be set on a copy of a slice from a DataFrame.\n",
      "Try using .loc[row_indexer,col_indexer] = value instead\n",
      "\n",
      "See the caveats in the documentation: https://pandas.pydata.org/pandas-docs/stable/user_guide/indexing.html#returning-a-view-versus-a-copy\n",
      "  df_Dividend_PreNDate[\"Dividend_Pre\"+str(N)+\"Date\"]=df_Dividend_PreNDate.index\n",
      "C:\\Users\\markchao\\AppData\\Local\\Temp/ipykernel_23784/3117343331.py:115: FutureWarning: Dropping of nuisance columns in DataFrame reductions (with 'numeric_only=None') is deprecated; in a future version this will raise TypeError.  Select only valid columns before calling the reduction.\n",
      "  Win_mean_per_Value=df_Dividend_PreOneDate[df_Dividend_PreOneDate[\"PL%\"]>0].mean()\n",
      "C:\\Users\\markchao\\AppData\\Local\\Temp/ipykernel_23784/3117343331.py:119: FutureWarning: Dropping of nuisance columns in DataFrame reductions (with 'numeric_only=None') is deprecated; in a future version this will raise TypeError.  Select only valid columns before calling the reduction.\n",
      "  Loss_mean_per_Value=df_Dividend_PreOneDate[df_Dividend_PreOneDate[\"PL%\"]<0].mean()\n"
     ]
    },
    {
     "name": "stdout",
     "output_type": "stream",
     "text": [
      "2211.TW\n"
     ]
    },
    {
     "name": "stderr",
     "output_type": "stream",
     "text": [
      "C:\\Users\\markchao\\AppData\\Local\\Temp/ipykernel_23784/3117343331.py:74: SettingWithCopyWarning: \n",
      "A value is trying to be set on a copy of a slice from a DataFrame.\n",
      "Try using .loc[row_indexer,col_indexer] = value instead\n",
      "\n",
      "See the caveats in the documentation: https://pandas.pydata.org/pandas-docs/stable/user_guide/indexing.html#returning-a-view-versus-a-copy\n",
      "  df_Dividend_PreNDate[\"Dividend_Pre\"+str(N)+\"Date\"]=df_Dividend_PreNDate.index\n",
      "C:\\Users\\markchao\\AppData\\Local\\Temp/ipykernel_23784/3117343331.py:115: FutureWarning: Dropping of nuisance columns in DataFrame reductions (with 'numeric_only=None') is deprecated; in a future version this will raise TypeError.  Select only valid columns before calling the reduction.\n",
      "  Win_mean_per_Value=df_Dividend_PreOneDate[df_Dividend_PreOneDate[\"PL%\"]>0].mean()\n",
      "C:\\Users\\markchao\\AppData\\Local\\Temp/ipykernel_23784/3117343331.py:119: FutureWarning: Dropping of nuisance columns in DataFrame reductions (with 'numeric_only=None') is deprecated; in a future version this will raise TypeError.  Select only valid columns before calling the reduction.\n",
      "  Loss_mean_per_Value=df_Dividend_PreOneDate[df_Dividend_PreOneDate[\"PL%\"]<0].mean()\n"
     ]
    },
    {
     "name": "stdout",
     "output_type": "stream",
     "text": [
      "2204.TW\n"
     ]
    },
    {
     "name": "stderr",
     "output_type": "stream",
     "text": [
      "C:\\Users\\markchao\\AppData\\Local\\Temp/ipykernel_23784/3117343331.py:74: SettingWithCopyWarning: \n",
      "A value is trying to be set on a copy of a slice from a DataFrame.\n",
      "Try using .loc[row_indexer,col_indexer] = value instead\n",
      "\n",
      "See the caveats in the documentation: https://pandas.pydata.org/pandas-docs/stable/user_guide/indexing.html#returning-a-view-versus-a-copy\n",
      "  df_Dividend_PreNDate[\"Dividend_Pre\"+str(N)+\"Date\"]=df_Dividend_PreNDate.index\n",
      "C:\\Users\\markchao\\AppData\\Local\\Temp/ipykernel_23784/3117343331.py:115: FutureWarning: Dropping of nuisance columns in DataFrame reductions (with 'numeric_only=None') is deprecated; in a future version this will raise TypeError.  Select only valid columns before calling the reduction.\n",
      "  Win_mean_per_Value=df_Dividend_PreOneDate[df_Dividend_PreOneDate[\"PL%\"]>0].mean()\n",
      "C:\\Users\\markchao\\AppData\\Local\\Temp/ipykernel_23784/3117343331.py:119: FutureWarning: Dropping of nuisance columns in DataFrame reductions (with 'numeric_only=None') is deprecated; in a future version this will raise TypeError.  Select only valid columns before calling the reduction.\n",
      "  Loss_mean_per_Value=df_Dividend_PreOneDate[df_Dividend_PreOneDate[\"PL%\"]<0].mean()\n"
     ]
    },
    {
     "name": "stdout",
     "output_type": "stream",
     "text": [
      "2236.TW\n"
     ]
    },
    {
     "name": "stderr",
     "output_type": "stream",
     "text": [
      "C:\\Users\\markchao\\AppData\\Local\\Temp/ipykernel_23784/3117343331.py:74: SettingWithCopyWarning: \n",
      "A value is trying to be set on a copy of a slice from a DataFrame.\n",
      "Try using .loc[row_indexer,col_indexer] = value instead\n",
      "\n",
      "See the caveats in the documentation: https://pandas.pydata.org/pandas-docs/stable/user_guide/indexing.html#returning-a-view-versus-a-copy\n",
      "  df_Dividend_PreNDate[\"Dividend_Pre\"+str(N)+\"Date\"]=df_Dividend_PreNDate.index\n",
      "C:\\Users\\markchao\\AppData\\Local\\Temp/ipykernel_23784/3117343331.py:115: FutureWarning: Dropping of nuisance columns in DataFrame reductions (with 'numeric_only=None') is deprecated; in a future version this will raise TypeError.  Select only valid columns before calling the reduction.\n",
      "  Win_mean_per_Value=df_Dividend_PreOneDate[df_Dividend_PreOneDate[\"PL%\"]>0].mean()\n",
      "C:\\Users\\markchao\\AppData\\Local\\Temp/ipykernel_23784/3117343331.py:119: FutureWarning: Dropping of nuisance columns in DataFrame reductions (with 'numeric_only=None') is deprecated; in a future version this will raise TypeError.  Select only valid columns before calling the reduction.\n",
      "  Loss_mean_per_Value=df_Dividend_PreOneDate[df_Dividend_PreOneDate[\"PL%\"]<0].mean()\n"
     ]
    },
    {
     "name": "stdout",
     "output_type": "stream",
     "text": [
      "3479.TWO\n"
     ]
    },
    {
     "name": "stderr",
     "output_type": "stream",
     "text": [
      "C:\\Users\\markchao\\AppData\\Local\\Temp/ipykernel_23784/3117343331.py:74: SettingWithCopyWarning: \n",
      "A value is trying to be set on a copy of a slice from a DataFrame.\n",
      "Try using .loc[row_indexer,col_indexer] = value instead\n",
      "\n",
      "See the caveats in the documentation: https://pandas.pydata.org/pandas-docs/stable/user_guide/indexing.html#returning-a-view-versus-a-copy\n",
      "  df_Dividend_PreNDate[\"Dividend_Pre\"+str(N)+\"Date\"]=df_Dividend_PreNDate.index\n",
      "C:\\Users\\markchao\\AppData\\Local\\Temp/ipykernel_23784/3117343331.py:115: FutureWarning: Dropping of nuisance columns in DataFrame reductions (with 'numeric_only=None') is deprecated; in a future version this will raise TypeError.  Select only valid columns before calling the reduction.\n",
      "  Win_mean_per_Value=df_Dividend_PreOneDate[df_Dividend_PreOneDate[\"PL%\"]>0].mean()\n",
      "C:\\Users\\markchao\\AppData\\Local\\Temp/ipykernel_23784/3117343331.py:119: FutureWarning: Dropping of nuisance columns in DataFrame reductions (with 'numeric_only=None') is deprecated; in a future version this will raise TypeError.  Select only valid columns before calling the reduction.\n",
      "  Loss_mean_per_Value=df_Dividend_PreOneDate[df_Dividend_PreOneDate[\"PL%\"]<0].mean()\n"
     ]
    },
    {
     "name": "stdout",
     "output_type": "stream",
     "text": [
      "6691.TW\n"
     ]
    },
    {
     "name": "stderr",
     "output_type": "stream",
     "text": [
      "C:\\Users\\markchao\\AppData\\Local\\Temp/ipykernel_23784/3117343331.py:74: SettingWithCopyWarning: \n",
      "A value is trying to be set on a copy of a slice from a DataFrame.\n",
      "Try using .loc[row_indexer,col_indexer] = value instead\n",
      "\n",
      "See the caveats in the documentation: https://pandas.pydata.org/pandas-docs/stable/user_guide/indexing.html#returning-a-view-versus-a-copy\n",
      "  df_Dividend_PreNDate[\"Dividend_Pre\"+str(N)+\"Date\"]=df_Dividend_PreNDate.index\n",
      "C:\\Users\\markchao\\AppData\\Local\\Temp/ipykernel_23784/3117343331.py:115: FutureWarning: Dropping of nuisance columns in DataFrame reductions (with 'numeric_only=None') is deprecated; in a future version this will raise TypeError.  Select only valid columns before calling the reduction.\n",
      "  Win_mean_per_Value=df_Dividend_PreOneDate[df_Dividend_PreOneDate[\"PL%\"]>0].mean()\n",
      "C:\\Users\\markchao\\AppData\\Local\\Temp/ipykernel_23784/3117343331.py:119: FutureWarning: Dropping of nuisance columns in DataFrame reductions (with 'numeric_only=None') is deprecated; in a future version this will raise TypeError.  Select only valid columns before calling the reduction.\n",
      "  Loss_mean_per_Value=df_Dividend_PreOneDate[df_Dividend_PreOneDate[\"PL%\"]<0].mean()\n"
     ]
    },
    {
     "name": "stdout",
     "output_type": "stream",
     "text": [
      "4919.TW\n"
     ]
    },
    {
     "name": "stderr",
     "output_type": "stream",
     "text": [
      "C:\\Users\\markchao\\AppData\\Local\\Temp/ipykernel_23784/3117343331.py:74: SettingWithCopyWarning: \n",
      "A value is trying to be set on a copy of a slice from a DataFrame.\n",
      "Try using .loc[row_indexer,col_indexer] = value instead\n",
      "\n",
      "See the caveats in the documentation: https://pandas.pydata.org/pandas-docs/stable/user_guide/indexing.html#returning-a-view-versus-a-copy\n",
      "  df_Dividend_PreNDate[\"Dividend_Pre\"+str(N)+\"Date\"]=df_Dividend_PreNDate.index\n",
      "C:\\Users\\markchao\\AppData\\Local\\Temp/ipykernel_23784/3117343331.py:115: FutureWarning: Dropping of nuisance columns in DataFrame reductions (with 'numeric_only=None') is deprecated; in a future version this will raise TypeError.  Select only valid columns before calling the reduction.\n",
      "  Win_mean_per_Value=df_Dividend_PreOneDate[df_Dividend_PreOneDate[\"PL%\"]>0].mean()\n",
      "C:\\Users\\markchao\\AppData\\Local\\Temp/ipykernel_23784/3117343331.py:119: FutureWarning: Dropping of nuisance columns in DataFrame reductions (with 'numeric_only=None') is deprecated; in a future version this will raise TypeError.  Select only valid columns before calling the reduction.\n",
      "  Loss_mean_per_Value=df_Dividend_PreOneDate[df_Dividend_PreOneDate[\"PL%\"]<0].mean()\n"
     ]
    },
    {
     "name": "stdout",
     "output_type": "stream",
     "text": [
      "2395.TW\n"
     ]
    },
    {
     "name": "stderr",
     "output_type": "stream",
     "text": [
      "C:\\Users\\markchao\\AppData\\Local\\Temp/ipykernel_23784/3117343331.py:74: SettingWithCopyWarning: \n",
      "A value is trying to be set on a copy of a slice from a DataFrame.\n",
      "Try using .loc[row_indexer,col_indexer] = value instead\n",
      "\n",
      "See the caveats in the documentation: https://pandas.pydata.org/pandas-docs/stable/user_guide/indexing.html#returning-a-view-versus-a-copy\n",
      "  df_Dividend_PreNDate[\"Dividend_Pre\"+str(N)+\"Date\"]=df_Dividend_PreNDate.index\n",
      "C:\\Users\\markchao\\AppData\\Local\\Temp/ipykernel_23784/3117343331.py:115: FutureWarning: Dropping of nuisance columns in DataFrame reductions (with 'numeric_only=None') is deprecated; in a future version this will raise TypeError.  Select only valid columns before calling the reduction.\n",
      "  Win_mean_per_Value=df_Dividend_PreOneDate[df_Dividend_PreOneDate[\"PL%\"]>0].mean()\n",
      "C:\\Users\\markchao\\AppData\\Local\\Temp/ipykernel_23784/3117343331.py:119: FutureWarning: Dropping of nuisance columns in DataFrame reductions (with 'numeric_only=None') is deprecated; in a future version this will raise TypeError.  Select only valid columns before calling the reduction.\n",
      "  Loss_mean_per_Value=df_Dividend_PreOneDate[df_Dividend_PreOneDate[\"PL%\"]<0].mean()\n"
     ]
    },
    {
     "name": "stdout",
     "output_type": "stream",
     "text": [
      "6770.TW\n"
     ]
    },
    {
     "name": "stderr",
     "output_type": "stream",
     "text": [
      "C:\\Users\\markchao\\AppData\\Local\\Temp/ipykernel_23784/3117343331.py:74: SettingWithCopyWarning: \n",
      "A value is trying to be set on a copy of a slice from a DataFrame.\n",
      "Try using .loc[row_indexer,col_indexer] = value instead\n",
      "\n",
      "See the caveats in the documentation: https://pandas.pydata.org/pandas-docs/stable/user_guide/indexing.html#returning-a-view-versus-a-copy\n",
      "  df_Dividend_PreNDate[\"Dividend_Pre\"+str(N)+\"Date\"]=df_Dividend_PreNDate.index\n",
      "C:\\Users\\markchao\\AppData\\Local\\Temp/ipykernel_23784/3117343331.py:115: FutureWarning: Dropping of nuisance columns in DataFrame reductions (with 'numeric_only=None') is deprecated; in a future version this will raise TypeError.  Select only valid columns before calling the reduction.\n",
      "  Win_mean_per_Value=df_Dividend_PreOneDate[df_Dividend_PreOneDate[\"PL%\"]>0].mean()\n"
     ]
    },
    {
     "name": "stdout",
     "output_type": "stream",
     "text": [
      "2207.TW\n"
     ]
    },
    {
     "name": "stderr",
     "output_type": "stream",
     "text": [
      "C:\\Users\\markchao\\AppData\\Local\\Temp/ipykernel_23784/3117343331.py:74: SettingWithCopyWarning: \n",
      "A value is trying to be set on a copy of a slice from a DataFrame.\n",
      "Try using .loc[row_indexer,col_indexer] = value instead\n",
      "\n",
      "See the caveats in the documentation: https://pandas.pydata.org/pandas-docs/stable/user_guide/indexing.html#returning-a-view-versus-a-copy\n",
      "  df_Dividend_PreNDate[\"Dividend_Pre\"+str(N)+\"Date\"]=df_Dividend_PreNDate.index\n",
      "C:\\Users\\markchao\\AppData\\Local\\Temp/ipykernel_23784/3117343331.py:115: FutureWarning: Dropping of nuisance columns in DataFrame reductions (with 'numeric_only=None') is deprecated; in a future version this will raise TypeError.  Select only valid columns before calling the reduction.\n",
      "  Win_mean_per_Value=df_Dividend_PreOneDate[df_Dividend_PreOneDate[\"PL%\"]>0].mean()\n",
      "C:\\Users\\markchao\\AppData\\Local\\Temp/ipykernel_23784/3117343331.py:119: FutureWarning: Dropping of nuisance columns in DataFrame reductions (with 'numeric_only=None') is deprecated; in a future version this will raise TypeError.  Select only valid columns before calling the reduction.\n",
      "  Loss_mean_per_Value=df_Dividend_PreOneDate[df_Dividend_PreOneDate[\"PL%\"]<0].mean()\n"
     ]
    },
    {
     "name": "stdout",
     "output_type": "stream",
     "text": [
      "8011.TW\n"
     ]
    },
    {
     "name": "stderr",
     "output_type": "stream",
     "text": [
      "C:\\Users\\markchao\\AppData\\Local\\Temp/ipykernel_23784/3117343331.py:74: SettingWithCopyWarning: \n",
      "A value is trying to be set on a copy of a slice from a DataFrame.\n",
      "Try using .loc[row_indexer,col_indexer] = value instead\n",
      "\n",
      "See the caveats in the documentation: https://pandas.pydata.org/pandas-docs/stable/user_guide/indexing.html#returning-a-view-versus-a-copy\n",
      "  df_Dividend_PreNDate[\"Dividend_Pre\"+str(N)+\"Date\"]=df_Dividend_PreNDate.index\n",
      "C:\\Users\\markchao\\AppData\\Local\\Temp/ipykernel_23784/3117343331.py:115: FutureWarning: Dropping of nuisance columns in DataFrame reductions (with 'numeric_only=None') is deprecated; in a future version this will raise TypeError.  Select only valid columns before calling the reduction.\n",
      "  Win_mean_per_Value=df_Dividend_PreOneDate[df_Dividend_PreOneDate[\"PL%\"]>0].mean()\n",
      "C:\\Users\\markchao\\AppData\\Local\\Temp/ipykernel_23784/3117343331.py:119: FutureWarning: Dropping of nuisance columns in DataFrame reductions (with 'numeric_only=None') is deprecated; in a future version this will raise TypeError.  Select only valid columns before calling the reduction.\n",
      "  Loss_mean_per_Value=df_Dividend_PreOneDate[df_Dividend_PreOneDate[\"PL%\"]<0].mean()\n"
     ]
    },
    {
     "name": "stdout",
     "output_type": "stream",
     "text": [
      "8358.TWO\n"
     ]
    },
    {
     "name": "stderr",
     "output_type": "stream",
     "text": [
      "C:\\Users\\markchao\\AppData\\Local\\Temp/ipykernel_23784/3117343331.py:74: SettingWithCopyWarning: \n",
      "A value is trying to be set on a copy of a slice from a DataFrame.\n",
      "Try using .loc[row_indexer,col_indexer] = value instead\n",
      "\n",
      "See the caveats in the documentation: https://pandas.pydata.org/pandas-docs/stable/user_guide/indexing.html#returning-a-view-versus-a-copy\n",
      "  df_Dividend_PreNDate[\"Dividend_Pre\"+str(N)+\"Date\"]=df_Dividend_PreNDate.index\n",
      "C:\\Users\\markchao\\AppData\\Local\\Temp/ipykernel_23784/3117343331.py:115: FutureWarning: Dropping of nuisance columns in DataFrame reductions (with 'numeric_only=None') is deprecated; in a future version this will raise TypeError.  Select only valid columns before calling the reduction.\n",
      "  Win_mean_per_Value=df_Dividend_PreOneDate[df_Dividend_PreOneDate[\"PL%\"]>0].mean()\n",
      "C:\\Users\\markchao\\AppData\\Local\\Temp/ipykernel_23784/3117343331.py:119: FutureWarning: Dropping of nuisance columns in DataFrame reductions (with 'numeric_only=None') is deprecated; in a future version this will raise TypeError.  Select only valid columns before calling the reduction.\n",
      "  Loss_mean_per_Value=df_Dividend_PreOneDate[df_Dividend_PreOneDate[\"PL%\"]<0].mean()\n"
     ]
    },
    {
     "name": "stdout",
     "output_type": "stream",
     "text": [
      "2615.TW\n"
     ]
    },
    {
     "name": "stderr",
     "output_type": "stream",
     "text": [
      "C:\\Users\\markchao\\AppData\\Local\\Temp/ipykernel_23784/3117343331.py:74: SettingWithCopyWarning: \n",
      "A value is trying to be set on a copy of a slice from a DataFrame.\n",
      "Try using .loc[row_indexer,col_indexer] = value instead\n",
      "\n",
      "See the caveats in the documentation: https://pandas.pydata.org/pandas-docs/stable/user_guide/indexing.html#returning-a-view-versus-a-copy\n",
      "  df_Dividend_PreNDate[\"Dividend_Pre\"+str(N)+\"Date\"]=df_Dividend_PreNDate.index\n",
      "C:\\Users\\markchao\\AppData\\Local\\Temp/ipykernel_23784/3117343331.py:115: FutureWarning: Dropping of nuisance columns in DataFrame reductions (with 'numeric_only=None') is deprecated; in a future version this will raise TypeError.  Select only valid columns before calling the reduction.\n",
      "  Win_mean_per_Value=df_Dividend_PreOneDate[df_Dividend_PreOneDate[\"PL%\"]>0].mean()\n",
      "C:\\Users\\markchao\\AppData\\Local\\Temp/ipykernel_23784/3117343331.py:119: FutureWarning: Dropping of nuisance columns in DataFrame reductions (with 'numeric_only=None') is deprecated; in a future version this will raise TypeError.  Select only valid columns before calling the reduction.\n",
      "  Loss_mean_per_Value=df_Dividend_PreOneDate[df_Dividend_PreOneDate[\"PL%\"]<0].mean()\n"
     ]
    },
    {
     "name": "stdout",
     "output_type": "stream",
     "text": [
      "5371.TWO\n"
     ]
    },
    {
     "name": "stderr",
     "output_type": "stream",
     "text": [
      "C:\\Users\\markchao\\AppData\\Local\\Temp/ipykernel_23784/3117343331.py:74: SettingWithCopyWarning: \n",
      "A value is trying to be set on a copy of a slice from a DataFrame.\n",
      "Try using .loc[row_indexer,col_indexer] = value instead\n",
      "\n",
      "See the caveats in the documentation: https://pandas.pydata.org/pandas-docs/stable/user_guide/indexing.html#returning-a-view-versus-a-copy\n",
      "  df_Dividend_PreNDate[\"Dividend_Pre\"+str(N)+\"Date\"]=df_Dividend_PreNDate.index\n",
      "C:\\Users\\markchao\\AppData\\Local\\Temp/ipykernel_23784/3117343331.py:115: FutureWarning: Dropping of nuisance columns in DataFrame reductions (with 'numeric_only=None') is deprecated; in a future version this will raise TypeError.  Select only valid columns before calling the reduction.\n",
      "  Win_mean_per_Value=df_Dividend_PreOneDate[df_Dividend_PreOneDate[\"PL%\"]>0].mean()\n",
      "C:\\Users\\markchao\\AppData\\Local\\Temp/ipykernel_23784/3117343331.py:119: FutureWarning: Dropping of nuisance columns in DataFrame reductions (with 'numeric_only=None') is deprecated; in a future version this will raise TypeError.  Select only valid columns before calling the reduction.\n",
      "  Loss_mean_per_Value=df_Dividend_PreOneDate[df_Dividend_PreOneDate[\"PL%\"]<0].mean()\n"
     ]
    },
    {
     "name": "stdout",
     "output_type": "stream",
     "text": [
      "3228.TWO\n"
     ]
    },
    {
     "name": "stderr",
     "output_type": "stream",
     "text": [
      "C:\\Users\\markchao\\AppData\\Local\\Temp/ipykernel_23784/3117343331.py:74: SettingWithCopyWarning: \n",
      "A value is trying to be set on a copy of a slice from a DataFrame.\n",
      "Try using .loc[row_indexer,col_indexer] = value instead\n",
      "\n",
      "See the caveats in the documentation: https://pandas.pydata.org/pandas-docs/stable/user_guide/indexing.html#returning-a-view-versus-a-copy\n",
      "  df_Dividend_PreNDate[\"Dividend_Pre\"+str(N)+\"Date\"]=df_Dividend_PreNDate.index\n",
      "C:\\Users\\markchao\\AppData\\Local\\Temp/ipykernel_23784/3117343331.py:119: FutureWarning: Dropping of nuisance columns in DataFrame reductions (with 'numeric_only=None') is deprecated; in a future version this will raise TypeError.  Select only valid columns before calling the reduction.\n",
      "  Loss_mean_per_Value=df_Dividend_PreOneDate[df_Dividend_PreOneDate[\"PL%\"]<0].mean()\n"
     ]
    },
    {
     "name": "stdout",
     "output_type": "stream",
     "text": [
      "6187.TWO\n"
     ]
    },
    {
     "name": "stderr",
     "output_type": "stream",
     "text": [
      "C:\\Users\\markchao\\AppData\\Local\\Temp/ipykernel_23784/3117343331.py:74: SettingWithCopyWarning: \n",
      "A value is trying to be set on a copy of a slice from a DataFrame.\n",
      "Try using .loc[row_indexer,col_indexer] = value instead\n",
      "\n",
      "See the caveats in the documentation: https://pandas.pydata.org/pandas-docs/stable/user_guide/indexing.html#returning-a-view-versus-a-copy\n",
      "  df_Dividend_PreNDate[\"Dividend_Pre\"+str(N)+\"Date\"]=df_Dividend_PreNDate.index\n",
      "C:\\Users\\markchao\\AppData\\Local\\Temp/ipykernel_23784/3117343331.py:115: FutureWarning: Dropping of nuisance columns in DataFrame reductions (with 'numeric_only=None') is deprecated; in a future version this will raise TypeError.  Select only valid columns before calling the reduction.\n",
      "  Win_mean_per_Value=df_Dividend_PreOneDate[df_Dividend_PreOneDate[\"PL%\"]>0].mean()\n",
      "C:\\Users\\markchao\\AppData\\Local\\Temp/ipykernel_23784/3117343331.py:119: FutureWarning: Dropping of nuisance columns in DataFrame reductions (with 'numeric_only=None') is deprecated; in a future version this will raise TypeError.  Select only valid columns before calling the reduction.\n",
      "  Loss_mean_per_Value=df_Dividend_PreOneDate[df_Dividend_PreOneDate[\"PL%\"]<0].mean()\n"
     ]
    },
    {
     "name": "stdout",
     "output_type": "stream",
     "text": [
      "9945.TW\n"
     ]
    },
    {
     "name": "stderr",
     "output_type": "stream",
     "text": [
      "C:\\Users\\markchao\\AppData\\Local\\Temp/ipykernel_23784/3117343331.py:74: SettingWithCopyWarning: \n",
      "A value is trying to be set on a copy of a slice from a DataFrame.\n",
      "Try using .loc[row_indexer,col_indexer] = value instead\n",
      "\n",
      "See the caveats in the documentation: https://pandas.pydata.org/pandas-docs/stable/user_guide/indexing.html#returning-a-view-versus-a-copy\n",
      "  df_Dividend_PreNDate[\"Dividend_Pre\"+str(N)+\"Date\"]=df_Dividend_PreNDate.index\n",
      "C:\\Users\\markchao\\AppData\\Local\\Temp/ipykernel_23784/3117343331.py:115: FutureWarning: Dropping of nuisance columns in DataFrame reductions (with 'numeric_only=None') is deprecated; in a future version this will raise TypeError.  Select only valid columns before calling the reduction.\n",
      "  Win_mean_per_Value=df_Dividend_PreOneDate[df_Dividend_PreOneDate[\"PL%\"]>0].mean()\n",
      "C:\\Users\\markchao\\AppData\\Local\\Temp/ipykernel_23784/3117343331.py:119: FutureWarning: Dropping of nuisance columns in DataFrame reductions (with 'numeric_only=None') is deprecated; in a future version this will raise TypeError.  Select only valid columns before calling the reduction.\n",
      "  Loss_mean_per_Value=df_Dividend_PreOneDate[df_Dividend_PreOneDate[\"PL%\"]<0].mean()\n"
     ]
    },
    {
     "name": "stdout",
     "output_type": "stream",
     "text": [
      "3059.TW\n"
     ]
    },
    {
     "name": "stderr",
     "output_type": "stream",
     "text": [
      "C:\\Users\\markchao\\AppData\\Local\\Temp/ipykernel_23784/3117343331.py:74: SettingWithCopyWarning: \n",
      "A value is trying to be set on a copy of a slice from a DataFrame.\n",
      "Try using .loc[row_indexer,col_indexer] = value instead\n",
      "\n",
      "See the caveats in the documentation: https://pandas.pydata.org/pandas-docs/stable/user_guide/indexing.html#returning-a-view-versus-a-copy\n",
      "  df_Dividend_PreNDate[\"Dividend_Pre\"+str(N)+\"Date\"]=df_Dividend_PreNDate.index\n",
      "C:\\Users\\markchao\\AppData\\Local\\Temp/ipykernel_23784/3117343331.py:115: FutureWarning: Dropping of nuisance columns in DataFrame reductions (with 'numeric_only=None') is deprecated; in a future version this will raise TypeError.  Select only valid columns before calling the reduction.\n",
      "  Win_mean_per_Value=df_Dividend_PreOneDate[df_Dividend_PreOneDate[\"PL%\"]>0].mean()\n",
      "C:\\Users\\markchao\\AppData\\Local\\Temp/ipykernel_23784/3117343331.py:119: FutureWarning: Dropping of nuisance columns in DataFrame reductions (with 'numeric_only=None') is deprecated; in a future version this will raise TypeError.  Select only valid columns before calling the reduction.\n",
      "  Loss_mean_per_Value=df_Dividend_PreOneDate[df_Dividend_PreOneDate[\"PL%\"]<0].mean()\n"
     ]
    },
    {
     "name": "stdout",
     "output_type": "stream",
     "text": [
      "6472.TW\n"
     ]
    },
    {
     "name": "stderr",
     "output_type": "stream",
     "text": [
      "C:\\Users\\markchao\\AppData\\Local\\Temp/ipykernel_23784/3117343331.py:74: SettingWithCopyWarning: \n",
      "A value is trying to be set on a copy of a slice from a DataFrame.\n",
      "Try using .loc[row_indexer,col_indexer] = value instead\n",
      "\n",
      "See the caveats in the documentation: https://pandas.pydata.org/pandas-docs/stable/user_guide/indexing.html#returning-a-view-versus-a-copy\n",
      "  df_Dividend_PreNDate[\"Dividend_Pre\"+str(N)+\"Date\"]=df_Dividend_PreNDate.index\n",
      "C:\\Users\\markchao\\AppData\\Local\\Temp/ipykernel_23784/3117343331.py:119: FutureWarning: Dropping of nuisance columns in DataFrame reductions (with 'numeric_only=None') is deprecated; in a future version this will raise TypeError.  Select only valid columns before calling the reduction.\n",
      "  Loss_mean_per_Value=df_Dividend_PreOneDate[df_Dividend_PreOneDate[\"PL%\"]<0].mean()\n",
      "C:\\Users\\markchao\\AppData\\Local\\Temp/ipykernel_23784/3117343331.py:74: SettingWithCopyWarning: \n",
      "A value is trying to be set on a copy of a slice from a DataFrame.\n",
      "Try using .loc[row_indexer,col_indexer] = value instead\n",
      "\n",
      "See the caveats in the documentation: https://pandas.pydata.org/pandas-docs/stable/user_guide/indexing.html#returning-a-view-versus-a-copy\n",
      "  df_Dividend_PreNDate[\"Dividend_Pre\"+str(N)+\"Date\"]=df_Dividend_PreNDate.index\n",
      "C:\\Users\\markchao\\AppData\\Local\\Temp/ipykernel_23784/3117343331.py:115: FutureWarning: Dropping of nuisance columns in DataFrame reductions (with 'numeric_only=None') is deprecated; in a future version this will raise TypeError.  Select only valid columns before calling the reduction.\n",
      "  Win_mean_per_Value=df_Dividend_PreOneDate[df_Dividend_PreOneDate[\"PL%\"]>0].mean()\n",
      "C:\\Users\\markchao\\AppData\\Local\\Temp/ipykernel_23784/3117343331.py:119: FutureWarning: Dropping of nuisance columns in DataFrame reductions (with 'numeric_only=None') is deprecated; in a future version this will raise TypeError.  Select only valid columns before calling the reduction.\n",
      "  Loss_mean_per_Value=df_Dividend_PreOneDate[df_Dividend_PreOneDate[\"PL%\"]<0].mean()\n"
     ]
    },
    {
     "name": "stdout",
     "output_type": "stream",
     "text": [
      "2610.TW\n",
      "3532.TW\n"
     ]
    },
    {
     "name": "stderr",
     "output_type": "stream",
     "text": [
      "C:\\Users\\markchao\\AppData\\Local\\Temp/ipykernel_23784/3117343331.py:74: SettingWithCopyWarning: \n",
      "A value is trying to be set on a copy of a slice from a DataFrame.\n",
      "Try using .loc[row_indexer,col_indexer] = value instead\n",
      "\n",
      "See the caveats in the documentation: https://pandas.pydata.org/pandas-docs/stable/user_guide/indexing.html#returning-a-view-versus-a-copy\n",
      "  df_Dividend_PreNDate[\"Dividend_Pre\"+str(N)+\"Date\"]=df_Dividend_PreNDate.index\n",
      "C:\\Users\\markchao\\AppData\\Local\\Temp/ipykernel_23784/3117343331.py:115: FutureWarning: Dropping of nuisance columns in DataFrame reductions (with 'numeric_only=None') is deprecated; in a future version this will raise TypeError.  Select only valid columns before calling the reduction.\n",
      "  Win_mean_per_Value=df_Dividend_PreOneDate[df_Dividend_PreOneDate[\"PL%\"]>0].mean()\n",
      "C:\\Users\\markchao\\AppData\\Local\\Temp/ipykernel_23784/3117343331.py:119: FutureWarning: Dropping of nuisance columns in DataFrame reductions (with 'numeric_only=None') is deprecated; in a future version this will raise TypeError.  Select only valid columns before calling the reduction.\n",
      "  Loss_mean_per_Value=df_Dividend_PreOneDate[df_Dividend_PreOneDate[\"PL%\"]<0].mean()\n"
     ]
    },
    {
     "name": "stdout",
     "output_type": "stream",
     "text": [
      "2323.TW\n"
     ]
    },
    {
     "name": "stderr",
     "output_type": "stream",
     "text": [
      "C:\\Users\\markchao\\AppData\\Local\\Temp/ipykernel_23784/3117343331.py:74: SettingWithCopyWarning: \n",
      "A value is trying to be set on a copy of a slice from a DataFrame.\n",
      "Try using .loc[row_indexer,col_indexer] = value instead\n",
      "\n",
      "See the caveats in the documentation: https://pandas.pydata.org/pandas-docs/stable/user_guide/indexing.html#returning-a-view-versus-a-copy\n",
      "  df_Dividend_PreNDate[\"Dividend_Pre\"+str(N)+\"Date\"]=df_Dividend_PreNDate.index\n",
      "C:\\Users\\markchao\\AppData\\Local\\Temp/ipykernel_23784/3117343331.py:115: FutureWarning: Dropping of nuisance columns in DataFrame reductions (with 'numeric_only=None') is deprecated; in a future version this will raise TypeError.  Select only valid columns before calling the reduction.\n",
      "  Win_mean_per_Value=df_Dividend_PreOneDate[df_Dividend_PreOneDate[\"PL%\"]>0].mean()\n",
      "C:\\Users\\markchao\\AppData\\Local\\Temp/ipykernel_23784/3117343331.py:119: FutureWarning: Dropping of nuisance columns in DataFrame reductions (with 'numeric_only=None') is deprecated; in a future version this will raise TypeError.  Select only valid columns before calling the reduction.\n",
      "  Loss_mean_per_Value=df_Dividend_PreOneDate[df_Dividend_PreOneDate[\"PL%\"]<0].mean()\n"
     ]
    },
    {
     "name": "stdout",
     "output_type": "stream",
     "text": [
      "3376.TW\n"
     ]
    },
    {
     "name": "stderr",
     "output_type": "stream",
     "text": [
      "C:\\Users\\markchao\\AppData\\Local\\Temp/ipykernel_23784/3117343331.py:74: SettingWithCopyWarning: \n",
      "A value is trying to be set on a copy of a slice from a DataFrame.\n",
      "Try using .loc[row_indexer,col_indexer] = value instead\n",
      "\n",
      "See the caveats in the documentation: https://pandas.pydata.org/pandas-docs/stable/user_guide/indexing.html#returning-a-view-versus-a-copy\n",
      "  df_Dividend_PreNDate[\"Dividend_Pre\"+str(N)+\"Date\"]=df_Dividend_PreNDate.index\n",
      "C:\\Users\\markchao\\AppData\\Local\\Temp/ipykernel_23784/3117343331.py:115: FutureWarning: Dropping of nuisance columns in DataFrame reductions (with 'numeric_only=None') is deprecated; in a future version this will raise TypeError.  Select only valid columns before calling the reduction.\n",
      "  Win_mean_per_Value=df_Dividend_PreOneDate[df_Dividend_PreOneDate[\"PL%\"]>0].mean()\n",
      "C:\\Users\\markchao\\AppData\\Local\\Temp/ipykernel_23784/3117343331.py:119: FutureWarning: Dropping of nuisance columns in DataFrame reductions (with 'numeric_only=None') is deprecated; in a future version this will raise TypeError.  Select only valid columns before calling the reduction.\n",
      "  Loss_mean_per_Value=df_Dividend_PreOneDate[df_Dividend_PreOneDate[\"PL%\"]<0].mean()\n"
     ]
    },
    {
     "name": "stdout",
     "output_type": "stream",
     "text": [
      "8926.TW\n"
     ]
    },
    {
     "name": "stderr",
     "output_type": "stream",
     "text": [
      "C:\\Users\\markchao\\AppData\\Local\\Temp/ipykernel_23784/3117343331.py:74: SettingWithCopyWarning: \n",
      "A value is trying to be set on a copy of a slice from a DataFrame.\n",
      "Try using .loc[row_indexer,col_indexer] = value instead\n",
      "\n",
      "See the caveats in the documentation: https://pandas.pydata.org/pandas-docs/stable/user_guide/indexing.html#returning-a-view-versus-a-copy\n",
      "  df_Dividend_PreNDate[\"Dividend_Pre\"+str(N)+\"Date\"]=df_Dividend_PreNDate.index\n",
      "C:\\Users\\markchao\\AppData\\Local\\Temp/ipykernel_23784/3117343331.py:115: FutureWarning: Dropping of nuisance columns in DataFrame reductions (with 'numeric_only=None') is deprecated; in a future version this will raise TypeError.  Select only valid columns before calling the reduction.\n",
      "  Win_mean_per_Value=df_Dividend_PreOneDate[df_Dividend_PreOneDate[\"PL%\"]>0].mean()\n",
      "C:\\Users\\markchao\\AppData\\Local\\Temp/ipykernel_23784/3117343331.py:119: FutureWarning: Dropping of nuisance columns in DataFrame reductions (with 'numeric_only=None') is deprecated; in a future version this will raise TypeError.  Select only valid columns before calling the reduction.\n",
      "  Loss_mean_per_Value=df_Dividend_PreOneDate[df_Dividend_PreOneDate[\"PL%\"]<0].mean()\n"
     ]
    },
    {
     "name": "stdout",
     "output_type": "stream",
     "text": [
      "2637.TW\n"
     ]
    },
    {
     "name": "stderr",
     "output_type": "stream",
     "text": [
      "C:\\Users\\markchao\\AppData\\Local\\Temp/ipykernel_23784/3117343331.py:74: SettingWithCopyWarning: \n",
      "A value is trying to be set on a copy of a slice from a DataFrame.\n",
      "Try using .loc[row_indexer,col_indexer] = value instead\n",
      "\n",
      "See the caveats in the documentation: https://pandas.pydata.org/pandas-docs/stable/user_guide/indexing.html#returning-a-view-versus-a-copy\n",
      "  df_Dividend_PreNDate[\"Dividend_Pre\"+str(N)+\"Date\"]=df_Dividend_PreNDate.index\n",
      "C:\\Users\\markchao\\AppData\\Local\\Temp/ipykernel_23784/3117343331.py:115: FutureWarning: Dropping of nuisance columns in DataFrame reductions (with 'numeric_only=None') is deprecated; in a future version this will raise TypeError.  Select only valid columns before calling the reduction.\n",
      "  Win_mean_per_Value=df_Dividend_PreOneDate[df_Dividend_PreOneDate[\"PL%\"]>0].mean()\n",
      "C:\\Users\\markchao\\AppData\\Local\\Temp/ipykernel_23784/3117343331.py:119: FutureWarning: Dropping of nuisance columns in DataFrame reductions (with 'numeric_only=None') is deprecated; in a future version this will raise TypeError.  Select only valid columns before calling the reduction.\n",
      "  Loss_mean_per_Value=df_Dividend_PreOneDate[df_Dividend_PreOneDate[\"PL%\"]<0].mean()\n"
     ]
    },
    {
     "name": "stdout",
     "output_type": "stream",
     "text": [
      "6196.TW\n"
     ]
    },
    {
     "name": "stderr",
     "output_type": "stream",
     "text": [
      "C:\\Users\\markchao\\AppData\\Local\\Temp/ipykernel_23784/3117343331.py:74: SettingWithCopyWarning: \n",
      "A value is trying to be set on a copy of a slice from a DataFrame.\n",
      "Try using .loc[row_indexer,col_indexer] = value instead\n",
      "\n",
      "See the caveats in the documentation: https://pandas.pydata.org/pandas-docs/stable/user_guide/indexing.html#returning-a-view-versus-a-copy\n",
      "  df_Dividend_PreNDate[\"Dividend_Pre\"+str(N)+\"Date\"]=df_Dividend_PreNDate.index\n",
      "C:\\Users\\markchao\\AppData\\Local\\Temp/ipykernel_23784/3117343331.py:115: FutureWarning: Dropping of nuisance columns in DataFrame reductions (with 'numeric_only=None') is deprecated; in a future version this will raise TypeError.  Select only valid columns before calling the reduction.\n",
      "  Win_mean_per_Value=df_Dividend_PreOneDate[df_Dividend_PreOneDate[\"PL%\"]>0].mean()\n",
      "C:\\Users\\markchao\\AppData\\Local\\Temp/ipykernel_23784/3117343331.py:119: FutureWarning: Dropping of nuisance columns in DataFrame reductions (with 'numeric_only=None') is deprecated; in a future version this will raise TypeError.  Select only valid columns before calling the reduction.\n",
      "  Loss_mean_per_Value=df_Dividend_PreOneDate[df_Dividend_PreOneDate[\"PL%\"]<0].mean()\n"
     ]
    },
    {
     "name": "stdout",
     "output_type": "stream",
     "text": [
      "8155.TWO\n"
     ]
    },
    {
     "name": "stderr",
     "output_type": "stream",
     "text": [
      "C:\\Users\\markchao\\AppData\\Local\\Temp/ipykernel_23784/3117343331.py:74: SettingWithCopyWarning: \n",
      "A value is trying to be set on a copy of a slice from a DataFrame.\n",
      "Try using .loc[row_indexer,col_indexer] = value instead\n",
      "\n",
      "See the caveats in the documentation: https://pandas.pydata.org/pandas-docs/stable/user_guide/indexing.html#returning-a-view-versus-a-copy\n",
      "  df_Dividend_PreNDate[\"Dividend_Pre\"+str(N)+\"Date\"]=df_Dividend_PreNDate.index\n",
      "C:\\Users\\markchao\\AppData\\Local\\Temp/ipykernel_23784/3117343331.py:115: FutureWarning: Dropping of nuisance columns in DataFrame reductions (with 'numeric_only=None') is deprecated; in a future version this will raise TypeError.  Select only valid columns before calling the reduction.\n",
      "  Win_mean_per_Value=df_Dividend_PreOneDate[df_Dividend_PreOneDate[\"PL%\"]>0].mean()\n",
      "C:\\Users\\markchao\\AppData\\Local\\Temp/ipykernel_23784/3117343331.py:119: FutureWarning: Dropping of nuisance columns in DataFrame reductions (with 'numeric_only=None') is deprecated; in a future version this will raise TypeError.  Select only valid columns before calling the reduction.\n",
      "  Loss_mean_per_Value=df_Dividend_PreOneDate[df_Dividend_PreOneDate[\"PL%\"]<0].mean()\n"
     ]
    },
    {
     "name": "stdout",
     "output_type": "stream",
     "text": [
      "5425.TWO\n"
     ]
    },
    {
     "name": "stderr",
     "output_type": "stream",
     "text": [
      "C:\\Users\\markchao\\AppData\\Local\\Temp/ipykernel_23784/3117343331.py:74: SettingWithCopyWarning: \n",
      "A value is trying to be set on a copy of a slice from a DataFrame.\n",
      "Try using .loc[row_indexer,col_indexer] = value instead\n",
      "\n",
      "See the caveats in the documentation: https://pandas.pydata.org/pandas-docs/stable/user_guide/indexing.html#returning-a-view-versus-a-copy\n",
      "  df_Dividend_PreNDate[\"Dividend_Pre\"+str(N)+\"Date\"]=df_Dividend_PreNDate.index\n",
      "C:\\Users\\markchao\\AppData\\Local\\Temp/ipykernel_23784/3117343331.py:115: FutureWarning: Dropping of nuisance columns in DataFrame reductions (with 'numeric_only=None') is deprecated; in a future version this will raise TypeError.  Select only valid columns before calling the reduction.\n",
      "  Win_mean_per_Value=df_Dividend_PreOneDate[df_Dividend_PreOneDate[\"PL%\"]>0].mean()\n",
      "C:\\Users\\markchao\\AppData\\Local\\Temp/ipykernel_23784/3117343331.py:119: FutureWarning: Dropping of nuisance columns in DataFrame reductions (with 'numeric_only=None') is deprecated; in a future version this will raise TypeError.  Select only valid columns before calling the reduction.\n",
      "  Loss_mean_per_Value=df_Dividend_PreOneDate[df_Dividend_PreOneDate[\"PL%\"]<0].mean()\n"
     ]
    },
    {
     "name": "stdout",
     "output_type": "stream",
     "text": [
      "8163.TW\n"
     ]
    },
    {
     "name": "stderr",
     "output_type": "stream",
     "text": [
      "C:\\Users\\markchao\\AppData\\Local\\Temp/ipykernel_23784/3117343331.py:74: SettingWithCopyWarning: \n",
      "A value is trying to be set on a copy of a slice from a DataFrame.\n",
      "Try using .loc[row_indexer,col_indexer] = value instead\n",
      "\n",
      "See the caveats in the documentation: https://pandas.pydata.org/pandas-docs/stable/user_guide/indexing.html#returning-a-view-versus-a-copy\n",
      "  df_Dividend_PreNDate[\"Dividend_Pre\"+str(N)+\"Date\"]=df_Dividend_PreNDate.index\n",
      "C:\\Users\\markchao\\AppData\\Local\\Temp/ipykernel_23784/3117343331.py:115: FutureWarning: Dropping of nuisance columns in DataFrame reductions (with 'numeric_only=None') is deprecated; in a future version this will raise TypeError.  Select only valid columns before calling the reduction.\n",
      "  Win_mean_per_Value=df_Dividend_PreOneDate[df_Dividend_PreOneDate[\"PL%\"]>0].mean()\n",
      "C:\\Users\\markchao\\AppData\\Local\\Temp/ipykernel_23784/3117343331.py:119: FutureWarning: Dropping of nuisance columns in DataFrame reductions (with 'numeric_only=None') is deprecated; in a future version this will raise TypeError.  Select only valid columns before calling the reduction.\n",
      "  Loss_mean_per_Value=df_Dividend_PreOneDate[df_Dividend_PreOneDate[\"PL%\"]<0].mean()\n"
     ]
    },
    {
     "name": "stdout",
     "output_type": "stream",
     "text": [
      "1815.TWO\n"
     ]
    },
    {
     "name": "stderr",
     "output_type": "stream",
     "text": [
      "C:\\Users\\markchao\\AppData\\Local\\Temp/ipykernel_23784/3117343331.py:74: SettingWithCopyWarning: \n",
      "A value is trying to be set on a copy of a slice from a DataFrame.\n",
      "Try using .loc[row_indexer,col_indexer] = value instead\n",
      "\n",
      "See the caveats in the documentation: https://pandas.pydata.org/pandas-docs/stable/user_guide/indexing.html#returning-a-view-versus-a-copy\n",
      "  df_Dividend_PreNDate[\"Dividend_Pre\"+str(N)+\"Date\"]=df_Dividend_PreNDate.index\n",
      "C:\\Users\\markchao\\AppData\\Local\\Temp/ipykernel_23784/3117343331.py:115: FutureWarning: Dropping of nuisance columns in DataFrame reductions (with 'numeric_only=None') is deprecated; in a future version this will raise TypeError.  Select only valid columns before calling the reduction.\n",
      "  Win_mean_per_Value=df_Dividend_PreOneDate[df_Dividend_PreOneDate[\"PL%\"]>0].mean()\n",
      "C:\\Users\\markchao\\AppData\\Local\\Temp/ipykernel_23784/3117343331.py:119: FutureWarning: Dropping of nuisance columns in DataFrame reductions (with 'numeric_only=None') is deprecated; in a future version this will raise TypeError.  Select only valid columns before calling the reduction.\n",
      "  Loss_mean_per_Value=df_Dividend_PreOneDate[df_Dividend_PreOneDate[\"PL%\"]<0].mean()\n"
     ]
    },
    {
     "name": "stdout",
     "output_type": "stream",
     "text": [
      "8932.TWO\n"
     ]
    },
    {
     "name": "stderr",
     "output_type": "stream",
     "text": [
      "C:\\Users\\markchao\\AppData\\Local\\Temp/ipykernel_23784/3117343331.py:74: SettingWithCopyWarning: \n",
      "A value is trying to be set on a copy of a slice from a DataFrame.\n",
      "Try using .loc[row_indexer,col_indexer] = value instead\n",
      "\n",
      "See the caveats in the documentation: https://pandas.pydata.org/pandas-docs/stable/user_guide/indexing.html#returning-a-view-versus-a-copy\n",
      "  df_Dividend_PreNDate[\"Dividend_Pre\"+str(N)+\"Date\"]=df_Dividend_PreNDate.index\n",
      "C:\\Users\\markchao\\AppData\\Local\\Temp/ipykernel_23784/3117343331.py:115: FutureWarning: Dropping of nuisance columns in DataFrame reductions (with 'numeric_only=None') is deprecated; in a future version this will raise TypeError.  Select only valid columns before calling the reduction.\n",
      "  Win_mean_per_Value=df_Dividend_PreOneDate[df_Dividend_PreOneDate[\"PL%\"]>0].mean()\n"
     ]
    },
    {
     "name": "stdout",
     "output_type": "stream",
     "text": [
      "2009.TW\n"
     ]
    },
    {
     "name": "stderr",
     "output_type": "stream",
     "text": [
      "C:\\Users\\markchao\\AppData\\Local\\Temp/ipykernel_23784/3117343331.py:74: SettingWithCopyWarning: \n",
      "A value is trying to be set on a copy of a slice from a DataFrame.\n",
      "Try using .loc[row_indexer,col_indexer] = value instead\n",
      "\n",
      "See the caveats in the documentation: https://pandas.pydata.org/pandas-docs/stable/user_guide/indexing.html#returning-a-view-versus-a-copy\n",
      "  df_Dividend_PreNDate[\"Dividend_Pre\"+str(N)+\"Date\"]=df_Dividend_PreNDate.index\n",
      "C:\\Users\\markchao\\AppData\\Local\\Temp/ipykernel_23784/3117343331.py:115: FutureWarning: Dropping of nuisance columns in DataFrame reductions (with 'numeric_only=None') is deprecated; in a future version this will raise TypeError.  Select only valid columns before calling the reduction.\n",
      "  Win_mean_per_Value=df_Dividend_PreOneDate[df_Dividend_PreOneDate[\"PL%\"]>0].mean()\n",
      "C:\\Users\\markchao\\AppData\\Local\\Temp/ipykernel_23784/3117343331.py:119: FutureWarning: Dropping of nuisance columns in DataFrame reductions (with 'numeric_only=None') is deprecated; in a future version this will raise TypeError.  Select only valid columns before calling the reduction.\n",
      "  Loss_mean_per_Value=df_Dividend_PreOneDate[df_Dividend_PreOneDate[\"PL%\"]<0].mean()\n"
     ]
    },
    {
     "name": "stdout",
     "output_type": "stream",
     "text": [
      "5234.TW\n"
     ]
    },
    {
     "name": "stderr",
     "output_type": "stream",
     "text": [
      "C:\\Users\\markchao\\AppData\\Local\\Temp/ipykernel_23784/3117343331.py:74: SettingWithCopyWarning: \n",
      "A value is trying to be set on a copy of a slice from a DataFrame.\n",
      "Try using .loc[row_indexer,col_indexer] = value instead\n",
      "\n",
      "See the caveats in the documentation: https://pandas.pydata.org/pandas-docs/stable/user_guide/indexing.html#returning-a-view-versus-a-copy\n",
      "  df_Dividend_PreNDate[\"Dividend_Pre\"+str(N)+\"Date\"]=df_Dividend_PreNDate.index\n",
      "C:\\Users\\markchao\\AppData\\Local\\Temp/ipykernel_23784/3117343331.py:115: FutureWarning: Dropping of nuisance columns in DataFrame reductions (with 'numeric_only=None') is deprecated; in a future version this will raise TypeError.  Select only valid columns before calling the reduction.\n",
      "  Win_mean_per_Value=df_Dividend_PreOneDate[df_Dividend_PreOneDate[\"PL%\"]>0].mean()\n",
      "C:\\Users\\markchao\\AppData\\Local\\Temp/ipykernel_23784/3117343331.py:119: FutureWarning: Dropping of nuisance columns in DataFrame reductions (with 'numeric_only=None') is deprecated; in a future version this will raise TypeError.  Select only valid columns before calling the reduction.\n",
      "  Loss_mean_per_Value=df_Dividend_PreOneDate[df_Dividend_PreOneDate[\"PL%\"]<0].mean()\n"
     ]
    },
    {
     "name": "stdout",
     "output_type": "stream",
     "text": [
      "6122.TWO\n"
     ]
    },
    {
     "name": "stderr",
     "output_type": "stream",
     "text": [
      "C:\\Users\\markchao\\AppData\\Local\\Temp/ipykernel_23784/3117343331.py:74: SettingWithCopyWarning: \n",
      "A value is trying to be set on a copy of a slice from a DataFrame.\n",
      "Try using .loc[row_indexer,col_indexer] = value instead\n",
      "\n",
      "See the caveats in the documentation: https://pandas.pydata.org/pandas-docs/stable/user_guide/indexing.html#returning-a-view-versus-a-copy\n",
      "  df_Dividend_PreNDate[\"Dividend_Pre\"+str(N)+\"Date\"]=df_Dividend_PreNDate.index\n",
      "C:\\Users\\markchao\\AppData\\Local\\Temp/ipykernel_23784/3117343331.py:115: FutureWarning: Dropping of nuisance columns in DataFrame reductions (with 'numeric_only=None') is deprecated; in a future version this will raise TypeError.  Select only valid columns before calling the reduction.\n",
      "  Win_mean_per_Value=df_Dividend_PreOneDate[df_Dividend_PreOneDate[\"PL%\"]>0].mean()\n",
      "C:\\Users\\markchao\\AppData\\Local\\Temp/ipykernel_23784/3117343331.py:119: FutureWarning: Dropping of nuisance columns in DataFrame reductions (with 'numeric_only=None') is deprecated; in a future version this will raise TypeError.  Select only valid columns before calling the reduction.\n",
      "  Loss_mean_per_Value=df_Dividend_PreOneDate[df_Dividend_PreOneDate[\"PL%\"]<0].mean()\n"
     ]
    },
    {
     "name": "stdout",
     "output_type": "stream",
     "text": [
      "3289.TWO\n"
     ]
    },
    {
     "name": "stderr",
     "output_type": "stream",
     "text": [
      "C:\\Users\\markchao\\AppData\\Local\\Temp/ipykernel_23784/3117343331.py:74: SettingWithCopyWarning: \n",
      "A value is trying to be set on a copy of a slice from a DataFrame.\n",
      "Try using .loc[row_indexer,col_indexer] = value instead\n",
      "\n",
      "See the caveats in the documentation: https://pandas.pydata.org/pandas-docs/stable/user_guide/indexing.html#returning-a-view-versus-a-copy\n",
      "  df_Dividend_PreNDate[\"Dividend_Pre\"+str(N)+\"Date\"]=df_Dividend_PreNDate.index\n",
      "C:\\Users\\markchao\\AppData\\Local\\Temp/ipykernel_23784/3117343331.py:115: FutureWarning: Dropping of nuisance columns in DataFrame reductions (with 'numeric_only=None') is deprecated; in a future version this will raise TypeError.  Select only valid columns before calling the reduction.\n",
      "  Win_mean_per_Value=df_Dividend_PreOneDate[df_Dividend_PreOneDate[\"PL%\"]>0].mean()\n",
      "C:\\Users\\markchao\\AppData\\Local\\Temp/ipykernel_23784/3117343331.py:119: FutureWarning: Dropping of nuisance columns in DataFrame reductions (with 'numeric_only=None') is deprecated; in a future version this will raise TypeError.  Select only valid columns before calling the reduction.\n",
      "  Loss_mean_per_Value=df_Dividend_PreOneDate[df_Dividend_PreOneDate[\"PL%\"]<0].mean()\n"
     ]
    },
    {
     "name": "stdout",
     "output_type": "stream",
     "text": [
      "4503.TWO\n"
     ]
    },
    {
     "name": "stderr",
     "output_type": "stream",
     "text": [
      "C:\\Users\\markchao\\AppData\\Local\\Temp/ipykernel_23784/3117343331.py:74: SettingWithCopyWarning: \n",
      "A value is trying to be set on a copy of a slice from a DataFrame.\n",
      "Try using .loc[row_indexer,col_indexer] = value instead\n",
      "\n",
      "See the caveats in the documentation: https://pandas.pydata.org/pandas-docs/stable/user_guide/indexing.html#returning-a-view-versus-a-copy\n",
      "  df_Dividend_PreNDate[\"Dividend_Pre\"+str(N)+\"Date\"]=df_Dividend_PreNDate.index\n",
      "C:\\Users\\markchao\\AppData\\Local\\Temp/ipykernel_23784/3117343331.py:115: FutureWarning: Dropping of nuisance columns in DataFrame reductions (with 'numeric_only=None') is deprecated; in a future version this will raise TypeError.  Select only valid columns before calling the reduction.\n",
      "  Win_mean_per_Value=df_Dividend_PreOneDate[df_Dividend_PreOneDate[\"PL%\"]>0].mean()\n"
     ]
    },
    {
     "name": "stdout",
     "output_type": "stream",
     "text": [
      "3294.TWO\n"
     ]
    },
    {
     "name": "stderr",
     "output_type": "stream",
     "text": [
      "C:\\Users\\markchao\\AppData\\Local\\Temp/ipykernel_23784/3117343331.py:74: SettingWithCopyWarning: \n",
      "A value is trying to be set on a copy of a slice from a DataFrame.\n",
      "Try using .loc[row_indexer,col_indexer] = value instead\n",
      "\n",
      "See the caveats in the documentation: https://pandas.pydata.org/pandas-docs/stable/user_guide/indexing.html#returning-a-view-versus-a-copy\n",
      "  df_Dividend_PreNDate[\"Dividend_Pre\"+str(N)+\"Date\"]=df_Dividend_PreNDate.index\n",
      "C:\\Users\\markchao\\AppData\\Local\\Temp/ipykernel_23784/3117343331.py:115: FutureWarning: Dropping of nuisance columns in DataFrame reductions (with 'numeric_only=None') is deprecated; in a future version this will raise TypeError.  Select only valid columns before calling the reduction.\n",
      "  Win_mean_per_Value=df_Dividend_PreOneDate[df_Dividend_PreOneDate[\"PL%\"]>0].mean()\n",
      "C:\\Users\\markchao\\AppData\\Local\\Temp/ipykernel_23784/3117343331.py:119: FutureWarning: Dropping of nuisance columns in DataFrame reductions (with 'numeric_only=None') is deprecated; in a future version this will raise TypeError.  Select only valid columns before calling the reduction.\n",
      "  Loss_mean_per_Value=df_Dividend_PreOneDate[df_Dividend_PreOneDate[\"PL%\"]<0].mean()\n"
     ]
    },
    {
     "name": "stdout",
     "output_type": "stream",
     "text": [
      "3689.TWO\n"
     ]
    },
    {
     "name": "stderr",
     "output_type": "stream",
     "text": [
      "C:\\Users\\markchao\\AppData\\Local\\Temp/ipykernel_23784/3117343331.py:74: SettingWithCopyWarning: \n",
      "A value is trying to be set on a copy of a slice from a DataFrame.\n",
      "Try using .loc[row_indexer,col_indexer] = value instead\n",
      "\n",
      "See the caveats in the documentation: https://pandas.pydata.org/pandas-docs/stable/user_guide/indexing.html#returning-a-view-versus-a-copy\n",
      "  df_Dividend_PreNDate[\"Dividend_Pre\"+str(N)+\"Date\"]=df_Dividend_PreNDate.index\n",
      "C:\\Users\\markchao\\AppData\\Local\\Temp/ipykernel_23784/3117343331.py:115: FutureWarning: Dropping of nuisance columns in DataFrame reductions (with 'numeric_only=None') is deprecated; in a future version this will raise TypeError.  Select only valid columns before calling the reduction.\n",
      "  Win_mean_per_Value=df_Dividend_PreOneDate[df_Dividend_PreOneDate[\"PL%\"]>0].mean()\n",
      "C:\\Users\\markchao\\AppData\\Local\\Temp/ipykernel_23784/3117343331.py:119: FutureWarning: Dropping of nuisance columns in DataFrame reductions (with 'numeric_only=None') is deprecated; in a future version this will raise TypeError.  Select only valid columns before calling the reduction.\n",
      "  Loss_mean_per_Value=df_Dividend_PreOneDate[df_Dividend_PreOneDate[\"PL%\"]<0].mean()\n"
     ]
    },
    {
     "name": "stdout",
     "output_type": "stream",
     "text": [
      "6189.TW\n"
     ]
    },
    {
     "name": "stderr",
     "output_type": "stream",
     "text": [
      "C:\\Users\\markchao\\AppData\\Local\\Temp/ipykernel_23784/3117343331.py:74: SettingWithCopyWarning: \n",
      "A value is trying to be set on a copy of a slice from a DataFrame.\n",
      "Try using .loc[row_indexer,col_indexer] = value instead\n",
      "\n",
      "See the caveats in the documentation: https://pandas.pydata.org/pandas-docs/stable/user_guide/indexing.html#returning-a-view-versus-a-copy\n",
      "  df_Dividend_PreNDate[\"Dividend_Pre\"+str(N)+\"Date\"]=df_Dividend_PreNDate.index\n",
      "C:\\Users\\markchao\\AppData\\Local\\Temp/ipykernel_23784/3117343331.py:115: FutureWarning: Dropping of nuisance columns in DataFrame reductions (with 'numeric_only=None') is deprecated; in a future version this will raise TypeError.  Select only valid columns before calling the reduction.\n",
      "  Win_mean_per_Value=df_Dividend_PreOneDate[df_Dividend_PreOneDate[\"PL%\"]>0].mean()\n",
      "C:\\Users\\markchao\\AppData\\Local\\Temp/ipykernel_23784/3117343331.py:119: FutureWarning: Dropping of nuisance columns in DataFrame reductions (with 'numeric_only=None') is deprecated; in a future version this will raise TypeError.  Select only valid columns before calling the reduction.\n",
      "  Loss_mean_per_Value=df_Dividend_PreOneDate[df_Dividend_PreOneDate[\"PL%\"]<0].mean()\n"
     ]
    },
    {
     "name": "stdout",
     "output_type": "stream",
     "text": [
      "1808.TW\n"
     ]
    },
    {
     "name": "stderr",
     "output_type": "stream",
     "text": [
      "C:\\Users\\markchao\\AppData\\Local\\Temp/ipykernel_23784/3117343331.py:74: SettingWithCopyWarning: \n",
      "A value is trying to be set on a copy of a slice from a DataFrame.\n",
      "Try using .loc[row_indexer,col_indexer] = value instead\n",
      "\n",
      "See the caveats in the documentation: https://pandas.pydata.org/pandas-docs/stable/user_guide/indexing.html#returning-a-view-versus-a-copy\n",
      "  df_Dividend_PreNDate[\"Dividend_Pre\"+str(N)+\"Date\"]=df_Dividend_PreNDate.index\n",
      "C:\\Users\\markchao\\AppData\\Local\\Temp/ipykernel_23784/3117343331.py:115: FutureWarning: Dropping of nuisance columns in DataFrame reductions (with 'numeric_only=None') is deprecated; in a future version this will raise TypeError.  Select only valid columns before calling the reduction.\n",
      "  Win_mean_per_Value=df_Dividend_PreOneDate[df_Dividend_PreOneDate[\"PL%\"]>0].mean()\n",
      "C:\\Users\\markchao\\AppData\\Local\\Temp/ipykernel_23784/3117343331.py:119: FutureWarning: Dropping of nuisance columns in DataFrame reductions (with 'numeric_only=None') is deprecated; in a future version this will raise TypeError.  Select only valid columns before calling the reduction.\n",
      "  Loss_mean_per_Value=df_Dividend_PreOneDate[df_Dividend_PreOneDate[\"PL%\"]<0].mean()\n"
     ]
    },
    {
     "name": "stdout",
     "output_type": "stream",
     "text": [
      "2476.TW\n"
     ]
    },
    {
     "name": "stderr",
     "output_type": "stream",
     "text": [
      "C:\\Users\\markchao\\AppData\\Local\\Temp/ipykernel_23784/3117343331.py:74: SettingWithCopyWarning: \n",
      "A value is trying to be set on a copy of a slice from a DataFrame.\n",
      "Try using .loc[row_indexer,col_indexer] = value instead\n",
      "\n",
      "See the caveats in the documentation: https://pandas.pydata.org/pandas-docs/stable/user_guide/indexing.html#returning-a-view-versus-a-copy\n",
      "  df_Dividend_PreNDate[\"Dividend_Pre\"+str(N)+\"Date\"]=df_Dividend_PreNDate.index\n",
      "C:\\Users\\markchao\\AppData\\Local\\Temp/ipykernel_23784/3117343331.py:115: FutureWarning: Dropping of nuisance columns in DataFrame reductions (with 'numeric_only=None') is deprecated; in a future version this will raise TypeError.  Select only valid columns before calling the reduction.\n",
      "  Win_mean_per_Value=df_Dividend_PreOneDate[df_Dividend_PreOneDate[\"PL%\"]>0].mean()\n",
      "C:\\Users\\markchao\\AppData\\Local\\Temp/ipykernel_23784/3117343331.py:119: FutureWarning: Dropping of nuisance columns in DataFrame reductions (with 'numeric_only=None') is deprecated; in a future version this will raise TypeError.  Select only valid columns before calling the reduction.\n",
      "  Loss_mean_per_Value=df_Dividend_PreOneDate[df_Dividend_PreOneDate[\"PL%\"]<0].mean()\n"
     ]
    },
    {
     "name": "stdout",
     "output_type": "stream",
     "text": [
      "6197.TW\n"
     ]
    },
    {
     "name": "stderr",
     "output_type": "stream",
     "text": [
      "C:\\Users\\markchao\\AppData\\Local\\Temp/ipykernel_23784/3117343331.py:74: SettingWithCopyWarning: \n",
      "A value is trying to be set on a copy of a slice from a DataFrame.\n",
      "Try using .loc[row_indexer,col_indexer] = value instead\n",
      "\n",
      "See the caveats in the documentation: https://pandas.pydata.org/pandas-docs/stable/user_guide/indexing.html#returning-a-view-versus-a-copy\n",
      "  df_Dividend_PreNDate[\"Dividend_Pre\"+str(N)+\"Date\"]=df_Dividend_PreNDate.index\n",
      "C:\\Users\\markchao\\AppData\\Local\\Temp/ipykernel_23784/3117343331.py:115: FutureWarning: Dropping of nuisance columns in DataFrame reductions (with 'numeric_only=None') is deprecated; in a future version this will raise TypeError.  Select only valid columns before calling the reduction.\n",
      "  Win_mean_per_Value=df_Dividend_PreOneDate[df_Dividend_PreOneDate[\"PL%\"]>0].mean()\n",
      "C:\\Users\\markchao\\AppData\\Local\\Temp/ipykernel_23784/3117343331.py:119: FutureWarning: Dropping of nuisance columns in DataFrame reductions (with 'numeric_only=None') is deprecated; in a future version this will raise TypeError.  Select only valid columns before calling the reduction.\n",
      "  Loss_mean_per_Value=df_Dividend_PreOneDate[df_Dividend_PreOneDate[\"PL%\"]<0].mean()\n"
     ]
    },
    {
     "name": "stdout",
     "output_type": "stream",
     "text": [
      "6684.TWO\n"
     ]
    },
    {
     "name": "stderr",
     "output_type": "stream",
     "text": [
      "C:\\Users\\markchao\\AppData\\Local\\Temp/ipykernel_23784/3117343331.py:74: SettingWithCopyWarning: \n",
      "A value is trying to be set on a copy of a slice from a DataFrame.\n",
      "Try using .loc[row_indexer,col_indexer] = value instead\n",
      "\n",
      "See the caveats in the documentation: https://pandas.pydata.org/pandas-docs/stable/user_guide/indexing.html#returning-a-view-versus-a-copy\n",
      "  df_Dividend_PreNDate[\"Dividend_Pre\"+str(N)+\"Date\"]=df_Dividend_PreNDate.index\n",
      "C:\\Users\\markchao\\AppData\\Local\\Temp/ipykernel_23784/3117343331.py:115: FutureWarning: Dropping of nuisance columns in DataFrame reductions (with 'numeric_only=None') is deprecated; in a future version this will raise TypeError.  Select only valid columns before calling the reduction.\n",
      "  Win_mean_per_Value=df_Dividend_PreOneDate[df_Dividend_PreOneDate[\"PL%\"]>0].mean()\n",
      "C:\\Users\\markchao\\AppData\\Local\\Temp/ipykernel_23784/3117343331.py:119: FutureWarning: Dropping of nuisance columns in DataFrame reductions (with 'numeric_only=None') is deprecated; in a future version this will raise TypeError.  Select only valid columns before calling the reduction.\n",
      "  Loss_mean_per_Value=df_Dividend_PreOneDate[df_Dividend_PreOneDate[\"PL%\"]<0].mean()\n"
     ]
    },
    {
     "name": "stdout",
     "output_type": "stream",
     "text": [
      "6138.TWO\n"
     ]
    },
    {
     "name": "stderr",
     "output_type": "stream",
     "text": [
      "C:\\Users\\markchao\\AppData\\Local\\Temp/ipykernel_23784/3117343331.py:74: SettingWithCopyWarning: \n",
      "A value is trying to be set on a copy of a slice from a DataFrame.\n",
      "Try using .loc[row_indexer,col_indexer] = value instead\n",
      "\n",
      "See the caveats in the documentation: https://pandas.pydata.org/pandas-docs/stable/user_guide/indexing.html#returning-a-view-versus-a-copy\n",
      "  df_Dividend_PreNDate[\"Dividend_Pre\"+str(N)+\"Date\"]=df_Dividend_PreNDate.index\n",
      "C:\\Users\\markchao\\AppData\\Local\\Temp/ipykernel_23784/3117343331.py:115: FutureWarning: Dropping of nuisance columns in DataFrame reductions (with 'numeric_only=None') is deprecated; in a future version this will raise TypeError.  Select only valid columns before calling the reduction.\n",
      "  Win_mean_per_Value=df_Dividend_PreOneDate[df_Dividend_PreOneDate[\"PL%\"]>0].mean()\n",
      "C:\\Users\\markchao\\AppData\\Local\\Temp/ipykernel_23784/3117343331.py:119: FutureWarning: Dropping of nuisance columns in DataFrame reductions (with 'numeric_only=None') is deprecated; in a future version this will raise TypeError.  Select only valid columns before calling the reduction.\n",
      "  Loss_mean_per_Value=df_Dividend_PreOneDate[df_Dividend_PreOneDate[\"PL%\"]<0].mean()\n"
     ]
    },
    {
     "name": "stdout",
     "output_type": "stream",
     "text": [
      "6117.TW\n"
     ]
    },
    {
     "name": "stderr",
     "output_type": "stream",
     "text": [
      "C:\\Users\\markchao\\AppData\\Local\\Temp/ipykernel_23784/3117343331.py:74: SettingWithCopyWarning: \n",
      "A value is trying to be set on a copy of a slice from a DataFrame.\n",
      "Try using .loc[row_indexer,col_indexer] = value instead\n",
      "\n",
      "See the caveats in the documentation: https://pandas.pydata.org/pandas-docs/stable/user_guide/indexing.html#returning-a-view-versus-a-copy\n",
      "  df_Dividend_PreNDate[\"Dividend_Pre\"+str(N)+\"Date\"]=df_Dividend_PreNDate.index\n",
      "C:\\Users\\markchao\\AppData\\Local\\Temp/ipykernel_23784/3117343331.py:115: FutureWarning: Dropping of nuisance columns in DataFrame reductions (with 'numeric_only=None') is deprecated; in a future version this will raise TypeError.  Select only valid columns before calling the reduction.\n",
      "  Win_mean_per_Value=df_Dividend_PreOneDate[df_Dividend_PreOneDate[\"PL%\"]>0].mean()\n",
      "C:\\Users\\markchao\\AppData\\Local\\Temp/ipykernel_23784/3117343331.py:119: FutureWarning: Dropping of nuisance columns in DataFrame reductions (with 'numeric_only=None') is deprecated; in a future version this will raise TypeError.  Select only valid columns before calling the reduction.\n",
      "  Loss_mean_per_Value=df_Dividend_PreOneDate[df_Dividend_PreOneDate[\"PL%\"]<0].mean()\n"
     ]
    },
    {
     "name": "stdout",
     "output_type": "stream",
     "text": [
      "3227.TWO\n"
     ]
    },
    {
     "name": "stderr",
     "output_type": "stream",
     "text": [
      "C:\\Users\\markchao\\AppData\\Local\\Temp/ipykernel_23784/3117343331.py:74: SettingWithCopyWarning: \n",
      "A value is trying to be set on a copy of a slice from a DataFrame.\n",
      "Try using .loc[row_indexer,col_indexer] = value instead\n",
      "\n",
      "See the caveats in the documentation: https://pandas.pydata.org/pandas-docs/stable/user_guide/indexing.html#returning-a-view-versus-a-copy\n",
      "  df_Dividend_PreNDate[\"Dividend_Pre\"+str(N)+\"Date\"]=df_Dividend_PreNDate.index\n",
      "C:\\Users\\markchao\\AppData\\Local\\Temp/ipykernel_23784/3117343331.py:115: FutureWarning: Dropping of nuisance columns in DataFrame reductions (with 'numeric_only=None') is deprecated; in a future version this will raise TypeError.  Select only valid columns before calling the reduction.\n",
      "  Win_mean_per_Value=df_Dividend_PreOneDate[df_Dividend_PreOneDate[\"PL%\"]>0].mean()\n",
      "C:\\Users\\markchao\\AppData\\Local\\Temp/ipykernel_23784/3117343331.py:119: FutureWarning: Dropping of nuisance columns in DataFrame reductions (with 'numeric_only=None') is deprecated; in a future version this will raise TypeError.  Select only valid columns before calling the reduction.\n",
      "  Loss_mean_per_Value=df_Dividend_PreOneDate[df_Dividend_PreOneDate[\"PL%\"]<0].mean()\n"
     ]
    },
    {
     "name": "stdout",
     "output_type": "stream",
     "text": [
      "3006.TW\n"
     ]
    },
    {
     "name": "stderr",
     "output_type": "stream",
     "text": [
      "C:\\Users\\markchao\\AppData\\Local\\Temp/ipykernel_23784/3117343331.py:74: SettingWithCopyWarning: \n",
      "A value is trying to be set on a copy of a slice from a DataFrame.\n",
      "Try using .loc[row_indexer,col_indexer] = value instead\n",
      "\n",
      "See the caveats in the documentation: https://pandas.pydata.org/pandas-docs/stable/user_guide/indexing.html#returning-a-view-versus-a-copy\n",
      "  df_Dividend_PreNDate[\"Dividend_Pre\"+str(N)+\"Date\"]=df_Dividend_PreNDate.index\n",
      "C:\\Users\\markchao\\AppData\\Local\\Temp/ipykernel_23784/3117343331.py:115: FutureWarning: Dropping of nuisance columns in DataFrame reductions (with 'numeric_only=None') is deprecated; in a future version this will raise TypeError.  Select only valid columns before calling the reduction.\n",
      "  Win_mean_per_Value=df_Dividend_PreOneDate[df_Dividend_PreOneDate[\"PL%\"]>0].mean()\n",
      "C:\\Users\\markchao\\AppData\\Local\\Temp/ipykernel_23784/3117343331.py:119: FutureWarning: Dropping of nuisance columns in DataFrame reductions (with 'numeric_only=None') is deprecated; in a future version this will raise TypeError.  Select only valid columns before calling the reduction.\n",
      "  Loss_mean_per_Value=df_Dividend_PreOneDate[df_Dividend_PreOneDate[\"PL%\"]<0].mean()\n"
     ]
    },
    {
     "name": "stdout",
     "output_type": "stream",
     "text": [
      "2809.TW\n"
     ]
    },
    {
     "name": "stderr",
     "output_type": "stream",
     "text": [
      "C:\\Users\\markchao\\AppData\\Local\\Temp/ipykernel_23784/3117343331.py:74: SettingWithCopyWarning: \n",
      "A value is trying to be set on a copy of a slice from a DataFrame.\n",
      "Try using .loc[row_indexer,col_indexer] = value instead\n",
      "\n",
      "See the caveats in the documentation: https://pandas.pydata.org/pandas-docs/stable/user_guide/indexing.html#returning-a-view-versus-a-copy\n",
      "  df_Dividend_PreNDate[\"Dividend_Pre\"+str(N)+\"Date\"]=df_Dividend_PreNDate.index\n",
      "C:\\Users\\markchao\\AppData\\Local\\Temp/ipykernel_23784/3117343331.py:115: FutureWarning: Dropping of nuisance columns in DataFrame reductions (with 'numeric_only=None') is deprecated; in a future version this will raise TypeError.  Select only valid columns before calling the reduction.\n",
      "  Win_mean_per_Value=df_Dividend_PreOneDate[df_Dividend_PreOneDate[\"PL%\"]>0].mean()\n",
      "C:\\Users\\markchao\\AppData\\Local\\Temp/ipykernel_23784/3117343331.py:119: FutureWarning: Dropping of nuisance columns in DataFrame reductions (with 'numeric_only=None') is deprecated; in a future version this will raise TypeError.  Select only valid columns before calling the reduction.\n",
      "  Loss_mean_per_Value=df_Dividend_PreOneDate[df_Dividend_PreOneDate[\"PL%\"]<0].mean()\n"
     ]
    },
    {
     "name": "stdout",
     "output_type": "stream",
     "text": [
      "3265.TWO\n"
     ]
    },
    {
     "name": "stderr",
     "output_type": "stream",
     "text": [
      "C:\\Users\\markchao\\AppData\\Local\\Temp/ipykernel_23784/3117343331.py:74: SettingWithCopyWarning: \n",
      "A value is trying to be set on a copy of a slice from a DataFrame.\n",
      "Try using .loc[row_indexer,col_indexer] = value instead\n",
      "\n",
      "See the caveats in the documentation: https://pandas.pydata.org/pandas-docs/stable/user_guide/indexing.html#returning-a-view-versus-a-copy\n",
      "  df_Dividend_PreNDate[\"Dividend_Pre\"+str(N)+\"Date\"]=df_Dividend_PreNDate.index\n",
      "C:\\Users\\markchao\\AppData\\Local\\Temp/ipykernel_23784/3117343331.py:115: FutureWarning: Dropping of nuisance columns in DataFrame reductions (with 'numeric_only=None') is deprecated; in a future version this will raise TypeError.  Select only valid columns before calling the reduction.\n",
      "  Win_mean_per_Value=df_Dividend_PreOneDate[df_Dividend_PreOneDate[\"PL%\"]>0].mean()\n",
      "C:\\Users\\markchao\\AppData\\Local\\Temp/ipykernel_23784/3117343331.py:119: FutureWarning: Dropping of nuisance columns in DataFrame reductions (with 'numeric_only=None') is deprecated; in a future version this will raise TypeError.  Select only valid columns before calling the reduction.\n",
      "  Loss_mean_per_Value=df_Dividend_PreOneDate[df_Dividend_PreOneDate[\"PL%\"]<0].mean()\n"
     ]
    },
    {
     "name": "stdout",
     "output_type": "stream",
     "text": [
      "2801.TW\n"
     ]
    },
    {
     "name": "stderr",
     "output_type": "stream",
     "text": [
      "C:\\Users\\markchao\\AppData\\Local\\Temp/ipykernel_23784/3117343331.py:74: SettingWithCopyWarning: \n",
      "A value is trying to be set on a copy of a slice from a DataFrame.\n",
      "Try using .loc[row_indexer,col_indexer] = value instead\n",
      "\n",
      "See the caveats in the documentation: https://pandas.pydata.org/pandas-docs/stable/user_guide/indexing.html#returning-a-view-versus-a-copy\n",
      "  df_Dividend_PreNDate[\"Dividend_Pre\"+str(N)+\"Date\"]=df_Dividend_PreNDate.index\n",
      "C:\\Users\\markchao\\AppData\\Local\\Temp/ipykernel_23784/3117343331.py:115: FutureWarning: Dropping of nuisance columns in DataFrame reductions (with 'numeric_only=None') is deprecated; in a future version this will raise TypeError.  Select only valid columns before calling the reduction.\n",
      "  Win_mean_per_Value=df_Dividend_PreOneDate[df_Dividend_PreOneDate[\"PL%\"]>0].mean()\n",
      "C:\\Users\\markchao\\AppData\\Local\\Temp/ipykernel_23784/3117343331.py:119: FutureWarning: Dropping of nuisance columns in DataFrame reductions (with 'numeric_only=None') is deprecated; in a future version this will raise TypeError.  Select only valid columns before calling the reduction.\n",
      "  Loss_mean_per_Value=df_Dividend_PreOneDate[df_Dividend_PreOneDate[\"PL%\"]<0].mean()\n"
     ]
    },
    {
     "name": "stdout",
     "output_type": "stream",
     "text": [
      "2363.TW\n"
     ]
    },
    {
     "name": "stderr",
     "output_type": "stream",
     "text": [
      "C:\\Users\\markchao\\AppData\\Local\\Temp/ipykernel_23784/3117343331.py:74: SettingWithCopyWarning: \n",
      "A value is trying to be set on a copy of a slice from a DataFrame.\n",
      "Try using .loc[row_indexer,col_indexer] = value instead\n",
      "\n",
      "See the caveats in the documentation: https://pandas.pydata.org/pandas-docs/stable/user_guide/indexing.html#returning-a-view-versus-a-copy\n",
      "  df_Dividend_PreNDate[\"Dividend_Pre\"+str(N)+\"Date\"]=df_Dividend_PreNDate.index\n",
      "C:\\Users\\markchao\\AppData\\Local\\Temp/ipykernel_23784/3117343331.py:115: FutureWarning: Dropping of nuisance columns in DataFrame reductions (with 'numeric_only=None') is deprecated; in a future version this will raise TypeError.  Select only valid columns before calling the reduction.\n",
      "  Win_mean_per_Value=df_Dividend_PreOneDate[df_Dividend_PreOneDate[\"PL%\"]>0].mean()\n",
      "C:\\Users\\markchao\\AppData\\Local\\Temp/ipykernel_23784/3117343331.py:119: FutureWarning: Dropping of nuisance columns in DataFrame reductions (with 'numeric_only=None') is deprecated; in a future version this will raise TypeError.  Select only valid columns before calling the reduction.\n",
      "  Loss_mean_per_Value=df_Dividend_PreOneDate[df_Dividend_PreOneDate[\"PL%\"]<0].mean()\n"
     ]
    },
    {
     "name": "stdout",
     "output_type": "stream",
     "text": [
      "3665.TW\n"
     ]
    },
    {
     "name": "stderr",
     "output_type": "stream",
     "text": [
      "C:\\Users\\markchao\\AppData\\Local\\Temp/ipykernel_23784/3117343331.py:74: SettingWithCopyWarning: \n",
      "A value is trying to be set on a copy of a slice from a DataFrame.\n",
      "Try using .loc[row_indexer,col_indexer] = value instead\n",
      "\n",
      "See the caveats in the documentation: https://pandas.pydata.org/pandas-docs/stable/user_guide/indexing.html#returning-a-view-versus-a-copy\n",
      "  df_Dividend_PreNDate[\"Dividend_Pre\"+str(N)+\"Date\"]=df_Dividend_PreNDate.index\n",
      "C:\\Users\\markchao\\AppData\\Local\\Temp/ipykernel_23784/3117343331.py:115: FutureWarning: Dropping of nuisance columns in DataFrame reductions (with 'numeric_only=None') is deprecated; in a future version this will raise TypeError.  Select only valid columns before calling the reduction.\n",
      "  Win_mean_per_Value=df_Dividend_PreOneDate[df_Dividend_PreOneDate[\"PL%\"]>0].mean()\n",
      "C:\\Users\\markchao\\AppData\\Local\\Temp/ipykernel_23784/3117343331.py:119: FutureWarning: Dropping of nuisance columns in DataFrame reductions (with 'numeric_only=None') is deprecated; in a future version this will raise TypeError.  Select only valid columns before calling the reduction.\n",
      "  Loss_mean_per_Value=df_Dividend_PreOneDate[df_Dividend_PreOneDate[\"PL%\"]<0].mean()\n"
     ]
    },
    {
     "name": "stdout",
     "output_type": "stream",
     "text": [
      "2105.TW\n"
     ]
    },
    {
     "name": "stderr",
     "output_type": "stream",
     "text": [
      "C:\\Users\\markchao\\AppData\\Local\\Temp/ipykernel_23784/3117343331.py:74: SettingWithCopyWarning: \n",
      "A value is trying to be set on a copy of a slice from a DataFrame.\n",
      "Try using .loc[row_indexer,col_indexer] = value instead\n",
      "\n",
      "See the caveats in the documentation: https://pandas.pydata.org/pandas-docs/stable/user_guide/indexing.html#returning-a-view-versus-a-copy\n",
      "  df_Dividend_PreNDate[\"Dividend_Pre\"+str(N)+\"Date\"]=df_Dividend_PreNDate.index\n",
      "C:\\Users\\markchao\\AppData\\Local\\Temp/ipykernel_23784/3117343331.py:115: FutureWarning: Dropping of nuisance columns in DataFrame reductions (with 'numeric_only=None') is deprecated; in a future version this will raise TypeError.  Select only valid columns before calling the reduction.\n",
      "  Win_mean_per_Value=df_Dividend_PreOneDate[df_Dividend_PreOneDate[\"PL%\"]>0].mean()\n",
      "C:\\Users\\markchao\\AppData\\Local\\Temp/ipykernel_23784/3117343331.py:119: FutureWarning: Dropping of nuisance columns in DataFrame reductions (with 'numeric_only=None') is deprecated; in a future version this will raise TypeError.  Select only valid columns before calling the reduction.\n",
      "  Loss_mean_per_Value=df_Dividend_PreOneDate[df_Dividend_PreOneDate[\"PL%\"]<0].mean()\n"
     ]
    },
    {
     "name": "stdout",
     "output_type": "stream",
     "text": [
      "3217.TWO\n"
     ]
    },
    {
     "name": "stderr",
     "output_type": "stream",
     "text": [
      "C:\\Users\\markchao\\AppData\\Local\\Temp/ipykernel_23784/3117343331.py:74: SettingWithCopyWarning: \n",
      "A value is trying to be set on a copy of a slice from a DataFrame.\n",
      "Try using .loc[row_indexer,col_indexer] = value instead\n",
      "\n",
      "See the caveats in the documentation: https://pandas.pydata.org/pandas-docs/stable/user_guide/indexing.html#returning-a-view-versus-a-copy\n",
      "  df_Dividend_PreNDate[\"Dividend_Pre\"+str(N)+\"Date\"]=df_Dividend_PreNDate.index\n",
      "C:\\Users\\markchao\\AppData\\Local\\Temp/ipykernel_23784/3117343331.py:115: FutureWarning: Dropping of nuisance columns in DataFrame reductions (with 'numeric_only=None') is deprecated; in a future version this will raise TypeError.  Select only valid columns before calling the reduction.\n",
      "  Win_mean_per_Value=df_Dividend_PreOneDate[df_Dividend_PreOneDate[\"PL%\"]>0].mean()\n",
      "C:\\Users\\markchao\\AppData\\Local\\Temp/ipykernel_23784/3117343331.py:119: FutureWarning: Dropping of nuisance columns in DataFrame reductions (with 'numeric_only=None') is deprecated; in a future version this will raise TypeError.  Select only valid columns before calling the reduction.\n",
      "  Loss_mean_per_Value=df_Dividend_PreOneDate[df_Dividend_PreOneDate[\"PL%\"]<0].mean()\n"
     ]
    },
    {
     "name": "stdout",
     "output_type": "stream",
     "text": [
      "2457.TW\n"
     ]
    },
    {
     "name": "stderr",
     "output_type": "stream",
     "text": [
      "C:\\Users\\markchao\\AppData\\Local\\Temp/ipykernel_23784/3117343331.py:74: SettingWithCopyWarning: \n",
      "A value is trying to be set on a copy of a slice from a DataFrame.\n",
      "Try using .loc[row_indexer,col_indexer] = value instead\n",
      "\n",
      "See the caveats in the documentation: https://pandas.pydata.org/pandas-docs/stable/user_guide/indexing.html#returning-a-view-versus-a-copy\n",
      "  df_Dividend_PreNDate[\"Dividend_Pre\"+str(N)+\"Date\"]=df_Dividend_PreNDate.index\n",
      "C:\\Users\\markchao\\AppData\\Local\\Temp/ipykernel_23784/3117343331.py:115: FutureWarning: Dropping of nuisance columns in DataFrame reductions (with 'numeric_only=None') is deprecated; in a future version this will raise TypeError.  Select only valid columns before calling the reduction.\n",
      "  Win_mean_per_Value=df_Dividend_PreOneDate[df_Dividend_PreOneDate[\"PL%\"]>0].mean()\n",
      "C:\\Users\\markchao\\AppData\\Local\\Temp/ipykernel_23784/3117343331.py:119: FutureWarning: Dropping of nuisance columns in DataFrame reductions (with 'numeric_only=None') is deprecated; in a future version this will raise TypeError.  Select only valid columns before calling the reduction.\n",
      "  Loss_mean_per_Value=df_Dividend_PreOneDate[df_Dividend_PreOneDate[\"PL%\"]<0].mean()\n"
     ]
    },
    {
     "name": "stdout",
     "output_type": "stream",
     "text": [
      "6442.TW\n"
     ]
    },
    {
     "name": "stderr",
     "output_type": "stream",
     "text": [
      "C:\\Users\\markchao\\AppData\\Local\\Temp/ipykernel_23784/3117343331.py:74: SettingWithCopyWarning: \n",
      "A value is trying to be set on a copy of a slice from a DataFrame.\n",
      "Try using .loc[row_indexer,col_indexer] = value instead\n",
      "\n",
      "See the caveats in the documentation: https://pandas.pydata.org/pandas-docs/stable/user_guide/indexing.html#returning-a-view-versus-a-copy\n",
      "  df_Dividend_PreNDate[\"Dividend_Pre\"+str(N)+\"Date\"]=df_Dividend_PreNDate.index\n",
      "C:\\Users\\markchao\\AppData\\Local\\Temp/ipykernel_23784/3117343331.py:115: FutureWarning: Dropping of nuisance columns in DataFrame reductions (with 'numeric_only=None') is deprecated; in a future version this will raise TypeError.  Select only valid columns before calling the reduction.\n",
      "  Win_mean_per_Value=df_Dividend_PreOneDate[df_Dividend_PreOneDate[\"PL%\"]>0].mean()\n",
      "C:\\Users\\markchao\\AppData\\Local\\Temp/ipykernel_23784/3117343331.py:119: FutureWarning: Dropping of nuisance columns in DataFrame reductions (with 'numeric_only=None') is deprecated; in a future version this will raise TypeError.  Select only valid columns before calling the reduction.\n",
      "  Loss_mean_per_Value=df_Dividend_PreOneDate[df_Dividend_PreOneDate[\"PL%\"]<0].mean()\n"
     ]
    },
    {
     "name": "stdout",
     "output_type": "stream",
     "text": [
      "6667.TWO\n"
     ]
    },
    {
     "name": "stderr",
     "output_type": "stream",
     "text": [
      "C:\\Users\\markchao\\AppData\\Local\\Temp/ipykernel_23784/3117343331.py:74: SettingWithCopyWarning: \n",
      "A value is trying to be set on a copy of a slice from a DataFrame.\n",
      "Try using .loc[row_indexer,col_indexer] = value instead\n",
      "\n",
      "See the caveats in the documentation: https://pandas.pydata.org/pandas-docs/stable/user_guide/indexing.html#returning-a-view-versus-a-copy\n",
      "  df_Dividend_PreNDate[\"Dividend_Pre\"+str(N)+\"Date\"]=df_Dividend_PreNDate.index\n",
      "C:\\Users\\markchao\\AppData\\Local\\Temp/ipykernel_23784/3117343331.py:115: FutureWarning: Dropping of nuisance columns in DataFrame reductions (with 'numeric_only=None') is deprecated; in a future version this will raise TypeError.  Select only valid columns before calling the reduction.\n",
      "  Win_mean_per_Value=df_Dividend_PreOneDate[df_Dividend_PreOneDate[\"PL%\"]>0].mean()\n",
      "C:\\Users\\markchao\\AppData\\Local\\Temp/ipykernel_23784/3117343331.py:119: FutureWarning: Dropping of nuisance columns in DataFrame reductions (with 'numeric_only=None') is deprecated; in a future version this will raise TypeError.  Select only valid columns before calling the reduction.\n",
      "  Loss_mean_per_Value=df_Dividend_PreOneDate[df_Dividend_PreOneDate[\"PL%\"]<0].mean()\n"
     ]
    },
    {
     "data": {
      "text/html": [
       "<div>\n",
       "<style scoped>\n",
       "    .dataframe tbody tr th:only-of-type {\n",
       "        vertical-align: middle;\n",
       "    }\n",
       "\n",
       "    .dataframe tbody tr th {\n",
       "        vertical-align: top;\n",
       "    }\n",
       "\n",
       "    .dataframe thead th {\n",
       "        text-align: right;\n",
       "    }\n",
       "</style>\n",
       "<table border=\"1\" class=\"dataframe\">\n",
       "  <thead>\n",
       "    <tr style=\"text-align: right;\">\n",
       "      <th></th>\n",
       "      <th>symbol</th>\n",
       "      <th>DividendYear</th>\n",
       "      <th>GainYear</th>\n",
       "      <th>Win_Prob</th>\n",
       "      <th>Loss_Prob</th>\n",
       "      <th>Win_mean_per</th>\n",
       "      <th>Loss_mean_per</th>\n",
       "      <th>Expected_Value</th>\n",
       "    </tr>\n",
       "  </thead>\n",
       "  <tbody>\n",
       "    <tr>\n",
       "      <th>0</th>\n",
       "      <td>2330</td>\n",
       "      <td>34</td>\n",
       "      <td>20</td>\n",
       "      <td>0.5882</td>\n",
       "      <td>0.3824</td>\n",
       "      <td>0.0500</td>\n",
       "      <td>-0.0446</td>\n",
       "      <td>0.0124</td>\n",
       "    </tr>\n",
       "    <tr>\n",
       "      <th>1</th>\n",
       "      <td>2317</td>\n",
       "      <td>24</td>\n",
       "      <td>18</td>\n",
       "      <td>0.7500</td>\n",
       "      <td>0.2500</td>\n",
       "      <td>0.0625</td>\n",
       "      <td>-0.0610</td>\n",
       "      <td>0.0316</td>\n",
       "    </tr>\n",
       "    <tr>\n",
       "      <th>2</th>\n",
       "      <td>2603</td>\n",
       "      <td>11</td>\n",
       "      <td>2</td>\n",
       "      <td>0.1818</td>\n",
       "      <td>0.8182</td>\n",
       "      <td>0.0394</td>\n",
       "      <td>-0.0815</td>\n",
       "      <td>-0.0595</td>\n",
       "    </tr>\n",
       "    <tr>\n",
       "      <th>3</th>\n",
       "      <td>3661</td>\n",
       "      <td>9</td>\n",
       "      <td>5</td>\n",
       "      <td>0.5556</td>\n",
       "      <td>0.4444</td>\n",
       "      <td>0.1850</td>\n",
       "      <td>-0.0969</td>\n",
       "      <td>0.0597</td>\n",
       "    </tr>\n",
       "    <tr>\n",
       "      <th>4</th>\n",
       "      <td>2382</td>\n",
       "      <td>19</td>\n",
       "      <td>14</td>\n",
       "      <td>0.7368</td>\n",
       "      <td>0.2632</td>\n",
       "      <td>0.0625</td>\n",
       "      <td>-0.0279</td>\n",
       "      <td>0.0387</td>\n",
       "    </tr>\n",
       "    <tr>\n",
       "      <th>...</th>\n",
       "      <td>...</td>\n",
       "      <td>...</td>\n",
       "      <td>...</td>\n",
       "      <td>...</td>\n",
       "      <td>...</td>\n",
       "      <td>...</td>\n",
       "      <td>...</td>\n",
       "      <td>...</td>\n",
       "    </tr>\n",
       "    <tr>\n",
       "      <th>290</th>\n",
       "      <td>2105</td>\n",
       "      <td>17</td>\n",
       "      <td>13</td>\n",
       "      <td>0.7647</td>\n",
       "      <td>0.2353</td>\n",
       "      <td>0.0774</td>\n",
       "      <td>-0.0405</td>\n",
       "      <td>0.0497</td>\n",
       "    </tr>\n",
       "    <tr>\n",
       "      <th>291</th>\n",
       "      <td>3217</td>\n",
       "      <td>12</td>\n",
       "      <td>8</td>\n",
       "      <td>0.6667</td>\n",
       "      <td>0.3333</td>\n",
       "      <td>0.0549</td>\n",
       "      <td>-0.0472</td>\n",
       "      <td>0.0209</td>\n",
       "    </tr>\n",
       "    <tr>\n",
       "      <th>292</th>\n",
       "      <td>2457</td>\n",
       "      <td>10</td>\n",
       "      <td>6</td>\n",
       "      <td>0.6000</td>\n",
       "      <td>0.3000</td>\n",
       "      <td>0.0876</td>\n",
       "      <td>-0.0737</td>\n",
       "      <td>0.0304</td>\n",
       "    </tr>\n",
       "    <tr>\n",
       "      <th>293</th>\n",
       "      <td>6442</td>\n",
       "      <td>7</td>\n",
       "      <td>5</td>\n",
       "      <td>0.7143</td>\n",
       "      <td>0.2857</td>\n",
       "      <td>0.1302</td>\n",
       "      <td>-0.0211</td>\n",
       "      <td>0.0870</td>\n",
       "    </tr>\n",
       "    <tr>\n",
       "      <th>294</th>\n",
       "      <td>6667</td>\n",
       "      <td>7</td>\n",
       "      <td>6</td>\n",
       "      <td>0.8571</td>\n",
       "      <td>0.1429</td>\n",
       "      <td>0.0570</td>\n",
       "      <td>-0.2168</td>\n",
       "      <td>0.0179</td>\n",
       "    </tr>\n",
       "  </tbody>\n",
       "</table>\n",
       "<p>295 rows × 8 columns</p>\n",
       "</div>"
      ],
      "text/plain": [
       "     symbol  DividendYear  GainYear  Win_Prob  Loss_Prob  Win_mean_per  \\\n",
       "0      2330            34        20    0.5882     0.3824        0.0500   \n",
       "1      2317            24        18    0.7500     0.2500        0.0625   \n",
       "2      2603            11         2    0.1818     0.8182        0.0394   \n",
       "3      3661             9         5    0.5556     0.4444        0.1850   \n",
       "4      2382            19        14    0.7368     0.2632        0.0625   \n",
       "..      ...           ...       ...       ...        ...           ...   \n",
       "290    2105            17        13    0.7647     0.2353        0.0774   \n",
       "291    3217            12         8    0.6667     0.3333        0.0549   \n",
       "292    2457            10         6    0.6000     0.3000        0.0876   \n",
       "293    6442             7         5    0.7143     0.2857        0.1302   \n",
       "294    6667             7         6    0.8571     0.1429        0.0570   \n",
       "\n",
       "     Loss_mean_per  Expected_Value  \n",
       "0          -0.0446          0.0124  \n",
       "1          -0.0610          0.0316  \n",
       "2          -0.0815         -0.0595  \n",
       "3          -0.0969          0.0597  \n",
       "4          -0.0279          0.0387  \n",
       "..             ...             ...  \n",
       "290        -0.0405          0.0497  \n",
       "291        -0.0472          0.0209  \n",
       "292        -0.0737          0.0304  \n",
       "293        -0.0211          0.0870  \n",
       "294        -0.2168          0.0179  \n",
       "\n",
       "[295 rows x 8 columns]"
      ]
     },
     "execution_count": 45,
     "metadata": {},
     "output_type": "execute_result"
    }
   ],
   "source": [
    "import yfinance as yf\n",
    "import numpy as np\n",
    "import pandas as pd\n",
    "import matplotlib.pyplot as plt\n",
    "import datetime\n",
    "from dateutil.relativedelta import relativedelta\n",
    "\n",
    "#設定除息前N天參數\n",
    "\n",
    "N=14#除息前14天\n",
    "\"\"\"\n",
    "#100大權值股\n",
    "symbols=['2317.TW', '2454.TW', '2382.TW', '2412.TW', '2881.TW', '2308.TW', '2882.TW', '2891.TW',\n",
    "         '3711.TW', '2303.TW', '6505.TW', '2886.TW', '6669.TW', '2603.TW', '1216.TW', '2884.TW', '1301.TW',\n",
    "         '1303.TW', '2885.TW', '3045.TW', '2357.TW', '5880.TW', '2892.TW', '2002.TW', '3034.TW', '2880.TW',\n",
    "         '2207.TW', '3231.TW', '1326.TW', '2395.TW', '4904.TW', '3008.TW', '3037.TW', '2345.TW', '2890.TW',\n",
    "         '4938.TW', '2912.TW', '2327.TW', '2379.TW', '3017.TW', '2301.TW', '1101.TW', '2609.TW', '5871.TW', \n",
    "         '2883.TW', '2887.TW', '5876.TW', '1590.TW', '3661.TW', '2615.TW', '2376.TW', '2801.TW', '2408.TW',\n",
    "         '2356.TW', '3443.TW', '3533.TW', '2618.TW', '2105.TW', '1519.TW', '6415.TW', '1402.TW', '2353.TW',\n",
    "         '2324.TW', '2377.TW', '1102.TW', '6409.TW', '2474.TW', '9910.TW', '1605.TW', '2383.TW', '3702.TW',\n",
    "         '2385.TW', '2409.TW', '3653.TW', '2347.TW', '2834.TW', '2888.TW', '5269.TW', '2610.TW', '1476.TW',\n",
    "         '6239.TW', '3036.TW', '2371.TW', '3481.TW', '6526.TW', '6446.TW', '1503.TW', '9945.TW', '2059.TW',\n",
    "         '8046.TW', '2360.TW', '3044.TW', '1504.TW', '4958.TW', '9904.TW', '2449.TW', '2344.TW', '8464.TW',\n",
    "         '1229.TW']\n",
    "\"\"\"\n",
    "#抓取300大權值股\n",
    "\n",
    "df=pd.read_csv(\"C://download//T300Value.csv\",encoding=\"big5\")\n",
    "df=df.dropna()\n",
    "print(df.head(10))\n",
    "print(df.tail())\n",
    "symbols=df[\"symbol\"].tolist()\n",
    "print(symbols)\n",
    "print(symbols[0])\n",
    "print(type(symbols[0]))\n",
    "exchanges=df[\"exchange\"].tolist()\n",
    "print(exchanges)\n",
    "newsymbols=df[\"newsymbol\"].tolist()\n",
    "print(newsymbols)\n",
    "\n",
    "\n",
    "DividendYear=[]\n",
    "GainYear=[]\n",
    "Win_Prob=[]\n",
    "Loss_Prob=[]\n",
    "Win_mean_per=[]\n",
    "Loss_mean_per=[]\n",
    "Expected=[]\n",
    "\n",
    "#symbol = \"3131.TWO\"\n",
    "for symbol in newsymbols:\n",
    "    print(symbol)\n",
    "    # 使用 yfinance 獲取股票信息\n",
    "    stock = yf.Ticker(symbol)\n",
    "    # 獲取股票的歷史股利信息\n",
    "    dividends = stock.dividends\n",
    "    dividends.index=pd.to_datetime(dividends.index).strftime(\"%Y/%m/%d\")\n",
    "    dic={\"Date\":dividends.index,\"Dividend\":dividends.values}\n",
    "    dividends=pd.DataFrame(dic)\n",
    "    dividends.set_index(\"Date\",inplace=True)\n",
    "    dividends[\"Dividend_Date\"]=dividends.index\n",
    "    #dividends[\"Dividend_PreDate\"]=pd.to_datetime(dividends.index) - pd.Timedelta(days=N)#除息前五天的日期\n",
    "    dividends[\"Dividend_PreOneDate\"]=pd.to_datetime(dividends.index)-pd.offsets.BDay(1)#除息前一個交易的日期\n",
    "    dividends[\"Dividend_PreOneDate\"] = dividends[\"Dividend_PreOneDate\"].dt.strftime(\"%Y/%m/%d\")\n",
    "    dividends[\"Dividend_Pre\"+str(N)+\"Date\"]=pd.to_datetime(dividends.index)-pd.offsets.BDay(N)#除息前五個交易的日期\n",
    "    dividends[\"Dividend_Pre\"+str(N)+\"Date\"] = dividends[\"Dividend_Pre\"+str(N)+\"Date\"].dt.strftime(\"%Y/%m/%d\")\n",
    "    #print(dividends)\n",
    "    df_Dividend_PreOneDate=dividends[[\"Dividend_PreOneDate\",\"Dividend_Date\"]]\n",
    "    df_Dividend_PreOneDate.set_index(\"Dividend_PreOneDate\",inplace=True)\n",
    "    #print(\"df_Dividend_PreOneDate=\\n\",df_Dividend_PreOneDate)\n",
    "\n",
    "    df_Dividend_PreNDate=dividends[[\"Dividend_PreOneDate\",\"Dividend_Pre\"+str(N)+\"Date\"]]\n",
    "    df_Dividend_PreNDate.set_index(\"Dividend_Pre\"+str(N)+\"Date\",inplace=True)\n",
    "    df_Dividend_PreNDate[\"Dividend_Pre\"+str(N)+\"Date\"]=df_Dividend_PreNDate.index\n",
    "    #print(\"df_Dividend_PreNDate=\\n\",df_Dividend_PreNDate)\n",
    "\n",
    "\n",
    "    df=pd.read_csv(\"C://download//\"+symbol+\".csv\",index_col=\"Date\",usecols=[\"Date\",\"Close\"]).rename(columns={\"Close\":symbol})\n",
    "    df.index=pd.to_datetime(df.index).strftime(\"%Y/%m/%d\")\n",
    "\n",
    "    df_Dividend_PreOneDate=df_Dividend_PreOneDate.join(df).dropna()\n",
    "    df_Dividend_PreOneDate=df_Dividend_PreOneDate.rename(columns={symbol:symbol+\"PreOneDay\"})\n",
    "    #print(df_Dividend_PreOneDate)\n",
    "    df_Dividend_PreNDate=df_Dividend_PreNDate.join(df).dropna()\n",
    "    df_Dividend_PreNDate=df_Dividend_PreNDate.rename(columns={symbol:symbol+\"Pre\"+str(N)+\"Day\"})\n",
    "    #print(df_Dividend_PreNDate)\n",
    "    df_Dividend_PreNDate.set_index(\"Dividend_PreOneDate\",inplace=True)\n",
    "    #print(df_Dividend_PreNDate)\n",
    "    \n",
    "    df_Dividend_PreOneDate=df_Dividend_PreOneDate.join(df_Dividend_PreNDate).dropna()\n",
    "    \n",
    "    #計算賺賠金額\n",
    "    df_Dividend_PreOneDate[\"PL\"]=df_Dividend_PreOneDate[symbol+\"PreOneDay\"]-df_Dividend_PreOneDate[symbol+\"Pre\"+str(N)+\"Day\"]\n",
    "    #計算賺賠%\n",
    "    df_Dividend_PreOneDate[\"PL%\"]=(df_Dividend_PreOneDate[symbol+\"PreOneDay\"]-df_Dividend_PreOneDate[symbol+\"Pre\"+str(N)+\"Day\"])/df_Dividend_PreOneDate[symbol+\"Pre\"+str(N)+\"Day\"]\n",
    "    #計算賺錢的訊號\n",
    "    df_Dividend_PreOneDate[\"PL>0\"]=np.where(df_Dividend_PreOneDate[\"PL\"]>0,1,0)\n",
    "\n",
    "\n",
    "    #print(\"df_Dividend_PreOneDate\")\n",
    "    #print(df_Dividend_PreOneDate)\n",
    "\n",
    "    #計算勝率\n",
    "    Win_Prob_Value=df_Dividend_PreOneDate[[\"PL%\"]][df_Dividend_PreOneDate[\"PL%\"]>0].count()/len(df_Dividend_PreOneDate.index)\n",
    "    Win_Prob_Value=round(Win_Prob_Value.values[0],4)\n",
    "   \n",
    "    #print(type(Win_Prob_Value))\n",
    "    #print(\"Win_Prob=\\n\",Win_Prob_Value)\n",
    "    #計算賠率\n",
    "    Loss_Prob_Value=df_Dividend_PreOneDate[[\"PL%\"]][df_Dividend_PreOneDate[\"PL%\"]<0].count()/len(df_Dividend_PreOneDate.index)\n",
    "    Loss_Prob_Value=round(Loss_Prob_Value.values[0],4)\n",
    "    #print(\"Loss_Prob=\\n\",Loss_Prob_Value)\n",
    "    #Win_mean_per_Value=df_Dividend_PreOneDate[df_Dividend_PreOneDate[\"PL%\"]>0].mean()\n",
    "    #計算平均賺錢百分比\n",
    "    Win_mean_per_Value=df_Dividend_PreOneDate[df_Dividend_PreOneDate[\"PL%\"]>0].mean()\n",
    "    Win_mean_per_Value=round(Win_mean_per_Value[\"PL%\"],4)\n",
    "    #print(\"Win_mean_per=\\n\",Win_mean_per_Value)\n",
    "    #計算平均賠錢百分比\n",
    "    Loss_mean_per_Value=df_Dividend_PreOneDate[df_Dividend_PreOneDate[\"PL%\"]<0].mean()\n",
    "    Loss_mean_per_Value=round(Loss_mean_per_Value[\"PL%\"],4)\n",
    "    #print(\"Loss_mean_per=\\n\",Loss_mean_per_Value)\n",
    "    #\n",
    "    Expected_Value=Win_Prob_Value*Win_mean_per_Value+Loss_Prob_Value*Loss_mean_per_Value\n",
    "    Expected_Value=round(Expected_Value,4)\n",
    "    #print(\"Expected_Value=\\n\",Expected_Value)\n",
    "    #print(\"df_Dividend_PreOneDate\\n\",df_Dividend_PreOneDate)\n",
    "    \n",
    "    #append Value\n",
    "    DividendYear.append(len(df_Dividend_PreOneDate.index))\n",
    "    GainYear.append(df_Dividend_PreOneDate[\"PL>0\"].sum(axis=0))\n",
    "    \n",
    "    Win_Prob.append(Win_Prob_Value)\n",
    "    Loss_Prob.append(Loss_Prob_Value)\n",
    "    Win_mean_per.append(Win_mean_per_Value)\n",
    "    Loss_mean_per.append(Loss_mean_per_Value)\n",
    "    Expected.append(Expected_Value)\n",
    "dic={\"symbol\":symbols,\"DividendYear\":DividendYear,\"GainYear\":GainYear,\"Win_Prob\":Win_Prob,\"Loss_Prob\":Loss_Prob,\n",
    "     \"Win_mean_per\":Win_mean_per,\"Loss_mean_per\":Loss_mean_per,\"Expected_Value\":Expected}   \n",
    "df=pd.DataFrame(dic)\n",
    "df\n"
   ]
  },
  {
   "cell_type": "code",
   "execution_count": 47,
   "id": "3a719e53",
   "metadata": {
    "scrolled": false
   },
   "outputs": [
    {
     "name": "stdout",
     "output_type": "stream",
     "text": [
      "300大權值股歷史上除息前14天會上漲的機率\n",
      "Step1:先篩掉期望值<0的股票\n",
      "Step2:以勝率(Win_Prob)排序，畢竟勝率高才有信心\n",
      "Step3:再以平均賺(Win_mean_per)排序\n",
      "Step4:停損設定為平均賠的一半，控制賺賠比為2:1\n"
     ]
    },
    {
     "data": {
      "text/html": [
       "<style type=\"text/css\">\n",
       "</style>\n",
       "<table id=\"T_434f9_\">\n",
       "  <thead>\n",
       "    <tr>\n",
       "      <th class=\"blank level0\" >&nbsp;</th>\n",
       "      <th class=\"col_heading level0 col0\" >symbol</th>\n",
       "      <th class=\"col_heading level0 col1\" >DividendYear</th>\n",
       "      <th class=\"col_heading level0 col2\" >GainYear</th>\n",
       "      <th class=\"col_heading level0 col3\" >Win_Prob</th>\n",
       "      <th class=\"col_heading level0 col4\" >Loss_Prob</th>\n",
       "      <th class=\"col_heading level0 col5\" >Win_mean_per</th>\n",
       "      <th class=\"col_heading level0 col6\" >Loss_mean_per</th>\n",
       "      <th class=\"col_heading level0 col7\" >Expected_Value</th>\n",
       "      <th class=\"col_heading level0 col8\" >WinLossRatio</th>\n",
       "    </tr>\n",
       "  </thead>\n",
       "  <tbody>\n",
       "    <tr>\n",
       "      <th id=\"T_434f9_level0_row0\" class=\"row_heading level0 row0\" >30</th>\n",
       "      <td id=\"T_434f9_row0_col0\" class=\"data row0 col0\" >2385</td>\n",
       "      <td id=\"T_434f9_row0_col1\" class=\"data row0 col1\" >19</td>\n",
       "      <td id=\"T_434f9_row0_col2\" class=\"data row0 col2\" >17</td>\n",
       "      <td id=\"T_434f9_row0_col3\" class=\"data row0 col3\" >89.47%</td>\n",
       "      <td id=\"T_434f9_row0_col4\" class=\"data row0 col4\" >10.53%</td>\n",
       "      <td id=\"T_434f9_row0_col5\" class=\"data row0 col5\" >6.79%</td>\n",
       "      <td id=\"T_434f9_row0_col6\" class=\"data row0 col6\" >-4.86%</td>\n",
       "      <td id=\"T_434f9_row0_col7\" class=\"data row0 col7\" >5.56%</td>\n",
       "      <td id=\"T_434f9_row0_col8\" class=\"data row0 col8\" >1.400000</td>\n",
       "    </tr>\n",
       "    <tr>\n",
       "      <th id=\"T_434f9_level0_row1\" class=\"row_heading level0 row1\" >53</th>\n",
       "      <td id=\"T_434f9_row1_col0\" class=\"data row1 col0\" >1504</td>\n",
       "      <td id=\"T_434f9_row1_col1\" class=\"data row1 col1\" >19</td>\n",
       "      <td id=\"T_434f9_row1_col2\" class=\"data row1 col2\" >17</td>\n",
       "      <td id=\"T_434f9_row1_col3\" class=\"data row1 col3\" >89.47%</td>\n",
       "      <td id=\"T_434f9_row1_col4\" class=\"data row1 col4\" >10.53%</td>\n",
       "      <td id=\"T_434f9_row1_col5\" class=\"data row1 col5\" >2.89%</td>\n",
       "      <td id=\"T_434f9_row1_col6\" class=\"data row1 col6\" >-11.66%</td>\n",
       "      <td id=\"T_434f9_row1_col7\" class=\"data row1 col7\" >1.36%</td>\n",
       "      <td id=\"T_434f9_row1_col8\" class=\"data row1 col8\" >0.250000</td>\n",
       "    </tr>\n",
       "    <tr>\n",
       "      <th id=\"T_434f9_level0_row2\" class=\"row_heading level0 row2\" >294</th>\n",
       "      <td id=\"T_434f9_row2_col0\" class=\"data row2 col0\" >6667</td>\n",
       "      <td id=\"T_434f9_row2_col1\" class=\"data row2 col1\" >7</td>\n",
       "      <td id=\"T_434f9_row2_col2\" class=\"data row2 col2\" >6</td>\n",
       "      <td id=\"T_434f9_row2_col3\" class=\"data row2 col3\" >85.71%</td>\n",
       "      <td id=\"T_434f9_row2_col4\" class=\"data row2 col4\" >14.29%</td>\n",
       "      <td id=\"T_434f9_row2_col5\" class=\"data row2 col5\" >5.70%</td>\n",
       "      <td id=\"T_434f9_row2_col6\" class=\"data row2 col6\" >-21.68%</td>\n",
       "      <td id=\"T_434f9_row2_col7\" class=\"data row2 col7\" >1.79%</td>\n",
       "      <td id=\"T_434f9_row2_col8\" class=\"data row2 col8\" >0.260000</td>\n",
       "    </tr>\n",
       "    <tr>\n",
       "      <th id=\"T_434f9_level0_row3\" class=\"row_heading level0 row3\" >160</th>\n",
       "      <td id=\"T_434f9_row3_col0\" class=\"data row3 col0\" >5871</td>\n",
       "      <td id=\"T_434f9_row3_col1\" class=\"data row3 col1\" >13</td>\n",
       "      <td id=\"T_434f9_row3_col2\" class=\"data row3 col2\" >11</td>\n",
       "      <td id=\"T_434f9_row3_col3\" class=\"data row3 col3\" >84.62%</td>\n",
       "      <td id=\"T_434f9_row3_col4\" class=\"data row3 col4\" >15.38%</td>\n",
       "      <td id=\"T_434f9_row3_col5\" class=\"data row3 col5\" >5.14%</td>\n",
       "      <td id=\"T_434f9_row3_col6\" class=\"data row3 col6\" >-13.78%</td>\n",
       "      <td id=\"T_434f9_row3_col7\" class=\"data row3 col7\" >2.23%</td>\n",
       "      <td id=\"T_434f9_row3_col8\" class=\"data row3 col8\" >0.370000</td>\n",
       "    </tr>\n",
       "    <tr>\n",
       "      <th id=\"T_434f9_level0_row4\" class=\"row_heading level0 row4\" >285</th>\n",
       "      <td id=\"T_434f9_row4_col0\" class=\"data row4 col0\" >2809</td>\n",
       "      <td id=\"T_434f9_row4_col1\" class=\"data row4 col1\" >13</td>\n",
       "      <td id=\"T_434f9_row4_col2\" class=\"data row4 col2\" >11</td>\n",
       "      <td id=\"T_434f9_row4_col3\" class=\"data row4 col3\" >84.62%</td>\n",
       "      <td id=\"T_434f9_row4_col4\" class=\"data row4 col4\" >15.38%</td>\n",
       "      <td id=\"T_434f9_row4_col5\" class=\"data row4 col5\" >4.80%</td>\n",
       "      <td id=\"T_434f9_row4_col6\" class=\"data row4 col6\" >-5.71%</td>\n",
       "      <td id=\"T_434f9_row4_col7\" class=\"data row4 col7\" >3.18%</td>\n",
       "      <td id=\"T_434f9_row4_col8\" class=\"data row4 col8\" >0.840000</td>\n",
       "    </tr>\n",
       "    <tr>\n",
       "      <th id=\"T_434f9_level0_row5\" class=\"row_heading level0 row5\" >124</th>\n",
       "      <td id=\"T_434f9_row5_col0\" class=\"data row5 col0\" >6146</td>\n",
       "      <td id=\"T_434f9_row5_col1\" class=\"data row5 col1\" >17</td>\n",
       "      <td id=\"T_434f9_row5_col2\" class=\"data row5 col2\" >14</td>\n",
       "      <td id=\"T_434f9_row5_col3\" class=\"data row5 col3\" >82.35%</td>\n",
       "      <td id=\"T_434f9_row5_col4\" class=\"data row5 col4\" >17.65%</td>\n",
       "      <td id=\"T_434f9_row5_col5\" class=\"data row5 col5\" >4.33%</td>\n",
       "      <td id=\"T_434f9_row5_col6\" class=\"data row5 col6\" >-3.69%</td>\n",
       "      <td id=\"T_434f9_row5_col7\" class=\"data row5 col7\" >2.91%</td>\n",
       "      <td id=\"T_434f9_row5_col8\" class=\"data row5 col8\" >1.170000</td>\n",
       "    </tr>\n",
       "    <tr>\n",
       "      <th id=\"T_434f9_level0_row6\" class=\"row_heading level0 row6\" >236</th>\n",
       "      <td id=\"T_434f9_row6_col0\" class=\"data row6 col0\" >2031</td>\n",
       "      <td id=\"T_434f9_row6_col1\" class=\"data row6 col1\" >16</td>\n",
       "      <td id=\"T_434f9_row6_col2\" class=\"data row6 col2\" >13</td>\n",
       "      <td id=\"T_434f9_row6_col3\" class=\"data row6 col3\" >81.25%</td>\n",
       "      <td id=\"T_434f9_row6_col4\" class=\"data row6 col4\" >18.75%</td>\n",
       "      <td id=\"T_434f9_row6_col5\" class=\"data row6 col5\" >6.14%</td>\n",
       "      <td id=\"T_434f9_row6_col6\" class=\"data row6 col6\" >-6.25%</td>\n",
       "      <td id=\"T_434f9_row6_col7\" class=\"data row6 col7\" >3.82%</td>\n",
       "      <td id=\"T_434f9_row6_col8\" class=\"data row6 col8\" >0.980000</td>\n",
       "    </tr>\n",
       "    <tr>\n",
       "      <th id=\"T_434f9_level0_row7\" class=\"row_heading level0 row7\" >111</th>\n",
       "      <td id=\"T_434f9_row7_col0\" class=\"data row7 col0\" >2883</td>\n",
       "      <td id=\"T_434f9_row7_col1\" class=\"data row7 col1\" >16</td>\n",
       "      <td id=\"T_434f9_row7_col2\" class=\"data row7 col2\" >13</td>\n",
       "      <td id=\"T_434f9_row7_col3\" class=\"data row7 col3\" >81.25%</td>\n",
       "      <td id=\"T_434f9_row7_col4\" class=\"data row7 col4\" >18.75%</td>\n",
       "      <td id=\"T_434f9_row7_col5\" class=\"data row7 col5\" >3.67%</td>\n",
       "      <td id=\"T_434f9_row7_col6\" class=\"data row7 col6\" >-5.18%</td>\n",
       "      <td id=\"T_434f9_row7_col7\" class=\"data row7 col7\" >2.01%</td>\n",
       "      <td id=\"T_434f9_row7_col8\" class=\"data row7 col8\" >0.710000</td>\n",
       "    </tr>\n",
       "    <tr>\n",
       "      <th id=\"T_434f9_level0_row8\" class=\"row_heading level0 row8\" >254</th>\n",
       "      <td id=\"T_434f9_row8_col0\" class=\"data row8 col0\" >9945</td>\n",
       "      <td id=\"T_434f9_row8_col1\" class=\"data row8 col1\" >15</td>\n",
       "      <td id=\"T_434f9_row8_col2\" class=\"data row8 col2\" >12</td>\n",
       "      <td id=\"T_434f9_row8_col3\" class=\"data row8 col3\" >80.00%</td>\n",
       "      <td id=\"T_434f9_row8_col4\" class=\"data row8 col4\" >20.00%</td>\n",
       "      <td id=\"T_434f9_row8_col5\" class=\"data row8 col5\" >9.48%</td>\n",
       "      <td id=\"T_434f9_row8_col6\" class=\"data row8 col6\" >-6.03%</td>\n",
       "      <td id=\"T_434f9_row8_col7\" class=\"data row8 col7\" >6.38%</td>\n",
       "      <td id=\"T_434f9_row8_col8\" class=\"data row8 col8\" >1.570000</td>\n",
       "    </tr>\n",
       "    <tr>\n",
       "      <th id=\"T_434f9_level0_row9\" class=\"row_heading level0 row9\" >23</th>\n",
       "      <td id=\"T_434f9_row9_col0\" class=\"data row9 col0\" >2308</td>\n",
       "      <td id=\"T_434f9_row9_col1\" class=\"data row9 col1\" >19</td>\n",
       "      <td id=\"T_434f9_row9_col2\" class=\"data row9 col2\" >15</td>\n",
       "      <td id=\"T_434f9_row9_col3\" class=\"data row9 col3\" >78.95%</td>\n",
       "      <td id=\"T_434f9_row9_col4\" class=\"data row9 col4\" >21.05%</td>\n",
       "      <td id=\"T_434f9_row9_col5\" class=\"data row9 col5\" >4.27%</td>\n",
       "      <td id=\"T_434f9_row9_col6\" class=\"data row9 col6\" >-2.69%</td>\n",
       "      <td id=\"T_434f9_row9_col7\" class=\"data row9 col7\" >2.80%</td>\n",
       "      <td id=\"T_434f9_row9_col8\" class=\"data row9 col8\" >1.590000</td>\n",
       "    </tr>\n",
       "    <tr>\n",
       "      <th id=\"T_434f9_level0_row10\" class=\"row_heading level0 row10\" >65</th>\n",
       "      <td id=\"T_434f9_row10_col0\" class=\"data row10 col0\" >3131</td>\n",
       "      <td id=\"T_434f9_row10_col1\" class=\"data row10 col1\" >14</td>\n",
       "      <td id=\"T_434f9_row10_col2\" class=\"data row10 col2\" >11</td>\n",
       "      <td id=\"T_434f9_row10_col3\" class=\"data row10 col3\" >78.57%</td>\n",
       "      <td id=\"T_434f9_row10_col4\" class=\"data row10 col4\" >21.43%</td>\n",
       "      <td id=\"T_434f9_row10_col5\" class=\"data row10 col5\" >10.21%</td>\n",
       "      <td id=\"T_434f9_row10_col6\" class=\"data row10 col6\" >-1.78%</td>\n",
       "      <td id=\"T_434f9_row10_col7\" class=\"data row10 col7\" >7.64%</td>\n",
       "      <td id=\"T_434f9_row10_col8\" class=\"data row10 col8\" >5.740000</td>\n",
       "    </tr>\n",
       "    <tr>\n",
       "      <th id=\"T_434f9_level0_row11\" class=\"row_heading level0 row11\" >57</th>\n",
       "      <td id=\"T_434f9_row11_col0\" class=\"data row11 col0\" >3264</td>\n",
       "      <td id=\"T_434f9_row11_col1\" class=\"data row11 col1\" >14</td>\n",
       "      <td id=\"T_434f9_row11_col2\" class=\"data row11 col2\" >11</td>\n",
       "      <td id=\"T_434f9_row11_col3\" class=\"data row11 col3\" >78.57%</td>\n",
       "      <td id=\"T_434f9_row11_col4\" class=\"data row11 col4\" >21.43%</td>\n",
       "      <td id=\"T_434f9_row11_col5\" class=\"data row11 col5\" >4.96%</td>\n",
       "      <td id=\"T_434f9_row11_col6\" class=\"data row11 col6\" >-6.46%</td>\n",
       "      <td id=\"T_434f9_row11_col7\" class=\"data row11 col7\" >2.51%</td>\n",
       "      <td id=\"T_434f9_row11_col8\" class=\"data row11 col8\" >0.770000</td>\n",
       "    </tr>\n",
       "    <tr>\n",
       "      <th id=\"T_434f9_level0_row12\" class=\"row_heading level0 row12\" >216</th>\n",
       "      <td id=\"T_434f9_row12_col0\" class=\"data row12 col0\" >3045</td>\n",
       "      <td id=\"T_434f9_row12_col1\" class=\"data row12 col1\" >18</td>\n",
       "      <td id=\"T_434f9_row12_col2\" class=\"data row12 col2\" >14</td>\n",
       "      <td id=\"T_434f9_row12_col3\" class=\"data row12 col3\" >77.78%</td>\n",
       "      <td id=\"T_434f9_row12_col4\" class=\"data row12 col4\" >22.22%</td>\n",
       "      <td id=\"T_434f9_row12_col5\" class=\"data row12 col5\" >3.53%</td>\n",
       "      <td id=\"T_434f9_row12_col6\" class=\"data row12 col6\" >-2.01%</td>\n",
       "      <td id=\"T_434f9_row12_col7\" class=\"data row12 col7\" >2.30%</td>\n",
       "      <td id=\"T_434f9_row12_col8\" class=\"data row12 col8\" >1.760000</td>\n",
       "    </tr>\n",
       "    <tr>\n",
       "      <th id=\"T_434f9_level0_row13\" class=\"row_heading level0 row13\" >82</th>\n",
       "      <td id=\"T_434f9_row13_col0\" class=\"data row13 col0\" >4958</td>\n",
       "      <td id=\"T_434f9_row13_col1\" class=\"data row13 col1\" >13</td>\n",
       "      <td id=\"T_434f9_row13_col2\" class=\"data row13 col2\" >10</td>\n",
       "      <td id=\"T_434f9_row13_col3\" class=\"data row13 col3\" >76.92%</td>\n",
       "      <td id=\"T_434f9_row13_col4\" class=\"data row13 col4\" >15.38%</td>\n",
       "      <td id=\"T_434f9_row13_col5\" class=\"data row13 col5\" >6.09%</td>\n",
       "      <td id=\"T_434f9_row13_col6\" class=\"data row13 col6\" >-5.49%</td>\n",
       "      <td id=\"T_434f9_row13_col7\" class=\"data row13 col7\" >3.84%</td>\n",
       "      <td id=\"T_434f9_row13_col8\" class=\"data row13 col8\" >1.110000</td>\n",
       "    </tr>\n",
       "    <tr>\n",
       "      <th id=\"T_434f9_level0_row14\" class=\"row_heading level0 row14\" >290</th>\n",
       "      <td id=\"T_434f9_row14_col0\" class=\"data row14 col0\" >2105</td>\n",
       "      <td id=\"T_434f9_row14_col1\" class=\"data row14 col1\" >17</td>\n",
       "      <td id=\"T_434f9_row14_col2\" class=\"data row14 col2\" >13</td>\n",
       "      <td id=\"T_434f9_row14_col3\" class=\"data row14 col3\" >76.47%</td>\n",
       "      <td id=\"T_434f9_row14_col4\" class=\"data row14 col4\" >23.53%</td>\n",
       "      <td id=\"T_434f9_row14_col5\" class=\"data row14 col5\" >7.74%</td>\n",
       "      <td id=\"T_434f9_row14_col6\" class=\"data row14 col6\" >-4.05%</td>\n",
       "      <td id=\"T_434f9_row14_col7\" class=\"data row14 col7\" >4.97%</td>\n",
       "      <td id=\"T_434f9_row14_col8\" class=\"data row14 col8\" >1.910000</td>\n",
       "    </tr>\n",
       "    <tr>\n",
       "      <th id=\"T_434f9_level0_row15\" class=\"row_heading level0 row15\" >211</th>\n",
       "      <td id=\"T_434f9_row15_col0\" class=\"data row15 col0\" >6505</td>\n",
       "      <td id=\"T_434f9_row15_col1\" class=\"data row15 col1\" >17</td>\n",
       "      <td id=\"T_434f9_row15_col2\" class=\"data row15 col2\" >13</td>\n",
       "      <td id=\"T_434f9_row15_col3\" class=\"data row15 col3\" >76.47%</td>\n",
       "      <td id=\"T_434f9_row15_col4\" class=\"data row15 col4\" >23.53%</td>\n",
       "      <td id=\"T_434f9_row15_col5\" class=\"data row15 col5\" >3.48%</td>\n",
       "      <td id=\"T_434f9_row15_col6\" class=\"data row15 col6\" >-4.61%</td>\n",
       "      <td id=\"T_434f9_row15_col7\" class=\"data row15 col7\" >1.58%</td>\n",
       "      <td id=\"T_434f9_row15_col8\" class=\"data row15 col8\" >0.750000</td>\n",
       "    </tr>\n",
       "    <tr>\n",
       "      <th id=\"T_434f9_level0_row16\" class=\"row_heading level0 row16\" >280</th>\n",
       "      <td id=\"T_434f9_row16_col0\" class=\"data row16 col0\" >6684</td>\n",
       "      <td id=\"T_434f9_row16_col1\" class=\"data row16 col1\" >4</td>\n",
       "      <td id=\"T_434f9_row16_col2\" class=\"data row16 col2\" >3</td>\n",
       "      <td id=\"T_434f9_row16_col3\" class=\"data row16 col3\" >75.00%</td>\n",
       "      <td id=\"T_434f9_row16_col4\" class=\"data row16 col4\" >25.00%</td>\n",
       "      <td id=\"T_434f9_row16_col5\" class=\"data row16 col5\" >14.93%</td>\n",
       "      <td id=\"T_434f9_row16_col6\" class=\"data row16 col6\" >-9.09%</td>\n",
       "      <td id=\"T_434f9_row16_col7\" class=\"data row16 col7\" >8.92%</td>\n",
       "      <td id=\"T_434f9_row16_col8\" class=\"data row16 col8\" >1.640000</td>\n",
       "    </tr>\n",
       "    <tr>\n",
       "      <th id=\"T_434f9_level0_row17\" class=\"row_heading level0 row17\" >126</th>\n",
       "      <td id=\"T_434f9_row17_col0\" class=\"data row17 col0\" >6188</td>\n",
       "      <td id=\"T_434f9_row17_col1\" class=\"data row17 col1\" >16</td>\n",
       "      <td id=\"T_434f9_row17_col2\" class=\"data row17 col2\" >12</td>\n",
       "      <td id=\"T_434f9_row17_col3\" class=\"data row17 col3\" >75.00%</td>\n",
       "      <td id=\"T_434f9_row17_col4\" class=\"data row17 col4\" >18.75%</td>\n",
       "      <td id=\"T_434f9_row17_col5\" class=\"data row17 col5\" >11.98%</td>\n",
       "      <td id=\"T_434f9_row17_col6\" class=\"data row17 col6\" >-2.80%</td>\n",
       "      <td id=\"T_434f9_row17_col7\" class=\"data row17 col7\" >8.46%</td>\n",
       "      <td id=\"T_434f9_row17_col8\" class=\"data row17 col8\" >4.280000</td>\n",
       "    </tr>\n",
       "    <tr>\n",
       "      <th id=\"T_434f9_level0_row18\" class=\"row_heading level0 row18\" >1</th>\n",
       "      <td id=\"T_434f9_row18_col0\" class=\"data row18 col0\" >2317</td>\n",
       "      <td id=\"T_434f9_row18_col1\" class=\"data row18 col1\" >24</td>\n",
       "      <td id=\"T_434f9_row18_col2\" class=\"data row18 col2\" >18</td>\n",
       "      <td id=\"T_434f9_row18_col3\" class=\"data row18 col3\" >75.00%</td>\n",
       "      <td id=\"T_434f9_row18_col4\" class=\"data row18 col4\" >25.00%</td>\n",
       "      <td id=\"T_434f9_row18_col5\" class=\"data row18 col5\" >6.25%</td>\n",
       "      <td id=\"T_434f9_row18_col6\" class=\"data row18 col6\" >-6.10%</td>\n",
       "      <td id=\"T_434f9_row18_col7\" class=\"data row18 col7\" >3.16%</td>\n",
       "      <td id=\"T_434f9_row18_col8\" class=\"data row18 col8\" >1.020000</td>\n",
       "    </tr>\n",
       "    <tr>\n",
       "      <th id=\"T_434f9_level0_row19\" class=\"row_heading level0 row19\" >222</th>\n",
       "      <td id=\"T_434f9_row19_col0\" class=\"data row19 col0\" >1723</td>\n",
       "      <td id=\"T_434f9_row19_col1\" class=\"data row19 col1\" >16</td>\n",
       "      <td id=\"T_434f9_row19_col2\" class=\"data row19 col2\" >12</td>\n",
       "      <td id=\"T_434f9_row19_col3\" class=\"data row19 col3\" >75.00%</td>\n",
       "      <td id=\"T_434f9_row19_col4\" class=\"data row19 col4\" >18.75%</td>\n",
       "      <td id=\"T_434f9_row19_col5\" class=\"data row19 col5\" >5.32%</td>\n",
       "      <td id=\"T_434f9_row19_col6\" class=\"data row19 col6\" >-4.51%</td>\n",
       "      <td id=\"T_434f9_row19_col7\" class=\"data row19 col7\" >3.14%</td>\n",
       "      <td id=\"T_434f9_row19_col8\" class=\"data row19 col8\" >1.180000</td>\n",
       "    </tr>\n",
       "    <tr>\n",
       "      <th id=\"T_434f9_level0_row20\" class=\"row_heading level0 row20\" >139</th>\n",
       "      <td id=\"T_434f9_row20_col0\" class=\"data row20 col0\" >2453</td>\n",
       "      <td id=\"T_434f9_row20_col1\" class=\"data row20 col1\" >12</td>\n",
       "      <td id=\"T_434f9_row20_col2\" class=\"data row20 col2\" >9</td>\n",
       "      <td id=\"T_434f9_row20_col3\" class=\"data row20 col3\" >75.00%</td>\n",
       "      <td id=\"T_434f9_row20_col4\" class=\"data row20 col4\" >16.67%</td>\n",
       "      <td id=\"T_434f9_row20_col5\" class=\"data row20 col5\" >4.37%</td>\n",
       "      <td id=\"T_434f9_row20_col6\" class=\"data row20 col6\" >-4.70%</td>\n",
       "      <td id=\"T_434f9_row20_col7\" class=\"data row20 col7\" >2.49%</td>\n",
       "      <td id=\"T_434f9_row20_col8\" class=\"data row20 col8\" >0.930000</td>\n",
       "    </tr>\n",
       "    <tr>\n",
       "      <th id=\"T_434f9_level0_row21\" class=\"row_heading level0 row21\" >247</th>\n",
       "      <td id=\"T_434f9_row21_col0\" class=\"data row21 col0\" >2207</td>\n",
       "      <td id=\"T_434f9_row21_col1\" class=\"data row21 col1\" >19</td>\n",
       "      <td id=\"T_434f9_row21_col2\" class=\"data row21 col2\" >14</td>\n",
       "      <td id=\"T_434f9_row21_col3\" class=\"data row21 col3\" >73.68%</td>\n",
       "      <td id=\"T_434f9_row21_col4\" class=\"data row21 col4\" >21.05%</td>\n",
       "      <td id=\"T_434f9_row21_col5\" class=\"data row21 col5\" >8.29%</td>\n",
       "      <td id=\"T_434f9_row21_col6\" class=\"data row21 col6\" >-2.80%</td>\n",
       "      <td id=\"T_434f9_row21_col7\" class=\"data row21 col7\" >5.52%</td>\n",
       "      <td id=\"T_434f9_row21_col8\" class=\"data row21 col8\" >2.960000</td>\n",
       "    </tr>\n",
       "    <tr>\n",
       "      <th id=\"T_434f9_level0_row22\" class=\"row_heading level0 row22\" >161</th>\n",
       "      <td id=\"T_434f9_row22_col0\" class=\"data row22 col0\" >2360</td>\n",
       "      <td id=\"T_434f9_row22_col1\" class=\"data row22 col1\" >19</td>\n",
       "      <td id=\"T_434f9_row22_col2\" class=\"data row22 col2\" >14</td>\n",
       "      <td id=\"T_434f9_row22_col3\" class=\"data row22 col3\" >73.68%</td>\n",
       "      <td id=\"T_434f9_row22_col4\" class=\"data row22 col4\" >21.05%</td>\n",
       "      <td id=\"T_434f9_row22_col5\" class=\"data row22 col5\" >7.71%</td>\n",
       "      <td id=\"T_434f9_row22_col6\" class=\"data row22 col6\" >-3.37%</td>\n",
       "      <td id=\"T_434f9_row22_col7\" class=\"data row22 col7\" >4.97%</td>\n",
       "      <td id=\"T_434f9_row22_col8\" class=\"data row22 col8\" >2.290000</td>\n",
       "    </tr>\n",
       "    <tr>\n",
       "      <th id=\"T_434f9_level0_row23\" class=\"row_heading level0 row23\" >4</th>\n",
       "      <td id=\"T_434f9_row23_col0\" class=\"data row23 col0\" >2382</td>\n",
       "      <td id=\"T_434f9_row23_col1\" class=\"data row23 col1\" >19</td>\n",
       "      <td id=\"T_434f9_row23_col2\" class=\"data row23 col2\" >14</td>\n",
       "      <td id=\"T_434f9_row23_col3\" class=\"data row23 col3\" >73.68%</td>\n",
       "      <td id=\"T_434f9_row23_col4\" class=\"data row23 col4\" >26.32%</td>\n",
       "      <td id=\"T_434f9_row23_col5\" class=\"data row23 col5\" >6.25%</td>\n",
       "      <td id=\"T_434f9_row23_col6\" class=\"data row23 col6\" >-2.79%</td>\n",
       "      <td id=\"T_434f9_row23_col7\" class=\"data row23 col7\" >3.87%</td>\n",
       "      <td id=\"T_434f9_row23_col8\" class=\"data row23 col8\" >2.240000</td>\n",
       "    </tr>\n",
       "    <tr>\n",
       "      <th id=\"T_434f9_level0_row24\" class=\"row_heading level0 row24\" >114</th>\n",
       "      <td id=\"T_434f9_row24_col0\" class=\"data row24 col0\" >1301</td>\n",
       "      <td id=\"T_434f9_row24_col1\" class=\"data row24 col1\" >19</td>\n",
       "      <td id=\"T_434f9_row24_col2\" class=\"data row24 col2\" >14</td>\n",
       "      <td id=\"T_434f9_row24_col3\" class=\"data row24 col3\" >73.68%</td>\n",
       "      <td id=\"T_434f9_row24_col4\" class=\"data row24 col4\" >26.32%</td>\n",
       "      <td id=\"T_434f9_row24_col5\" class=\"data row24 col5\" >5.32%</td>\n",
       "      <td id=\"T_434f9_row24_col6\" class=\"data row24 col6\" >-4.48%</td>\n",
       "      <td id=\"T_434f9_row24_col7\" class=\"data row24 col7\" >2.74%</td>\n",
       "      <td id=\"T_434f9_row24_col8\" class=\"data row24 col8\" >1.190000</td>\n",
       "    </tr>\n",
       "    <tr>\n",
       "      <th id=\"T_434f9_level0_row25\" class=\"row_heading level0 row25\" >238</th>\n",
       "      <td id=\"T_434f9_row25_col0\" class=\"data row25 col0\" >2890</td>\n",
       "      <td id=\"T_434f9_row25_col1\" class=\"data row25 col1\" >19</td>\n",
       "      <td id=\"T_434f9_row25_col2\" class=\"data row25 col2\" >14</td>\n",
       "      <td id=\"T_434f9_row25_col3\" class=\"data row25 col3\" >73.68%</td>\n",
       "      <td id=\"T_434f9_row25_col4\" class=\"data row25 col4\" >21.05%</td>\n",
       "      <td id=\"T_434f9_row25_col5\" class=\"data row25 col5\" >3.82%</td>\n",
       "      <td id=\"T_434f9_row25_col6\" class=\"data row25 col6\" >-5.36%</td>\n",
       "      <td id=\"T_434f9_row25_col7\" class=\"data row25 col7\" >1.69%</td>\n",
       "      <td id=\"T_434f9_row25_col8\" class=\"data row25 col8\" >0.710000</td>\n",
       "    </tr>\n",
       "    <tr>\n",
       "      <th id=\"T_434f9_level0_row26\" class=\"row_heading level0 row26\" >221</th>\n",
       "      <td id=\"T_434f9_row26_col0\" class=\"data row26 col0\" >5439</td>\n",
       "      <td id=\"T_434f9_row26_col1\" class=\"data row26 col1\" >15</td>\n",
       "      <td id=\"T_434f9_row26_col2\" class=\"data row26 col2\" >11</td>\n",
       "      <td id=\"T_434f9_row26_col3\" class=\"data row26 col3\" >73.33%</td>\n",
       "      <td id=\"T_434f9_row26_col4\" class=\"data row26 col4\" >20.00%</td>\n",
       "      <td id=\"T_434f9_row26_col5\" class=\"data row26 col5\" >7.42%</td>\n",
       "      <td id=\"T_434f9_row26_col6\" class=\"data row26 col6\" >-1.13%</td>\n",
       "      <td id=\"T_434f9_row26_col7\" class=\"data row26 col7\" >5.22%</td>\n",
       "      <td id=\"T_434f9_row26_col8\" class=\"data row26 col8\" >6.570000</td>\n",
       "    </tr>\n",
       "    <tr>\n",
       "      <th id=\"T_434f9_level0_row27\" class=\"row_heading level0 row27\" >213</th>\n",
       "      <td id=\"T_434f9_row27_col0\" class=\"data row27 col0\" >5493</td>\n",
       "      <td id=\"T_434f9_row27_col1\" class=\"data row27 col1\" >15</td>\n",
       "      <td id=\"T_434f9_row27_col2\" class=\"data row27 col2\" >11</td>\n",
       "      <td id=\"T_434f9_row27_col3\" class=\"data row27 col3\" >73.33%</td>\n",
       "      <td id=\"T_434f9_row27_col4\" class=\"data row27 col4\" >26.67%</td>\n",
       "      <td id=\"T_434f9_row27_col5\" class=\"data row27 col5\" >4.67%</td>\n",
       "      <td id=\"T_434f9_row27_col6\" class=\"data row27 col6\" >-3.32%</td>\n",
       "      <td id=\"T_434f9_row27_col7\" class=\"data row27 col7\" >2.54%</td>\n",
       "      <td id=\"T_434f9_row27_col8\" class=\"data row27 col8\" >1.410000</td>\n",
       "    </tr>\n",
       "    <tr>\n",
       "      <th id=\"T_434f9_level0_row28\" class=\"row_heading level0 row28\" >147</th>\n",
       "      <td id=\"T_434f9_row28_col0\" class=\"data row28 col0\" >2884</td>\n",
       "      <td id=\"T_434f9_row28_col1\" class=\"data row28 col1\" >15</td>\n",
       "      <td id=\"T_434f9_row28_col2\" class=\"data row28 col2\" >11</td>\n",
       "      <td id=\"T_434f9_row28_col3\" class=\"data row28 col3\" >73.33%</td>\n",
       "      <td id=\"T_434f9_row28_col4\" class=\"data row28 col4\" >26.67%</td>\n",
       "      <td id=\"T_434f9_row28_col5\" class=\"data row28 col5\" >3.25%</td>\n",
       "      <td id=\"T_434f9_row28_col6\" class=\"data row28 col6\" >-2.92%</td>\n",
       "      <td id=\"T_434f9_row28_col7\" class=\"data row28 col7\" >1.60%</td>\n",
       "      <td id=\"T_434f9_row28_col8\" class=\"data row28 col8\" >1.110000</td>\n",
       "    </tr>\n",
       "    <tr>\n",
       "      <th id=\"T_434f9_level0_row29\" class=\"row_heading level0 row29\" >34</th>\n",
       "      <td id=\"T_434f9_row29_col0\" class=\"data row29 col0\" >2404</td>\n",
       "      <td id=\"T_434f9_row29_col1\" class=\"data row29 col1\" >18</td>\n",
       "      <td id=\"T_434f9_row29_col2\" class=\"data row29 col2\" >13</td>\n",
       "      <td id=\"T_434f9_row29_col3\" class=\"data row29 col3\" >72.22%</td>\n",
       "      <td id=\"T_434f9_row29_col4\" class=\"data row29 col4\" >27.78%</td>\n",
       "      <td id=\"T_434f9_row29_col5\" class=\"data row29 col5\" >5.55%</td>\n",
       "      <td id=\"T_434f9_row29_col6\" class=\"data row29 col6\" >-4.67%</td>\n",
       "      <td id=\"T_434f9_row29_col7\" class=\"data row29 col7\" >2.71%</td>\n",
       "      <td id=\"T_434f9_row29_col8\" class=\"data row29 col8\" >1.190000</td>\n",
       "    </tr>\n",
       "    <tr>\n",
       "      <th id=\"T_434f9_level0_row30\" class=\"row_heading level0 row30\" >146</th>\n",
       "      <td id=\"T_434f9_row30_col0\" class=\"data row30 col0\" >2374</td>\n",
       "      <td id=\"T_434f9_row30_col1\" class=\"data row30 col1\" >18</td>\n",
       "      <td id=\"T_434f9_row30_col2\" class=\"data row30 col2\" >13</td>\n",
       "      <td id=\"T_434f9_row30_col3\" class=\"data row30 col3\" >72.22%</td>\n",
       "      <td id=\"T_434f9_row30_col4\" class=\"data row30 col4\" >27.78%</td>\n",
       "      <td id=\"T_434f9_row30_col5\" class=\"data row30 col5\" >5.30%</td>\n",
       "      <td id=\"T_434f9_row30_col6\" class=\"data row30 col6\" >-4.59%</td>\n",
       "      <td id=\"T_434f9_row30_col7\" class=\"data row30 col7\" >2.55%</td>\n",
       "      <td id=\"T_434f9_row30_col8\" class=\"data row30 col8\" >1.150000</td>\n",
       "    </tr>\n",
       "    <tr>\n",
       "      <th id=\"T_434f9_level0_row31\" class=\"row_heading level0 row31\" >16</th>\n",
       "      <td id=\"T_434f9_row31_col0\" class=\"data row31 col0\" >2376</td>\n",
       "      <td id=\"T_434f9_row31_col1\" class=\"data row31 col1\" >18</td>\n",
       "      <td id=\"T_434f9_row31_col2\" class=\"data row31 col2\" >13</td>\n",
       "      <td id=\"T_434f9_row31_col3\" class=\"data row31 col3\" >72.22%</td>\n",
       "      <td id=\"T_434f9_row31_col4\" class=\"data row31 col4\" >27.78%</td>\n",
       "      <td id=\"T_434f9_row31_col5\" class=\"data row31 col5\" >5.28%</td>\n",
       "      <td id=\"T_434f9_row31_col6\" class=\"data row31 col6\" >-9.21%</td>\n",
       "      <td id=\"T_434f9_row31_col7\" class=\"data row31 col7\" >1.25%</td>\n",
       "      <td id=\"T_434f9_row31_col8\" class=\"data row31 col8\" >0.570000</td>\n",
       "    </tr>\n",
       "    <tr>\n",
       "      <th id=\"T_434f9_level0_row32\" class=\"row_heading level0 row32\" >278</th>\n",
       "      <td id=\"T_434f9_row32_col0\" class=\"data row32 col0\" >2476</td>\n",
       "      <td id=\"T_434f9_row32_col1\" class=\"data row32 col1\" >18</td>\n",
       "      <td id=\"T_434f9_row32_col2\" class=\"data row32 col2\" >13</td>\n",
       "      <td id=\"T_434f9_row32_col3\" class=\"data row32 col3\" >72.22%</td>\n",
       "      <td id=\"T_434f9_row32_col4\" class=\"data row32 col4\" >27.78%</td>\n",
       "      <td id=\"T_434f9_row32_col5\" class=\"data row32 col5\" >4.53%</td>\n",
       "      <td id=\"T_434f9_row32_col6\" class=\"data row32 col6\" >-1.98%</td>\n",
       "      <td id=\"T_434f9_row32_col7\" class=\"data row32 col7\" >2.72%</td>\n",
       "      <td id=\"T_434f9_row32_col8\" class=\"data row32 col8\" >2.290000</td>\n",
       "    </tr>\n",
       "    <tr>\n",
       "      <th id=\"T_434f9_level0_row33\" class=\"row_heading level0 row33\" >11</th>\n",
       "      <td id=\"T_434f9_row33_col0\" class=\"data row33 col0\" >1503</td>\n",
       "      <td id=\"T_434f9_row33_col1\" class=\"data row33 col1\" >18</td>\n",
       "      <td id=\"T_434f9_row33_col2\" class=\"data row33 col2\" >13</td>\n",
       "      <td id=\"T_434f9_row33_col3\" class=\"data row33 col3\" >72.22%</td>\n",
       "      <td id=\"T_434f9_row33_col4\" class=\"data row33 col4\" >27.78%</td>\n",
       "      <td id=\"T_434f9_row33_col5\" class=\"data row33 col5\" >3.38%</td>\n",
       "      <td id=\"T_434f9_row33_col6\" class=\"data row33 col6\" >-1.41%</td>\n",
       "      <td id=\"T_434f9_row33_col7\" class=\"data row33 col7\" >2.05%</td>\n",
       "      <td id=\"T_434f9_row33_col8\" class=\"data row33 col8\" >2.400000</td>\n",
       "    </tr>\n",
       "    <tr>\n",
       "      <th id=\"T_434f9_level0_row34\" class=\"row_heading level0 row34\" >293</th>\n",
       "      <td id=\"T_434f9_row34_col0\" class=\"data row34 col0\" >6442</td>\n",
       "      <td id=\"T_434f9_row34_col1\" class=\"data row34 col1\" >7</td>\n",
       "      <td id=\"T_434f9_row34_col2\" class=\"data row34 col2\" >5</td>\n",
       "      <td id=\"T_434f9_row34_col3\" class=\"data row34 col3\" >71.43%</td>\n",
       "      <td id=\"T_434f9_row34_col4\" class=\"data row34 col4\" >28.57%</td>\n",
       "      <td id=\"T_434f9_row34_col5\" class=\"data row34 col5\" >13.02%</td>\n",
       "      <td id=\"T_434f9_row34_col6\" class=\"data row34 col6\" >-2.11%</td>\n",
       "      <td id=\"T_434f9_row34_col7\" class=\"data row34 col7\" >8.70%</td>\n",
       "      <td id=\"T_434f9_row34_col8\" class=\"data row34 col8\" >6.170000</td>\n",
       "    </tr>\n",
       "    <tr>\n",
       "      <th id=\"T_434f9_level0_row35\" class=\"row_heading level0 row35\" >150</th>\n",
       "      <td id=\"T_434f9_row35_col0\" class=\"data row35 col0\" >2405</td>\n",
       "      <td id=\"T_434f9_row35_col1\" class=\"data row35 col1\" >7</td>\n",
       "      <td id=\"T_434f9_row35_col2\" class=\"data row35 col2\" >5</td>\n",
       "      <td id=\"T_434f9_row35_col3\" class=\"data row35 col3\" >71.43%</td>\n",
       "      <td id=\"T_434f9_row35_col4\" class=\"data row35 col4\" >28.57%</td>\n",
       "      <td id=\"T_434f9_row35_col5\" class=\"data row35 col5\" >6.06%</td>\n",
       "      <td id=\"T_434f9_row35_col6\" class=\"data row35 col6\" >-6.98%</td>\n",
       "      <td id=\"T_434f9_row35_col7\" class=\"data row35 col7\" >2.33%</td>\n",
       "      <td id=\"T_434f9_row35_col8\" class=\"data row35 col8\" >0.870000</td>\n",
       "    </tr>\n",
       "    <tr>\n",
       "      <th id=\"T_434f9_level0_row36\" class=\"row_heading level0 row36\" >251</th>\n",
       "      <td id=\"T_434f9_row36_col0\" class=\"data row36 col0\" >5371</td>\n",
       "      <td id=\"T_434f9_row36_col1\" class=\"data row36 col1\" >14</td>\n",
       "      <td id=\"T_434f9_row36_col2\" class=\"data row36 col2\" >10</td>\n",
       "      <td id=\"T_434f9_row36_col3\" class=\"data row36 col3\" >71.43%</td>\n",
       "      <td id=\"T_434f9_row36_col4\" class=\"data row36 col4\" >28.57%</td>\n",
       "      <td id=\"T_434f9_row36_col5\" class=\"data row36 col5\" >5.47%</td>\n",
       "      <td id=\"T_434f9_row36_col6\" class=\"data row36 col6\" >-6.72%</td>\n",
       "      <td id=\"T_434f9_row36_col7\" class=\"data row36 col7\" >1.99%</td>\n",
       "      <td id=\"T_434f9_row36_col8\" class=\"data row36 col8\" >0.810000</td>\n",
       "    </tr>\n",
       "    <tr>\n",
       "      <th id=\"T_434f9_level0_row37\" class=\"row_heading level0 row37\" >192</th>\n",
       "      <td id=\"T_434f9_row37_col0\" class=\"data row37 col0\" >6269</td>\n",
       "      <td id=\"T_434f9_row37_col1\" class=\"data row37 col1\" >17</td>\n",
       "      <td id=\"T_434f9_row37_col2\" class=\"data row37 col2\" >12</td>\n",
       "      <td id=\"T_434f9_row37_col3\" class=\"data row37 col3\" >70.59%</td>\n",
       "      <td id=\"T_434f9_row37_col4\" class=\"data row37 col4\" >29.41%</td>\n",
       "      <td id=\"T_434f9_row37_col5\" class=\"data row37 col5\" >10.65%</td>\n",
       "      <td id=\"T_434f9_row37_col6\" class=\"data row37 col6\" >-8.74%</td>\n",
       "      <td id=\"T_434f9_row37_col7\" class=\"data row37 col7\" >4.95%</td>\n",
       "      <td id=\"T_434f9_row37_col8\" class=\"data row37 col8\" >1.220000</td>\n",
       "    </tr>\n",
       "    <tr>\n",
       "      <th id=\"T_434f9_level0_row38\" class=\"row_heading level0 row38\" >31</th>\n",
       "      <td id=\"T_434f9_row38_col0\" class=\"data row38 col0\" >2449</td>\n",
       "      <td id=\"T_434f9_row38_col1\" class=\"data row38 col1\" >17</td>\n",
       "      <td id=\"T_434f9_row38_col2\" class=\"data row38 col2\" >12</td>\n",
       "      <td id=\"T_434f9_row38_col3\" class=\"data row38 col3\" >70.59%</td>\n",
       "      <td id=\"T_434f9_row38_col4\" class=\"data row38 col4\" >29.41%</td>\n",
       "      <td id=\"T_434f9_row38_col5\" class=\"data row38 col5\" >8.53%</td>\n",
       "      <td id=\"T_434f9_row38_col6\" class=\"data row38 col6\" >-4.25%</td>\n",
       "      <td id=\"T_434f9_row38_col7\" class=\"data row38 col7\" >4.77%</td>\n",
       "      <td id=\"T_434f9_row38_col8\" class=\"data row38 col8\" >2.010000</td>\n",
       "    </tr>\n",
       "    <tr>\n",
       "      <th id=\"T_434f9_level0_row39\" class=\"row_heading level0 row39\" >129</th>\n",
       "      <td id=\"T_434f9_row39_col0\" class=\"data row39 col0\" >2467</td>\n",
       "      <td id=\"T_434f9_row39_col1\" class=\"data row39 col1\" >17</td>\n",
       "      <td id=\"T_434f9_row39_col2\" class=\"data row39 col2\" >12</td>\n",
       "      <td id=\"T_434f9_row39_col3\" class=\"data row39 col3\" >70.59%</td>\n",
       "      <td id=\"T_434f9_row39_col4\" class=\"data row39 col4\" >29.41%</td>\n",
       "      <td id=\"T_434f9_row39_col5\" class=\"data row39 col5\" >7.92%</td>\n",
       "      <td id=\"T_434f9_row39_col6\" class=\"data row39 col6\" >-5.78%</td>\n",
       "      <td id=\"T_434f9_row39_col7\" class=\"data row39 col7\" >3.89%</td>\n",
       "      <td id=\"T_434f9_row39_col8\" class=\"data row39 col8\" >1.370000</td>\n",
       "    </tr>\n",
       "    <tr>\n",
       "      <th id=\"T_434f9_level0_row40\" class=\"row_heading level0 row40\" >26</th>\n",
       "      <td id=\"T_434f9_row40_col0\" class=\"data row40 col0\" >2356</td>\n",
       "      <td id=\"T_434f9_row40_col1\" class=\"data row40 col1\" >17</td>\n",
       "      <td id=\"T_434f9_row40_col2\" class=\"data row40 col2\" >12</td>\n",
       "      <td id=\"T_434f9_row40_col3\" class=\"data row40 col3\" >70.59%</td>\n",
       "      <td id=\"T_434f9_row40_col4\" class=\"data row40 col4\" >29.41%</td>\n",
       "      <td id=\"T_434f9_row40_col5\" class=\"data row40 col5\" >7.58%</td>\n",
       "      <td id=\"T_434f9_row40_col6\" class=\"data row40 col6\" >-2.92%</td>\n",
       "      <td id=\"T_434f9_row40_col7\" class=\"data row40 col7\" >4.49%</td>\n",
       "      <td id=\"T_434f9_row40_col8\" class=\"data row40 col8\" >2.600000</td>\n",
       "    </tr>\n",
       "    <tr>\n",
       "      <th id=\"T_434f9_level0_row41\" class=\"row_heading level0 row41\" >51</th>\n",
       "      <td id=\"T_434f9_row41_col0\" class=\"data row41 col0\" >5388</td>\n",
       "      <td id=\"T_434f9_row41_col1\" class=\"data row41 col1\" >17</td>\n",
       "      <td id=\"T_434f9_row41_col2\" class=\"data row41 col2\" >12</td>\n",
       "      <td id=\"T_434f9_row41_col3\" class=\"data row41 col3\" >70.59%</td>\n",
       "      <td id=\"T_434f9_row41_col4\" class=\"data row41 col4\" >29.41%</td>\n",
       "      <td id=\"T_434f9_row41_col5\" class=\"data row41 col5\" >6.50%</td>\n",
       "      <td id=\"T_434f9_row41_col6\" class=\"data row41 col6\" >-3.61%</td>\n",
       "      <td id=\"T_434f9_row41_col7\" class=\"data row41 col7\" >3.53%</td>\n",
       "      <td id=\"T_434f9_row41_col8\" class=\"data row41 col8\" >1.800000</td>\n",
       "    </tr>\n",
       "    <tr>\n",
       "      <th id=\"T_434f9_level0_row42\" class=\"row_heading level0 row42\" >263</th>\n",
       "      <td id=\"T_434f9_row42_col0\" class=\"data row42 col0\" >6196</td>\n",
       "      <td id=\"T_434f9_row42_col1\" class=\"data row42 col1\" >17</td>\n",
       "      <td id=\"T_434f9_row42_col2\" class=\"data row42 col2\" >12</td>\n",
       "      <td id=\"T_434f9_row42_col3\" class=\"data row42 col3\" >70.59%</td>\n",
       "      <td id=\"T_434f9_row42_col4\" class=\"data row42 col4\" >29.41%</td>\n",
       "      <td id=\"T_434f9_row42_col5\" class=\"data row42 col5\" >4.68%</td>\n",
       "      <td id=\"T_434f9_row42_col6\" class=\"data row42 col6\" >-4.09%</td>\n",
       "      <td id=\"T_434f9_row42_col7\" class=\"data row42 col7\" >2.10%</td>\n",
       "      <td id=\"T_434f9_row42_col8\" class=\"data row42 col8\" >1.140000</td>\n",
       "    </tr>\n",
       "    <tr>\n",
       "      <th id=\"T_434f9_level0_row43\" class=\"row_heading level0 row43\" >32</th>\n",
       "      <td id=\"T_434f9_row43_col0\" class=\"data row43 col0\" >2383</td>\n",
       "      <td id=\"T_434f9_row43_col1\" class=\"data row43 col1\" >17</td>\n",
       "      <td id=\"T_434f9_row43_col2\" class=\"data row43 col2\" >12</td>\n",
       "      <td id=\"T_434f9_row43_col3\" class=\"data row43 col3\" >70.59%</td>\n",
       "      <td id=\"T_434f9_row43_col4\" class=\"data row43 col4\" >29.41%</td>\n",
       "      <td id=\"T_434f9_row43_col5\" class=\"data row43 col5\" >4.46%</td>\n",
       "      <td id=\"T_434f9_row43_col6\" class=\"data row43 col6\" >-2.28%</td>\n",
       "      <td id=\"T_434f9_row43_col7\" class=\"data row43 col7\" >2.48%</td>\n",
       "      <td id=\"T_434f9_row43_col8\" class=\"data row43 col8\" >1.960000</td>\n",
       "    </tr>\n",
       "    <tr>\n",
       "      <th id=\"T_434f9_level0_row44\" class=\"row_heading level0 row44\" >119</th>\n",
       "      <td id=\"T_434f9_row44_col0\" class=\"data row44 col0\" >2882</td>\n",
       "      <td id=\"T_434f9_row44_col1\" class=\"data row44 col1\" >17</td>\n",
       "      <td id=\"T_434f9_row44_col2\" class=\"data row44 col2\" >12</td>\n",
       "      <td id=\"T_434f9_row44_col3\" class=\"data row44 col3\" >70.59%</td>\n",
       "      <td id=\"T_434f9_row44_col4\" class=\"data row44 col4\" >29.41%</td>\n",
       "      <td id=\"T_434f9_row44_col5\" class=\"data row44 col5\" >4.04%</td>\n",
       "      <td id=\"T_434f9_row44_col6\" class=\"data row44 col6\" >-6.71%</td>\n",
       "      <td id=\"T_434f9_row44_col7\" class=\"data row44 col7\" >0.88%</td>\n",
       "      <td id=\"T_434f9_row44_col8\" class=\"data row44 col8\" >0.600000</td>\n",
       "    </tr>\n",
       "    <tr>\n",
       "      <th id=\"T_434f9_level0_row45\" class=\"row_heading level0 row45\" >75</th>\n",
       "      <td id=\"T_434f9_row45_col0\" class=\"data row45 col0\" >2324</td>\n",
       "      <td id=\"T_434f9_row45_col1\" class=\"data row45 col1\" >17</td>\n",
       "      <td id=\"T_434f9_row45_col2\" class=\"data row45 col2\" >12</td>\n",
       "      <td id=\"T_434f9_row45_col3\" class=\"data row45 col3\" >70.59%</td>\n",
       "      <td id=\"T_434f9_row45_col4\" class=\"data row45 col4\" >29.41%</td>\n",
       "      <td id=\"T_434f9_row45_col5\" class=\"data row45 col5\" >3.79%</td>\n",
       "      <td id=\"T_434f9_row45_col6\" class=\"data row45 col6\" >-3.23%</td>\n",
       "      <td id=\"T_434f9_row45_col7\" class=\"data row45 col7\" >1.73%</td>\n",
       "      <td id=\"T_434f9_row45_col8\" class=\"data row45 col8\" >1.170000</td>\n",
       "    </tr>\n",
       "    <tr>\n",
       "      <th id=\"T_434f9_level0_row46\" class=\"row_heading level0 row46\" >277</th>\n",
       "      <td id=\"T_434f9_row46_col0\" class=\"data row46 col0\" >1808</td>\n",
       "      <td id=\"T_434f9_row46_col1\" class=\"data row46 col1\" >17</td>\n",
       "      <td id=\"T_434f9_row46_col2\" class=\"data row46 col2\" >12</td>\n",
       "      <td id=\"T_434f9_row46_col3\" class=\"data row46 col3\" >70.59%</td>\n",
       "      <td id=\"T_434f9_row46_col4\" class=\"data row46 col4\" >29.41%</td>\n",
       "      <td id=\"T_434f9_row46_col5\" class=\"data row46 col5\" >3.70%</td>\n",
       "      <td id=\"T_434f9_row46_col6\" class=\"data row46 col6\" >-4.70%</td>\n",
       "      <td id=\"T_434f9_row46_col7\" class=\"data row46 col7\" >1.23%</td>\n",
       "      <td id=\"T_434f9_row46_col8\" class=\"data row46 col8\" >0.790000</td>\n",
       "    </tr>\n",
       "    <tr>\n",
       "      <th id=\"T_434f9_level0_row47\" class=\"row_heading level0 row47\" >86</th>\n",
       "      <td id=\"T_434f9_row47_col0\" class=\"data row47 col0\" >2412</td>\n",
       "      <td id=\"T_434f9_row47_col1\" class=\"data row47 col1\" >17</td>\n",
       "      <td id=\"T_434f9_row47_col2\" class=\"data row47 col2\" >12</td>\n",
       "      <td id=\"T_434f9_row47_col3\" class=\"data row47 col3\" >70.59%</td>\n",
       "      <td id=\"T_434f9_row47_col4\" class=\"data row47 col4\" >29.41%</td>\n",
       "      <td id=\"T_434f9_row47_col5\" class=\"data row47 col5\" >3.14%</td>\n",
       "      <td id=\"T_434f9_row47_col6\" class=\"data row47 col6\" >-1.90%</td>\n",
       "      <td id=\"T_434f9_row47_col7\" class=\"data row47 col7\" >1.66%</td>\n",
       "      <td id=\"T_434f9_row47_col8\" class=\"data row47 col8\" >1.650000</td>\n",
       "    </tr>\n",
       "    <tr>\n",
       "      <th id=\"T_434f9_level0_row48\" class=\"row_heading level0 row48\" >208</th>\n",
       "      <td id=\"T_434f9_row48_col0\" class=\"data row48 col0\" >8454</td>\n",
       "      <td id=\"T_434f9_row48_col1\" class=\"data row48 col1\" >10</td>\n",
       "      <td id=\"T_434f9_row48_col2\" class=\"data row48 col2\" >7</td>\n",
       "      <td id=\"T_434f9_row48_col3\" class=\"data row48 col3\" >70.00%</td>\n",
       "      <td id=\"T_434f9_row48_col4\" class=\"data row48 col4\" >30.00%</td>\n",
       "      <td id=\"T_434f9_row48_col5\" class=\"data row48 col5\" >10.79%</td>\n",
       "      <td id=\"T_434f9_row48_col6\" class=\"data row48 col6\" >-3.13%</td>\n",
       "      <td id=\"T_434f9_row48_col7\" class=\"data row48 col7\" >6.61%</td>\n",
       "      <td id=\"T_434f9_row48_col8\" class=\"data row48 col8\" >3.450000</td>\n",
       "    </tr>\n",
       "    <tr>\n",
       "      <th id=\"T_434f9_level0_row49\" class=\"row_heading level0 row49\" >162</th>\n",
       "      <td id=\"T_434f9_row49_col0\" class=\"data row49 col0\" >3081</td>\n",
       "      <td id=\"T_434f9_row49_col1\" class=\"data row49 col1\" >10</td>\n",
       "      <td id=\"T_434f9_row49_col2\" class=\"data row49 col2\" >7</td>\n",
       "      <td id=\"T_434f9_row49_col3\" class=\"data row49 col3\" >70.00%</td>\n",
       "      <td id=\"T_434f9_row49_col4\" class=\"data row49 col4\" >30.00%</td>\n",
       "      <td id=\"T_434f9_row49_col5\" class=\"data row49 col5\" >10.33%</td>\n",
       "      <td id=\"T_434f9_row49_col6\" class=\"data row49 col6\" >-6.37%</td>\n",
       "      <td id=\"T_434f9_row49_col7\" class=\"data row49 col7\" >5.32%</td>\n",
       "      <td id=\"T_434f9_row49_col8\" class=\"data row49 col8\" >1.620000</td>\n",
       "    </tr>\n",
       "    <tr>\n",
       "      <th id=\"T_434f9_level0_row50\" class=\"row_heading level0 row50\" >89</th>\n",
       "      <td id=\"T_434f9_row50_col0\" class=\"data row50 col0\" >4915</td>\n",
       "      <td id=\"T_434f9_row50_col1\" class=\"data row50 col1\" >10</td>\n",
       "      <td id=\"T_434f9_row50_col2\" class=\"data row50 col2\" >7</td>\n",
       "      <td id=\"T_434f9_row50_col3\" class=\"data row50 col3\" >70.00%</td>\n",
       "      <td id=\"T_434f9_row50_col4\" class=\"data row50 col4\" >30.00%</td>\n",
       "      <td id=\"T_434f9_row50_col5\" class=\"data row50 col5\" >6.89%</td>\n",
       "      <td id=\"T_434f9_row50_col6\" class=\"data row50 col6\" >-3.73%</td>\n",
       "      <td id=\"T_434f9_row50_col7\" class=\"data row50 col7\" >3.70%</td>\n",
       "      <td id=\"T_434f9_row50_col8\" class=\"data row50 col8\" >1.850000</td>\n",
       "    </tr>\n",
       "    <tr>\n",
       "      <th id=\"T_434f9_level0_row51\" class=\"row_heading level0 row51\" >64</th>\n",
       "      <td id=\"T_434f9_row51_col0\" class=\"data row51 col0\" >4763</td>\n",
       "      <td id=\"T_434f9_row51_col1\" class=\"data row51 col1\" >10</td>\n",
       "      <td id=\"T_434f9_row51_col2\" class=\"data row51 col2\" >7</td>\n",
       "      <td id=\"T_434f9_row51_col3\" class=\"data row51 col3\" >70.00%</td>\n",
       "      <td id=\"T_434f9_row51_col4\" class=\"data row51 col4\" >30.00%</td>\n",
       "      <td id=\"T_434f9_row51_col5\" class=\"data row51 col5\" >6.56%</td>\n",
       "      <td id=\"T_434f9_row51_col6\" class=\"data row51 col6\" >-7.35%</td>\n",
       "      <td id=\"T_434f9_row51_col7\" class=\"data row51 col7\" >2.39%</td>\n",
       "      <td id=\"T_434f9_row51_col8\" class=\"data row51 col8\" >0.890000</td>\n",
       "    </tr>\n",
       "    <tr>\n",
       "      <th id=\"T_434f9_level0_row52\" class=\"row_heading level0 row52\" >125</th>\n",
       "      <td id=\"T_434f9_row52_col0\" class=\"data row52 col0\" >8150</td>\n",
       "      <td id=\"T_434f9_row52_col1\" class=\"data row52 col1\" >10</td>\n",
       "      <td id=\"T_434f9_row52_col2\" class=\"data row52 col2\" >7</td>\n",
       "      <td id=\"T_434f9_row52_col3\" class=\"data row52 col3\" >70.00%</td>\n",
       "      <td id=\"T_434f9_row52_col4\" class=\"data row52 col4\" >30.00%</td>\n",
       "      <td id=\"T_434f9_row52_col5\" class=\"data row52 col5\" >5.67%</td>\n",
       "      <td id=\"T_434f9_row52_col6\" class=\"data row52 col6\" >-4.83%</td>\n",
       "      <td id=\"T_434f9_row52_col7\" class=\"data row52 col7\" >2.52%</td>\n",
       "      <td id=\"T_434f9_row52_col8\" class=\"data row52 col8\" >1.170000</td>\n",
       "    </tr>\n",
       "    <tr>\n",
       "      <th id=\"T_434f9_level0_row53\" class=\"row_heading level0 row53\" >191</th>\n",
       "      <td id=\"T_434f9_row53_col0\" class=\"data row53 col0\" >2892</td>\n",
       "      <td id=\"T_434f9_row53_col1\" class=\"data row53 col1\" >20</td>\n",
       "      <td id=\"T_434f9_row53_col2\" class=\"data row53 col2\" >14</td>\n",
       "      <td id=\"T_434f9_row53_col3\" class=\"data row53 col3\" >70.00%</td>\n",
       "      <td id=\"T_434f9_row53_col4\" class=\"data row53 col4\" >30.00%</td>\n",
       "      <td id=\"T_434f9_row53_col5\" class=\"data row53 col5\" >3.81%</td>\n",
       "      <td id=\"T_434f9_row53_col6\" class=\"data row53 col6\" >-4.38%</td>\n",
       "      <td id=\"T_434f9_row53_col7\" class=\"data row53 col7\" >1.35%</td>\n",
       "      <td id=\"T_434f9_row53_col8\" class=\"data row53 col8\" >0.870000</td>\n",
       "    </tr>\n",
       "    <tr>\n",
       "      <th id=\"T_434f9_level0_row54\" class=\"row_heading level0 row54\" >276</th>\n",
       "      <td id=\"T_434f9_row54_col0\" class=\"data row54 col0\" >6189</td>\n",
       "      <td id=\"T_434f9_row54_col1\" class=\"data row54 col1\" >20</td>\n",
       "      <td id=\"T_434f9_row54_col2\" class=\"data row54 col2\" >14</td>\n",
       "      <td id=\"T_434f9_row54_col3\" class=\"data row54 col3\" >70.00%</td>\n",
       "      <td id=\"T_434f9_row54_col4\" class=\"data row54 col4\" >30.00%</td>\n",
       "      <td id=\"T_434f9_row54_col5\" class=\"data row54 col5\" >2.23%</td>\n",
       "      <td id=\"T_434f9_row54_col6\" class=\"data row54 col6\" >-4.60%</td>\n",
       "      <td id=\"T_434f9_row54_col7\" class=\"data row54 col7\" >0.18%</td>\n",
       "      <td id=\"T_434f9_row54_col8\" class=\"data row54 col8\" >0.480000</td>\n",
       "    </tr>\n",
       "    <tr>\n",
       "      <th id=\"T_434f9_level0_row55\" class=\"row_heading level0 row55\" >194</th>\n",
       "      <td id=\"T_434f9_row55_col0\" class=\"data row55 col0\" >1519</td>\n",
       "      <td id=\"T_434f9_row55_col1\" class=\"data row55 col1\" >16</td>\n",
       "      <td id=\"T_434f9_row55_col2\" class=\"data row55 col2\" >11</td>\n",
       "      <td id=\"T_434f9_row55_col3\" class=\"data row55 col3\" >68.75%</td>\n",
       "      <td id=\"T_434f9_row55_col4\" class=\"data row55 col4\" >31.25%</td>\n",
       "      <td id=\"T_434f9_row55_col5\" class=\"data row55 col5\" >9.94%</td>\n",
       "      <td id=\"T_434f9_row55_col6\" class=\"data row55 col6\" >-5.84%</td>\n",
       "      <td id=\"T_434f9_row55_col7\" class=\"data row55 col7\" >5.01%</td>\n",
       "      <td id=\"T_434f9_row55_col8\" class=\"data row55 col8\" >1.700000</td>\n",
       "    </tr>\n",
       "    <tr>\n",
       "      <th id=\"T_434f9_level0_row56\" class=\"row_heading level0 row56\" >200</th>\n",
       "      <td id=\"T_434f9_row56_col0\" class=\"data row56 col0\" >8081</td>\n",
       "      <td id=\"T_434f9_row56_col1\" class=\"data row56 col1\" >16</td>\n",
       "      <td id=\"T_434f9_row56_col2\" class=\"data row56 col2\" >11</td>\n",
       "      <td id=\"T_434f9_row56_col3\" class=\"data row56 col3\" >68.75%</td>\n",
       "      <td id=\"T_434f9_row56_col4\" class=\"data row56 col4\" >31.25%</td>\n",
       "      <td id=\"T_434f9_row56_col5\" class=\"data row56 col5\" >7.63%</td>\n",
       "      <td id=\"T_434f9_row56_col6\" class=\"data row56 col6\" >-6.77%</td>\n",
       "      <td id=\"T_434f9_row56_col7\" class=\"data row56 col7\" >3.13%</td>\n",
       "      <td id=\"T_434f9_row56_col8\" class=\"data row56 col8\" >1.130000</td>\n",
       "    </tr>\n",
       "    <tr>\n",
       "      <th id=\"T_434f9_level0_row57\" class=\"row_heading level0 row57\" >170</th>\n",
       "      <td id=\"T_434f9_row57_col0\" class=\"data row57 col0\" >2002</td>\n",
       "      <td id=\"T_434f9_row57_col1\" class=\"data row57 col1\" >19</td>\n",
       "      <td id=\"T_434f9_row57_col2\" class=\"data row57 col2\" >13</td>\n",
       "      <td id=\"T_434f9_row57_col3\" class=\"data row57 col3\" >68.42%</td>\n",
       "      <td id=\"T_434f9_row57_col4\" class=\"data row57 col4\" >31.58%</td>\n",
       "      <td id=\"T_434f9_row57_col5\" class=\"data row57 col5\" >6.39%</td>\n",
       "      <td id=\"T_434f9_row57_col6\" class=\"data row57 col6\" >-4.16%</td>\n",
       "      <td id=\"T_434f9_row57_col7\" class=\"data row57 col7\" >3.06%</td>\n",
       "      <td id=\"T_434f9_row57_col8\" class=\"data row57 col8\" >1.540000</td>\n",
       "    </tr>\n",
       "    <tr>\n",
       "      <th id=\"T_434f9_level0_row58\" class=\"row_heading level0 row58\" >233</th>\n",
       "      <td id=\"T_434f9_row58_col0\" class=\"data row58 col0\" >2006</td>\n",
       "      <td id=\"T_434f9_row58_col1\" class=\"data row58 col1\" >19</td>\n",
       "      <td id=\"T_434f9_row58_col2\" class=\"data row58 col2\" >13</td>\n",
       "      <td id=\"T_434f9_row58_col3\" class=\"data row58 col3\" >68.42%</td>\n",
       "      <td id=\"T_434f9_row58_col4\" class=\"data row58 col4\" >31.58%</td>\n",
       "      <td id=\"T_434f9_row58_col5\" class=\"data row58 col5\" >6.25%</td>\n",
       "      <td id=\"T_434f9_row58_col6\" class=\"data row58 col6\" >-5.05%</td>\n",
       "      <td id=\"T_434f9_row58_col7\" class=\"data row58 col7\" >2.68%</td>\n",
       "      <td id=\"T_434f9_row58_col8\" class=\"data row58 col8\" >1.240000</td>\n",
       "    </tr>\n",
       "    <tr>\n",
       "      <th id=\"T_434f9_level0_row59\" class=\"row_heading level0 row59\" >183</th>\n",
       "      <td id=\"T_434f9_row59_col0\" class=\"data row59 col0\" >1326</td>\n",
       "      <td id=\"T_434f9_row59_col1\" class=\"data row59 col1\" >19</td>\n",
       "      <td id=\"T_434f9_row59_col2\" class=\"data row59 col2\" >13</td>\n",
       "      <td id=\"T_434f9_row59_col3\" class=\"data row59 col3\" >68.42%</td>\n",
       "      <td id=\"T_434f9_row59_col4\" class=\"data row59 col4\" >31.58%</td>\n",
       "      <td id=\"T_434f9_row59_col5\" class=\"data row59 col5\" >5.85%</td>\n",
       "      <td id=\"T_434f9_row59_col6\" class=\"data row59 col6\" >-3.39%</td>\n",
       "      <td id=\"T_434f9_row59_col7\" class=\"data row59 col7\" >2.93%</td>\n",
       "      <td id=\"T_434f9_row59_col8\" class=\"data row59 col8\" >1.730000</td>\n",
       "    </tr>\n",
       "    <tr>\n",
       "      <th id=\"T_434f9_level0_row60\" class=\"row_heading level0 row60\" >235</th>\n",
       "      <td id=\"T_434f9_row60_col0\" class=\"data row60 col0\" >4904</td>\n",
       "      <td id=\"T_434f9_row60_col1\" class=\"data row60 col1\" >19</td>\n",
       "      <td id=\"T_434f9_row60_col2\" class=\"data row60 col2\" >13</td>\n",
       "      <td id=\"T_434f9_row60_col3\" class=\"data row60 col3\" >68.42%</td>\n",
       "      <td id=\"T_434f9_row60_col4\" class=\"data row60 col4\" >26.32%</td>\n",
       "      <td id=\"T_434f9_row60_col5\" class=\"data row60 col5\" >4.08%</td>\n",
       "      <td id=\"T_434f9_row60_col6\" class=\"data row60 col6\" >-2.47%</td>\n",
       "      <td id=\"T_434f9_row60_col7\" class=\"data row60 col7\" >2.14%</td>\n",
       "      <td id=\"T_434f9_row60_col8\" class=\"data row60 col8\" >1.650000</td>\n",
       "    </tr>\n",
       "    <tr>\n",
       "      <th id=\"T_434f9_level0_row61\" class=\"row_heading level0 row61\" >171</th>\n",
       "      <td id=\"T_434f9_row61_col0\" class=\"data row61 col0\" >3362</td>\n",
       "      <td id=\"T_434f9_row61_col1\" class=\"data row61 col1\" >6</td>\n",
       "      <td id=\"T_434f9_row61_col2\" class=\"data row61 col2\" >4</td>\n",
       "      <td id=\"T_434f9_row61_col3\" class=\"data row61 col3\" >66.67%</td>\n",
       "      <td id=\"T_434f9_row61_col4\" class=\"data row61 col4\" >33.33%</td>\n",
       "      <td id=\"T_434f9_row61_col5\" class=\"data row61 col5\" >16.53%</td>\n",
       "      <td id=\"T_434f9_row61_col6\" class=\"data row61 col6\" >-3.91%</td>\n",
       "      <td id=\"T_434f9_row61_col7\" class=\"data row61 col7\" >9.72%</td>\n",
       "      <td id=\"T_434f9_row61_col8\" class=\"data row61 col8\" >4.230000</td>\n",
       "    </tr>\n",
       "    <tr>\n",
       "      <th id=\"T_434f9_level0_row62\" class=\"row_heading level0 row62\" >83</th>\n",
       "      <td id=\"T_434f9_row62_col0\" class=\"data row62 col0\" >2486</td>\n",
       "      <td id=\"T_434f9_row62_col1\" class=\"data row62 col1\" >12</td>\n",
       "      <td id=\"T_434f9_row62_col2\" class=\"data row62 col2\" >8</td>\n",
       "      <td id=\"T_434f9_row62_col3\" class=\"data row62 col3\" >66.67%</td>\n",
       "      <td id=\"T_434f9_row62_col4\" class=\"data row62 col4\" >33.33%</td>\n",
       "      <td id=\"T_434f9_row62_col5\" class=\"data row62 col5\" >15.27%</td>\n",
       "      <td id=\"T_434f9_row62_col6\" class=\"data row62 col6\" >-8.65%</td>\n",
       "      <td id=\"T_434f9_row62_col7\" class=\"data row62 col7\" >7.30%</td>\n",
       "      <td id=\"T_434f9_row62_col8\" class=\"data row62 col8\" >1.770000</td>\n",
       "    </tr>\n",
       "    <tr>\n",
       "      <th id=\"T_434f9_level0_row63\" class=\"row_heading level0 row63\" >228</th>\n",
       "      <td id=\"T_434f9_row63_col0\" class=\"data row63 col0\" >3693</td>\n",
       "      <td id=\"T_434f9_row63_col1\" class=\"data row63 col1\" >9</td>\n",
       "      <td id=\"T_434f9_row63_col2\" class=\"data row63 col2\" >6</td>\n",
       "      <td id=\"T_434f9_row63_col3\" class=\"data row63 col3\" >66.67%</td>\n",
       "      <td id=\"T_434f9_row63_col4\" class=\"data row63 col4\" >33.33%</td>\n",
       "      <td id=\"T_434f9_row63_col5\" class=\"data row63 col5\" >11.89%</td>\n",
       "      <td id=\"T_434f9_row63_col6\" class=\"data row63 col6\" >-4.48%</td>\n",
       "      <td id=\"T_434f9_row63_col7\" class=\"data row63 col7\" >6.43%</td>\n",
       "      <td id=\"T_434f9_row63_col8\" class=\"data row63 col8\" >2.650000</td>\n",
       "    </tr>\n",
       "    <tr>\n",
       "      <th id=\"T_434f9_level0_row64\" class=\"row_heading level0 row64\" >145</th>\n",
       "      <td id=\"T_434f9_row64_col0\" class=\"data row64 col0\" >6125</td>\n",
       "      <td id=\"T_434f9_row64_col1\" class=\"data row64 col1\" >15</td>\n",
       "      <td id=\"T_434f9_row64_col2\" class=\"data row64 col2\" >10</td>\n",
       "      <td id=\"T_434f9_row64_col3\" class=\"data row64 col3\" >66.67%</td>\n",
       "      <td id=\"T_434f9_row64_col4\" class=\"data row64 col4\" >33.33%</td>\n",
       "      <td id=\"T_434f9_row64_col5\" class=\"data row64 col5\" >11.65%</td>\n",
       "      <td id=\"T_434f9_row64_col6\" class=\"data row64 col6\" >-6.99%</td>\n",
       "      <td id=\"T_434f9_row64_col7\" class=\"data row64 col7\" >5.44%</td>\n",
       "      <td id=\"T_434f9_row64_col8\" class=\"data row64 col8\" >1.670000</td>\n",
       "    </tr>\n",
       "    <tr>\n",
       "      <th id=\"T_434f9_level0_row65\" class=\"row_heading level0 row65\" >50</th>\n",
       "      <td id=\"T_434f9_row65_col0\" class=\"data row65 col0\" >3443</td>\n",
       "      <td id=\"T_434f9_row65_col1\" class=\"data row65 col1\" >15</td>\n",
       "      <td id=\"T_434f9_row65_col2\" class=\"data row65 col2\" >10</td>\n",
       "      <td id=\"T_434f9_row65_col3\" class=\"data row65 col3\" >66.67%</td>\n",
       "      <td id=\"T_434f9_row65_col4\" class=\"data row65 col4\" >33.33%</td>\n",
       "      <td id=\"T_434f9_row65_col5\" class=\"data row65 col5\" >7.50%</td>\n",
       "      <td id=\"T_434f9_row65_col6\" class=\"data row65 col6\" >-3.83%</td>\n",
       "      <td id=\"T_434f9_row65_col7\" class=\"data row65 col7\" >3.72%</td>\n",
       "      <td id=\"T_434f9_row65_col8\" class=\"data row65 col8\" >1.960000</td>\n",
       "    </tr>\n",
       "    <tr>\n",
       "      <th id=\"T_434f9_level0_row66\" class=\"row_heading level0 row66\" >279</th>\n",
       "      <td id=\"T_434f9_row66_col0\" class=\"data row66 col0\" >6197</td>\n",
       "      <td id=\"T_434f9_row66_col1\" class=\"data row66 col1\" >15</td>\n",
       "      <td id=\"T_434f9_row66_col2\" class=\"data row66 col2\" >10</td>\n",
       "      <td id=\"T_434f9_row66_col3\" class=\"data row66 col3\" >66.67%</td>\n",
       "      <td id=\"T_434f9_row66_col4\" class=\"data row66 col4\" >33.33%</td>\n",
       "      <td id=\"T_434f9_row66_col5\" class=\"data row66 col5\" >7.32%</td>\n",
       "      <td id=\"T_434f9_row66_col6\" class=\"data row66 col6\" >-7.88%</td>\n",
       "      <td id=\"T_434f9_row66_col7\" class=\"data row66 col7\" >2.25%</td>\n",
       "      <td id=\"T_434f9_row66_col8\" class=\"data row66 col8\" >0.930000</td>\n",
       "    </tr>\n",
       "    <tr>\n",
       "      <th id=\"T_434f9_level0_row67\" class=\"row_heading level0 row67\" >264</th>\n",
       "      <td id=\"T_434f9_row67_col0\" class=\"data row67 col0\" >8155</td>\n",
       "      <td id=\"T_434f9_row67_col1\" class=\"data row67 col1\" >12</td>\n",
       "      <td id=\"T_434f9_row67_col2\" class=\"data row67 col2\" >8</td>\n",
       "      <td id=\"T_434f9_row67_col3\" class=\"data row67 col3\" >66.67%</td>\n",
       "      <td id=\"T_434f9_row67_col4\" class=\"data row67 col4\" >33.33%</td>\n",
       "      <td id=\"T_434f9_row67_col5\" class=\"data row67 col5\" >7.17%</td>\n",
       "      <td id=\"T_434f9_row67_col6\" class=\"data row67 col6\" >-10.22%</td>\n",
       "      <td id=\"T_434f9_row67_col7\" class=\"data row67 col7\" >1.37%</td>\n",
       "      <td id=\"T_434f9_row67_col8\" class=\"data row67 col8\" >0.700000</td>\n",
       "    </tr>\n",
       "    <tr>\n",
       "      <th id=\"T_434f9_level0_row68\" class=\"row_heading level0 row68\" >179</th>\n",
       "      <td id=\"T_434f9_row68_col0\" class=\"data row68 col0\" >3563</td>\n",
       "      <td id=\"T_434f9_row68_col1\" class=\"data row68 col1\" >9</td>\n",
       "      <td id=\"T_434f9_row68_col2\" class=\"data row68 col2\" >6</td>\n",
       "      <td id=\"T_434f9_row68_col3\" class=\"data row68 col3\" >66.67%</td>\n",
       "      <td id=\"T_434f9_row68_col4\" class=\"data row68 col4\" >33.33%</td>\n",
       "      <td id=\"T_434f9_row68_col5\" class=\"data row68 col5\" >7.08%</td>\n",
       "      <td id=\"T_434f9_row68_col6\" class=\"data row68 col6\" >-2.27%</td>\n",
       "      <td id=\"T_434f9_row68_col7\" class=\"data row68 col7\" >3.96%</td>\n",
       "      <td id=\"T_434f9_row68_col8\" class=\"data row68 col8\" >3.120000</td>\n",
       "    </tr>\n",
       "    <tr>\n",
       "      <th id=\"T_434f9_level0_row69\" class=\"row_heading level0 row69\" >215</th>\n",
       "      <td id=\"T_434f9_row69_col0\" class=\"data row69 col0\" >8478</td>\n",
       "      <td id=\"T_434f9_row69_col1\" class=\"data row69 col1\" >6</td>\n",
       "      <td id=\"T_434f9_row69_col2\" class=\"data row69 col2\" >4</td>\n",
       "      <td id=\"T_434f9_row69_col3\" class=\"data row69 col3\" >66.67%</td>\n",
       "      <td id=\"T_434f9_row69_col4\" class=\"data row69 col4\" >33.33%</td>\n",
       "      <td id=\"T_434f9_row69_col5\" class=\"data row69 col5\" >6.74%</td>\n",
       "      <td id=\"T_434f9_row69_col6\" class=\"data row69 col6\" >-8.64%</td>\n",
       "      <td id=\"T_434f9_row69_col7\" class=\"data row69 col7\" >1.61%</td>\n",
       "      <td id=\"T_434f9_row69_col8\" class=\"data row69 col8\" >0.780000</td>\n",
       "    </tr>\n",
       "    <tr>\n",
       "      <th id=\"T_434f9_level0_row70\" class=\"row_heading level0 row70\" >159</th>\n",
       "      <td id=\"T_434f9_row70_col0\" class=\"data row70 col0\" >4979</td>\n",
       "      <td id=\"T_434f9_row70_col1\" class=\"data row70 col1\" >6</td>\n",
       "      <td id=\"T_434f9_row70_col2\" class=\"data row70 col2\" >4</td>\n",
       "      <td id=\"T_434f9_row70_col3\" class=\"data row70 col3\" >66.67%</td>\n",
       "      <td id=\"T_434f9_row70_col4\" class=\"data row70 col4\" >33.33%</td>\n",
       "      <td id=\"T_434f9_row70_col5\" class=\"data row70 col5\" >6.53%</td>\n",
       "      <td id=\"T_434f9_row70_col6\" class=\"data row70 col6\" >-4.23%</td>\n",
       "      <td id=\"T_434f9_row70_col7\" class=\"data row70 col7\" >2.94%</td>\n",
       "      <td id=\"T_434f9_row70_col8\" class=\"data row70 col8\" >1.540000</td>\n",
       "    </tr>\n",
       "    <tr>\n",
       "      <th id=\"T_434f9_level0_row71\" class=\"row_heading level0 row71\" >144</th>\n",
       "      <td id=\"T_434f9_row71_col0\" class=\"data row71 col0\" >1477</td>\n",
       "      <td id=\"T_434f9_row71_col1\" class=\"data row71 col1\" >21</td>\n",
       "      <td id=\"T_434f9_row71_col2\" class=\"data row71 col2\" >14</td>\n",
       "      <td id=\"T_434f9_row71_col3\" class=\"data row71 col3\" >66.67%</td>\n",
       "      <td id=\"T_434f9_row71_col4\" class=\"data row71 col4\" >33.33%</td>\n",
       "      <td id=\"T_434f9_row71_col5\" class=\"data row71 col5\" >6.25%</td>\n",
       "      <td id=\"T_434f9_row71_col6\" class=\"data row71 col6\" >-3.21%</td>\n",
       "      <td id=\"T_434f9_row71_col7\" class=\"data row71 col7\" >3.10%</td>\n",
       "      <td id=\"T_434f9_row71_col8\" class=\"data row71 col8\" >1.950000</td>\n",
       "    </tr>\n",
       "    <tr>\n",
       "      <th id=\"T_434f9_level0_row72\" class=\"row_heading level0 row72\" >103</th>\n",
       "      <td id=\"T_434f9_row72_col0\" class=\"data row72 col0\" >2881</td>\n",
       "      <td id=\"T_434f9_row72_col1\" class=\"data row72 col1\" >18</td>\n",
       "      <td id=\"T_434f9_row72_col2\" class=\"data row72 col2\" >12</td>\n",
       "      <td id=\"T_434f9_row72_col3\" class=\"data row72 col3\" >66.67%</td>\n",
       "      <td id=\"T_434f9_row72_col4\" class=\"data row72 col4\" >27.78%</td>\n",
       "      <td id=\"T_434f9_row72_col5\" class=\"data row72 col5\" >5.96%</td>\n",
       "      <td id=\"T_434f9_row72_col6\" class=\"data row72 col6\" >-4.86%</td>\n",
       "      <td id=\"T_434f9_row72_col7\" class=\"data row72 col7\" >2.62%</td>\n",
       "      <td id=\"T_434f9_row72_col8\" class=\"data row72 col8\" >1.230000</td>\n",
       "    </tr>\n",
       "    <tr>\n",
       "      <th id=\"T_434f9_level0_row73\" class=\"row_heading level0 row73\" >112</th>\n",
       "      <td id=\"T_434f9_row73_col0\" class=\"data row73 col0\" >8936</td>\n",
       "      <td id=\"T_434f9_row73_col1\" class=\"data row73 col1\" >12</td>\n",
       "      <td id=\"T_434f9_row73_col2\" class=\"data row73 col2\" >8</td>\n",
       "      <td id=\"T_434f9_row73_col3\" class=\"data row73 col3\" >66.67%</td>\n",
       "      <td id=\"T_434f9_row73_col4\" class=\"data row73 col4\" >33.33%</td>\n",
       "      <td id=\"T_434f9_row73_col5\" class=\"data row73 col5\" >5.96%</td>\n",
       "      <td id=\"T_434f9_row73_col6\" class=\"data row73 col6\" >-7.36%</td>\n",
       "      <td id=\"T_434f9_row73_col7\" class=\"data row73 col7\" >1.52%</td>\n",
       "      <td id=\"T_434f9_row73_col8\" class=\"data row73 col8\" >0.810000</td>\n",
       "    </tr>\n",
       "    <tr>\n",
       "      <th id=\"T_434f9_level0_row74\" class=\"row_heading level0 row74\" >68</th>\n",
       "      <td id=\"T_434f9_row74_col0\" class=\"data row74 col0\" >3044</td>\n",
       "      <td id=\"T_434f9_row74_col1\" class=\"data row74 col1\" >18</td>\n",
       "      <td id=\"T_434f9_row74_col2\" class=\"data row74 col2\" >12</td>\n",
       "      <td id=\"T_434f9_row74_col3\" class=\"data row74 col3\" >66.67%</td>\n",
       "      <td id=\"T_434f9_row74_col4\" class=\"data row74 col4\" >33.33%</td>\n",
       "      <td id=\"T_434f9_row74_col5\" class=\"data row74 col5\" >5.59%</td>\n",
       "      <td id=\"T_434f9_row74_col6\" class=\"data row74 col6\" >-7.20%</td>\n",
       "      <td id=\"T_434f9_row74_col7\" class=\"data row74 col7\" >1.33%</td>\n",
       "      <td id=\"T_434f9_row74_col8\" class=\"data row74 col8\" >0.780000</td>\n",
       "    </tr>\n",
       "    <tr>\n",
       "      <th id=\"T_434f9_level0_row75\" class=\"row_heading level0 row75\" >291</th>\n",
       "      <td id=\"T_434f9_row75_col0\" class=\"data row75 col0\" >3217</td>\n",
       "      <td id=\"T_434f9_row75_col1\" class=\"data row75 col1\" >12</td>\n",
       "      <td id=\"T_434f9_row75_col2\" class=\"data row75 col2\" >8</td>\n",
       "      <td id=\"T_434f9_row75_col3\" class=\"data row75 col3\" >66.67%</td>\n",
       "      <td id=\"T_434f9_row75_col4\" class=\"data row75 col4\" >33.33%</td>\n",
       "      <td id=\"T_434f9_row75_col5\" class=\"data row75 col5\" >5.49%</td>\n",
       "      <td id=\"T_434f9_row75_col6\" class=\"data row75 col6\" >-4.72%</td>\n",
       "      <td id=\"T_434f9_row75_col7\" class=\"data row75 col7\" >2.09%</td>\n",
       "      <td id=\"T_434f9_row75_col8\" class=\"data row75 col8\" >1.160000</td>\n",
       "    </tr>\n",
       "    <tr>\n",
       "      <th id=\"T_434f9_level0_row76\" class=\"row_heading level0 row76\" >35</th>\n",
       "      <td id=\"T_434f9_row76_col0\" class=\"data row76 col0\" >6176</td>\n",
       "      <td id=\"T_434f9_row76_col1\" class=\"data row76 col1\" >18</td>\n",
       "      <td id=\"T_434f9_row76_col2\" class=\"data row76 col2\" >12</td>\n",
       "      <td id=\"T_434f9_row76_col3\" class=\"data row76 col3\" >66.67%</td>\n",
       "      <td id=\"T_434f9_row76_col4\" class=\"data row76 col4\" >33.33%</td>\n",
       "      <td id=\"T_434f9_row76_col5\" class=\"data row76 col5\" >5.25%</td>\n",
       "      <td id=\"T_434f9_row76_col6\" class=\"data row76 col6\" >-5.25%</td>\n",
       "      <td id=\"T_434f9_row76_col7\" class=\"data row76 col7\" >1.75%</td>\n",
       "      <td id=\"T_434f9_row76_col8\" class=\"data row76 col8\" >1.000000</td>\n",
       "    </tr>\n",
       "    <tr>\n",
       "      <th id=\"T_434f9_level0_row77\" class=\"row_heading level0 row77\" >133</th>\n",
       "      <td id=\"T_434f9_row77_col0\" class=\"data row77 col0\" >2344</td>\n",
       "      <td id=\"T_434f9_row77_col1\" class=\"data row77 col1\" >9</td>\n",
       "      <td id=\"T_434f9_row77_col2\" class=\"data row77 col2\" >6</td>\n",
       "      <td id=\"T_434f9_row77_col3\" class=\"data row77 col3\" >66.67%</td>\n",
       "      <td id=\"T_434f9_row77_col4\" class=\"data row77 col4\" >33.33%</td>\n",
       "      <td id=\"T_434f9_row77_col5\" class=\"data row77 col5\" >5.04%</td>\n",
       "      <td id=\"T_434f9_row77_col6\" class=\"data row77 col6\" >-4.70%</td>\n",
       "      <td id=\"T_434f9_row77_col7\" class=\"data row77 col7\" >1.79%</td>\n",
       "      <td id=\"T_434f9_row77_col8\" class=\"data row77 col8\" >1.070000</td>\n",
       "    </tr>\n",
       "    <tr>\n",
       "      <th id=\"T_434f9_level0_row78\" class=\"row_heading level0 row78\" >41</th>\n",
       "      <td id=\"T_434f9_row78_col0\" class=\"data row78 col0\" >3036</td>\n",
       "      <td id=\"T_434f9_row78_col1\" class=\"data row78 col1\" >21</td>\n",
       "      <td id=\"T_434f9_row78_col2\" class=\"data row78 col2\" >14</td>\n",
       "      <td id=\"T_434f9_row78_col3\" class=\"data row78 col3\" >66.67%</td>\n",
       "      <td id=\"T_434f9_row78_col4\" class=\"data row78 col4\" >28.57%</td>\n",
       "      <td id=\"T_434f9_row78_col5\" class=\"data row78 col5\" >4.43%</td>\n",
       "      <td id=\"T_434f9_row78_col6\" class=\"data row78 col6\" >-5.19%</td>\n",
       "      <td id=\"T_434f9_row78_col7\" class=\"data row78 col7\" >1.47%</td>\n",
       "      <td id=\"T_434f9_row78_col8\" class=\"data row78 col8\" >0.850000</td>\n",
       "    </tr>\n",
       "    <tr>\n",
       "      <th id=\"T_434f9_level0_row79\" class=\"row_heading level0 row79\" >29</th>\n",
       "      <td id=\"T_434f9_row79_col0\" class=\"data row79 col0\" >6462</td>\n",
       "      <td id=\"T_434f9_row79_col1\" class=\"data row79 col1\" >6</td>\n",
       "      <td id=\"T_434f9_row79_col2\" class=\"data row79 col2\" >4</td>\n",
       "      <td id=\"T_434f9_row79_col3\" class=\"data row79 col3\" >66.67%</td>\n",
       "      <td id=\"T_434f9_row79_col4\" class=\"data row79 col4\" >33.33%</td>\n",
       "      <td id=\"T_434f9_row79_col5\" class=\"data row79 col5\" >4.42%</td>\n",
       "      <td id=\"T_434f9_row79_col6\" class=\"data row79 col6\" >-2.72%</td>\n",
       "      <td id=\"T_434f9_row79_col7\" class=\"data row79 col7\" >2.04%</td>\n",
       "      <td id=\"T_434f9_row79_col8\" class=\"data row79 col8\" >1.630000</td>\n",
       "    </tr>\n",
       "    <tr>\n",
       "      <th id=\"T_434f9_level0_row80\" class=\"row_heading level0 row80\" >85</th>\n",
       "      <td id=\"T_434f9_row80_col0\" class=\"data row80 col0\" >3702</td>\n",
       "      <td id=\"T_434f9_row80_col1\" class=\"data row80 col1\" >17</td>\n",
       "      <td id=\"T_434f9_row80_col2\" class=\"data row80 col2\" >11</td>\n",
       "      <td id=\"T_434f9_row80_col3\" class=\"data row80 col3\" >64.71%</td>\n",
       "      <td id=\"T_434f9_row80_col4\" class=\"data row80 col4\" >35.29%</td>\n",
       "      <td id=\"T_434f9_row80_col5\" class=\"data row80 col5\" >4.82%</td>\n",
       "      <td id=\"T_434f9_row80_col6\" class=\"data row80 col6\" >-4.33%</td>\n",
       "      <td id=\"T_434f9_row80_col7\" class=\"data row80 col7\" >1.59%</td>\n",
       "      <td id=\"T_434f9_row80_col8\" class=\"data row80 col8\" >1.110000</td>\n",
       "    </tr>\n",
       "    <tr>\n",
       "      <th id=\"T_434f9_level0_row81\" class=\"row_heading level0 row81\" >70</th>\n",
       "      <td id=\"T_434f9_row81_col0\" class=\"data row81 col0\" >2891</td>\n",
       "      <td id=\"T_434f9_row81_col1\" class=\"data row81 col1\" >17</td>\n",
       "      <td id=\"T_434f9_row81_col2\" class=\"data row81 col2\" >11</td>\n",
       "      <td id=\"T_434f9_row81_col3\" class=\"data row81 col3\" >64.71%</td>\n",
       "      <td id=\"T_434f9_row81_col4\" class=\"data row81 col4\" >35.29%</td>\n",
       "      <td id=\"T_434f9_row81_col5\" class=\"data row81 col5\" >4.40%</td>\n",
       "      <td id=\"T_434f9_row81_col6\" class=\"data row81 col6\" >-4.51%</td>\n",
       "      <td id=\"T_434f9_row81_col7\" class=\"data row81 col7\" >1.26%</td>\n",
       "      <td id=\"T_434f9_row81_col8\" class=\"data row81 col8\" >0.980000</td>\n",
       "    </tr>\n",
       "    <tr>\n",
       "      <th id=\"T_434f9_level0_row82\" class=\"row_heading level0 row82\" >220</th>\n",
       "      <td id=\"T_434f9_row82_col0\" class=\"data row82 col0\" >2027</td>\n",
       "      <td id=\"T_434f9_row82_col1\" class=\"data row82 col1\" >14</td>\n",
       "      <td id=\"T_434f9_row82_col2\" class=\"data row82 col2\" >9</td>\n",
       "      <td id=\"T_434f9_row82_col3\" class=\"data row82 col3\" >64.29%</td>\n",
       "      <td id=\"T_434f9_row82_col4\" class=\"data row82 col4\" >35.71%</td>\n",
       "      <td id=\"T_434f9_row82_col5\" class=\"data row82 col5\" >7.14%</td>\n",
       "      <td id=\"T_434f9_row82_col6\" class=\"data row82 col6\" >-3.53%</td>\n",
       "      <td id=\"T_434f9_row82_col7\" class=\"data row82 col7\" >3.33%</td>\n",
       "      <td id=\"T_434f9_row82_col8\" class=\"data row82 col8\" >2.020000</td>\n",
       "    </tr>\n",
       "    <tr>\n",
       "      <th id=\"T_434f9_level0_row83\" class=\"row_heading level0 row83\" >94</th>\n",
       "      <td id=\"T_434f9_row83_col0\" class=\"data row83 col0\" >3596</td>\n",
       "      <td id=\"T_434f9_row83_col1\" class=\"data row83 col1\" >14</td>\n",
       "      <td id=\"T_434f9_row83_col2\" class=\"data row83 col2\" >9</td>\n",
       "      <td id=\"T_434f9_row83_col3\" class=\"data row83 col3\" >64.29%</td>\n",
       "      <td id=\"T_434f9_row83_col4\" class=\"data row83 col4\" >35.71%</td>\n",
       "      <td id=\"T_434f9_row83_col5\" class=\"data row83 col5\" >5.96%</td>\n",
       "      <td id=\"T_434f9_row83_col6\" class=\"data row83 col6\" >-5.36%</td>\n",
       "      <td id=\"T_434f9_row83_col7\" class=\"data row83 col7\" >1.92%</td>\n",
       "      <td id=\"T_434f9_row83_col8\" class=\"data row83 col8\" >1.110000</td>\n",
       "    </tr>\n",
       "    <tr>\n",
       "      <th id=\"T_434f9_level0_row84\" class=\"row_heading level0 row84\" >205</th>\n",
       "      <td id=\"T_434f9_row84_col0\" class=\"data row84 col0\" >1582</td>\n",
       "      <td id=\"T_434f9_row84_col1\" class=\"data row84 col1\" >14</td>\n",
       "      <td id=\"T_434f9_row84_col2\" class=\"data row84 col2\" >9</td>\n",
       "      <td id=\"T_434f9_row84_col3\" class=\"data row84 col3\" >64.29%</td>\n",
       "      <td id=\"T_434f9_row84_col4\" class=\"data row84 col4\" >35.71%</td>\n",
       "      <td id=\"T_434f9_row84_col5\" class=\"data row84 col5\" >3.61%</td>\n",
       "      <td id=\"T_434f9_row84_col6\" class=\"data row84 col6\" >-5.88%</td>\n",
       "      <td id=\"T_434f9_row84_col7\" class=\"data row84 col7\" >0.22%</td>\n",
       "      <td id=\"T_434f9_row84_col8\" class=\"data row84 col8\" >0.610000</td>\n",
       "    </tr>\n",
       "    <tr>\n",
       "      <th id=\"T_434f9_level0_row85\" class=\"row_heading level0 row85\" >63</th>\n",
       "      <td id=\"T_434f9_row85_col0\" class=\"data row85 col0\" >3583</td>\n",
       "      <td id=\"T_434f9_row85_col1\" class=\"data row85 col1\" >11</td>\n",
       "      <td id=\"T_434f9_row85_col2\" class=\"data row85 col2\" >7</td>\n",
       "      <td id=\"T_434f9_row85_col3\" class=\"data row85 col3\" >63.64%</td>\n",
       "      <td id=\"T_434f9_row85_col4\" class=\"data row85 col4\" >36.36%</td>\n",
       "      <td id=\"T_434f9_row85_col5\" class=\"data row85 col5\" >12.22%</td>\n",
       "      <td id=\"T_434f9_row85_col6\" class=\"data row85 col6\" >-4.39%</td>\n",
       "      <td id=\"T_434f9_row85_col7\" class=\"data row85 col7\" >6.18%</td>\n",
       "      <td id=\"T_434f9_row85_col8\" class=\"data row85 col8\" >2.780000</td>\n",
       "    </tr>\n",
       "    <tr>\n",
       "      <th id=\"T_434f9_level0_row86\" class=\"row_heading level0 row86\" >271</th>\n",
       "      <td id=\"T_434f9_row86_col0\" class=\"data row86 col0\" >6122</td>\n",
       "      <td id=\"T_434f9_row86_col1\" class=\"data row86 col1\" >11</td>\n",
       "      <td id=\"T_434f9_row86_col2\" class=\"data row86 col2\" >7</td>\n",
       "      <td id=\"T_434f9_row86_col3\" class=\"data row86 col3\" >63.64%</td>\n",
       "      <td id=\"T_434f9_row86_col4\" class=\"data row86 col4\" >36.36%</td>\n",
       "      <td id=\"T_434f9_row86_col5\" class=\"data row86 col5\" >6.80%</td>\n",
       "      <td id=\"T_434f9_row86_col6\" class=\"data row86 col6\" >-4.47%</td>\n",
       "      <td id=\"T_434f9_row86_col7\" class=\"data row86 col7\" >2.70%</td>\n",
       "      <td id=\"T_434f9_row86_col8\" class=\"data row86 col8\" >1.520000</td>\n",
       "    </tr>\n",
       "    <tr>\n",
       "      <th id=\"T_434f9_level0_row87\" class=\"row_heading level0 row87\" >9</th>\n",
       "      <td id=\"T_434f9_row87_col0\" class=\"data row87 col0\" >2301</td>\n",
       "      <td id=\"T_434f9_row87_col1\" class=\"data row87 col1\" >22</td>\n",
       "      <td id=\"T_434f9_row87_col2\" class=\"data row87 col2\" >14</td>\n",
       "      <td id=\"T_434f9_row87_col3\" class=\"data row87 col3\" >63.64%</td>\n",
       "      <td id=\"T_434f9_row87_col4\" class=\"data row87 col4\" >36.36%</td>\n",
       "      <td id=\"T_434f9_row87_col5\" class=\"data row87 col5\" >5.00%</td>\n",
       "      <td id=\"T_434f9_row87_col6\" class=\"data row87 col6\" >-4.21%</td>\n",
       "      <td id=\"T_434f9_row87_col7\" class=\"data row87 col7\" >1.65%</td>\n",
       "      <td id=\"T_434f9_row87_col8\" class=\"data row87 col8\" >1.190000</td>\n",
       "    </tr>\n",
       "    <tr>\n",
       "      <th id=\"T_434f9_level0_row88\" class=\"row_heading level0 row88\" >178</th>\n",
       "      <td id=\"T_434f9_row88_col0\" class=\"data row88 col0\" >2347</td>\n",
       "      <td id=\"T_434f9_row88_col1\" class=\"data row88 col1\" >19</td>\n",
       "      <td id=\"T_434f9_row88_col2\" class=\"data row88 col2\" >12</td>\n",
       "      <td id=\"T_434f9_row88_col3\" class=\"data row88 col3\" >63.16%</td>\n",
       "      <td id=\"T_434f9_row88_col4\" class=\"data row88 col4\" >36.84%</td>\n",
       "      <td id=\"T_434f9_row88_col5\" class=\"data row88 col5\" >5.58%</td>\n",
       "      <td id=\"T_434f9_row88_col6\" class=\"data row88 col6\" >-6.17%</td>\n",
       "      <td id=\"T_434f9_row88_col7\" class=\"data row88 col7\" >1.25%</td>\n",
       "      <td id=\"T_434f9_row88_col8\" class=\"data row88 col8\" >0.900000</td>\n",
       "    </tr>\n",
       "    <tr>\n",
       "      <th id=\"T_434f9_level0_row89\" class=\"row_heading level0 row89\" >181</th>\n",
       "      <td id=\"T_434f9_row89_col0\" class=\"data row89 col0\" >1560</td>\n",
       "      <td id=\"T_434f9_row89_col1\" class=\"data row89 col1\" >19</td>\n",
       "      <td id=\"T_434f9_row89_col2\" class=\"data row89 col2\" >12</td>\n",
       "      <td id=\"T_434f9_row89_col3\" class=\"data row89 col3\" >63.16%</td>\n",
       "      <td id=\"T_434f9_row89_col4\" class=\"data row89 col4\" >36.84%</td>\n",
       "      <td id=\"T_434f9_row89_col5\" class=\"data row89 col5\" >5.57%</td>\n",
       "      <td id=\"T_434f9_row89_col6\" class=\"data row89 col6\" >-6.57%</td>\n",
       "      <td id=\"T_434f9_row89_col7\" class=\"data row89 col7\" >1.10%</td>\n",
       "      <td id=\"T_434f9_row89_col8\" class=\"data row89 col8\" >0.850000</td>\n",
       "    </tr>\n",
       "    <tr>\n",
       "      <th id=\"T_434f9_level0_row90\" class=\"row_heading level0 row90\" >148</th>\n",
       "      <td id=\"T_434f9_row90_col0\" class=\"data row90 col0\" >9914</td>\n",
       "      <td id=\"T_434f9_row90_col1\" class=\"data row90 col1\" >19</td>\n",
       "      <td id=\"T_434f9_row90_col2\" class=\"data row90 col2\" >12</td>\n",
       "      <td id=\"T_434f9_row90_col3\" class=\"data row90 col3\" >63.16%</td>\n",
       "      <td id=\"T_434f9_row90_col4\" class=\"data row90 col4\" >36.84%</td>\n",
       "      <td id=\"T_434f9_row90_col5\" class=\"data row90 col5\" >4.57%</td>\n",
       "      <td id=\"T_434f9_row90_col6\" class=\"data row90 col6\" >-4.61%</td>\n",
       "      <td id=\"T_434f9_row90_col7\" class=\"data row90 col7\" >1.19%</td>\n",
       "      <td id=\"T_434f9_row90_col8\" class=\"data row90 col8\" >0.990000</td>\n",
       "    </tr>\n",
       "    <tr>\n",
       "      <th id=\"T_434f9_level0_row91\" class=\"row_heading level0 row91\" >118</th>\n",
       "      <td id=\"T_434f9_row91_col0\" class=\"data row91 col0\" >1101</td>\n",
       "      <td id=\"T_434f9_row91_col1\" class=\"data row91 col1\" >19</td>\n",
       "      <td id=\"T_434f9_row91_col2\" class=\"data row91 col2\" >12</td>\n",
       "      <td id=\"T_434f9_row91_col3\" class=\"data row91 col3\" >63.16%</td>\n",
       "      <td id=\"T_434f9_row91_col4\" class=\"data row91 col4\" >36.84%</td>\n",
       "      <td id=\"T_434f9_row91_col5\" class=\"data row91 col5\" >4.46%</td>\n",
       "      <td id=\"T_434f9_row91_col6\" class=\"data row91 col6\" >-2.72%</td>\n",
       "      <td id=\"T_434f9_row91_col7\" class=\"data row91 col7\" >1.81%</td>\n",
       "      <td id=\"T_434f9_row91_col8\" class=\"data row91 col8\" >1.640000</td>\n",
       "    </tr>\n",
       "    <tr>\n",
       "      <th id=\"T_434f9_level0_row92\" class=\"row_heading level0 row92\" >134</th>\n",
       "      <td id=\"T_434f9_row92_col0\" class=\"data row92 col0\" >3515</td>\n",
       "      <td id=\"T_434f9_row92_col1\" class=\"data row92 col1\" >16</td>\n",
       "      <td id=\"T_434f9_row92_col2\" class=\"data row92 col2\" >10</td>\n",
       "      <td id=\"T_434f9_row92_col3\" class=\"data row92 col3\" >62.50%</td>\n",
       "      <td id=\"T_434f9_row92_col4\" class=\"data row92 col4\" >37.50%</td>\n",
       "      <td id=\"T_434f9_row92_col5\" class=\"data row92 col5\" >15.71%</td>\n",
       "      <td id=\"T_434f9_row92_col6\" class=\"data row92 col6\" >-4.43%</td>\n",
       "      <td id=\"T_434f9_row92_col7\" class=\"data row92 col7\" >8.16%</td>\n",
       "      <td id=\"T_434f9_row92_col8\" class=\"data row92 col8\" >3.550000</td>\n",
       "    </tr>\n",
       "    <tr>\n",
       "      <th id=\"T_434f9_level0_row93\" class=\"row_heading level0 row93\" >87</th>\n",
       "      <td id=\"T_434f9_row93_col0\" class=\"data row93 col0\" >3529</td>\n",
       "      <td id=\"T_434f9_row93_col1\" class=\"data row93 col1\" >16</td>\n",
       "      <td id=\"T_434f9_row93_col2\" class=\"data row93 col2\" >10</td>\n",
       "      <td id=\"T_434f9_row93_col3\" class=\"data row93 col3\" >62.50%</td>\n",
       "      <td id=\"T_434f9_row93_col4\" class=\"data row93 col4\" >37.50%</td>\n",
       "      <td id=\"T_434f9_row93_col5\" class=\"data row93 col5\" >10.31%</td>\n",
       "      <td id=\"T_434f9_row93_col6\" class=\"data row93 col6\" >-9.21%</td>\n",
       "      <td id=\"T_434f9_row93_col7\" class=\"data row93 col7\" >2.99%</td>\n",
       "      <td id=\"T_434f9_row93_col8\" class=\"data row93 col8\" >1.120000</td>\n",
       "    </tr>\n",
       "    <tr>\n",
       "      <th id=\"T_434f9_level0_row94\" class=\"row_heading level0 row94\" >28</th>\n",
       "      <td id=\"T_434f9_row94_col0\" class=\"data row94 col0\" >5347</td>\n",
       "      <td id=\"T_434f9_row94_col1\" class=\"data row94 col1\" >16</td>\n",
       "      <td id=\"T_434f9_row94_col2\" class=\"data row94 col2\" >10</td>\n",
       "      <td id=\"T_434f9_row94_col3\" class=\"data row94 col3\" >62.50%</td>\n",
       "      <td id=\"T_434f9_row94_col4\" class=\"data row94 col4\" >31.25%</td>\n",
       "      <td id=\"T_434f9_row94_col5\" class=\"data row94 col5\" >7.74%</td>\n",
       "      <td id=\"T_434f9_row94_col6\" class=\"data row94 col6\" >-8.82%</td>\n",
       "      <td id=\"T_434f9_row94_col7\" class=\"data row94 col7\" >2.08%</td>\n",
       "      <td id=\"T_434f9_row94_col8\" class=\"data row94 col8\" >0.880000</td>\n",
       "    </tr>\n",
       "    <tr>\n",
       "      <th id=\"T_434f9_level0_row95\" class=\"row_heading level0 row95\" >242</th>\n",
       "      <td id=\"T_434f9_row95_col0\" class=\"data row95 col0\" >3479</td>\n",
       "      <td id=\"T_434f9_row95_col1\" class=\"data row95 col1\" >16</td>\n",
       "      <td id=\"T_434f9_row95_col2\" class=\"data row95 col2\" >10</td>\n",
       "      <td id=\"T_434f9_row95_col3\" class=\"data row95 col3\" >62.50%</td>\n",
       "      <td id=\"T_434f9_row95_col4\" class=\"data row95 col4\" >37.50%</td>\n",
       "      <td id=\"T_434f9_row95_col5\" class=\"data row95 col5\" >4.22%</td>\n",
       "      <td id=\"T_434f9_row95_col6\" class=\"data row95 col6\" >-4.39%</td>\n",
       "      <td id=\"T_434f9_row95_col7\" class=\"data row95 col7\" >0.99%</td>\n",
       "      <td id=\"T_434f9_row95_col8\" class=\"data row95 col8\" >0.960000</td>\n",
       "    </tr>\n",
       "    <tr>\n",
       "      <th id=\"T_434f9_level0_row96\" class=\"row_heading level0 row96\" >244</th>\n",
       "      <td id=\"T_434f9_row96_col0\" class=\"data row96 col0\" >4919</td>\n",
       "      <td id=\"T_434f9_row96_col1\" class=\"data row96 col1\" >13</td>\n",
       "      <td id=\"T_434f9_row96_col2\" class=\"data row96 col2\" >8</td>\n",
       "      <td id=\"T_434f9_row96_col3\" class=\"data row96 col3\" >61.54%</td>\n",
       "      <td id=\"T_434f9_row96_col4\" class=\"data row96 col4\" >38.46%</td>\n",
       "      <td id=\"T_434f9_row96_col5\" class=\"data row96 col5\" >6.98%</td>\n",
       "      <td id=\"T_434f9_row96_col6\" class=\"data row96 col6\" >-9.94%</td>\n",
       "      <td id=\"T_434f9_row96_col7\" class=\"data row96 col7\" >0.47%</td>\n",
       "      <td id=\"T_434f9_row96_col8\" class=\"data row96 col8\" >0.700000</td>\n",
       "    </tr>\n",
       "    <tr>\n",
       "      <th id=\"T_434f9_level0_row97\" class=\"row_heading level0 row97\" >10</th>\n",
       "      <td id=\"T_434f9_row97_col0\" class=\"data row97 col0\" >4938</td>\n",
       "      <td id=\"T_434f9_row97_col1\" class=\"data row97 col1\" >13</td>\n",
       "      <td id=\"T_434f9_row97_col2\" class=\"data row97 col2\" >8</td>\n",
       "      <td id=\"T_434f9_row97_col3\" class=\"data row97 col3\" >61.54%</td>\n",
       "      <td id=\"T_434f9_row97_col4\" class=\"data row97 col4\" >38.46%</td>\n",
       "      <td id=\"T_434f9_row97_col5\" class=\"data row97 col5\" >4.86%</td>\n",
       "      <td id=\"T_434f9_row97_col6\" class=\"data row97 col6\" >-2.48%</td>\n",
       "      <td id=\"T_434f9_row97_col7\" class=\"data row97 col7\" >2.04%</td>\n",
       "      <td id=\"T_434f9_row97_col8\" class=\"data row97 col8\" >1.960000</td>\n",
       "    </tr>\n",
       "    <tr>\n",
       "      <th id=\"T_434f9_level0_row98\" class=\"row_heading level0 row98\" >153</th>\n",
       "      <td id=\"T_434f9_row98_col0\" class=\"data row98 col0\" >1476</td>\n",
       "      <td id=\"T_434f9_row98_col1\" class=\"data row98 col1\" >18</td>\n",
       "      <td id=\"T_434f9_row98_col2\" class=\"data row98 col2\" >11</td>\n",
       "      <td id=\"T_434f9_row98_col3\" class=\"data row98 col3\" >61.11%</td>\n",
       "      <td id=\"T_434f9_row98_col4\" class=\"data row98 col4\" >38.89%</td>\n",
       "      <td id=\"T_434f9_row98_col5\" class=\"data row98 col5\" >6.54%</td>\n",
       "      <td id=\"T_434f9_row98_col6\" class=\"data row98 col6\" >-4.03%</td>\n",
       "      <td id=\"T_434f9_row98_col7\" class=\"data row98 col7\" >2.43%</td>\n",
       "      <td id=\"T_434f9_row98_col8\" class=\"data row98 col8\" >1.620000</td>\n",
       "    </tr>\n",
       "    <tr>\n",
       "      <th id=\"T_434f9_level0_row99\" class=\"row_heading level0 row99\" >140</th>\n",
       "      <td id=\"T_434f9_row99_col0\" class=\"data row99 col0\" >1303</td>\n",
       "      <td id=\"T_434f9_row99_col1\" class=\"data row99 col1\" >18</td>\n",
       "      <td id=\"T_434f9_row99_col2\" class=\"data row99 col2\" >11</td>\n",
       "      <td id=\"T_434f9_row99_col3\" class=\"data row99 col3\" >61.11%</td>\n",
       "      <td id=\"T_434f9_row99_col4\" class=\"data row99 col4\" >38.89%</td>\n",
       "      <td id=\"T_434f9_row99_col5\" class=\"data row99 col5\" >2.92%</td>\n",
       "      <td id=\"T_434f9_row99_col6\" class=\"data row99 col6\" >-3.89%</td>\n",
       "      <td id=\"T_434f9_row99_col7\" class=\"data row99 col7\" >0.27%</td>\n",
       "      <td id=\"T_434f9_row99_col8\" class=\"data row99 col8\" >0.750000</td>\n",
       "    </tr>\n",
       "    <tr>\n",
       "      <th id=\"T_434f9_level0_row100\" class=\"row_heading level0 row100\" >141</th>\n",
       "      <td id=\"T_434f9_row100_col0\" class=\"data row100 col0\" >4768</td>\n",
       "      <td id=\"T_434f9_row100_col1\" class=\"data row100 col1\" >5</td>\n",
       "      <td id=\"T_434f9_row100_col2\" class=\"data row100 col2\" >3</td>\n",
       "      <td id=\"T_434f9_row100_col3\" class=\"data row100 col3\" >60.00%</td>\n",
       "      <td id=\"T_434f9_row100_col4\" class=\"data row100 col4\" >40.00%</td>\n",
       "      <td id=\"T_434f9_row100_col5\" class=\"data row100 col5\" >27.45%</td>\n",
       "      <td id=\"T_434f9_row100_col6\" class=\"data row100 col6\" >-9.81%</td>\n",
       "      <td id=\"T_434f9_row100_col7\" class=\"data row100 col7\" >12.55%</td>\n",
       "      <td id=\"T_434f9_row100_col8\" class=\"data row100 col8\" >2.800000</td>\n",
       "    </tr>\n",
       "    <tr>\n",
       "      <th id=\"T_434f9_level0_row101\" class=\"row_heading level0 row101\" >110</th>\n",
       "      <td id=\"T_434f9_row101_col0\" class=\"data row101 col0\" >8069</td>\n",
       "      <td id=\"T_434f9_row101_col1\" class=\"data row101 col1\" >10</td>\n",
       "      <td id=\"T_434f9_row101_col2\" class=\"data row101 col2\" >6</td>\n",
       "      <td id=\"T_434f9_row101_col3\" class=\"data row101 col3\" >60.00%</td>\n",
       "      <td id=\"T_434f9_row101_col4\" class=\"data row101 col4\" >40.00%</td>\n",
       "      <td id=\"T_434f9_row101_col5\" class=\"data row101 col5\" >14.31%</td>\n",
       "      <td id=\"T_434f9_row101_col6\" class=\"data row101 col6\" >-3.06%</td>\n",
       "      <td id=\"T_434f9_row101_col7\" class=\"data row101 col7\" >7.36%</td>\n",
       "      <td id=\"T_434f9_row101_col8\" class=\"data row101 col8\" >4.680000</td>\n",
       "    </tr>\n",
       "    <tr>\n",
       "      <th id=\"T_434f9_level0_row102\" class=\"row_heading level0 row102\" >131</th>\n",
       "      <td id=\"T_434f9_row102_col0\" class=\"data row102 col0\" >6223</td>\n",
       "      <td id=\"T_434f9_row102_col1\" class=\"data row102 col1\" >15</td>\n",
       "      <td id=\"T_434f9_row102_col2\" class=\"data row102 col2\" >9</td>\n",
       "      <td id=\"T_434f9_row102_col3\" class=\"data row102 col3\" >60.00%</td>\n",
       "      <td id=\"T_434f9_row102_col4\" class=\"data row102 col4\" >40.00%</td>\n",
       "      <td id=\"T_434f9_row102_col5\" class=\"data row102 col5\" >9.58%</td>\n",
       "      <td id=\"T_434f9_row102_col6\" class=\"data row102 col6\" >-8.68%</td>\n",
       "      <td id=\"T_434f9_row102_col7\" class=\"data row102 col7\" >2.28%</td>\n",
       "      <td id=\"T_434f9_row102_col8\" class=\"data row102 col8\" >1.100000</td>\n",
       "    </tr>\n",
       "    <tr>\n",
       "      <th id=\"T_434f9_level0_row103\" class=\"row_heading level0 row103\" >292</th>\n",
       "      <td id=\"T_434f9_row103_col0\" class=\"data row103 col0\" >2457</td>\n",
       "      <td id=\"T_434f9_row103_col1\" class=\"data row103 col1\" >10</td>\n",
       "      <td id=\"T_434f9_row103_col2\" class=\"data row103 col2\" >6</td>\n",
       "      <td id=\"T_434f9_row103_col3\" class=\"data row103 col3\" >60.00%</td>\n",
       "      <td id=\"T_434f9_row103_col4\" class=\"data row103 col4\" >30.00%</td>\n",
       "      <td id=\"T_434f9_row103_col5\" class=\"data row103 col5\" >8.76%</td>\n",
       "      <td id=\"T_434f9_row103_col6\" class=\"data row103 col6\" >-7.37%</td>\n",
       "      <td id=\"T_434f9_row103_col7\" class=\"data row103 col7\" >3.04%</td>\n",
       "      <td id=\"T_434f9_row103_col8\" class=\"data row103 col8\" >1.190000</td>\n",
       "    </tr>\n",
       "    <tr>\n",
       "      <th id=\"T_434f9_level0_row104\" class=\"row_heading level0 row104\" >67</th>\n",
       "      <td id=\"T_434f9_row104_col0\" class=\"data row104 col0\" >8210</td>\n",
       "      <td id=\"T_434f9_row104_col1\" class=\"data row104 col1\" >10</td>\n",
       "      <td id=\"T_434f9_row104_col2\" class=\"data row104 col2\" >6</td>\n",
       "      <td id=\"T_434f9_row104_col3\" class=\"data row104 col3\" >60.00%</td>\n",
       "      <td id=\"T_434f9_row104_col4\" class=\"data row104 col4\" >40.00%</td>\n",
       "      <td id=\"T_434f9_row104_col5\" class=\"data row104 col5\" >8.60%</td>\n",
       "      <td id=\"T_434f9_row104_col6\" class=\"data row104 col6\" >-5.68%</td>\n",
       "      <td id=\"T_434f9_row104_col7\" class=\"data row104 col7\" >2.89%</td>\n",
       "      <td id=\"T_434f9_row104_col8\" class=\"data row104 col8\" >1.510000</td>\n",
       "    </tr>\n",
       "    <tr>\n",
       "      <th id=\"T_434f9_level0_row105\" class=\"row_heading level0 row105\" >288</th>\n",
       "      <td id=\"T_434f9_row105_col0\" class=\"data row105 col0\" >2363</td>\n",
       "      <td id=\"T_434f9_row105_col1\" class=\"data row105 col1\" >10</td>\n",
       "      <td id=\"T_434f9_row105_col2\" class=\"data row105 col2\" >6</td>\n",
       "      <td id=\"T_434f9_row105_col3\" class=\"data row105 col3\" >60.00%</td>\n",
       "      <td id=\"T_434f9_row105_col4\" class=\"data row105 col4\" >40.00%</td>\n",
       "      <td id=\"T_434f9_row105_col5\" class=\"data row105 col5\" >6.42%</td>\n",
       "      <td id=\"T_434f9_row105_col6\" class=\"data row105 col6\" >-7.55%</td>\n",
       "      <td id=\"T_434f9_row105_col7\" class=\"data row105 col7\" >0.83%</td>\n",
       "      <td id=\"T_434f9_row105_col8\" class=\"data row105 col8\" >0.850000</td>\n",
       "    </tr>\n",
       "    <tr>\n",
       "      <th id=\"T_434f9_level0_row106\" class=\"row_heading level0 row106\" >241</th>\n",
       "      <td id=\"T_434f9_row106_col0\" class=\"data row106 col0\" >2236</td>\n",
       "      <td id=\"T_434f9_row106_col1\" class=\"data row106 col1\" >10</td>\n",
       "      <td id=\"T_434f9_row106_col2\" class=\"data row106 col2\" >6</td>\n",
       "      <td id=\"T_434f9_row106_col3\" class=\"data row106 col3\" >60.00%</td>\n",
       "      <td id=\"T_434f9_row106_col4\" class=\"data row106 col4\" >40.00%</td>\n",
       "      <td id=\"T_434f9_row106_col5\" class=\"data row106 col5\" >5.64%</td>\n",
       "      <td id=\"T_434f9_row106_col6\" class=\"data row106 col6\" >-5.70%</td>\n",
       "      <td id=\"T_434f9_row106_col7\" class=\"data row106 col7\" >1.10%</td>\n",
       "      <td id=\"T_434f9_row106_col8\" class=\"data row106 col8\" >0.990000</td>\n",
       "    </tr>\n",
       "    <tr>\n",
       "      <th id=\"T_434f9_level0_row107\" class=\"row_heading level0 row107\" >45</th>\n",
       "      <td id=\"T_434f9_row107_col0\" class=\"data row107 col0\" >3207</td>\n",
       "      <td id=\"T_434f9_row107_col1\" class=\"data row107 col1\" >5</td>\n",
       "      <td id=\"T_434f9_row107_col2\" class=\"data row107 col2\" >3</td>\n",
       "      <td id=\"T_434f9_row107_col3\" class=\"data row107 col3\" >60.00%</td>\n",
       "      <td id=\"T_434f9_row107_col4\" class=\"data row107 col4\" >40.00%</td>\n",
       "      <td id=\"T_434f9_row107_col5\" class=\"data row107 col5\" >5.31%</td>\n",
       "      <td id=\"T_434f9_row107_col6\" class=\"data row107 col6\" >-6.46%</td>\n",
       "      <td id=\"T_434f9_row107_col7\" class=\"data row107 col7\" >0.60%</td>\n",
       "      <td id=\"T_434f9_row107_col8\" class=\"data row107 col8\" >0.820000</td>\n",
       "    </tr>\n",
       "    <tr>\n",
       "      <th id=\"T_434f9_level0_row108\" class=\"row_heading level0 row108\" >40</th>\n",
       "      <td id=\"T_434f9_row108_col0\" class=\"data row108 col0\" >2313</td>\n",
       "      <td id=\"T_434f9_row108_col1\" class=\"data row108 col1\" >15</td>\n",
       "      <td id=\"T_434f9_row108_col2\" class=\"data row108 col2\" >9</td>\n",
       "      <td id=\"T_434f9_row108_col3\" class=\"data row108 col3\" >60.00%</td>\n",
       "      <td id=\"T_434f9_row108_col4\" class=\"data row108 col4\" >40.00%</td>\n",
       "      <td id=\"T_434f9_row108_col5\" class=\"data row108 col5\" >5.23%</td>\n",
       "      <td id=\"T_434f9_row108_col6\" class=\"data row108 col6\" >-5.82%</td>\n",
       "      <td id=\"T_434f9_row108_col7\" class=\"data row108 col7\" >0.81%</td>\n",
       "      <td id=\"T_434f9_row108_col8\" class=\"data row108 col8\" >0.900000</td>\n",
       "    </tr>\n",
       "    <tr>\n",
       "      <th id=\"T_434f9_level0_row109\" class=\"row_heading level0 row109\" >151</th>\n",
       "      <td id=\"T_434f9_row109_col0\" class=\"data row109 col0\" >2834</td>\n",
       "      <td id=\"T_434f9_row109_col1\" class=\"data row109 col1\" >10</td>\n",
       "      <td id=\"T_434f9_row109_col2\" class=\"data row109 col2\" >6</td>\n",
       "      <td id=\"T_434f9_row109_col3\" class=\"data row109 col3\" >60.00%</td>\n",
       "      <td id=\"T_434f9_row109_col4\" class=\"data row109 col4\" >40.00%</td>\n",
       "      <td id=\"T_434f9_row109_col5\" class=\"data row109 col5\" >4.70%</td>\n",
       "      <td id=\"T_434f9_row109_col6\" class=\"data row109 col6\" >-1.39%</td>\n",
       "      <td id=\"T_434f9_row109_col7\" class=\"data row109 col7\" >2.26%</td>\n",
       "      <td id=\"T_434f9_row109_col8\" class=\"data row109 col8\" >3.380000</td>\n",
       "    </tr>\n",
       "    <tr>\n",
       "      <th id=\"T_434f9_level0_row110\" class=\"row_heading level0 row110\" >269</th>\n",
       "      <td id=\"T_434f9_row110_col0\" class=\"data row110 col0\" >2009</td>\n",
       "      <td id=\"T_434f9_row110_col1\" class=\"data row110 col1\" >10</td>\n",
       "      <td id=\"T_434f9_row110_col2\" class=\"data row110 col2\" >6</td>\n",
       "      <td id=\"T_434f9_row110_col3\" class=\"data row110 col3\" >60.00%</td>\n",
       "      <td id=\"T_434f9_row110_col4\" class=\"data row110 col4\" >40.00%</td>\n",
       "      <td id=\"T_434f9_row110_col5\" class=\"data row110 col5\" >3.29%</td>\n",
       "      <td id=\"T_434f9_row110_col6\" class=\"data row110 col6\" >-3.30%</td>\n",
       "      <td id=\"T_434f9_row110_col7\" class=\"data row110 col7\" >0.65%</td>\n",
       "      <td id=\"T_434f9_row110_col8\" class=\"data row110 col8\" >1.000000</td>\n",
       "    </tr>\n",
       "    <tr>\n",
       "      <th id=\"T_434f9_level0_row111\" class=\"row_heading level0 row111\" >250</th>\n",
       "      <td id=\"T_434f9_row111_col0\" class=\"data row111 col0\" >2615</td>\n",
       "      <td id=\"T_434f9_row111_col1\" class=\"data row111 col1\" >17</td>\n",
       "      <td id=\"T_434f9_row111_col2\" class=\"data row111 col2\" >10</td>\n",
       "      <td id=\"T_434f9_row111_col3\" class=\"data row111 col3\" >58.82%</td>\n",
       "      <td id=\"T_434f9_row111_col4\" class=\"data row111 col4\" >41.18%</td>\n",
       "      <td id=\"T_434f9_row111_col5\" class=\"data row111 col5\" >10.96%</td>\n",
       "      <td id=\"T_434f9_row111_col6\" class=\"data row111 col6\" >-5.93%</td>\n",
       "      <td id=\"T_434f9_row111_col7\" class=\"data row111 col7\" >4.00%</td>\n",
       "      <td id=\"T_434f9_row111_col8\" class=\"data row111 col8\" >1.850000</td>\n",
       "    </tr>\n",
       "    <tr>\n",
       "      <th id=\"T_434f9_level0_row112\" class=\"row_heading level0 row112\" >6</th>\n",
       "      <td id=\"T_434f9_row112_col0\" class=\"data row112 col0\" >3017</td>\n",
       "      <td id=\"T_434f9_row112_col1\" class=\"data row112 col1\" >17</td>\n",
       "      <td id=\"T_434f9_row112_col2\" class=\"data row112 col2\" >10</td>\n",
       "      <td id=\"T_434f9_row112_col3\" class=\"data row112 col3\" >58.82%</td>\n",
       "      <td id=\"T_434f9_row112_col4\" class=\"data row112 col4\" >41.18%</td>\n",
       "      <td id=\"T_434f9_row112_col5\" class=\"data row112 col5\" >8.28%</td>\n",
       "      <td id=\"T_434f9_row112_col6\" class=\"data row112 col6\" >-6.93%</td>\n",
       "      <td id=\"T_434f9_row112_col7\" class=\"data row112 col7\" >2.02%</td>\n",
       "      <td id=\"T_434f9_row112_col8\" class=\"data row112 col8\" >1.190000</td>\n",
       "    </tr>\n",
       "    <tr>\n",
       "      <th id=\"T_434f9_level0_row113\" class=\"row_heading level0 row113\" >127</th>\n",
       "      <td id=\"T_434f9_row113_col0\" class=\"data row113 col0\" >8234</td>\n",
       "      <td id=\"T_434f9_row113_col1\" class=\"data row113 col1\" >17</td>\n",
       "      <td id=\"T_434f9_row113_col2\" class=\"data row113 col2\" >10</td>\n",
       "      <td id=\"T_434f9_row113_col3\" class=\"data row113 col3\" >58.82%</td>\n",
       "      <td id=\"T_434f9_row113_col4\" class=\"data row113 col4\" >41.18%</td>\n",
       "      <td id=\"T_434f9_row113_col5\" class=\"data row113 col5\" >8.25%</td>\n",
       "      <td id=\"T_434f9_row113_col6\" class=\"data row113 col6\" >-4.59%</td>\n",
       "      <td id=\"T_434f9_row113_col7\" class=\"data row113 col7\" >2.96%</td>\n",
       "      <td id=\"T_434f9_row113_col8\" class=\"data row113 col8\" >1.800000</td>\n",
       "    </tr>\n",
       "    <tr>\n",
       "      <th id=\"T_434f9_level0_row114\" class=\"row_heading level0 row114\" >59</th>\n",
       "      <td id=\"T_434f9_row114_col0\" class=\"data row114 col0\" >1319</td>\n",
       "      <td id=\"T_434f9_row114_col1\" class=\"data row114 col1\" >17</td>\n",
       "      <td id=\"T_434f9_row114_col2\" class=\"data row114 col2\" >10</td>\n",
       "      <td id=\"T_434f9_row114_col3\" class=\"data row114 col3\" >58.82%</td>\n",
       "      <td id=\"T_434f9_row114_col4\" class=\"data row114 col4\" >41.18%</td>\n",
       "      <td id=\"T_434f9_row114_col5\" class=\"data row114 col5\" >6.02%</td>\n",
       "      <td id=\"T_434f9_row114_col6\" class=\"data row114 col6\" >-5.89%</td>\n",
       "      <td id=\"T_434f9_row114_col7\" class=\"data row114 col7\" >1.12%</td>\n",
       "      <td id=\"T_434f9_row114_col8\" class=\"data row114 col8\" >1.020000</td>\n",
       "    </tr>\n",
       "    <tr>\n",
       "      <th id=\"T_434f9_level0_row115\" class=\"row_heading level0 row115\" >0</th>\n",
       "      <td id=\"T_434f9_row115_col0\" class=\"data row115 col0\" >2330</td>\n",
       "      <td id=\"T_434f9_row115_col1\" class=\"data row115 col1\" >34</td>\n",
       "      <td id=\"T_434f9_row115_col2\" class=\"data row115 col2\" >20</td>\n",
       "      <td id=\"T_434f9_row115_col3\" class=\"data row115 col3\" >58.82%</td>\n",
       "      <td id=\"T_434f9_row115_col4\" class=\"data row115 col4\" >38.24%</td>\n",
       "      <td id=\"T_434f9_row115_col5\" class=\"data row115 col5\" >5.00%</td>\n",
       "      <td id=\"T_434f9_row115_col6\" class=\"data row115 col6\" >-4.46%</td>\n",
       "      <td id=\"T_434f9_row115_col7\" class=\"data row115 col7\" >1.24%</td>\n",
       "      <td id=\"T_434f9_row115_col8\" class=\"data row115 col8\" >1.120000</td>\n",
       "    </tr>\n",
       "    <tr>\n",
       "      <th id=\"T_434f9_level0_row116\" class=\"row_heading level0 row116\" >52</th>\n",
       "      <td id=\"T_434f9_row116_col0\" class=\"data row116 col0\" >2059</td>\n",
       "      <td id=\"T_434f9_row116_col1\" class=\"data row116 col1\" >17</td>\n",
       "      <td id=\"T_434f9_row116_col2\" class=\"data row116 col2\" >10</td>\n",
       "      <td id=\"T_434f9_row116_col3\" class=\"data row116 col3\" >58.82%</td>\n",
       "      <td id=\"T_434f9_row116_col4\" class=\"data row116 col4\" >41.18%</td>\n",
       "      <td id=\"T_434f9_row116_col5\" class=\"data row116 col5\" >4.96%</td>\n",
       "      <td id=\"T_434f9_row116_col6\" class=\"data row116 col6\" >-2.02%</td>\n",
       "      <td id=\"T_434f9_row116_col7\" class=\"data row116 col7\" >2.09%</td>\n",
       "      <td id=\"T_434f9_row116_col8\" class=\"data row116 col8\" >2.460000</td>\n",
       "    </tr>\n",
       "    <tr>\n",
       "      <th id=\"T_434f9_level0_row117\" class=\"row_heading level0 row117\" >287</th>\n",
       "      <td id=\"T_434f9_row117_col0\" class=\"data row117 col0\" >2801</td>\n",
       "      <td id=\"T_434f9_row117_col1\" class=\"data row117 col1\" >17</td>\n",
       "      <td id=\"T_434f9_row117_col2\" class=\"data row117 col2\" >10</td>\n",
       "      <td id=\"T_434f9_row117_col3\" class=\"data row117 col3\" >58.82%</td>\n",
       "      <td id=\"T_434f9_row117_col4\" class=\"data row117 col4\" >35.29%</td>\n",
       "      <td id=\"T_434f9_row117_col5\" class=\"data row117 col5\" >4.95%</td>\n",
       "      <td id=\"T_434f9_row117_col6\" class=\"data row117 col6\" >-3.66%</td>\n",
       "      <td id=\"T_434f9_row117_col7\" class=\"data row117 col7\" >1.62%</td>\n",
       "      <td id=\"T_434f9_row117_col8\" class=\"data row117 col8\" >1.350000</td>\n",
       "    </tr>\n",
       "    <tr>\n",
       "      <th id=\"T_434f9_level0_row118\" class=\"row_heading level0 row118\" >217</th>\n",
       "      <td id=\"T_434f9_row118_col0\" class=\"data row118 col0\" >2464</td>\n",
       "      <td id=\"T_434f9_row118_col1\" class=\"data row118 col1\" >17</td>\n",
       "      <td id=\"T_434f9_row118_col2\" class=\"data row118 col2\" >10</td>\n",
       "      <td id=\"T_434f9_row118_col3\" class=\"data row118 col3\" >58.82%</td>\n",
       "      <td id=\"T_434f9_row118_col4\" class=\"data row118 col4\" >41.18%</td>\n",
       "      <td id=\"T_434f9_row118_col5\" class=\"data row118 col5\" >4.55%</td>\n",
       "      <td id=\"T_434f9_row118_col6\" class=\"data row118 col6\" >-3.45%</td>\n",
       "      <td id=\"T_434f9_row118_col7\" class=\"data row118 col7\" >1.26%</td>\n",
       "      <td id=\"T_434f9_row118_col8\" class=\"data row118 col8\" >1.320000</td>\n",
       "    </tr>\n",
       "    <tr>\n",
       "      <th id=\"T_434f9_level0_row119\" class=\"row_heading level0 row119\" >275</th>\n",
       "      <td id=\"T_434f9_row119_col0\" class=\"data row119 col0\" >3689</td>\n",
       "      <td id=\"T_434f9_row119_col1\" class=\"data row119 col1\" >12</td>\n",
       "      <td id=\"T_434f9_row119_col2\" class=\"data row119 col2\" >7</td>\n",
       "      <td id=\"T_434f9_row119_col3\" class=\"data row119 col3\" >58.33%</td>\n",
       "      <td id=\"T_434f9_row119_col4\" class=\"data row119 col4\" >41.67%</td>\n",
       "      <td id=\"T_434f9_row119_col5\" class=\"data row119 col5\" >8.21%</td>\n",
       "      <td id=\"T_434f9_row119_col6\" class=\"data row119 col6\" >-6.78%</td>\n",
       "      <td id=\"T_434f9_row119_col7\" class=\"data row119 col7\" >1.96%</td>\n",
       "      <td id=\"T_434f9_row119_col8\" class=\"data row119 col8\" >1.210000</td>\n",
       "    </tr>\n",
       "    <tr>\n",
       "      <th id=\"T_434f9_level0_row120\" class=\"row_heading level0 row120\" >14</th>\n",
       "      <td id=\"T_434f9_row120_col0\" class=\"data row120 col0\" >2454</td>\n",
       "      <td id=\"T_434f9_row120_col1\" class=\"data row120 col1\" >24</td>\n",
       "      <td id=\"T_434f9_row120_col2\" class=\"data row120 col2\" >14</td>\n",
       "      <td id=\"T_434f9_row120_col3\" class=\"data row120 col3\" >58.33%</td>\n",
       "      <td id=\"T_434f9_row120_col4\" class=\"data row120 col4\" >41.67%</td>\n",
       "      <td id=\"T_434f9_row120_col5\" class=\"data row120 col5\" >7.72%</td>\n",
       "      <td id=\"T_434f9_row120_col6\" class=\"data row120 col6\" >-6.73%</td>\n",
       "      <td id=\"T_434f9_row120_col7\" class=\"data row120 col7\" >1.70%</td>\n",
       "      <td id=\"T_434f9_row120_col8\" class=\"data row120 col8\" >1.150000</td>\n",
       "    </tr>\n",
       "    <tr>\n",
       "      <th id=\"T_434f9_level0_row121\" class=\"row_heading level0 row121\" >96</th>\n",
       "      <td id=\"T_434f9_row121_col0\" class=\"data row121 col0\" >2367</td>\n",
       "      <td id=\"T_434f9_row121_col1\" class=\"data row121 col1\" >12</td>\n",
       "      <td id=\"T_434f9_row121_col2\" class=\"data row121 col2\" >7</td>\n",
       "      <td id=\"T_434f9_row121_col3\" class=\"data row121 col3\" >58.33%</td>\n",
       "      <td id=\"T_434f9_row121_col4\" class=\"data row121 col4\" >41.67%</td>\n",
       "      <td id=\"T_434f9_row121_col5\" class=\"data row121 col5\" >5.81%</td>\n",
       "      <td id=\"T_434f9_row121_col6\" class=\"data row121 col6\" >-6.82%</td>\n",
       "      <td id=\"T_434f9_row121_col7\" class=\"data row121 col7\" >0.55%</td>\n",
       "      <td id=\"T_434f9_row121_col8\" class=\"data row121 col8\" >0.850000</td>\n",
       "    </tr>\n",
       "    <tr>\n",
       "      <th id=\"T_434f9_level0_row122\" class=\"row_heading level0 row122\" >8</th>\n",
       "      <td id=\"T_434f9_row122_col0\" class=\"data row122 col0\" >5483</td>\n",
       "      <td id=\"T_434f9_row122_col1\" class=\"data row122 col1\" >19</td>\n",
       "      <td id=\"T_434f9_row122_col2\" class=\"data row122 col2\" >11</td>\n",
       "      <td id=\"T_434f9_row122_col3\" class=\"data row122 col3\" >57.89%</td>\n",
       "      <td id=\"T_434f9_row122_col4\" class=\"data row122 col4\" >42.11%</td>\n",
       "      <td id=\"T_434f9_row122_col5\" class=\"data row122 col5\" >8.27%</td>\n",
       "      <td id=\"T_434f9_row122_col6\" class=\"data row122 col6\" >-4.27%</td>\n",
       "      <td id=\"T_434f9_row122_col7\" class=\"data row122 col7\" >2.99%</td>\n",
       "      <td id=\"T_434f9_row122_col8\" class=\"data row122 col8\" >1.940000</td>\n",
       "    </tr>\n",
       "    <tr>\n",
       "      <th id=\"T_434f9_level0_row123\" class=\"row_heading level0 row123\" >5</th>\n",
       "      <td id=\"T_434f9_row123_col0\" class=\"data row123 col0\" >3231</td>\n",
       "      <td id=\"T_434f9_row123_col1\" class=\"data row123 col1\" >19</td>\n",
       "      <td id=\"T_434f9_row123_col2\" class=\"data row123 col2\" >11</td>\n",
       "      <td id=\"T_434f9_row123_col3\" class=\"data row123 col3\" >57.89%</td>\n",
       "      <td id=\"T_434f9_row123_col4\" class=\"data row123 col4\" >42.11%</td>\n",
       "      <td id=\"T_434f9_row123_col5\" class=\"data row123 col5\" >8.21%</td>\n",
       "      <td id=\"T_434f9_row123_col6\" class=\"data row123 col6\" >-8.21%</td>\n",
       "      <td id=\"T_434f9_row123_col7\" class=\"data row123 col7\" >1.30%</td>\n",
       "      <td id=\"T_434f9_row123_col8\" class=\"data row123 col8\" >1.000000</td>\n",
       "    </tr>\n",
       "    <tr>\n",
       "      <th id=\"T_434f9_level0_row124\" class=\"row_heading level0 row124\" >73</th>\n",
       "      <td id=\"T_434f9_row124_col0\" class=\"data row124 col0\" >3042</td>\n",
       "      <td id=\"T_434f9_row124_col1\" class=\"data row124 col1\" >19</td>\n",
       "      <td id=\"T_434f9_row124_col2\" class=\"data row124 col2\" >11</td>\n",
       "      <td id=\"T_434f9_row124_col3\" class=\"data row124 col3\" >57.89%</td>\n",
       "      <td id=\"T_434f9_row124_col4\" class=\"data row124 col4\" >42.11%</td>\n",
       "      <td id=\"T_434f9_row124_col5\" class=\"data row124 col5\" >5.79%</td>\n",
       "      <td id=\"T_434f9_row124_col6\" class=\"data row124 col6\" >-5.33%</td>\n",
       "      <td id=\"T_434f9_row124_col7\" class=\"data row124 col7\" >1.11%</td>\n",
       "      <td id=\"T_434f9_row124_col8\" class=\"data row124 col8\" >1.090000</td>\n",
       "    </tr>\n",
       "    <tr>\n",
       "      <th id=\"T_434f9_level0_row125\" class=\"row_heading level0 row125\" >245</th>\n",
       "      <td id=\"T_434f9_row125_col0\" class=\"data row125 col0\" >2395</td>\n",
       "      <td id=\"T_434f9_row125_col1\" class=\"data row125 col1\" >19</td>\n",
       "      <td id=\"T_434f9_row125_col2\" class=\"data row125 col2\" >11</td>\n",
       "      <td id=\"T_434f9_row125_col3\" class=\"data row125 col3\" >57.89%</td>\n",
       "      <td id=\"T_434f9_row125_col4\" class=\"data row125 col4\" >36.84%</td>\n",
       "      <td id=\"T_434f9_row125_col5\" class=\"data row125 col5\" >5.11%</td>\n",
       "      <td id=\"T_434f9_row125_col6\" class=\"data row125 col6\" >-4.54%</td>\n",
       "      <td id=\"T_434f9_row125_col7\" class=\"data row125 col7\" >1.29%</td>\n",
       "      <td id=\"T_434f9_row125_col8\" class=\"data row125 col8\" >1.130000</td>\n",
       "    </tr>\n",
       "    <tr>\n",
       "      <th id=\"T_434f9_level0_row126\" class=\"row_heading level0 row126\" >223</th>\n",
       "      <td id=\"T_434f9_row126_col0\" class=\"data row126 col0\" >3260</td>\n",
       "      <td id=\"T_434f9_row126_col1\" class=\"data row126 col1\" >14</td>\n",
       "      <td id=\"T_434f9_row126_col2\" class=\"data row126 col2\" >8</td>\n",
       "      <td id=\"T_434f9_row126_col3\" class=\"data row126 col3\" >57.14%</td>\n",
       "      <td id=\"T_434f9_row126_col4\" class=\"data row126 col4\" >42.86%</td>\n",
       "      <td id=\"T_434f9_row126_col5\" class=\"data row126 col5\" >7.90%</td>\n",
       "      <td id=\"T_434f9_row126_col6\" class=\"data row126 col6\" >-4.32%</td>\n",
       "      <td id=\"T_434f9_row126_col7\" class=\"data row126 col7\" >2.66%</td>\n",
       "      <td id=\"T_434f9_row126_col8\" class=\"data row126 col8\" >1.830000</td>\n",
       "    </tr>\n",
       "    <tr>\n",
       "      <th id=\"T_434f9_level0_row127\" class=\"row_heading level0 row127\" >17</th>\n",
       "      <td id=\"T_434f9_row127_col0\" class=\"data row127 col0\" >1513</td>\n",
       "      <td id=\"T_434f9_row127_col1\" class=\"data row127 col1\" >21</td>\n",
       "      <td id=\"T_434f9_row127_col2\" class=\"data row127 col2\" >12</td>\n",
       "      <td id=\"T_434f9_row127_col3\" class=\"data row127 col3\" >57.14%</td>\n",
       "      <td id=\"T_434f9_row127_col4\" class=\"data row127 col4\" >33.33%</td>\n",
       "      <td id=\"T_434f9_row127_col5\" class=\"data row127 col5\" >6.38%</td>\n",
       "      <td id=\"T_434f9_row127_col6\" class=\"data row127 col6\" >-4.21%</td>\n",
       "      <td id=\"T_434f9_row127_col7\" class=\"data row127 col7\" >2.24%</td>\n",
       "      <td id=\"T_434f9_row127_col8\" class=\"data row127 col8\" >1.520000</td>\n",
       "    </tr>\n",
       "    <tr>\n",
       "      <th id=\"T_434f9_level0_row128\" class=\"row_heading level0 row128\" >176</th>\n",
       "      <td id=\"T_434f9_row128_col0\" class=\"data row128 col0\" >1590</td>\n",
       "      <td id=\"T_434f9_row128_col1\" class=\"data row128 col1\" >14</td>\n",
       "      <td id=\"T_434f9_row128_col2\" class=\"data row128 col2\" >8</td>\n",
       "      <td id=\"T_434f9_row128_col3\" class=\"data row128 col3\" >57.14%</td>\n",
       "      <td id=\"T_434f9_row128_col4\" class=\"data row128 col4\" >42.86%</td>\n",
       "      <td id=\"T_434f9_row128_col5\" class=\"data row128 col5\" >5.82%</td>\n",
       "      <td id=\"T_434f9_row128_col6\" class=\"data row128 col6\" >-7.34%</td>\n",
       "      <td id=\"T_434f9_row128_col7\" class=\"data row128 col7\" >0.18%</td>\n",
       "      <td id=\"T_434f9_row128_col8\" class=\"data row128 col8\" >0.790000</td>\n",
       "    </tr>\n",
       "    <tr>\n",
       "      <th id=\"T_434f9_level0_row129\" class=\"row_heading level0 row129\" >224</th>\n",
       "      <td id=\"T_434f9_row129_col0\" class=\"data row129 col0\" >6593</td>\n",
       "      <td id=\"T_434f9_row129_col1\" class=\"data row129 col1\" >7</td>\n",
       "      <td id=\"T_434f9_row129_col2\" class=\"data row129 col2\" >4</td>\n",
       "      <td id=\"T_434f9_row129_col3\" class=\"data row129 col3\" >57.14%</td>\n",
       "      <td id=\"T_434f9_row129_col4\" class=\"data row129 col4\" >42.86%</td>\n",
       "      <td id=\"T_434f9_row129_col5\" class=\"data row129 col5\" >2.58%</td>\n",
       "      <td id=\"T_434f9_row129_col6\" class=\"data row129 col6\" >-1.89%</td>\n",
       "      <td id=\"T_434f9_row129_col7\" class=\"data row129 col7\" >0.66%</td>\n",
       "      <td id=\"T_434f9_row129_col8\" class=\"data row129 col8\" >1.370000</td>\n",
       "    </tr>\n",
       "    <tr>\n",
       "      <th id=\"T_434f9_level0_row130\" class=\"row_heading level0 row130\" >56</th>\n",
       "      <td id=\"T_434f9_row130_col0\" class=\"data row130 col0\" >8054</td>\n",
       "      <td id=\"T_434f9_row130_col1\" class=\"data row130 col1\" >16</td>\n",
       "      <td id=\"T_434f9_row130_col2\" class=\"data row130 col2\" >9</td>\n",
       "      <td id=\"T_434f9_row130_col3\" class=\"data row130 col3\" >56.25%</td>\n",
       "      <td id=\"T_434f9_row130_col4\" class=\"data row130 col4\" >43.75%</td>\n",
       "      <td id=\"T_434f9_row130_col5\" class=\"data row130 col5\" >12.34%</td>\n",
       "      <td id=\"T_434f9_row130_col6\" class=\"data row130 col6\" >-7.36%</td>\n",
       "      <td id=\"T_434f9_row130_col7\" class=\"data row130 col7\" >3.72%</td>\n",
       "      <td id=\"T_434f9_row130_col8\" class=\"data row130 col8\" >1.680000</td>\n",
       "    </tr>\n",
       "    <tr>\n",
       "      <th id=\"T_434f9_level0_row131\" class=\"row_heading level0 row131\" >3</th>\n",
       "      <td id=\"T_434f9_row131_col0\" class=\"data row131 col0\" >3661</td>\n",
       "      <td id=\"T_434f9_row131_col1\" class=\"data row131 col1\" >9</td>\n",
       "      <td id=\"T_434f9_row131_col2\" class=\"data row131 col2\" >5</td>\n",
       "      <td id=\"T_434f9_row131_col3\" class=\"data row131 col3\" >55.56%</td>\n",
       "      <td id=\"T_434f9_row131_col4\" class=\"data row131 col4\" >44.44%</td>\n",
       "      <td id=\"T_434f9_row131_col5\" class=\"data row131 col5\" >18.50%</td>\n",
       "      <td id=\"T_434f9_row131_col6\" class=\"data row131 col6\" >-9.69%</td>\n",
       "      <td id=\"T_434f9_row131_col7\" class=\"data row131 col7\" >5.97%</td>\n",
       "      <td id=\"T_434f9_row131_col8\" class=\"data row131 col8\" >1.910000</td>\n",
       "    </tr>\n",
       "    <tr>\n",
       "      <th id=\"T_434f9_level0_row132\" class=\"row_heading level0 row132\" >44</th>\n",
       "      <td id=\"T_434f9_row132_col0\" class=\"data row132 col0\" >2379</td>\n",
       "      <td id=\"T_434f9_row132_col1\" class=\"data row132 col1\" >18</td>\n",
       "      <td id=\"T_434f9_row132_col2\" class=\"data row132 col2\" >10</td>\n",
       "      <td id=\"T_434f9_row132_col3\" class=\"data row132 col3\" >55.56%</td>\n",
       "      <td id=\"T_434f9_row132_col4\" class=\"data row132 col4\" >38.89%</td>\n",
       "      <td id=\"T_434f9_row132_col5\" class=\"data row132 col5\" >8.71%</td>\n",
       "      <td id=\"T_434f9_row132_col6\" class=\"data row132 col6\" >-8.06%</td>\n",
       "      <td id=\"T_434f9_row132_col7\" class=\"data row132 col7\" >1.70%</td>\n",
       "      <td id=\"T_434f9_row132_col8\" class=\"data row132 col8\" >1.080000</td>\n",
       "    </tr>\n",
       "    <tr>\n",
       "      <th id=\"T_434f9_level0_row133\" class=\"row_heading level0 row133\" >90</th>\n",
       "      <td id=\"T_434f9_row133_col0\" class=\"data row133 col0\" >3413</td>\n",
       "      <td id=\"T_434f9_row133_col1\" class=\"data row133 col1\" >9</td>\n",
       "      <td id=\"T_434f9_row133_col2\" class=\"data row133 col2\" >5</td>\n",
       "      <td id=\"T_434f9_row133_col3\" class=\"data row133 col3\" >55.56%</td>\n",
       "      <td id=\"T_434f9_row133_col4\" class=\"data row133 col4\" >44.44%</td>\n",
       "      <td id=\"T_434f9_row133_col5\" class=\"data row133 col5\" >8.19%</td>\n",
       "      <td id=\"T_434f9_row133_col6\" class=\"data row133 col6\" >-7.23%</td>\n",
       "      <td id=\"T_434f9_row133_col7\" class=\"data row133 col7\" >1.34%</td>\n",
       "      <td id=\"T_434f9_row133_col8\" class=\"data row133 col8\" >1.130000</td>\n",
       "    </tr>\n",
       "    <tr>\n",
       "      <th id=\"T_434f9_level0_row134\" class=\"row_heading level0 row134\" >15</th>\n",
       "      <td id=\"T_434f9_row134_col0\" class=\"data row134 col0\" >2303</td>\n",
       "      <td id=\"T_434f9_row134_col1\" class=\"data row134 col1\" >18</td>\n",
       "      <td id=\"T_434f9_row134_col2\" class=\"data row134 col2\" >10</td>\n",
       "      <td id=\"T_434f9_row134_col3\" class=\"data row134 col3\" >55.56%</td>\n",
       "      <td id=\"T_434f9_row134_col4\" class=\"data row134 col4\" >44.44%</td>\n",
       "      <td id=\"T_434f9_row134_col5\" class=\"data row134 col5\" >6.57%</td>\n",
       "      <td id=\"T_434f9_row134_col6\" class=\"data row134 col6\" >-5.62%</td>\n",
       "      <td id=\"T_434f9_row134_col7\" class=\"data row134 col7\" >1.15%</td>\n",
       "      <td id=\"T_434f9_row134_col8\" class=\"data row134 col8\" >1.170000</td>\n",
       "    </tr>\n",
       "    <tr>\n",
       "      <th id=\"T_434f9_level0_row135\" class=\"row_heading level0 row135\" >130</th>\n",
       "      <td id=\"T_434f9_row135_col0\" class=\"data row135 col0\" >6166</td>\n",
       "      <td id=\"T_434f9_row135_col1\" class=\"data row135 col1\" >18</td>\n",
       "      <td id=\"T_434f9_row135_col2\" class=\"data row135 col2\" >10</td>\n",
       "      <td id=\"T_434f9_row135_col3\" class=\"data row135 col3\" >55.56%</td>\n",
       "      <td id=\"T_434f9_row135_col4\" class=\"data row135 col4\" >38.89%</td>\n",
       "      <td id=\"T_434f9_row135_col5\" class=\"data row135 col5\" >6.42%</td>\n",
       "      <td id=\"T_434f9_row135_col6\" class=\"data row135 col6\" >-5.90%</td>\n",
       "      <td id=\"T_434f9_row135_col7\" class=\"data row135 col7\" >1.27%</td>\n",
       "      <td id=\"T_434f9_row135_col8\" class=\"data row135 col8\" >1.090000</td>\n",
       "    </tr>\n",
       "    <tr>\n",
       "      <th id=\"T_434f9_level0_row136\" class=\"row_heading level0 row136\" >7</th>\n",
       "      <td id=\"T_434f9_row136_col0\" class=\"data row136 col0\" >3005</td>\n",
       "      <td id=\"T_434f9_row136_col1\" class=\"data row136 col1\" >18</td>\n",
       "      <td id=\"T_434f9_row136_col2\" class=\"data row136 col2\" >10</td>\n",
       "      <td id=\"T_434f9_row136_col3\" class=\"data row136 col3\" >55.56%</td>\n",
       "      <td id=\"T_434f9_row136_col4\" class=\"data row136 col4\" >44.44%</td>\n",
       "      <td id=\"T_434f9_row136_col5\" class=\"data row136 col5\" >6.02%</td>\n",
       "      <td id=\"T_434f9_row136_col6\" class=\"data row136 col6\" >-3.73%</td>\n",
       "      <td id=\"T_434f9_row136_col7\" class=\"data row136 col7\" >1.69%</td>\n",
       "      <td id=\"T_434f9_row136_col8\" class=\"data row136 col8\" >1.610000</td>\n",
       "    </tr>\n",
       "    <tr>\n",
       "      <th id=\"T_434f9_level0_row137\" class=\"row_heading level0 row137\" >173</th>\n",
       "      <td id=\"T_434f9_row137_col0\" class=\"data row137 col0\" >3163</td>\n",
       "      <td id=\"T_434f9_row137_col1\" class=\"data row137 col1\" >11</td>\n",
       "      <td id=\"T_434f9_row137_col2\" class=\"data row137 col2\" >6</td>\n",
       "      <td id=\"T_434f9_row137_col3\" class=\"data row137 col3\" >54.55%</td>\n",
       "      <td id=\"T_434f9_row137_col4\" class=\"data row137 col4\" >45.45%</td>\n",
       "      <td id=\"T_434f9_row137_col5\" class=\"data row137 col5\" >13.75%</td>\n",
       "      <td id=\"T_434f9_row137_col6\" class=\"data row137 col6\" >-10.22%</td>\n",
       "      <td id=\"T_434f9_row137_col7\" class=\"data row137 col7\" >2.86%</td>\n",
       "      <td id=\"T_434f9_row137_col8\" class=\"data row137 col8\" >1.350000</td>\n",
       "    </tr>\n",
       "    <tr>\n",
       "      <th id=\"T_434f9_level0_row138\" class=\"row_heading level0 row138\" >80</th>\n",
       "      <td id=\"T_434f9_row138_col0\" class=\"data row138 col0\" >2352</td>\n",
       "      <td id=\"T_434f9_row138_col1\" class=\"data row138 col1\" >11</td>\n",
       "      <td id=\"T_434f9_row138_col2\" class=\"data row138 col2\" >6</td>\n",
       "      <td id=\"T_434f9_row138_col3\" class=\"data row138 col3\" >54.55%</td>\n",
       "      <td id=\"T_434f9_row138_col4\" class=\"data row138 col4\" >45.45%</td>\n",
       "      <td id=\"T_434f9_row138_col5\" class=\"data row138 col5\" >9.22%</td>\n",
       "      <td id=\"T_434f9_row138_col6\" class=\"data row138 col6\" >-7.85%</td>\n",
       "      <td id=\"T_434f9_row138_col7\" class=\"data row138 col7\" >1.46%</td>\n",
       "      <td id=\"T_434f9_row138_col8\" class=\"data row138 col8\" >1.170000</td>\n",
       "    </tr>\n",
       "    <tr>\n",
       "      <th id=\"T_434f9_level0_row139\" class=\"row_heading level0 row139\" >58</th>\n",
       "      <td id=\"T_434f9_row139_col0\" class=\"data row139 col0\" >6488</td>\n",
       "      <td id=\"T_434f9_row139_col1\" class=\"data row139 col1\" >11</td>\n",
       "      <td id=\"T_434f9_row139_col2\" class=\"data row139 col2\" >6</td>\n",
       "      <td id=\"T_434f9_row139_col3\" class=\"data row139 col3\" >54.55%</td>\n",
       "      <td id=\"T_434f9_row139_col4\" class=\"data row139 col4\" >45.45%</td>\n",
       "      <td id=\"T_434f9_row139_col5\" class=\"data row139 col5\" >7.66%</td>\n",
       "      <td id=\"T_434f9_row139_col6\" class=\"data row139 col6\" >-4.25%</td>\n",
       "      <td id=\"T_434f9_row139_col7\" class=\"data row139 col7\" >2.25%</td>\n",
       "      <td id=\"T_434f9_row139_col8\" class=\"data row139 col8\" >1.800000</td>\n",
       "    </tr>\n",
       "    <tr>\n",
       "      <th id=\"T_434f9_level0_row140\" class=\"row_heading level0 row140\" >168</th>\n",
       "      <td id=\"T_434f9_row140_col0\" class=\"data row140 col0\" >6415</td>\n",
       "      <td id=\"T_434f9_row140_col1\" class=\"data row140 col1\" >11</td>\n",
       "      <td id=\"T_434f9_row140_col2\" class=\"data row140 col2\" >6</td>\n",
       "      <td id=\"T_434f9_row140_col3\" class=\"data row140 col3\" >54.55%</td>\n",
       "      <td id=\"T_434f9_row140_col4\" class=\"data row140 col4\" >45.45%</td>\n",
       "      <td id=\"T_434f9_row140_col5\" class=\"data row140 col5\" >7.05%</td>\n",
       "      <td id=\"T_434f9_row140_col6\" class=\"data row140 col6\" >-7.89%</td>\n",
       "      <td id=\"T_434f9_row140_col7\" class=\"data row140 col7\" >0.26%</td>\n",
       "      <td id=\"T_434f9_row140_col8\" class=\"data row140 col8\" >0.890000</td>\n",
       "    </tr>\n",
       "    <tr>\n",
       "      <th id=\"T_434f9_level0_row141\" class=\"row_heading level0 row141\" >20</th>\n",
       "      <td id=\"T_434f9_row141_col0\" class=\"data row141 col0\" >6414</td>\n",
       "      <td id=\"T_434f9_row141_col1\" class=\"data row141 col1\" >11</td>\n",
       "      <td id=\"T_434f9_row141_col2\" class=\"data row141 col2\" >6</td>\n",
       "      <td id=\"T_434f9_row141_col3\" class=\"data row141 col3\" >54.55%</td>\n",
       "      <td id=\"T_434f9_row141_col4\" class=\"data row141 col4\" >45.45%</td>\n",
       "      <td id=\"T_434f9_row141_col5\" class=\"data row141 col5\" >6.76%</td>\n",
       "      <td id=\"T_434f9_row141_col6\" class=\"data row141 col6\" >-4.12%</td>\n",
       "      <td id=\"T_434f9_row141_col7\" class=\"data row141 col7\" >1.82%</td>\n",
       "      <td id=\"T_434f9_row141_col8\" class=\"data row141 col8\" >1.640000</td>\n",
       "    </tr>\n",
       "    <tr>\n",
       "      <th id=\"T_434f9_level0_row142\" class=\"row_heading level0 row142\" >47</th>\n",
       "      <td id=\"T_434f9_row142_col0\" class=\"data row142 col0\" >3008</td>\n",
       "      <td id=\"T_434f9_row142_col1\" class=\"data row142 col1\" >22</td>\n",
       "      <td id=\"T_434f9_row142_col2\" class=\"data row142 col2\" >12</td>\n",
       "      <td id=\"T_434f9_row142_col3\" class=\"data row142 col3\" >54.55%</td>\n",
       "      <td id=\"T_434f9_row142_col4\" class=\"data row142 col4\" >40.91%</td>\n",
       "      <td id=\"T_434f9_row142_col5\" class=\"data row142 col5\" >5.93%</td>\n",
       "      <td id=\"T_434f9_row142_col6\" class=\"data row142 col6\" >-6.11%</td>\n",
       "      <td id=\"T_434f9_row142_col7\" class=\"data row142 col7\" >0.74%</td>\n",
       "      <td id=\"T_434f9_row142_col8\" class=\"data row142 col8\" >0.970000</td>\n",
       "    </tr>\n",
       "    <tr>\n",
       "      <th id=\"T_434f9_level0_row143\" class=\"row_heading level0 row143\" >270</th>\n",
       "      <td id=\"T_434f9_row143_col0\" class=\"data row143 col0\" >5234</td>\n",
       "      <td id=\"T_434f9_row143_col1\" class=\"data row143 col1\" >11</td>\n",
       "      <td id=\"T_434f9_row143_col2\" class=\"data row143 col2\" >6</td>\n",
       "      <td id=\"T_434f9_row143_col3\" class=\"data row143 col3\" >54.55%</td>\n",
       "      <td id=\"T_434f9_row143_col4\" class=\"data row143 col4\" >45.45%</td>\n",
       "      <td id=\"T_434f9_row143_col5\" class=\"data row143 col5\" >5.04%</td>\n",
       "      <td id=\"T_434f9_row143_col6\" class=\"data row143 col6\" >-4.98%</td>\n",
       "      <td id=\"T_434f9_row143_col7\" class=\"data row143 col7\" >0.49%</td>\n",
       "      <td id=\"T_434f9_row143_col8\" class=\"data row143 col8\" >1.010000</td>\n",
       "    </tr>\n",
       "    <tr>\n",
       "      <th id=\"T_434f9_level0_row144\" class=\"row_heading level0 row144\" >199</th>\n",
       "      <td id=\"T_434f9_row144_col0\" class=\"data row144 col0\" >5880</td>\n",
       "      <td id=\"T_434f9_row144_col1\" class=\"data row144 col1\" >11</td>\n",
       "      <td id=\"T_434f9_row144_col2\" class=\"data row144 col2\" >6</td>\n",
       "      <td id=\"T_434f9_row144_col3\" class=\"data row144 col3\" >54.55%</td>\n",
       "      <td id=\"T_434f9_row144_col4\" class=\"data row144 col4\" >45.45%</td>\n",
       "      <td id=\"T_434f9_row144_col5\" class=\"data row144 col5\" >3.16%</td>\n",
       "      <td id=\"T_434f9_row144_col6\" class=\"data row144 col6\" >-2.04%</td>\n",
       "      <td id=\"T_434f9_row144_col7\" class=\"data row144 col7\" >0.80%</td>\n",
       "      <td id=\"T_434f9_row144_col8\" class=\"data row144 col8\" >1.550000</td>\n",
       "    </tr>\n",
       "    <tr>\n",
       "      <th id=\"T_434f9_level0_row145\" class=\"row_heading level0 row145\" >231</th>\n",
       "      <td id=\"T_434f9_row145_col0\" class=\"data row145 col0\" >6215</td>\n",
       "      <td id=\"T_434f9_row145_col1\" class=\"data row145 col1\" >13</td>\n",
       "      <td id=\"T_434f9_row145_col2\" class=\"data row145 col2\" >7</td>\n",
       "      <td id=\"T_434f9_row145_col3\" class=\"data row145 col3\" >53.85%</td>\n",
       "      <td id=\"T_434f9_row145_col4\" class=\"data row145 col4\" >46.15%</td>\n",
       "      <td id=\"T_434f9_row145_col5\" class=\"data row145 col5\" >10.92%</td>\n",
       "      <td id=\"T_434f9_row145_col6\" class=\"data row145 col6\" >-5.33%</td>\n",
       "      <td id=\"T_434f9_row145_col7\" class=\"data row145 col7\" >3.42%</td>\n",
       "      <td id=\"T_434f9_row145_col8\" class=\"data row145 col8\" >2.050000</td>\n",
       "    </tr>\n",
       "    <tr>\n",
       "      <th id=\"T_434f9_level0_row146\" class=\"row_heading level0 row146\" >289</th>\n",
       "      <td id=\"T_434f9_row146_col0\" class=\"data row146 col0\" >3665</td>\n",
       "      <td id=\"T_434f9_row146_col1\" class=\"data row146 col1\" >13</td>\n",
       "      <td id=\"T_434f9_row146_col2\" class=\"data row146 col2\" >7</td>\n",
       "      <td id=\"T_434f9_row146_col3\" class=\"data row146 col3\" >53.85%</td>\n",
       "      <td id=\"T_434f9_row146_col4\" class=\"data row146 col4\" >46.15%</td>\n",
       "      <td id=\"T_434f9_row146_col5\" class=\"data row146 col5\" >8.98%</td>\n",
       "      <td id=\"T_434f9_row146_col6\" class=\"data row146 col6\" >-5.51%</td>\n",
       "      <td id=\"T_434f9_row146_col7\" class=\"data row146 col7\" >2.29%</td>\n",
       "      <td id=\"T_434f9_row146_col8\" class=\"data row146 col8\" >1.630000</td>\n",
       "    </tr>\n",
       "    <tr>\n",
       "      <th id=\"T_434f9_level0_row147\" class=\"row_heading level0 row147\" >155</th>\n",
       "      <td id=\"T_434f9_row147_col0\" class=\"data row147 col0\" >5443</td>\n",
       "      <td id=\"T_434f9_row147_col1\" class=\"data row147 col1\" >13</td>\n",
       "      <td id=\"T_434f9_row147_col2\" class=\"data row147 col2\" >7</td>\n",
       "      <td id=\"T_434f9_row147_col3\" class=\"data row147 col3\" >53.85%</td>\n",
       "      <td id=\"T_434f9_row147_col4\" class=\"data row147 col4\" >38.46%</td>\n",
       "      <td id=\"T_434f9_row147_col5\" class=\"data row147 col5\" >8.89%</td>\n",
       "      <td id=\"T_434f9_row147_col6\" class=\"data row147 col6\" >-3.12%</td>\n",
       "      <td id=\"T_434f9_row147_col7\" class=\"data row147 col7\" >3.59%</td>\n",
       "      <td id=\"T_434f9_row147_col8\" class=\"data row147 col8\" >2.850000</td>\n",
       "    </tr>\n",
       "    <tr>\n",
       "      <th id=\"T_434f9_level0_row148\" class=\"row_heading level0 row148\" >262</th>\n",
       "      <td id=\"T_434f9_row148_col0\" class=\"data row148 col0\" >2637</td>\n",
       "      <td id=\"T_434f9_row148_col1\" class=\"data row148 col1\" >13</td>\n",
       "      <td id=\"T_434f9_row148_col2\" class=\"data row148 col2\" >7</td>\n",
       "      <td id=\"T_434f9_row148_col3\" class=\"data row148 col3\" >53.85%</td>\n",
       "      <td id=\"T_434f9_row148_col4\" class=\"data row148 col4\" >46.15%</td>\n",
       "      <td id=\"T_434f9_row148_col5\" class=\"data row148 col5\" >5.06%</td>\n",
       "      <td id=\"T_434f9_row148_col6\" class=\"data row148 col6\" >-4.30%</td>\n",
       "      <td id=\"T_434f9_row148_col7\" class=\"data row148 col7\" >0.74%</td>\n",
       "      <td id=\"T_434f9_row148_col8\" class=\"data row148 col8\" >1.180000</td>\n",
       "    </tr>\n",
       "    <tr>\n",
       "      <th id=\"T_434f9_level0_row149\" class=\"row_heading level0 row149\" >13</th>\n",
       "      <td id=\"T_434f9_row149_col0\" class=\"data row149 col0\" >3037</td>\n",
       "      <td id=\"T_434f9_row149_col1\" class=\"data row149 col1\" >15</td>\n",
       "      <td id=\"T_434f9_row149_col2\" class=\"data row149 col2\" >8</td>\n",
       "      <td id=\"T_434f9_row149_col3\" class=\"data row149 col3\" >53.33%</td>\n",
       "      <td id=\"T_434f9_row149_col4\" class=\"data row149 col4\" >46.67%</td>\n",
       "      <td id=\"T_434f9_row149_col5\" class=\"data row149 col5\" >9.81%</td>\n",
       "      <td id=\"T_434f9_row149_col6\" class=\"data row149 col6\" >-5.97%</td>\n",
       "      <td id=\"T_434f9_row149_col7\" class=\"data row149 col7\" >2.45%</td>\n",
       "      <td id=\"T_434f9_row149_col8\" class=\"data row149 col8\" >1.640000</td>\n",
       "    </tr>\n",
       "    <tr>\n",
       "      <th id=\"T_434f9_level0_row150\" class=\"row_heading level0 row150\" >137</th>\n",
       "      <td id=\"T_434f9_row150_col0\" class=\"data row150 col0\" >6290</td>\n",
       "      <td id=\"T_434f9_row150_col1\" class=\"data row150 col1\" >15</td>\n",
       "      <td id=\"T_434f9_row150_col2\" class=\"data row150 col2\" >8</td>\n",
       "      <td id=\"T_434f9_row150_col3\" class=\"data row150 col3\" >53.33%</td>\n",
       "      <td id=\"T_434f9_row150_col4\" class=\"data row150 col4\" >46.67%</td>\n",
       "      <td id=\"T_434f9_row150_col5\" class=\"data row150 col5\" >5.58%</td>\n",
       "      <td id=\"T_434f9_row150_col6\" class=\"data row150 col6\" >-4.67%</td>\n",
       "      <td id=\"T_434f9_row150_col7\" class=\"data row150 col7\" >0.80%</td>\n",
       "      <td id=\"T_434f9_row150_col8\" class=\"data row150 col8\" >1.190000</td>\n",
       "    </tr>\n",
       "    <tr>\n",
       "      <th id=\"T_434f9_level0_row151\" class=\"row_heading level0 row151\" >255</th>\n",
       "      <td id=\"T_434f9_row151_col0\" class=\"data row151 col0\" >3059</td>\n",
       "      <td id=\"T_434f9_row151_col1\" class=\"data row151 col1\" >17</td>\n",
       "      <td id=\"T_434f9_row151_col2\" class=\"data row151 col2\" >9</td>\n",
       "      <td id=\"T_434f9_row151_col3\" class=\"data row151 col3\" >52.94%</td>\n",
       "      <td id=\"T_434f9_row151_col4\" class=\"data row151 col4\" >47.06%</td>\n",
       "      <td id=\"T_434f9_row151_col5\" class=\"data row151 col5\" >6.59%</td>\n",
       "      <td id=\"T_434f9_row151_col6\" class=\"data row151 col6\" >-6.66%</td>\n",
       "      <td id=\"T_434f9_row151_col7\" class=\"data row151 col7\" >0.35%</td>\n",
       "      <td id=\"T_434f9_row151_col8\" class=\"data row151 col8\" >0.990000</td>\n",
       "    </tr>\n",
       "    <tr>\n",
       "      <th id=\"T_434f9_level0_row152\" class=\"row_heading level0 row152\" >49</th>\n",
       "      <td id=\"T_434f9_row152_col0\" class=\"data row152 col0\" >6285</td>\n",
       "      <td id=\"T_434f9_row152_col1\" class=\"data row152 col1\" >17</td>\n",
       "      <td id=\"T_434f9_row152_col2\" class=\"data row152 col2\" >9</td>\n",
       "      <td id=\"T_434f9_row152_col3\" class=\"data row152 col3\" >52.94%</td>\n",
       "      <td id=\"T_434f9_row152_col4\" class=\"data row152 col4\" >47.06%</td>\n",
       "      <td id=\"T_434f9_row152_col5\" class=\"data row152 col5\" >4.80%</td>\n",
       "      <td id=\"T_434f9_row152_col6\" class=\"data row152 col6\" >-3.61%</td>\n",
       "      <td id=\"T_434f9_row152_col7\" class=\"data row152 col7\" >0.84%</td>\n",
       "      <td id=\"T_434f9_row152_col8\" class=\"data row152 col8\" >1.330000</td>\n",
       "    </tr>\n",
       "    <tr>\n",
       "      <th id=\"T_434f9_level0_row153\" class=\"row_heading level0 row153\" >135</th>\n",
       "      <td id=\"T_434f9_row153_col0\" class=\"data row153 col0\" >2421</td>\n",
       "      <td id=\"T_434f9_row153_col1\" class=\"data row153 col1\" >19</td>\n",
       "      <td id=\"T_434f9_row153_col2\" class=\"data row153 col2\" >10</td>\n",
       "      <td id=\"T_434f9_row153_col3\" class=\"data row153 col3\" >52.63%</td>\n",
       "      <td id=\"T_434f9_row153_col4\" class=\"data row153 col4\" >42.11%</td>\n",
       "      <td id=\"T_434f9_row153_col5\" class=\"data row153 col5\" >8.51%</td>\n",
       "      <td id=\"T_434f9_row153_col6\" class=\"data row153 col6\" >-3.22%</td>\n",
       "      <td id=\"T_434f9_row153_col7\" class=\"data row153 col7\" >3.12%</td>\n",
       "      <td id=\"T_434f9_row153_col8\" class=\"data row153 col8\" >2.640000</td>\n",
       "    </tr>\n",
       "    <tr>\n",
       "      <th id=\"T_434f9_level0_row154\" class=\"row_heading level0 row154\" >22</th>\n",
       "      <td id=\"T_434f9_row154_col0\" class=\"data row154 col0\" >3034</td>\n",
       "      <td id=\"T_434f9_row154_col1\" class=\"data row154 col1\" >19</td>\n",
       "      <td id=\"T_434f9_row154_col2\" class=\"data row154 col2\" >10</td>\n",
       "      <td id=\"T_434f9_row154_col3\" class=\"data row154 col3\" >52.63%</td>\n",
       "      <td id=\"T_434f9_row154_col4\" class=\"data row154 col4\" >42.11%</td>\n",
       "      <td id=\"T_434f9_row154_col5\" class=\"data row154 col5\" >6.67%</td>\n",
       "      <td id=\"T_434f9_row154_col6\" class=\"data row154 col6\" >-5.33%</td>\n",
       "      <td id=\"T_434f9_row154_col7\" class=\"data row154 col7\" >1.27%</td>\n",
       "      <td id=\"T_434f9_row154_col8\" class=\"data row154 col8\" >1.250000</td>\n",
       "    </tr>\n",
       "    <tr>\n",
       "      <th id=\"T_434f9_level0_row155\" class=\"row_heading level0 row155\" >66</th>\n",
       "      <td id=\"T_434f9_row155_col0\" class=\"data row155 col0\" >2357</td>\n",
       "      <td id=\"T_434f9_row155_col1\" class=\"data row155 col1\" >25</td>\n",
       "      <td id=\"T_434f9_row155_col2\" class=\"data row155 col2\" >13</td>\n",
       "      <td id=\"T_434f9_row155_col3\" class=\"data row155 col3\" >52.00%</td>\n",
       "      <td id=\"T_434f9_row155_col4\" class=\"data row155 col4\" >48.00%</td>\n",
       "      <td id=\"T_434f9_row155_col5\" class=\"data row155 col5\" >8.59%</td>\n",
       "      <td id=\"T_434f9_row155_col6\" class=\"data row155 col6\" >-5.21%</td>\n",
       "      <td id=\"T_434f9_row155_col7\" class=\"data row155 col7\" >1.97%</td>\n",
       "      <td id=\"T_434f9_row155_col8\" class=\"data row155 col8\" >1.650000</td>\n",
       "    </tr>\n",
       "    <tr>\n",
       "      <th id=\"T_434f9_level0_row156\" class=\"row_heading level0 row156\" >198</th>\n",
       "      <td id=\"T_434f9_row156_col0\" class=\"data row156 col0\" >4583</td>\n",
       "      <td id=\"T_434f9_row156_col1\" class=\"data row156 col1\" >2</td>\n",
       "      <td id=\"T_434f9_row156_col2\" class=\"data row156 col2\" >1</td>\n",
       "      <td id=\"T_434f9_row156_col3\" class=\"data row156 col3\" >50.00%</td>\n",
       "      <td id=\"T_434f9_row156_col4\" class=\"data row156 col4\" >50.00%</td>\n",
       "      <td id=\"T_434f9_row156_col5\" class=\"data row156 col5\" >13.76%</td>\n",
       "      <td id=\"T_434f9_row156_col6\" class=\"data row156 col6\" >-4.15%</td>\n",
       "      <td id=\"T_434f9_row156_col7\" class=\"data row156 col7\" >4.80%</td>\n",
       "      <td id=\"T_434f9_row156_col8\" class=\"data row156 col8\" >3.320000</td>\n",
       "    </tr>\n",
       "    <tr>\n",
       "      <th id=\"T_434f9_level0_row157\" class=\"row_heading level0 row157\" >95</th>\n",
       "      <td id=\"T_434f9_row157_col0\" class=\"data row157 col0\" >1795</td>\n",
       "      <td id=\"T_434f9_row157_col1\" class=\"data row157 col1\" >4</td>\n",
       "      <td id=\"T_434f9_row157_col2\" class=\"data row157 col2\" >2</td>\n",
       "      <td id=\"T_434f9_row157_col3\" class=\"data row157 col3\" >50.00%</td>\n",
       "      <td id=\"T_434f9_row157_col4\" class=\"data row157 col4\" >50.00%</td>\n",
       "      <td id=\"T_434f9_row157_col5\" class=\"data row157 col5\" >13.45%</td>\n",
       "      <td id=\"T_434f9_row157_col6\" class=\"data row157 col6\" >-9.62%</td>\n",
       "      <td id=\"T_434f9_row157_col7\" class=\"data row157 col7\" >1.92%</td>\n",
       "      <td id=\"T_434f9_row157_col8\" class=\"data row157 col8\" >1.400000</td>\n",
       "    </tr>\n",
       "    <tr>\n",
       "      <th id=\"T_434f9_level0_row158\" class=\"row_heading level0 row158\" >48</th>\n",
       "      <td id=\"T_434f9_row158_col0\" class=\"data row158 col0\" >6274</td>\n",
       "      <td id=\"T_434f9_row158_col1\" class=\"data row158 col1\" >16</td>\n",
       "      <td id=\"T_434f9_row158_col2\" class=\"data row158 col2\" >8</td>\n",
       "      <td id=\"T_434f9_row158_col3\" class=\"data row158 col3\" >50.00%</td>\n",
       "      <td id=\"T_434f9_row158_col4\" class=\"data row158 col4\" >50.00%</td>\n",
       "      <td id=\"T_434f9_row158_col5\" class=\"data row158 col5\" >12.60%</td>\n",
       "      <td id=\"T_434f9_row158_col6\" class=\"data row158 col6\" >-5.56%</td>\n",
       "      <td id=\"T_434f9_row158_col7\" class=\"data row158 col7\" >3.52%</td>\n",
       "      <td id=\"T_434f9_row158_col8\" class=\"data row158 col8\" >2.270000</td>\n",
       "    </tr>\n",
       "    <tr>\n",
       "      <th id=\"T_434f9_level0_row159\" class=\"row_heading level0 row159\" >33</th>\n",
       "      <td id=\"T_434f9_row159_col0\" class=\"data row159 col0\" >3293</td>\n",
       "      <td id=\"T_434f9_row159_col1\" class=\"data row159 col1\" >16</td>\n",
       "      <td id=\"T_434f9_row159_col2\" class=\"data row159 col2\" >8</td>\n",
       "      <td id=\"T_434f9_row159_col3\" class=\"data row159 col3\" >50.00%</td>\n",
       "      <td id=\"T_434f9_row159_col4\" class=\"data row159 col4\" >43.75%</td>\n",
       "      <td id=\"T_434f9_row159_col5\" class=\"data row159 col5\" >12.50%</td>\n",
       "      <td id=\"T_434f9_row159_col6\" class=\"data row159 col6\" >-11.03%</td>\n",
       "      <td id=\"T_434f9_row159_col7\" class=\"data row159 col7\" >1.42%</td>\n",
       "      <td id=\"T_434f9_row159_col8\" class=\"data row159 col8\" >1.130000</td>\n",
       "    </tr>\n",
       "    <tr>\n",
       "      <th id=\"T_434f9_level0_row160\" class=\"row_heading level0 row160\" >229</th>\n",
       "      <td id=\"T_434f9_row160_col0\" class=\"data row160 col0\" >3363</td>\n",
       "      <td id=\"T_434f9_row160_col1\" class=\"data row160 col1\" >14</td>\n",
       "      <td id=\"T_434f9_row160_col2\" class=\"data row160 col2\" >7</td>\n",
       "      <td id=\"T_434f9_row160_col3\" class=\"data row160 col3\" >50.00%</td>\n",
       "      <td id=\"T_434f9_row160_col4\" class=\"data row160 col4\" >50.00%</td>\n",
       "      <td id=\"T_434f9_row160_col5\" class=\"data row160 col5\" >9.41%</td>\n",
       "      <td id=\"T_434f9_row160_col6\" class=\"data row160 col6\" >-8.66%</td>\n",
       "      <td id=\"T_434f9_row160_col7\" class=\"data row160 col7\" >0.38%</td>\n",
       "      <td id=\"T_434f9_row160_col8\" class=\"data row160 col8\" >1.090000</td>\n",
       "    </tr>\n",
       "    <tr>\n",
       "      <th id=\"T_434f9_level0_row161\" class=\"row_heading level0 row161\" >188</th>\n",
       "      <td id=\"T_434f9_row161_col0\" class=\"data row161 col0\" >4953</td>\n",
       "      <td id=\"T_434f9_row161_col1\" class=\"data row161 col1\" >10</td>\n",
       "      <td id=\"T_434f9_row161_col2\" class=\"data row161 col2\" >5</td>\n",
       "      <td id=\"T_434f9_row161_col3\" class=\"data row161 col3\" >50.00%</td>\n",
       "      <td id=\"T_434f9_row161_col4\" class=\"data row161 col4\" >40.00%</td>\n",
       "      <td id=\"T_434f9_row161_col5\" class=\"data row161 col5\" >7.94%</td>\n",
       "      <td id=\"T_434f9_row161_col6\" class=\"data row161 col6\" >-7.82%</td>\n",
       "      <td id=\"T_434f9_row161_col7\" class=\"data row161 col7\" >0.84%</td>\n",
       "      <td id=\"T_434f9_row161_col8\" class=\"data row161 col8\" >1.020000</td>\n",
       "    </tr>\n",
       "    <tr>\n",
       "      <th id=\"T_434f9_level0_row162\" class=\"row_heading level0 row162\" >77</th>\n",
       "      <td id=\"T_434f9_row162_col0\" class=\"data row162 col0\" >5469</td>\n",
       "      <td id=\"T_434f9_row162_col1\" class=\"data row162 col1\" >18</td>\n",
       "      <td id=\"T_434f9_row162_col2\" class=\"data row162 col2\" >9</td>\n",
       "      <td id=\"T_434f9_row162_col3\" class=\"data row162 col3\" >50.00%</td>\n",
       "      <td id=\"T_434f9_row162_col4\" class=\"data row162 col4\" >50.00%</td>\n",
       "      <td id=\"T_434f9_row162_col5\" class=\"data row162 col5\" >7.81%</td>\n",
       "      <td id=\"T_434f9_row162_col6\" class=\"data row162 col6\" >-3.19%</td>\n",
       "      <td id=\"T_434f9_row162_col7\" class=\"data row162 col7\" >2.31%</td>\n",
       "      <td id=\"T_434f9_row162_col8\" class=\"data row162 col8\" >2.450000</td>\n",
       "    </tr>\n",
       "    <tr>\n",
       "      <th id=\"T_434f9_level0_row163\" class=\"row_heading level0 row163\" >190</th>\n",
       "      <td id=\"T_434f9_row163_col0\" class=\"data row163 col0\" >6451</td>\n",
       "      <td id=\"T_434f9_row163_col1\" class=\"data row163 col1\" >8</td>\n",
       "      <td id=\"T_434f9_row163_col2\" class=\"data row163 col2\" >4</td>\n",
       "      <td id=\"T_434f9_row163_col3\" class=\"data row163 col3\" >50.00%</td>\n",
       "      <td id=\"T_434f9_row163_col4\" class=\"data row163 col4\" >50.00%</td>\n",
       "      <td id=\"T_434f9_row163_col5\" class=\"data row163 col5\" >7.33%</td>\n",
       "      <td id=\"T_434f9_row163_col6\" class=\"data row163 col6\" >-4.55%</td>\n",
       "      <td id=\"T_434f9_row163_col7\" class=\"data row163 col7\" >1.39%</td>\n",
       "      <td id=\"T_434f9_row163_col8\" class=\"data row163 col8\" >1.610000</td>\n",
       "    </tr>\n",
       "    <tr>\n",
       "      <th id=\"T_434f9_level0_row164\" class=\"row_heading level0 row164\" >165</th>\n",
       "      <td id=\"T_434f9_row164_col0\" class=\"data row164 col0\" >4714</td>\n",
       "      <td id=\"T_434f9_row164_col1\" class=\"data row164 col1\" >14</td>\n",
       "      <td id=\"T_434f9_row164_col2\" class=\"data row164 col2\" >7</td>\n",
       "      <td id=\"T_434f9_row164_col3\" class=\"data row164 col3\" >50.00%</td>\n",
       "      <td id=\"T_434f9_row164_col4\" class=\"data row164 col4\" >50.00%</td>\n",
       "      <td id=\"T_434f9_row164_col5\" class=\"data row164 col5\" >6.79%</td>\n",
       "      <td id=\"T_434f9_row164_col6\" class=\"data row164 col6\" >-6.43%</td>\n",
       "      <td id=\"T_434f9_row164_col7\" class=\"data row164 col7\" >0.18%</td>\n",
       "      <td id=\"T_434f9_row164_col8\" class=\"data row164 col8\" >1.060000</td>\n",
       "    </tr>\n",
       "    <tr>\n",
       "      <th id=\"T_434f9_level0_row165\" class=\"row_heading level0 row165\" >121</th>\n",
       "      <td id=\"T_434f9_row165_col0\" class=\"data row165 col0\" >3147</td>\n",
       "      <td id=\"T_434f9_row165_col1\" class=\"data row165 col1\" >10</td>\n",
       "      <td id=\"T_434f9_row165_col2\" class=\"data row165 col2\" >5</td>\n",
       "      <td id=\"T_434f9_row165_col3\" class=\"data row165 col3\" >50.00%</td>\n",
       "      <td id=\"T_434f9_row165_col4\" class=\"data row165 col4\" >50.00%</td>\n",
       "      <td id=\"T_434f9_row165_col5\" class=\"data row165 col5\" >6.42%</td>\n",
       "      <td id=\"T_434f9_row165_col6\" class=\"data row165 col6\" >-1.50%</td>\n",
       "      <td id=\"T_434f9_row165_col7\" class=\"data row165 col7\" >2.46%</td>\n",
       "      <td id=\"T_434f9_row165_col8\" class=\"data row165 col8\" >4.280000</td>\n",
       "    </tr>\n",
       "    <tr>\n",
       "      <th id=\"T_434f9_level0_row166\" class=\"row_heading level0 row166\" >230</th>\n",
       "      <td id=\"T_434f9_row166_col0\" class=\"data row166 col0\" >2359</td>\n",
       "      <td id=\"T_434f9_row166_col1\" class=\"data row166 col1\" >8</td>\n",
       "      <td id=\"T_434f9_row166_col2\" class=\"data row166 col2\" >4</td>\n",
       "      <td id=\"T_434f9_row166_col3\" class=\"data row166 col3\" >50.00%</td>\n",
       "      <td id=\"T_434f9_row166_col4\" class=\"data row166 col4\" >37.50%</td>\n",
       "      <td id=\"T_434f9_row166_col5\" class=\"data row166 col5\" >6.33%</td>\n",
       "      <td id=\"T_434f9_row166_col6\" class=\"data row166 col6\" >-7.29%</td>\n",
       "      <td id=\"T_434f9_row166_col7\" class=\"data row166 col7\" >0.43%</td>\n",
       "      <td id=\"T_434f9_row166_col8\" class=\"data row166 col8\" >0.870000</td>\n",
       "    </tr>\n",
       "    <tr>\n",
       "      <th id=\"T_434f9_level0_row167\" class=\"row_heading level0 row167\" >197</th>\n",
       "      <td id=\"T_434f9_row167_col0\" class=\"data row167 col0\" >6275</td>\n",
       "      <td id=\"T_434f9_row167_col1\" class=\"data row167 col1\" >10</td>\n",
       "      <td id=\"T_434f9_row167_col2\" class=\"data row167 col2\" >5</td>\n",
       "      <td id=\"T_434f9_row167_col3\" class=\"data row167 col3\" >50.00%</td>\n",
       "      <td id=\"T_434f9_row167_col4\" class=\"data row167 col4\" >40.00%</td>\n",
       "      <td id=\"T_434f9_row167_col5\" class=\"data row167 col5\" >6.00%</td>\n",
       "      <td id=\"T_434f9_row167_col6\" class=\"data row167 col6\" >-5.12%</td>\n",
       "      <td id=\"T_434f9_row167_col7\" class=\"data row167 col7\" >0.95%</td>\n",
       "      <td id=\"T_434f9_row167_col8\" class=\"data row167 col8\" >1.170000</td>\n",
       "    </tr>\n",
       "    <tr>\n",
       "      <th id=\"T_434f9_level0_row168\" class=\"row_heading level0 row168\" >42</th>\n",
       "      <td id=\"T_434f9_row168_col0\" class=\"data row168 col0\" >6191</td>\n",
       "      <td id=\"T_434f9_row168_col1\" class=\"data row168 col1\" >12</td>\n",
       "      <td id=\"T_434f9_row168_col2\" class=\"data row168 col2\" >6</td>\n",
       "      <td id=\"T_434f9_row168_col3\" class=\"data row168 col3\" >50.00%</td>\n",
       "      <td id=\"T_434f9_row168_col4\" class=\"data row168 col4\" >50.00%</td>\n",
       "      <td id=\"T_434f9_row168_col5\" class=\"data row168 col5\" >4.75%</td>\n",
       "      <td id=\"T_434f9_row168_col6\" class=\"data row168 col6\" >-3.24%</td>\n",
       "      <td id=\"T_434f9_row168_col7\" class=\"data row168 col7\" >0.76%</td>\n",
       "      <td id=\"T_434f9_row168_col8\" class=\"data row168 col8\" >1.470000</td>\n",
       "    </tr>\n",
       "    <tr>\n",
       "      <th id=\"T_434f9_level0_row169\" class=\"row_heading level0 row169\" >156</th>\n",
       "      <td id=\"T_434f9_row169_col0\" class=\"data row169 col0\" >2362</td>\n",
       "      <td id=\"T_434f9_row169_col1\" class=\"data row169 col1\" >14</td>\n",
       "      <td id=\"T_434f9_row169_col2\" class=\"data row169 col2\" >7</td>\n",
       "      <td id=\"T_434f9_row169_col3\" class=\"data row169 col3\" >50.00%</td>\n",
       "      <td id=\"T_434f9_row169_col4\" class=\"data row169 col4\" >50.00%</td>\n",
       "      <td id=\"T_434f9_row169_col5\" class=\"data row169 col5\" >4.56%</td>\n",
       "      <td id=\"T_434f9_row169_col6\" class=\"data row169 col6\" >-3.11%</td>\n",
       "      <td id=\"T_434f9_row169_col7\" class=\"data row169 col7\" >0.73%</td>\n",
       "      <td id=\"T_434f9_row169_col8\" class=\"data row169 col8\" >1.470000</td>\n",
       "    </tr>\n",
       "    <tr>\n",
       "      <th id=\"T_434f9_level0_row170\" class=\"row_heading level0 row170\" >79</th>\n",
       "      <td id=\"T_434f9_row170_col0\" class=\"data row170 col0\" >2329</td>\n",
       "      <td id=\"T_434f9_row170_col1\" class=\"data row170 col1\" >4</td>\n",
       "      <td id=\"T_434f9_row170_col2\" class=\"data row170 col2\" >2</td>\n",
       "      <td id=\"T_434f9_row170_col3\" class=\"data row170 col3\" >50.00%</td>\n",
       "      <td id=\"T_434f9_row170_col4\" class=\"data row170 col4\" >50.00%</td>\n",
       "      <td id=\"T_434f9_row170_col5\" class=\"data row170 col5\" >4.09%</td>\n",
       "      <td id=\"T_434f9_row170_col6\" class=\"data row170 col6\" >-3.26%</td>\n",
       "      <td id=\"T_434f9_row170_col7\" class=\"data row170 col7\" >0.42%</td>\n",
       "      <td id=\"T_434f9_row170_col8\" class=\"data row170 col8\" >1.250000</td>\n",
       "    </tr>\n",
       "    <tr>\n",
       "      <th id=\"T_434f9_level0_row171\" class=\"row_heading level0 row171\" >157</th>\n",
       "      <td id=\"T_434f9_row171_col0\" class=\"data row171 col0\" >9904</td>\n",
       "      <td id=\"T_434f9_row171_col1\" class=\"data row171 col1\" >16</td>\n",
       "      <td id=\"T_434f9_row171_col2\" class=\"data row171 col2\" >8</td>\n",
       "      <td id=\"T_434f9_row171_col3\" class=\"data row171 col3\" >50.00%</td>\n",
       "      <td id=\"T_434f9_row171_col4\" class=\"data row171 col4\" >50.00%</td>\n",
       "      <td id=\"T_434f9_row171_col5\" class=\"data row171 col5\" >3.91%</td>\n",
       "      <td id=\"T_434f9_row171_col6\" class=\"data row171 col6\" >-3.36%</td>\n",
       "      <td id=\"T_434f9_row171_col7\" class=\"data row171 col7\" >0.28%</td>\n",
       "      <td id=\"T_434f9_row171_col8\" class=\"data row171 col8\" >1.160000</td>\n",
       "    </tr>\n",
       "    <tr>\n",
       "      <th id=\"T_434f9_level0_row172\" class=\"row_heading level0 row172\" >113</th>\n",
       "      <td id=\"T_434f9_row172_col0\" class=\"data row172 col0\" >2474</td>\n",
       "      <td id=\"T_434f9_row172_col1\" class=\"data row172 col1\" >21</td>\n",
       "      <td id=\"T_434f9_row172_col2\" class=\"data row172 col2\" >10</td>\n",
       "      <td id=\"T_434f9_row172_col3\" class=\"data row172 col3\" >47.62%</td>\n",
       "      <td id=\"T_434f9_row172_col4\" class=\"data row172 col4\" >52.38%</td>\n",
       "      <td id=\"T_434f9_row172_col5\" class=\"data row172 col5\" >5.76%</td>\n",
       "      <td id=\"T_434f9_row172_col6\" class=\"data row172 col6\" >-4.46%</td>\n",
       "      <td id=\"T_434f9_row172_col7\" class=\"data row172 col7\" >0.41%</td>\n",
       "      <td id=\"T_434f9_row172_col8\" class=\"data row172 col8\" >1.290000</td>\n",
       "    </tr>\n",
       "    <tr>\n",
       "      <th id=\"T_434f9_level0_row173\" class=\"row_heading level0 row173\" >116</th>\n",
       "      <td id=\"T_434f9_row173_col0\" class=\"data row173 col0\" >2886</td>\n",
       "      <td id=\"T_434f9_row173_col1\" class=\"data row173 col1\" >19</td>\n",
       "      <td id=\"T_434f9_row173_col2\" class=\"data row173 col2\" >9</td>\n",
       "      <td id=\"T_434f9_row173_col3\" class=\"data row173 col3\" >47.37%</td>\n",
       "      <td id=\"T_434f9_row173_col4\" class=\"data row173 col4\" >52.63%</td>\n",
       "      <td id=\"T_434f9_row173_col5\" class=\"data row173 col5\" >4.15%</td>\n",
       "      <td id=\"T_434f9_row173_col6\" class=\"data row173 col6\" >-3.48%</td>\n",
       "      <td id=\"T_434f9_row173_col7\" class=\"data row173 col7\" >0.13%</td>\n",
       "      <td id=\"T_434f9_row173_col8\" class=\"data row173 col8\" >1.190000</td>\n",
       "    </tr>\n",
       "    <tr>\n",
       "      <th id=\"T_434f9_level0_row174\" class=\"row_heading level0 row174\" >61</th>\n",
       "      <td id=\"T_434f9_row174_col0\" class=\"data row174 col0\" >3533</td>\n",
       "      <td id=\"T_434f9_row174_col1\" class=\"data row174 col1\" >17</td>\n",
       "      <td id=\"T_434f9_row174_col2\" class=\"data row174 col2\" >8</td>\n",
       "      <td id=\"T_434f9_row174_col3\" class=\"data row174 col3\" >47.06%</td>\n",
       "      <td id=\"T_434f9_row174_col4\" class=\"data row174 col4\" >52.94%</td>\n",
       "      <td id=\"T_434f9_row174_col5\" class=\"data row174 col5\" >15.14%</td>\n",
       "      <td id=\"T_434f9_row174_col6\" class=\"data row174 col6\" >-6.49%</td>\n",
       "      <td id=\"T_434f9_row174_col7\" class=\"data row174 col7\" >3.69%</td>\n",
       "      <td id=\"T_434f9_row174_col8\" class=\"data row174 col8\" >2.330000</td>\n",
       "    </tr>\n",
       "    <tr>\n",
       "      <th id=\"T_434f9_level0_row175\" class=\"row_heading level0 row175\" >232</th>\n",
       "      <td id=\"T_434f9_row175_col0\" class=\"data row175 col0\" >3078</td>\n",
       "      <td id=\"T_434f9_row175_col1\" class=\"data row175 col1\" >17</td>\n",
       "      <td id=\"T_434f9_row175_col2\" class=\"data row175 col2\" >8</td>\n",
       "      <td id=\"T_434f9_row175_col3\" class=\"data row175 col3\" >47.06%</td>\n",
       "      <td id=\"T_434f9_row175_col4\" class=\"data row175 col4\" >52.94%</td>\n",
       "      <td id=\"T_434f9_row175_col5\" class=\"data row175 col5\" >11.64%</td>\n",
       "      <td id=\"T_434f9_row175_col6\" class=\"data row175 col6\" >-4.33%</td>\n",
       "      <td id=\"T_434f9_row175_col7\" class=\"data row175 col7\" >3.19%</td>\n",
       "      <td id=\"T_434f9_row175_col8\" class=\"data row175 col8\" >2.690000</td>\n",
       "    </tr>\n",
       "    <tr>\n",
       "      <th id=\"T_434f9_level0_row176\" class=\"row_heading level0 row176\" >107</th>\n",
       "      <td id=\"T_434f9_row176_col0\" class=\"data row176 col0\" >2327</td>\n",
       "      <td id=\"T_434f9_row176_col1\" class=\"data row176 col1\" >17</td>\n",
       "      <td id=\"T_434f9_row176_col2\" class=\"data row176 col2\" >8</td>\n",
       "      <td id=\"T_434f9_row176_col3\" class=\"data row176 col3\" >47.06%</td>\n",
       "      <td id=\"T_434f9_row176_col4\" class=\"data row176 col4\" >47.06%</td>\n",
       "      <td id=\"T_434f9_row176_col5\" class=\"data row176 col5\" >9.84%</td>\n",
       "      <td id=\"T_434f9_row176_col6\" class=\"data row176 col6\" >-4.98%</td>\n",
       "      <td id=\"T_434f9_row176_col7\" class=\"data row176 col7\" >2.29%</td>\n",
       "      <td id=\"T_434f9_row176_col8\" class=\"data row176 col8\" >1.980000</td>\n",
       "    </tr>\n",
       "    <tr>\n",
       "      <th id=\"T_434f9_level0_row177\" class=\"row_heading level0 row177\" >240</th>\n",
       "      <td id=\"T_434f9_row177_col0\" class=\"data row177 col0\" >2204</td>\n",
       "      <td id=\"T_434f9_row177_col1\" class=\"data row177 col1\" >17</td>\n",
       "      <td id=\"T_434f9_row177_col2\" class=\"data row177 col2\" >8</td>\n",
       "      <td id=\"T_434f9_row177_col3\" class=\"data row177 col3\" >47.06%</td>\n",
       "      <td id=\"T_434f9_row177_col4\" class=\"data row177 col4\" >52.94%</td>\n",
       "      <td id=\"T_434f9_row177_col5\" class=\"data row177 col5\" >3.85%</td>\n",
       "      <td id=\"T_434f9_row177_col6\" class=\"data row177 col6\" >-2.69%</td>\n",
       "      <td id=\"T_434f9_row177_col7\" class=\"data row177 col7\" >0.39%</td>\n",
       "      <td id=\"T_434f9_row177_col8\" class=\"data row177 col8\" >1.430000</td>\n",
       "    </tr>\n",
       "    <tr>\n",
       "      <th id=\"T_434f9_level0_row178\" class=\"row_heading level0 row178\" >210</th>\n",
       "      <td id=\"T_434f9_row178_col0\" class=\"data row178 col0\" >3483</td>\n",
       "      <td id=\"T_434f9_row178_col1\" class=\"data row178 col1\" >15</td>\n",
       "      <td id=\"T_434f9_row178_col2\" class=\"data row178 col2\" >7</td>\n",
       "      <td id=\"T_434f9_row178_col3\" class=\"data row178 col3\" >46.67%</td>\n",
       "      <td id=\"T_434f9_row178_col4\" class=\"data row178 col4\" >53.33%</td>\n",
       "      <td id=\"T_434f9_row178_col5\" class=\"data row178 col5\" >16.46%</td>\n",
       "      <td id=\"T_434f9_row178_col6\" class=\"data row178 col6\" >-8.62%</td>\n",
       "      <td id=\"T_434f9_row178_col7\" class=\"data row178 col7\" >3.08%</td>\n",
       "      <td id=\"T_434f9_row178_col8\" class=\"data row178 col8\" >1.910000</td>\n",
       "    </tr>\n",
       "    <tr>\n",
       "      <th id=\"T_434f9_level0_row179\" class=\"row_heading level0 row179\" >12</th>\n",
       "      <td id=\"T_434f9_row179_col0\" class=\"data row179 col0\" >3706</td>\n",
       "      <td id=\"T_434f9_row179_col1\" class=\"data row179 col1\" >11</td>\n",
       "      <td id=\"T_434f9_row179_col2\" class=\"data row179 col2\" >5</td>\n",
       "      <td id=\"T_434f9_row179_col3\" class=\"data row179 col3\" >45.45%</td>\n",
       "      <td id=\"T_434f9_row179_col4\" class=\"data row179 col4\" >45.45%</td>\n",
       "      <td id=\"T_434f9_row179_col5\" class=\"data row179 col5\" >11.04%</td>\n",
       "      <td id=\"T_434f9_row179_col6\" class=\"data row179 col6\" >-3.26%</td>\n",
       "      <td id=\"T_434f9_row179_col7\" class=\"data row179 col7\" >3.54%</td>\n",
       "      <td id=\"T_434f9_row179_col8\" class=\"data row179 col8\" >3.390000</td>\n",
       "    </tr>\n",
       "    <tr>\n",
       "      <th id=\"T_434f9_level0_row180\" class=\"row_heading level0 row180\" >267</th>\n",
       "      <td id=\"T_434f9_row180_col0\" class=\"data row180 col0\" >1815</td>\n",
       "      <td id=\"T_434f9_row180_col1\" class=\"data row180 col1\" >11</td>\n",
       "      <td id=\"T_434f9_row180_col2\" class=\"data row180 col2\" >5</td>\n",
       "      <td id=\"T_434f9_row180_col3\" class=\"data row180 col3\" >45.45%</td>\n",
       "      <td id=\"T_434f9_row180_col4\" class=\"data row180 col4\" >45.45%</td>\n",
       "      <td id=\"T_434f9_row180_col5\" class=\"data row180 col5\" >7.65%</td>\n",
       "      <td id=\"T_434f9_row180_col6\" class=\"data row180 col6\" >-5.32%</td>\n",
       "      <td id=\"T_434f9_row180_col7\" class=\"data row180 col7\" >1.06%</td>\n",
       "      <td id=\"T_434f9_row180_col8\" class=\"data row180 col8\" >1.440000</td>\n",
       "    </tr>\n",
       "    <tr>\n",
       "      <th id=\"T_434f9_level0_row181\" class=\"row_heading level0 row181\" >60</th>\n",
       "      <td id=\"T_434f9_row181_col0\" class=\"data row181 col0\" >1785</td>\n",
       "      <td id=\"T_434f9_row181_col1\" class=\"data row181 col1\" >11</td>\n",
       "      <td id=\"T_434f9_row181_col2\" class=\"data row181 col2\" >5</td>\n",
       "      <td id=\"T_434f9_row181_col3\" class=\"data row181 col3\" >45.45%</td>\n",
       "      <td id=\"T_434f9_row181_col4\" class=\"data row181 col4\" >54.55%</td>\n",
       "      <td id=\"T_434f9_row181_col5\" class=\"data row181 col5\" >5.89%</td>\n",
       "      <td id=\"T_434f9_row181_col6\" class=\"data row181 col6\" >-2.59%</td>\n",
       "      <td id=\"T_434f9_row181_col7\" class=\"data row181 col7\" >1.26%</td>\n",
       "      <td id=\"T_434f9_row181_col8\" class=\"data row181 col8\" >2.270000</td>\n",
       "    </tr>\n",
       "    <tr>\n",
       "      <th id=\"T_434f9_level0_row182\" class=\"row_heading level0 row182\" >27</th>\n",
       "      <td id=\"T_434f9_row182_col0\" class=\"data row182 col0\" >6121</td>\n",
       "      <td id=\"T_434f9_row182_col1\" class=\"data row182 col1\" >18</td>\n",
       "      <td id=\"T_434f9_row182_col2\" class=\"data row182 col2\" >8</td>\n",
       "      <td id=\"T_434f9_row182_col3\" class=\"data row182 col3\" >44.44%</td>\n",
       "      <td id=\"T_434f9_row182_col4\" class=\"data row182 col4\" >55.56%</td>\n",
       "      <td id=\"T_434f9_row182_col5\" class=\"data row182 col5\" >9.23%</td>\n",
       "      <td id=\"T_434f9_row182_col6\" class=\"data row182 col6\" >-3.94%</td>\n",
       "      <td id=\"T_434f9_row182_col7\" class=\"data row182 col7\" >1.91%</td>\n",
       "      <td id=\"T_434f9_row182_col8\" class=\"data row182 col8\" >2.340000</td>\n",
       "    </tr>\n",
       "    <tr>\n",
       "      <th id=\"T_434f9_level0_row183\" class=\"row_heading level0 row183\" >234</th>\n",
       "      <td id=\"T_434f9_row183_col0\" class=\"data row183 col0\" >8050</td>\n",
       "      <td id=\"T_434f9_row183_col1\" class=\"data row183 col1\" >16</td>\n",
       "      <td id=\"T_434f9_row183_col2\" class=\"data row183 col2\" >7</td>\n",
       "      <td id=\"T_434f9_row183_col3\" class=\"data row183 col3\" >43.75%</td>\n",
       "      <td id=\"T_434f9_row183_col4\" class=\"data row183 col4\" >56.25%</td>\n",
       "      <td id=\"T_434f9_row183_col5\" class=\"data row183 col5\" >9.60%</td>\n",
       "      <td id=\"T_434f9_row183_col6\" class=\"data row183 col6\" >-5.08%</td>\n",
       "      <td id=\"T_434f9_row183_col7\" class=\"data row183 col7\" >1.34%</td>\n",
       "      <td id=\"T_434f9_row183_col8\" class=\"data row183 col8\" >1.890000</td>\n",
       "    </tr>\n",
       "    <tr>\n",
       "      <th id=\"T_434f9_level0_row184\" class=\"row_heading level0 row184\" >120</th>\n",
       "      <td id=\"T_434f9_row184_col0\" class=\"data row184 col0\" >4968</td>\n",
       "      <td id=\"T_434f9_row184_col1\" class=\"data row184 col1\" >7</td>\n",
       "      <td id=\"T_434f9_row184_col2\" class=\"data row184 col2\" >3</td>\n",
       "      <td id=\"T_434f9_row184_col3\" class=\"data row184 col3\" >42.86%</td>\n",
       "      <td id=\"T_434f9_row184_col4\" class=\"data row184 col4\" >57.14%</td>\n",
       "      <td id=\"T_434f9_row184_col5\" class=\"data row184 col5\" >14.81%</td>\n",
       "      <td id=\"T_434f9_row184_col6\" class=\"data row184 col6\" >-9.58%</td>\n",
       "      <td id=\"T_434f9_row184_col7\" class=\"data row184 col7\" >0.87%</td>\n",
       "      <td id=\"T_434f9_row184_col8\" class=\"data row184 col8\" >1.550000</td>\n",
       "    </tr>\n",
       "    <tr>\n",
       "      <th id=\"T_434f9_level0_row185\" class=\"row_heading level0 row185\" >101</th>\n",
       "      <td id=\"T_434f9_row185_col0\" class=\"data row185 col0\" >4961</td>\n",
       "      <td id=\"T_434f9_row185_col1\" class=\"data row185 col1\" >7</td>\n",
       "      <td id=\"T_434f9_row185_col2\" class=\"data row185 col2\" >3</td>\n",
       "      <td id=\"T_434f9_row185_col3\" class=\"data row185 col3\" >42.86%</td>\n",
       "      <td id=\"T_434f9_row185_col4\" class=\"data row185 col4\" >57.14%</td>\n",
       "      <td id=\"T_434f9_row185_col5\" class=\"data row185 col5\" >13.22%</td>\n",
       "      <td id=\"T_434f9_row185_col6\" class=\"data row185 col6\" >-6.18%</td>\n",
       "      <td id=\"T_434f9_row185_col7\" class=\"data row185 col7\" >2.13%</td>\n",
       "      <td id=\"T_434f9_row185_col8\" class=\"data row185 col8\" >2.140000</td>\n",
       "    </tr>\n",
       "    <tr>\n",
       "      <th id=\"T_434f9_level0_row186\" class=\"row_heading level0 row186\" >54</th>\n",
       "      <td id=\"T_434f9_row186_col0\" class=\"data row186 col0\" >3711</td>\n",
       "      <td id=\"T_434f9_row186_col1\" class=\"data row186 col1\" >7</td>\n",
       "      <td id=\"T_434f9_row186_col2\" class=\"data row186 col2\" >3</td>\n",
       "      <td id=\"T_434f9_row186_col3\" class=\"data row186 col3\" >42.86%</td>\n",
       "      <td id=\"T_434f9_row186_col4\" class=\"data row186 col4\" >42.86%</td>\n",
       "      <td id=\"T_434f9_row186_col5\" class=\"data row186 col5\" >9.09%</td>\n",
       "      <td id=\"T_434f9_row186_col6\" class=\"data row186 col6\" >-6.18%</td>\n",
       "      <td id=\"T_434f9_row186_col7\" class=\"data row186 col7\" >1.25%</td>\n",
       "      <td id=\"T_434f9_row186_col8\" class=\"data row186 col8\" >1.470000</td>\n",
       "    </tr>\n",
       "    <tr>\n",
       "      <th id=\"T_434f9_level0_row187\" class=\"row_heading level0 row187\" >172</th>\n",
       "      <td id=\"T_434f9_row187_col0\" class=\"data row187 col0\" >6679</td>\n",
       "      <td id=\"T_434f9_row187_col1\" class=\"data row187 col1\" >7</td>\n",
       "      <td id=\"T_434f9_row187_col2\" class=\"data row187 col2\" >3</td>\n",
       "      <td id=\"T_434f9_row187_col3\" class=\"data row187 col3\" >42.86%</td>\n",
       "      <td id=\"T_434f9_row187_col4\" class=\"data row187 col4\" >57.14%</td>\n",
       "      <td id=\"T_434f9_row187_col5\" class=\"data row187 col5\" >7.41%</td>\n",
       "      <td id=\"T_434f9_row187_col6\" class=\"data row187 col6\" >-5.29%</td>\n",
       "      <td id=\"T_434f9_row187_col7\" class=\"data row187 col7\" >0.15%</td>\n",
       "      <td id=\"T_434f9_row187_col8\" class=\"data row187 col8\" >1.400000</td>\n",
       "    </tr>\n",
       "    <tr>\n",
       "      <th id=\"T_434f9_level0_row188\" class=\"row_heading level0 row188\" >62</th>\n",
       "      <td id=\"T_434f9_row188_col0\" class=\"data row188 col0\" >3035</td>\n",
       "      <td id=\"T_434f9_row188_col1\" class=\"data row188 col1\" >19</td>\n",
       "      <td id=\"T_434f9_row188_col2\" class=\"data row188 col2\" >8</td>\n",
       "      <td id=\"T_434f9_row188_col3\" class=\"data row188 col3\" >42.11%</td>\n",
       "      <td id=\"T_434f9_row188_col4\" class=\"data row188 col4\" >57.89%</td>\n",
       "      <td id=\"T_434f9_row188_col5\" class=\"data row188 col5\" >12.79%</td>\n",
       "      <td id=\"T_434f9_row188_col6\" class=\"data row188 col6\" >-7.96%</td>\n",
       "      <td id=\"T_434f9_row188_col7\" class=\"data row188 col7\" >0.78%</td>\n",
       "      <td id=\"T_434f9_row188_col8\" class=\"data row188 col8\" >1.610000</td>\n",
       "    </tr>\n",
       "    <tr>\n",
       "      <th id=\"T_434f9_level0_row189\" class=\"row_heading level0 row189\" >69</th>\n",
       "      <td id=\"T_434f9_row189_col0\" class=\"data row189 col0\" >9921</td>\n",
       "      <td id=\"T_434f9_row189_col1\" class=\"data row189 col1\" >19</td>\n",
       "      <td id=\"T_434f9_row189_col2\" class=\"data row189 col2\" >8</td>\n",
       "      <td id=\"T_434f9_row189_col3\" class=\"data row189 col3\" >42.11%</td>\n",
       "      <td id=\"T_434f9_row189_col4\" class=\"data row189 col4\" >57.89%</td>\n",
       "      <td id=\"T_434f9_row189_col5\" class=\"data row189 col5\" >7.16%</td>\n",
       "      <td id=\"T_434f9_row189_col6\" class=\"data row189 col6\" >-5.02%</td>\n",
       "      <td id=\"T_434f9_row189_col7\" class=\"data row189 col7\" >0.11%</td>\n",
       "      <td id=\"T_434f9_row189_col8\" class=\"data row189 col8\" >1.430000</td>\n",
       "    </tr>\n",
       "    <tr>\n",
       "      <th id=\"T_434f9_level0_row190\" class=\"row_heading level0 row190\" >177</th>\n",
       "      <td id=\"T_434f9_row190_col0\" class=\"data row190 col0\" >2455</td>\n",
       "      <td id=\"T_434f9_row190_col1\" class=\"data row190 col1\" >12</td>\n",
       "      <td id=\"T_434f9_row190_col2\" class=\"data row190 col2\" >5</td>\n",
       "      <td id=\"T_434f9_row190_col3\" class=\"data row190 col3\" >41.67%</td>\n",
       "      <td id=\"T_434f9_row190_col4\" class=\"data row190 col4\" >58.33%</td>\n",
       "      <td id=\"T_434f9_row190_col5\" class=\"data row190 col5\" >11.83%</td>\n",
       "      <td id=\"T_434f9_row190_col6\" class=\"data row190 col6\" >-6.80%</td>\n",
       "      <td id=\"T_434f9_row190_col7\" class=\"data row190 col7\" >0.96%</td>\n",
       "      <td id=\"T_434f9_row190_col8\" class=\"data row190 col8\" >1.740000</td>\n",
       "    </tr>\n",
       "    <tr>\n",
       "      <th id=\"T_434f9_level0_row191\" class=\"row_heading level0 row191\" >149</th>\n",
       "      <td id=\"T_434f9_row191_col0\" class=\"data row191 col0\" >8046</td>\n",
       "      <td id=\"T_434f9_row191_col1\" class=\"data row191 col1\" >17</td>\n",
       "      <td id=\"T_434f9_row191_col2\" class=\"data row191 col2\" >7</td>\n",
       "      <td id=\"T_434f9_row191_col3\" class=\"data row191 col3\" >41.18%</td>\n",
       "      <td id=\"T_434f9_row191_col4\" class=\"data row191 col4\" >58.82%</td>\n",
       "      <td id=\"T_434f9_row191_col5\" class=\"data row191 col5\" >9.46%</td>\n",
       "      <td id=\"T_434f9_row191_col6\" class=\"data row191 col6\" >-6.33%</td>\n",
       "      <td id=\"T_434f9_row191_col7\" class=\"data row191 col7\" >0.17%</td>\n",
       "      <td id=\"T_434f9_row191_col8\" class=\"data row191 col8\" >1.490000</td>\n",
       "    </tr>\n",
       "    <tr>\n",
       "      <th id=\"T_434f9_level0_row192\" class=\"row_heading level0 row192\" >283</th>\n",
       "      <td id=\"T_434f9_row192_col0\" class=\"data row192 col0\" >3227</td>\n",
       "      <td id=\"T_434f9_row192_col1\" class=\"data row192 col1\" >15</td>\n",
       "      <td id=\"T_434f9_row192_col2\" class=\"data row192 col2\" >6</td>\n",
       "      <td id=\"T_434f9_row192_col3\" class=\"data row192 col3\" >40.00%</td>\n",
       "      <td id=\"T_434f9_row192_col4\" class=\"data row192 col4\" >60.00%</td>\n",
       "      <td id=\"T_434f9_row192_col5\" class=\"data row192 col5\" >14.55%</td>\n",
       "      <td id=\"T_434f9_row192_col6\" class=\"data row192 col6\" >-9.02%</td>\n",
       "      <td id=\"T_434f9_row192_col7\" class=\"data row192 col7\" >0.41%</td>\n",
       "      <td id=\"T_434f9_row192_col8\" class=\"data row192 col8\" >1.610000</td>\n",
       "    </tr>\n",
       "    <tr>\n",
       "      <th id=\"T_434f9_level0_row193\" class=\"row_heading level0 row193\" >237</th>\n",
       "      <td id=\"T_434f9_row193_col0\" class=\"data row193 col0\" >6425</td>\n",
       "      <td id=\"T_434f9_row193_col1\" class=\"data row193 col1\" >10</td>\n",
       "      <td id=\"T_434f9_row193_col2\" class=\"data row193 col2\" >4</td>\n",
       "      <td id=\"T_434f9_row193_col3\" class=\"data row193 col3\" >40.00%</td>\n",
       "      <td id=\"T_434f9_row193_col4\" class=\"data row193 col4\" >60.00%</td>\n",
       "      <td id=\"T_434f9_row193_col5\" class=\"data row193 col5\" >6.46%</td>\n",
       "      <td id=\"T_434f9_row193_col6\" class=\"data row193 col6\" >-2.07%</td>\n",
       "      <td id=\"T_434f9_row193_col7\" class=\"data row193 col7\" >1.34%</td>\n",
       "      <td id=\"T_434f9_row193_col8\" class=\"data row193 col8\" >3.120000</td>\n",
       "    </tr>\n",
       "    <tr>\n",
       "      <th id=\"T_434f9_level0_row194\" class=\"row_heading level0 row194\" >180</th>\n",
       "      <td id=\"T_434f9_row194_col0\" class=\"data row194 col0\" >5258</td>\n",
       "      <td id=\"T_434f9_row194_col1\" class=\"data row194 col1\" >5</td>\n",
       "      <td id=\"T_434f9_row194_col2\" class=\"data row194 col2\" >2</td>\n",
       "      <td id=\"T_434f9_row194_col3\" class=\"data row194 col3\" >40.00%</td>\n",
       "      <td id=\"T_434f9_row194_col4\" class=\"data row194 col4\" >60.00%</td>\n",
       "      <td id=\"T_434f9_row194_col5\" class=\"data row194 col5\" >6.28%</td>\n",
       "      <td id=\"T_434f9_row194_col6\" class=\"data row194 col6\" >-0.70%</td>\n",
       "      <td id=\"T_434f9_row194_col7\" class=\"data row194 col7\" >2.09%</td>\n",
       "      <td id=\"T_434f9_row194_col8\" class=\"data row194 col8\" >8.970000</td>\n",
       "    </tr>\n",
       "    <tr>\n",
       "      <th id=\"T_434f9_level0_row195\" class=\"row_heading level0 row195\" >282</th>\n",
       "      <td id=\"T_434f9_row195_col0\" class=\"data row195 col0\" >6117</td>\n",
       "      <td id=\"T_434f9_row195_col1\" class=\"data row195 col1\" >10</td>\n",
       "      <td id=\"T_434f9_row195_col2\" class=\"data row195 col2\" >4</td>\n",
       "      <td id=\"T_434f9_row195_col3\" class=\"data row195 col3\" >40.00%</td>\n",
       "      <td id=\"T_434f9_row195_col4\" class=\"data row195 col4\" >50.00%</td>\n",
       "      <td id=\"T_434f9_row195_col5\" class=\"data row195 col5\" >5.19%</td>\n",
       "      <td id=\"T_434f9_row195_col6\" class=\"data row195 col6\" >-3.10%</td>\n",
       "      <td id=\"T_434f9_row195_col7\" class=\"data row195 col7\" >0.53%</td>\n",
       "      <td id=\"T_434f9_row195_col8\" class=\"data row195 col8\" >1.670000</td>\n",
       "    </tr>\n",
       "    <tr>\n",
       "      <th id=\"T_434f9_level0_row196\" class=\"row_heading level0 row196\" >174</th>\n",
       "      <td id=\"T_434f9_row196_col0\" class=\"data row196 col0\" >4129</td>\n",
       "      <td id=\"T_434f9_row196_col1\" class=\"data row196 col1\" >13</td>\n",
       "      <td id=\"T_434f9_row196_col2\" class=\"data row196 col2\" >5</td>\n",
       "      <td id=\"T_434f9_row196_col3\" class=\"data row196 col3\" >38.46%</td>\n",
       "      <td id=\"T_434f9_row196_col4\" class=\"data row196 col4\" >61.54%</td>\n",
       "      <td id=\"T_434f9_row196_col5\" class=\"data row196 col5\" >12.84%</td>\n",
       "      <td id=\"T_434f9_row196_col6\" class=\"data row196 col6\" >-4.67%</td>\n",
       "      <td id=\"T_434f9_row196_col7\" class=\"data row196 col7\" >2.06%</td>\n",
       "      <td id=\"T_434f9_row196_col8\" class=\"data row196 col8\" >2.750000</td>\n",
       "    </tr>\n",
       "    <tr>\n",
       "      <th id=\"T_434f9_level0_row197\" class=\"row_heading level0 row197\" >115</th>\n",
       "      <td id=\"T_434f9_row197_col0\" class=\"data row197 col0\" >5274</td>\n",
       "      <td id=\"T_434f9_row197_col1\" class=\"data row197 col1\" >13</td>\n",
       "      <td id=\"T_434f9_row197_col2\" class=\"data row197 col2\" >5</td>\n",
       "      <td id=\"T_434f9_row197_col3\" class=\"data row197 col3\" >38.46%</td>\n",
       "      <td id=\"T_434f9_row197_col4\" class=\"data row197 col4\" >61.54%</td>\n",
       "      <td id=\"T_434f9_row197_col5\" class=\"data row197 col5\" >12.41%</td>\n",
       "      <td id=\"T_434f9_row197_col6\" class=\"data row197 col6\" >-7.10%</td>\n",
       "      <td id=\"T_434f9_row197_col7\" class=\"data row197 col7\" >0.40%</td>\n",
       "      <td id=\"T_434f9_row197_col8\" class=\"data row197 col8\" >1.750000</td>\n",
       "    </tr>\n",
       "    <tr>\n",
       "      <th id=\"T_434f9_level0_row198\" class=\"row_heading level0 row198\" >281</th>\n",
       "      <td id=\"T_434f9_row198_col0\" class=\"data row198 col0\" >6138</td>\n",
       "      <td id=\"T_434f9_row198_col1\" class=\"data row198 col1\" >16</td>\n",
       "      <td id=\"T_434f9_row198_col2\" class=\"data row198 col2\" >6</td>\n",
       "      <td id=\"T_434f9_row198_col3\" class=\"data row198 col3\" >37.50%</td>\n",
       "      <td id=\"T_434f9_row198_col4\" class=\"data row198 col4\" >62.50%</td>\n",
       "      <td id=\"T_434f9_row198_col5\" class=\"data row198 col5\" >11.74%</td>\n",
       "      <td id=\"T_434f9_row198_col6\" class=\"data row198 col6\" >-4.43%</td>\n",
       "      <td id=\"T_434f9_row198_col7\" class=\"data row198 col7\" >1.63%</td>\n",
       "      <td id=\"T_434f9_row198_col8\" class=\"data row198 col8\" >2.650000</td>\n",
       "    </tr>\n",
       "    <tr>\n",
       "      <th id=\"T_434f9_level0_row199\" class=\"row_heading level0 row199\" >202</th>\n",
       "      <td id=\"T_434f9_row199_col0\" class=\"data row199 col0\" >2880</td>\n",
       "      <td id=\"T_434f9_row199_col1\" class=\"data row199 col1\" >19</td>\n",
       "      <td id=\"T_434f9_row199_col2\" class=\"data row199 col2\" >7</td>\n",
       "      <td id=\"T_434f9_row199_col3\" class=\"data row199 col3\" >36.84%</td>\n",
       "      <td id=\"T_434f9_row199_col4\" class=\"data row199 col4\" >57.89%</td>\n",
       "      <td id=\"T_434f9_row199_col5\" class=\"data row199 col5\" >3.59%</td>\n",
       "      <td id=\"T_434f9_row199_col6\" class=\"data row199 col6\" >-2.23%</td>\n",
       "      <td id=\"T_434f9_row199_col7\" class=\"data row199 col7\" >0.03%</td>\n",
       "      <td id=\"T_434f9_row199_col8\" class=\"data row199 col8\" >1.610000</td>\n",
       "    </tr>\n",
       "    <tr>\n",
       "      <th id=\"T_434f9_level0_row200\" class=\"row_heading level0 row200\" >227</th>\n",
       "      <td id=\"T_434f9_row200_col0\" class=\"data row200 col0\" >6409</td>\n",
       "      <td id=\"T_434f9_row200_col1\" class=\"data row200 col1\" >11</td>\n",
       "      <td id=\"T_434f9_row200_col2\" class=\"data row200 col2\" >4</td>\n",
       "      <td id=\"T_434f9_row200_col3\" class=\"data row200 col3\" >36.36%</td>\n",
       "      <td id=\"T_434f9_row200_col4\" class=\"data row200 col4\" >63.64%</td>\n",
       "      <td id=\"T_434f9_row200_col5\" class=\"data row200 col5\" >13.03%</td>\n",
       "      <td id=\"T_434f9_row200_col6\" class=\"data row200 col6\" >-2.20%</td>\n",
       "      <td id=\"T_434f9_row200_col7\" class=\"data row200 col7\" >3.34%</td>\n",
       "      <td id=\"T_434f9_row200_col8\" class=\"data row200 col8\" >5.920000</td>\n",
       "    </tr>\n",
       "    <tr>\n",
       "      <th id=\"T_434f9_level0_row201\" class=\"row_heading level0 row201\" >38</th>\n",
       "      <td id=\"T_434f9_row201_col0\" class=\"data row201 col0\" >9958</td>\n",
       "      <td id=\"T_434f9_row201_col1\" class=\"data row201 col1\" >14</td>\n",
       "      <td id=\"T_434f9_row201_col2\" class=\"data row201 col2\" >5</td>\n",
       "      <td id=\"T_434f9_row201_col3\" class=\"data row201 col3\" >35.71%</td>\n",
       "      <td id=\"T_434f9_row201_col4\" class=\"data row201 col4\" >64.29%</td>\n",
       "      <td id=\"T_434f9_row201_col5\" class=\"data row201 col5\" >7.72%</td>\n",
       "      <td id=\"T_434f9_row201_col6\" class=\"data row201 col6\" >-2.83%</td>\n",
       "      <td id=\"T_434f9_row201_col7\" class=\"data row201 col7\" >0.94%</td>\n",
       "      <td id=\"T_434f9_row201_col8\" class=\"data row201 col8\" >2.730000</td>\n",
       "    </tr>\n",
       "    <tr>\n",
       "      <th id=\"T_434f9_level0_row202\" class=\"row_heading level0 row202\" >243</th>\n",
       "      <td id=\"T_434f9_row202_col0\" class=\"data row202 col0\" >6691</td>\n",
       "      <td id=\"T_434f9_row202_col1\" class=\"data row202 col1\" >3</td>\n",
       "      <td id=\"T_434f9_row202_col2\" class=\"data row202 col2\" >1</td>\n",
       "      <td id=\"T_434f9_row202_col3\" class=\"data row202 col3\" >33.33%</td>\n",
       "      <td id=\"T_434f9_row202_col4\" class=\"data row202 col4\" >66.67%</td>\n",
       "      <td id=\"T_434f9_row202_col5\" class=\"data row202 col5\" >25.00%</td>\n",
       "      <td id=\"T_434f9_row202_col6\" class=\"data row202 col6\" >-5.48%</td>\n",
       "      <td id=\"T_434f9_row202_col7\" class=\"data row202 col7\" >4.68%</td>\n",
       "      <td id=\"T_434f9_row202_col8\" class=\"data row202 col8\" >4.560000</td>\n",
       "    </tr>\n",
       "    <tr>\n",
       "      <th id=\"T_434f9_level0_row203\" class=\"row_heading level0 row203\" >106</th>\n",
       "      <td id=\"T_434f9_row203_col0\" class=\"data row203 col0\" >2049</td>\n",
       "      <td id=\"T_434f9_row203_col1\" class=\"data row203 col1\" >15</td>\n",
       "      <td id=\"T_434f9_row203_col2\" class=\"data row203 col2\" >5</td>\n",
       "      <td id=\"T_434f9_row203_col3\" class=\"data row203 col3\" >33.33%</td>\n",
       "      <td id=\"T_434f9_row203_col4\" class=\"data row203 col4\" >66.67%</td>\n",
       "      <td id=\"T_434f9_row203_col5\" class=\"data row203 col5\" >12.84%</td>\n",
       "      <td id=\"T_434f9_row203_col6\" class=\"data row203 col6\" >-6.24%</td>\n",
       "      <td id=\"T_434f9_row203_col7\" class=\"data row203 col7\" >0.12%</td>\n",
       "      <td id=\"T_434f9_row203_col8\" class=\"data row203 col8\" >2.060000</td>\n",
       "    </tr>\n",
       "  </tbody>\n",
       "</table>\n"
      ],
      "text/plain": [
       "<pandas.io.formats.style.Styler at 0x261801fa130>"
      ]
     },
     "execution_count": 47,
     "metadata": {},
     "output_type": "execute_result"
    }
   ],
   "source": [
    "print(\"300大權值股歷史上除息前\"+str(N)+\"天會上漲的機率\")\n",
    "print(\"Step1:先篩掉期望值<0的股票\")\n",
    "print(\"Step2:以勝率(Win_Prob)排序，畢竟勝率高才有信心\")\n",
    "print(\"Step3:再以平均賺(Win_mean_per)排序\")\n",
    "print(\"Step4:停損設定為平均賠的一半，控制賺賠比為2:1\")\n",
    "\n",
    "df[\"WinLossRatio\"]=round(df[\"Win_mean_per\"]/abs(df[\"Loss_mean_per\"]),2)\n",
    "df.to_csv(\"C://download//signal//ExDividend_T300.csv\")\n",
    "#df[\"Expected\"]=df[\"Win_Prob\"]*df[\"Win_mean_per\"]+df[\"Loss_Prob\"]*df[\"Loss_mean_per\"]\n",
    "df=df[df[\"Expected_Value\"]>0]\n",
    "sort_condition1=[\"Win_Prob\",\"Win_mean_per\"]\n",
    "df=df.sort_values(sort_condition1,ascending=[False,False])\n",
    "formatdic={\"Win_Prob\":\"{:.2%}\",\"Loss_Prob\":\"{:.2%}\",\"Win_mean_per\":\"{:.2%}\",\"Loss_mean_per\":\"{:.2%}\",\"Expected_Value\":\"{:.2%}\"}\n",
    "df.style.format(formatdic)"
   ]
  },
  {
   "cell_type": "code",
   "execution_count": null,
   "id": "1f9f83c3",
   "metadata": {},
   "outputs": [],
   "source": []
  }
 ],
 "metadata": {
  "kernelspec": {
   "display_name": "Python 3 (ipykernel)",
   "language": "python",
   "name": "python3"
  },
  "language_info": {
   "codemirror_mode": {
    "name": "ipython",
    "version": 3
   },
   "file_extension": ".py",
   "mimetype": "text/x-python",
   "name": "python",
   "nbconvert_exporter": "python",
   "pygments_lexer": "ipython3",
   "version": "3.9.7"
  }
 },
 "nbformat": 4,
 "nbformat_minor": 5
}
